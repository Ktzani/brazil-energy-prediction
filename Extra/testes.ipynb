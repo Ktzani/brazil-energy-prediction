{
 "cells": [
  {
   "cell_type": "markdown",
   "metadata": {},
   "source": [
    "### TESTE 1"
   ]
  },
  {
   "cell_type": "code",
   "execution_count": null,
   "metadata": {},
   "outputs": [],
   "source": [
    "# # 2. Normalizar os dados\n",
    "# scaler = MinMaxScaler(feature_range=(0, 1))\n",
    "# data_cleaned_month['val_geracao_scaled'] = scaler.fit_transform(data_cleaned_month[['val_geracao']])\n",
    "\n",
    "# # 3. Preparar os dados para a LSTM\n",
    "# def create_lstm_dataset(dataset, look_back=1):\n",
    "#     dataX, dataY = [], []\n",
    "#     for i in range(len(dataset)-look_back):\n",
    "#         a = dataset[i:(i+look_back), 0]\n",
    "#         dataX.append(a)\n",
    "#         dataY.append(dataset[i + look_back, 0])\n",
    "#     return np.array(dataX), np.array(dataY)\n",
    "\n",
    "# look_back = 12  # Número de meses a serem usados como entrada para prever o próximo mês\n",
    "\n",
    "# # Converter o DataFrame para um array\n",
    "# dataset = data_cleaned_month['val_geracao_scaled'].values.reshape(-1, 1)\n",
    "\n",
    "# # Criar o conjunto de dados para treinamento e teste\n",
    "# train_size = int(len(dataset) * 0.8)\n",
    "# train, test = dataset[0:train_size, :], dataset[train_size:len(dataset), :]\n",
    "\n",
    "# trainX, trainY = create_lstm_dataset(train, look_back)\n",
    "# testX, testY = create_lstm_dataset(test, look_back)\n",
    "\n",
    "# # 4. Reshape dos dados para o formato [amostras, time steps, features]\n",
    "# trainX = np.reshape(trainX, (trainX.shape[0], 1, trainX.shape[1]))\n",
    "# testX = np.reshape(testX, (testX.shape[0], 1, testX.shape[1]))\n",
    "\n",
    "# # 5. Construir o modelo LSTM\n",
    "# model = Sequential()\n",
    "# model.add(LSTM(50, input_shape=(1, look_back)))\n",
    "# model.add(Dense(1))\n",
    "# model.compile(loss='mean_squared_error', optimizer='adam')\n",
    "\n",
    "# # 6. Treinar o modelo\n",
    "# model.fit(trainX, trainY, epochs=100, batch_size=1, verbose=2)\n",
    "\n",
    "# # 7. Fazer previsões\n",
    "# trainPredict = model.predict(trainX)\n",
    "# testPredict = model.predict(testX)\n",
    "\n",
    "# # 8. Inverter a normalização para obter as previsões em escala original\n",
    "# trainPredict = scaler.inverse_transform(trainPredict)\n",
    "# trainY = scaler.inverse_transform([trainY])\n",
    "# testPredict = scaler.inverse_transform(testPredict)\n",
    "# testY = scaler.inverse_transform([testY])\n",
    "\n",
    "# # 9. Avaliação do modelo\n",
    "# train_rmse = np.sqrt(mean_squared_error(trainY[0], trainPredict[:, 0]))\n",
    "# test_rmse = np.sqrt(mean_squared_error(testY[0], testPredict[:, 0]))\n",
    "\n",
    "# print(f\"RMSE no conjunto de treinamento: {train_rmse}\")\n",
    "# print(f\"RMSE no conjunto de teste: {test_rmse}\")\n",
    "\n"
   ]
  },
  {
   "cell_type": "code",
   "execution_count": null,
   "metadata": {},
   "outputs": [],
   "source": [
    "# plt.figure(figsize=(12, 6))\n",
    "# plt.plot(data_cleaned_month.index[:len(trainPredict)], trainY[0], label='Real (Treinamento)', color='blue')\n",
    "# plt.plot(data_cleaned_month.index[:len(trainPredict)], trainPredict[:, 0], label='Previsto (Treinamento)', color='orange', linestyle='dashed')\n",
    "# plt.plot(data_cleaned_month.index[len(trainPredict):len(trainPredict) + len(testPredict)], testY[0], label='Real (Teste)', color='green')\n",
    "# plt.plot(data_cleaned_month.index[len(trainPredict):len(trainPredict) + len(testPredict)], testPredict[:, 0], label='Previsto (Teste)', color='red', linestyle='dashed')\n",
    "# plt.xlabel('Data')\n",
    "# plt.ylabel('Produção de Energia (original scale)')\n",
    "# plt.title('Previsões da Produção de Energia com LSTM')\n",
    "# plt.legend()\n",
    "# plt.show()"
   ]
  },
  {
   "cell_type": "markdown",
   "metadata": {},
   "source": [
    "### TESTE 2"
   ]
  },
  {
   "cell_type": "code",
   "execution_count": null,
   "metadata": {},
   "outputs": [],
   "source": [
    "def get_supervised_independent_var(series):\n",
    "    return series.shift(1).fillna(0).values\n",
    "\n",
    "# data_cleaned_month['X_shifted_geracao'] = get_supervised_independent_var(data_cleaned_month[\"val_geracao\"])\n",
    "# data_cleaned_month.head()"
   ]
  },
  {
   "cell_type": "code",
   "execution_count": null,
   "metadata": {},
   "outputs": [],
   "source": [
    "def perform_diff(series):\n",
    "    return pd.Series(series.diff().values)\n",
    "\n",
    "# data_cleaned_month['diff_val_geracao'] = perform_diff(data_cleaned_month['val_geracao']).values"
   ]
  },
  {
   "cell_type": "code",
   "execution_count": null,
   "metadata": {},
   "outputs": [],
   "source": [
    "# data_cleaned_month['diff_val_geracao'].plot(figsize=(16,7));"
   ]
  },
  {
   "cell_type": "code",
   "execution_count": null,
   "metadata": {},
   "outputs": [],
   "source": [
    "# invert differenced value\n",
    "def invert_diff_transform(initial_actual_item, diff_series):\n",
    "    return np.r_[initial_actual_item, diff_series].cumsum()\n",
    "\n",
    "# data_cleaned_month['invert_diff_geracao'] = invert_diff_transform(data_cleaned_month['val_geracao'].iloc[0], data_cleaned_month['diff_val_geracao'].iloc[1:])\n",
    "# data_cleaned_month.head()"
   ]
  },
  {
   "cell_type": "code",
   "execution_count": null,
   "metadata": {},
   "outputs": [],
   "source": [
    "# transform scale\n",
    "def scale_transform(series):\n",
    "    series = series.reshape(len(series), 1)\n",
    "    scaler = MinMaxScaler(feature_range=(-1, 1))\n",
    "    scaler = scaler.fit(series)\n",
    "    return  scaler, scaler.transform(series)\n",
    "\n",
    "# scaler, data_cleaned_month['scaled_val_geracao'] = scale_transform(data_cleaned_month['val_geracao'].values)\n",
    "# data_cleaned_month.head(5)"
   ]
  },
  {
   "cell_type": "code",
   "execution_count": null,
   "metadata": {},
   "outputs": [],
   "source": [
    "# # Simply use \n",
    "# data_cleaned_month['inv_transformed_val_geracao'] = scaler.inverse_transform(data_cleaned_month['scaled_val_geracao'].values.reshape(-1, 1))\n",
    "# data_cleaned_month.head()"
   ]
  },
  {
   "cell_type": "code",
   "execution_count": null,
   "metadata": {},
   "outputs": [],
   "source": [
    "# Modelling function for same\n",
    "\n",
    "# scale train and test data to [-1, 1]\n",
    "def scale_transform(train, val, test):\n",
    "    # fit scaler\n",
    "    scaler = MinMaxScaler(feature_range=(-1, 1))\n",
    "    scaler = scaler.fit(train)\n",
    "    # transform train\n",
    "    train = train.reshape(train.shape[0], train.shape[1])\n",
    "    train_scaled = scaler.transform(train)\n",
    "    # transform test\n",
    "    test = test.reshape(test.shape[0], test.shape[1])\n",
    "    test_scaled = scaler.transform(test)\n",
    "\n",
    "    val = val.reshape(val.shape[0], val.shape[1])\n",
    "    val_scaled = scaler.transform(val)\n",
    "\n",
    "    return scaler, train_scaled, val_scaled, test_scaled\n",
    "\n",
    "\n",
    "# invert transform\n",
    "def invert_scale(scaler, X, value):\n",
    "    new_row = [x for x in X] + [value]\n",
    "    array = np.array(new_row)\n",
    "    array = array.reshape(1, len(array))\n",
    "    inverted = scaler.inverse_transform(array)\n",
    "    return inverted[0, -1]"
   ]
  },
  {
   "cell_type": "code",
   "execution_count": null,
   "metadata": {},
   "outputs": [],
   "source": [
    "def fit_lstm(train, batch_size, nb_epoch, neurons_l1):\n",
    "    X, y = train[:, 0:-1], train[:, -1]\n",
    "    X = X.reshape(X.shape[0], 1, X.shape[1])\n",
    "    model = Sequential()\n",
    "    model.add(LSTM(neurons_l1, \n",
    "                   batch_input_shape=(batch_size, X.shape[1], X.shape[2]), \n",
    "                   stateful=True))\n",
    "    model.add(LSTM(neurons_l1))\n",
    "    model.add(Dense(1))\n",
    "    model.compile(loss='mean_squared_error', optimizer='adam')\n",
    "\n",
    "    early_stopping = EarlyStopping(monitor='val_loss', patience=5, verbose=1)\n",
    "\n",
    "    for i in range(nb_epoch):\n",
    "        model.fit(X, y, epochs=1, batch_size=batch_size, verbose=1, shuffle=False, callbacks=[early_stopping], validation_split=0.1)\n",
    "        model.reset_states()\n",
    "\n",
    "    return model"
   ]
  },
  {
   "cell_type": "code",
   "execution_count": null,
   "metadata": {},
   "outputs": [],
   "source": [
    "def forecast(model, batch_size, row):\n",
    "    x = row.reshape(1, 1, len(row))\n",
    "    yhat = model.predict(x, batch_size=batch_size)\n",
    "    return yhat[0,0]"
   ]
  },
  {
   "cell_type": "code",
   "execution_count": null,
   "metadata": {},
   "outputs": [
    {
     "ename": "ValueError",
     "evalue": "Input 0 of layer \"lstm_15\" is incompatible with the layer: expected ndim=3, found ndim=2. Full shape received: (1, 4)",
     "output_type": "error",
     "traceback": [
      "\u001b[1;31m---------------------------------------------------------------------------\u001b[0m\n",
      "\u001b[1;31mValueError\u001b[0m                                Traceback (most recent call last)\n",
      "Cell \u001b[1;32mIn[119], line 17\u001b[0m\n",
      "\u001b[0;32m     14\u001b[0m scaler, train_scaled, test_scaled \u001b[38;5;241m=\u001b[39m scale_transform(train, test)\n",
      "\u001b[0;32m     16\u001b[0m \u001b[38;5;66;03m# Fitting a stateful LSTM network model to the training data.\u001b[39;00m\n",
      "\u001b[1;32m---> 17\u001b[0m lstm_model \u001b[38;5;241m=\u001b[39m \u001b[43mfit_lstm\u001b[49m\u001b[43m(\u001b[49m\u001b[43mtrain\u001b[49m\u001b[38;5;241;43m=\u001b[39;49m\u001b[43mtrain_scaled\u001b[49m\u001b[43m,\u001b[49m\u001b[43m \u001b[49m\u001b[43mbatch_size\u001b[49m\u001b[38;5;241;43m=\u001b[39;49m\u001b[38;5;241;43m1\u001b[39;49m\u001b[43m,\u001b[49m\u001b[43m \u001b[49m\u001b[43mnb_epoch\u001b[49m\u001b[38;5;241;43m=\u001b[39;49m\u001b[38;5;241;43m80\u001b[39;49m\u001b[43m,\u001b[49m\u001b[43m \u001b[49m\u001b[43mneurons_l1\u001b[49m\u001b[38;5;241;43m=\u001b[39;49m\u001b[38;5;241;43m4\u001b[39;49m\u001b[43m)\u001b[49m\n",
      "\u001b[0;32m     18\u001b[0m \u001b[38;5;66;03m# forecast the entire training dataset to build up state for forecasting\u001b[39;00m\n",
      "\u001b[0;32m     19\u001b[0m train_reshaped \u001b[38;5;241m=\u001b[39m train_scaled[:, \u001b[38;5;241m0\u001b[39m]\u001b[38;5;241m.\u001b[39mreshape(\u001b[38;5;28mlen\u001b[39m(train_scaled), \u001b[38;5;241m1\u001b[39m, \u001b[38;5;241m1\u001b[39m)\n",
      "\n",
      "Cell \u001b[1;32mIn[118], line 8\u001b[0m, in \u001b[0;36mfit_lstm\u001b[1;34m(train, batch_size, nb_epoch, neurons_l1)\u001b[0m\n",
      "\u001b[0;32m      4\u001b[0m model \u001b[38;5;241m=\u001b[39m Sequential()\n",
      "\u001b[0;32m      5\u001b[0m model\u001b[38;5;241m.\u001b[39madd(LSTM(neurons_l1, \n",
      "\u001b[0;32m      6\u001b[0m                batch_input_shape\u001b[38;5;241m=\u001b[39m(batch_size, X\u001b[38;5;241m.\u001b[39mshape[\u001b[38;5;241m1\u001b[39m], X\u001b[38;5;241m.\u001b[39mshape[\u001b[38;5;241m2\u001b[39m]), \n",
      "\u001b[0;32m      7\u001b[0m                stateful\u001b[38;5;241m=\u001b[39m\u001b[38;5;28;01mTrue\u001b[39;00m))\n",
      "\u001b[1;32m----> 8\u001b[0m \u001b[43mmodel\u001b[49m\u001b[38;5;241;43m.\u001b[39;49m\u001b[43madd\u001b[49m\u001b[43m(\u001b[49m\u001b[43mLSTM\u001b[49m\u001b[43m(\u001b[49m\u001b[43mneurons_l1\u001b[49m\u001b[43m)\u001b[49m\u001b[43m)\u001b[49m\n",
      "\u001b[0;32m      9\u001b[0m model\u001b[38;5;241m.\u001b[39madd(Dense(\u001b[38;5;241m1\u001b[39m))\n",
      "\u001b[0;32m     10\u001b[0m model\u001b[38;5;241m.\u001b[39mcompile(loss\u001b[38;5;241m=\u001b[39m\u001b[38;5;124m'\u001b[39m\u001b[38;5;124mmean_squared_error\u001b[39m\u001b[38;5;124m'\u001b[39m, optimizer\u001b[38;5;241m=\u001b[39m\u001b[38;5;124m'\u001b[39m\u001b[38;5;124madam\u001b[39m\u001b[38;5;124m'\u001b[39m)\n",
      "\n",
      "File \u001b[1;32m~\\AppData\\Local\\Packages\\PythonSoftwareFoundation.Python.3.10_qbz5n2kfra8p0\\LocalCache\\local-packages\\Python310\\site-packages\\tensorflow\\python\\trackable\\base.py:204\u001b[0m, in \u001b[0;36mno_automatic_dependency_tracking.<locals>._method_wrapper\u001b[1;34m(self, *args, **kwargs)\u001b[0m\n",
      "\u001b[0;32m    202\u001b[0m \u001b[38;5;28mself\u001b[39m\u001b[38;5;241m.\u001b[39m_self_setattr_tracking \u001b[38;5;241m=\u001b[39m \u001b[38;5;28;01mFalse\u001b[39;00m  \u001b[38;5;66;03m# pylint: disable=protected-access\u001b[39;00m\n",
      "\u001b[0;32m    203\u001b[0m \u001b[38;5;28;01mtry\u001b[39;00m:\n",
      "\u001b[1;32m--> 204\u001b[0m   result \u001b[38;5;241m=\u001b[39m method(\u001b[38;5;28mself\u001b[39m, \u001b[38;5;241m*\u001b[39margs, \u001b[38;5;241m*\u001b[39m\u001b[38;5;241m*\u001b[39mkwargs)\n",
      "\u001b[0;32m    205\u001b[0m \u001b[38;5;28;01mfinally\u001b[39;00m:\n",
      "\u001b[0;32m    206\u001b[0m   \u001b[38;5;28mself\u001b[39m\u001b[38;5;241m.\u001b[39m_self_setattr_tracking \u001b[38;5;241m=\u001b[39m previous_value  \u001b[38;5;66;03m# pylint: disable=protected-access\u001b[39;00m\n",
      "\n",
      "File \u001b[1;32m~\\AppData\\Local\\Packages\\PythonSoftwareFoundation.Python.3.10_qbz5n2kfra8p0\\LocalCache\\local-packages\\Python310\\site-packages\\keras\\src\\utils\\traceback_utils.py:70\u001b[0m, in \u001b[0;36mfilter_traceback.<locals>.error_handler\u001b[1;34m(*args, **kwargs)\u001b[0m\n",
      "\u001b[0;32m     67\u001b[0m     filtered_tb \u001b[38;5;241m=\u001b[39m _process_traceback_frames(e\u001b[38;5;241m.\u001b[39m__traceback__)\n",
      "\u001b[0;32m     68\u001b[0m     \u001b[38;5;66;03m# To get the full stack trace, call:\u001b[39;00m\n",
      "\u001b[0;32m     69\u001b[0m     \u001b[38;5;66;03m# `tf.debugging.disable_traceback_filtering()`\u001b[39;00m\n",
      "\u001b[1;32m---> 70\u001b[0m     \u001b[38;5;28;01mraise\u001b[39;00m e\u001b[38;5;241m.\u001b[39mwith_traceback(filtered_tb) \u001b[38;5;28;01mfrom\u001b[39;00m \u001b[38;5;28;01mNone\u001b[39;00m\n",
      "\u001b[0;32m     71\u001b[0m \u001b[38;5;28;01mfinally\u001b[39;00m:\n",
      "\u001b[0;32m     72\u001b[0m     \u001b[38;5;28;01mdel\u001b[39;00m filtered_tb\n",
      "\n",
      "File \u001b[1;32m~\\AppData\\Local\\Packages\\PythonSoftwareFoundation.Python.3.10_qbz5n2kfra8p0\\LocalCache\\local-packages\\Python310\\site-packages\\keras\\src\\engine\\input_spec.py:235\u001b[0m, in \u001b[0;36massert_input_compatibility\u001b[1;34m(input_spec, inputs, layer_name)\u001b[0m\n",
      "\u001b[0;32m    233\u001b[0m     ndim \u001b[38;5;241m=\u001b[39m shape\u001b[38;5;241m.\u001b[39mrank\n",
      "\u001b[0;32m    234\u001b[0m     \u001b[38;5;28;01mif\u001b[39;00m ndim \u001b[38;5;241m!=\u001b[39m spec\u001b[38;5;241m.\u001b[39mndim:\n",
      "\u001b[1;32m--> 235\u001b[0m         \u001b[38;5;28;01mraise\u001b[39;00m \u001b[38;5;167;01mValueError\u001b[39;00m(\n",
      "\u001b[0;32m    236\u001b[0m             \u001b[38;5;124mf\u001b[39m\u001b[38;5;124m'\u001b[39m\u001b[38;5;124mInput \u001b[39m\u001b[38;5;132;01m{\u001b[39;00minput_index\u001b[38;5;132;01m}\u001b[39;00m\u001b[38;5;124m of layer \u001b[39m\u001b[38;5;124m\"\u001b[39m\u001b[38;5;132;01m{\u001b[39;00mlayer_name\u001b[38;5;132;01m}\u001b[39;00m\u001b[38;5;124m\"\u001b[39m\u001b[38;5;124m \u001b[39m\u001b[38;5;124m'\u001b[39m\n",
      "\u001b[0;32m    237\u001b[0m             \u001b[38;5;124m\"\u001b[39m\u001b[38;5;124mis incompatible with the layer: \u001b[39m\u001b[38;5;124m\"\u001b[39m\n",
      "\u001b[0;32m    238\u001b[0m             \u001b[38;5;124mf\u001b[39m\u001b[38;5;124m\"\u001b[39m\u001b[38;5;124mexpected ndim=\u001b[39m\u001b[38;5;132;01m{\u001b[39;00mspec\u001b[38;5;241m.\u001b[39mndim\u001b[38;5;132;01m}\u001b[39;00m\u001b[38;5;124m, found ndim=\u001b[39m\u001b[38;5;132;01m{\u001b[39;00mndim\u001b[38;5;132;01m}\u001b[39;00m\u001b[38;5;124m. \u001b[39m\u001b[38;5;124m\"\u001b[39m\n",
      "\u001b[0;32m    239\u001b[0m             \u001b[38;5;124mf\u001b[39m\u001b[38;5;124m\"\u001b[39m\u001b[38;5;124mFull shape received: \u001b[39m\u001b[38;5;132;01m{\u001b[39;00m\u001b[38;5;28mtuple\u001b[39m(shape)\u001b[38;5;132;01m}\u001b[39;00m\u001b[38;5;124m\"\u001b[39m\n",
      "\u001b[0;32m    240\u001b[0m         )\n",
      "\u001b[0;32m    241\u001b[0m \u001b[38;5;28;01mif\u001b[39;00m spec\u001b[38;5;241m.\u001b[39mmax_ndim \u001b[38;5;129;01mis\u001b[39;00m \u001b[38;5;129;01mnot\u001b[39;00m \u001b[38;5;28;01mNone\u001b[39;00m:\n",
      "\u001b[0;32m    242\u001b[0m     ndim \u001b[38;5;241m=\u001b[39m x\u001b[38;5;241m.\u001b[39mshape\u001b[38;5;241m.\u001b[39mrank\n",
      "\n",
      "\u001b[1;31mValueError\u001b[0m: Input 0 of layer \"lstm_15\" is incompatible with the layer: expected ndim=3, found ndim=2. Full shape received: (1, 4)"
     ]
    }
   ],
   "source": [
    "# preprocess dataset.\n",
    "model_df = data_cleaned_month\n",
    "\n",
    "# Transforming the data to a supervised learning problem.\n",
    "diff_series = perform_diff(model_df.val_geracao).dropna()\n",
    "\n",
    "# Transforming the data to be stationary.\n",
    "X_series = get_supervised_independent_var(diff_series)\n",
    "supervised_values = pd.DataFrame([X_series, diff_series.values]).T.values\n",
    "\n",
    "train, test = supervised_values[:-24], supervised_values[-24:]\n",
    "\n",
    "# transform the scale of the data\n",
    "scaler, train_scaled, test_scaled = scale_transform(train, test)\n",
    "\n",
    "# Fitting a stateful LSTM network model to the training data.\n",
    "lstm_model = fit_lstm(train=train_scaled, batch_size=1, nb_epoch=80, neurons_l1=4)\n",
    "# forecast the entire training dataset to build up state for forecasting\n",
    "train_reshaped = train_scaled[:, 0].reshape(len(train_scaled), 1, 1)\n",
    "# Evaluating the static LSTM model on the test data.\n",
    "lstm_model.predict(train_reshaped, batch_size=1)\n",
    "# # Report the performance of the forecasts.\n",
    "\n",
    "# walk-forward validation on the test data\n",
    "predictions = list()\n",
    "for i in range(len(test_scaled)):\n",
    "    # make one-step forecast: so that statefulness can help LSTM model to learn from previous forecast as well \n",
    "    X_row, y_row = test_scaled[i, 0:-1], test_scaled[i, -1]\n",
    "    yhat = forecast(lstm_model, 1, X_row)\n",
    "    # invert scaling\n",
    "    \n",
    "    yhat = invert_scale(scaler, X_row, yhat)\n",
    "\n",
    "    # invert differencing\n",
    "    yhat = yhat + model_df.val_geracao.values[-1]\n",
    "    print(yhat)\n",
    "    # store forecast\n",
    "    predictions.append(yhat)\n",
    "    expected = model_df.val_geracao[len(train) + i + 1]\n",
    "    print('Month=%d, Predicted=%f, Expected=%f' % (i+1, yhat, expected))"
   ]
  },
  {
   "cell_type": "code",
   "execution_count": null,
   "metadata": {},
   "outputs": [
    {
     "name": "stdout",
     "output_type": "stream",
     "text": [
      "Test RMSE: 1851576.947\n"
     ]
    },
    {
     "data": {
      "image/png": "[encoded data removed]",
      "text/plain": [
       "<Figure size 640x480 with 1 Axes>"
      ]
     },
     "metadata": {},
     "output_type": "display_data"
    }
   ],
   "source": [
    "# report performance\n",
    "rmse = sqrt(mean_squared_error(model_df.val_geracao.values[-24:], predictions))\n",
    "print('Test RMSE: %.3f' % rmse)\n",
    "# line plot of observed vs predicted\n",
    "plt.plot(model_df.val_geracao.values[-24:])\n",
    "plt.plot(predictions)\n",
    "plt.show()"
   ]
  },
  {
   "cell_type": "markdown",
   "metadata": {},
   "source": [
    "### TESTE 3"
   ]
  },
  {
   "cell_type": "code",
   "execution_count": null,
   "metadata": {},
   "outputs": [
    {
     "data": {
      "text/plain": [
       "<Axes: >"
      ]
     },
     "metadata": {},
     "output_type": "display_data"
    },
    {
     "data": {
      "image/png": "[encoded data removed]",
      "text/plain": [
       "<Figure size 640x480 with 1 Axes>"
      ]
     },
     "metadata": {},
     "output_type": "display_data"
    }
   ],
   "source": [
    "temp = data_cleaned_month[\"val_geracao\"]\n",
    "temp.plot()"
   ]
  },
  {
   "cell_type": "code",
   "execution_count": null,
   "metadata": {},
   "outputs": [],
   "source": [
    "# [[[1], [2], [3], [4], [5]]] [6]\n",
    "# [[[2], [3], [4], [5], [6]]] [7]\n",
    "# [[[3], [4], [5], [6], [7]]] [8]\n",
    "\n",
    "def df_to_X_y(df, window_size=5):\n",
    "  df_as_np = df.to_numpy()\n",
    "  X = []\n",
    "  y = []\n",
    "  for i in range(len(df_as_np)-window_size):\n",
    "    row = [[a] for a in df_as_np[i:i+window_size]]\n",
    "    X.append(row)\n",
    "    label = df_as_np[i+window_size]\n",
    "    y.append(label)\n",
    "  return np.array(X), np.array(y)"
   ]
  },
  {
   "cell_type": "code",
   "execution_count": null,
   "metadata": {},
   "outputs": [
    {
     "data": {
      "text/plain": [
       "((247, 5, 1), (247,))"
      ]
     },
     "metadata": {},
     "output_type": "display_data"
    }
   ],
   "source": [
    "WINDOW_SIZE = 5\n",
    "X1, y1 = df_to_X_y(temp, WINDOW_SIZE)\n",
    "X1.shape, y1.shape"
   ]
  },
  {
   "cell_type": "code",
   "execution_count": null,
   "metadata": {},
   "outputs": [
    {
     "data": {
      "text/plain": [
       "((230, 5, 1), (230,), (10, 5, 1), (10,), (7, 5, 1), (7,))"
      ]
     },
     "metadata": {},
     "output_type": "display_data"
    }
   ],
   "source": [
    "X_train1, y_train1 = X1[:230], y1[:230]\n",
    "X_val1, y_val1 = X1[230:240], y1[230:240]\n",
    "X_test1, y_test1 = X1[240:], y1[240:]\n",
    "X_train1.shape, y_train1.shape, X_val1.shape, y_val1.shape, X_test1.shape, y_test1.shape"
   ]
  },
  {
   "cell_type": "code",
   "execution_count": null,
   "metadata": {},
   "outputs": [],
   "source": [
    "from tensorflow.keras.models import Sequential\n",
    "from tensorflow.keras.layers import *\n",
    "from tensorflow.keras.callbacks import ModelCheckpoint\n",
    "from tensorflow.keras.losses import MeanSquaredError\n"
   ]
  },
  {
   "cell_type": "code",
   "execution_count": null,
   "metadata": {},
   "outputs": [],
   "source": [
    "scaler, train_scaled, test_scaled = scale_transform(train, val, test)"
   ]
  },
  {
   "cell_type": "code",
   "execution_count": null,
   "metadata": {},
   "outputs": [
    {
     "name": "stdout",
     "output_type": "stream",
     "text": [
      "Model: \"sequential_15\"\n",
      "_________________________________________________________________\n",
      " Layer (type)                Output Shape              Param #   \n",
      "=================================================================\n",
      " lstm_20 (LSTM)              (None, 64)                16896     \n",
      "                                                                 \n",
      " dense_17 (Dense)            (None, 8)                 520       \n",
      "                                                                 \n",
      " dense_18 (Dense)            (None, 1)                 9         \n",
      "                                                                 \n",
      "=================================================================\n",
      "Total params: 17425 (68.07 KB)\n",
      "Trainable params: 17425 (68.07 KB)\n",
      "Non-trainable params: 0 (0.00 Byte)\n",
      "_________________________________________________________________\n"
     ]
    }
   ],
   "source": [
    "model1 = Sequential()\n",
    "model1.add(InputLayer((5, 1)))\n",
    "model1.add(LSTM(64))\n",
    "model1.add(Dense(8, 'relu'))\n",
    "model1.add(Dense(1))\n",
    "\n",
    "model1.summary()"
   ]
  },
  {
   "cell_type": "code",
   "execution_count": null,
   "metadata": {},
   "outputs": [],
   "source": [
    "cp1 = ModelCheckpoint('model1/', save_best_only=True)\n",
    "model1.compile(loss=MeanSquaredError(), optimizer=Adam(learning_rate=0.0001), metrics=[RootMeanSquaredError()])"
   ]
  },
  {
   "cell_type": "code",
   "execution_count": null,
   "metadata": {},
   "outputs": [],
   "source": [
    "model1.fit(X_train1, y_train1, validation_data=(X_val1, y_val1), epochs=1000, callbacks=[cp1])"
   ]
  },
  {
   "cell_type": "code",
   "execution_count": null,
   "metadata": {},
   "outputs": [],
   "source": [
    "from tensorflow.keras.models import load_model\n",
    "model1 = load_model('model1/')"
   ]
  },
  {
   "cell_type": "code",
   "execution_count": null,
   "metadata": {},
   "outputs": [
    {
     "name": "stdout",
     "output_type": "stream",
     "text": [
      "8/8 [==============================] - 0s 2ms/step\n"
     ]
    },
    {
     "data": {
      "text/html": [
       "<div>\n",
       "<style scoped>\n",
       "    .dataframe tbody tr th:only-of-type {\n",
       "        vertical-align: middle;\n",
       "    }\n",
       "\n",
       "    .dataframe tbody tr th {\n",
       "        vertical-align: top;\n",
       "    }\n",
       "\n",
       "    .dataframe thead th {\n",
       "        text-align: right;\n",
       "    }\n",
       "</style>\n",
       "<table border=\"1\" class=\"dataframe\">\n",
       "  <thead>\n",
       "    <tr style=\"text-align: right;\">\n",
       "      <th></th>\n",
       "      <th>Train Predictions</th>\n",
       "      <th>Actuals</th>\n",
       "    </tr>\n",
       "  </thead>\n",
       "  <tbody>\n",
       "    <tr>\n",
       "      <th>0</th>\n",
       "      <td>-0.49</td>\n",
       "      <td>11152054.60</td>\n",
       "    </tr>\n",
       "    <tr>\n",
       "      <th>1</th>\n",
       "      <td>-0.49</td>\n",
       "      <td>10837033.50</td>\n",
       "    </tr>\n",
       "    <tr>\n",
       "      <th>2</th>\n",
       "      <td>-0.49</td>\n",
       "      <td>10713982.40</td>\n",
       "    </tr>\n",
       "    <tr>\n",
       "      <th>3</th>\n",
       "      <td>-0.49</td>\n",
       "      <td>9167134.18</td>\n",
       "    </tr>\n",
       "    <tr>\n",
       "      <th>4</th>\n",
       "      <td>-0.49</td>\n",
       "      <td>10284573.00</td>\n",
       "    </tr>\n",
       "    <tr>\n",
       "      <th>...</th>\n",
       "      <td>...</td>\n",
       "      <td>...</td>\n",
       "    </tr>\n",
       "    <tr>\n",
       "      <th>225</th>\n",
       "      <td>-0.49</td>\n",
       "      <td>9156961.87</td>\n",
       "    </tr>\n",
       "    <tr>\n",
       "      <th>226</th>\n",
       "      <td>-0.49</td>\n",
       "      <td>8726184.24</td>\n",
       "    </tr>\n",
       "    <tr>\n",
       "      <th>227</th>\n",
       "      <td>-0.49</td>\n",
       "      <td>7393989.09</td>\n",
       "    </tr>\n",
       "    <tr>\n",
       "      <th>228</th>\n",
       "      <td>-0.49</td>\n",
       "      <td>6730046.81</td>\n",
       "    </tr>\n",
       "    <tr>\n",
       "      <th>229</th>\n",
       "      <td>-0.49</td>\n",
       "      <td>7741992.29</td>\n",
       "    </tr>\n",
       "  </tbody>\n",
       "</table>\n",
       "<p>230 rows × 2 columns</p>\n",
       "</div>"
      ],
      "text/plain": [
       "     Train Predictions     Actuals\n",
       "0                -0.49 11152054.60\n",
       "1                -0.49 10837033.50\n",
       "2                -0.49 10713982.40\n",
       "3                -0.49  9167134.18\n",
       "4                -0.49 10284573.00\n",
       "..                 ...         ...\n",
       "225              -0.49  9156961.87\n",
       "226              -0.49  8726184.24\n",
       "227              -0.49  7393989.09\n",
       "228              -0.49  6730046.81\n",
       "229              -0.49  7741992.29\n",
       "\n",
       "[230 rows x 2 columns]"
      ]
     },
     "metadata": {},
     "output_type": "display_data"
    }
   ],
   "source": [
    "train_predictions = model1.predict(X_train1).flatten()\n",
    "train_results = pd.DataFrame(data={'Train Predictions':train_predictions, 'Actuals':y_train1})\n",
    "train_results"
   ]
  },
  {
   "cell_type": "code",
   "execution_count": null,
   "metadata": {},
   "outputs": [
    {
     "data": {
      "text/plain": [
       "[<matplotlib.lines.Line2D at 0x1f4a89920b0>]"
      ]
     },
     "metadata": {},
     "output_type": "display_data"
    },
    {
     "data": {
      "image/png": "[encoded data removed]",
      "text/plain": [
       "<Figure size 640x480 with 1 Axes>"
      ]
     },
     "metadata": {},
     "output_type": "display_data"
    }
   ],
   "source": [
    "import matplotlib.pyplot as plt\n",
    "plt.plot(train_results['Train Predictions'][50:100])\n",
    "plt.plot(train_results['Actuals'][50:100])"
   ]
  },
  {
   "cell_type": "code",
   "execution_count": null,
   "metadata": {},
   "outputs": [],
   "source": [
    "val_predictions = model1.predict(X_val1).flatten()\n",
    "val_results = pd.DataFrame(data={'Val Predictions':val_predictions, 'Actuals':y_val1})\n",
    "val_results"
   ]
  },
  {
   "cell_type": "code",
   "execution_count": null,
   "metadata": {},
   "outputs": [],
   "source": [
    "plt.plot(val_results['Val Predictions'][:100])\n",
    "plt.plot(val_results['Actuals'][:100])"
   ]
  },
  {
   "cell_type": "code",
   "execution_count": null,
   "metadata": {},
   "outputs": [],
   "source": [
    "test_predictions = model1.predict(X_test1).flatten()\n",
    "test_results = pd.DataFrame(data={'Test Predictions':test_predictions, 'Actuals':y_test1})\n",
    "test_results"
   ]
  },
  {
   "cell_type": "code",
   "execution_count": null,
   "metadata": {},
   "outputs": [],
   "source": [
    "plt.plot(test_results['Test Predictions'][:100])\n",
    "plt.plot(test_results['Actuals'][:100])"
   ]
  },
  {
   "cell_type": "markdown",
   "metadata": {},
   "source": [
    "### TESTE 4"
   ]
  },
  {
   "cell_type": "code",
   "execution_count": null,
   "metadata": {},
   "outputs": [],
   "source": [
    "temp = data_cleaned_month"
   ]
  },
  {
   "cell_type": "code",
   "execution_count": null,
   "metadata": {},
   "outputs": [
    {
     "data": {
      "text/plain": [
       "<Axes: >"
      ]
     },
     "metadata": {},
     "output_type": "display_data"
    },
    {
     "data": {
      "image/png": "[encoded data removed]",
      "text/plain": [
       "<Figure size 1200x600 with 1 Axes>"
      ]
     },
     "metadata": {},
     "output_type": "display_data"
    }
   ],
   "source": [
    "temp['val_geracao'].plot(figsize=(12, 6))"
   ]
  },
  {
   "cell_type": "code",
   "execution_count": null,
   "metadata": {},
   "outputs": [
    {
     "data": {
      "text/html": [
       "<div>\n",
       "<style scoped>\n",
       "    .dataframe tbody tr th:only-of-type {\n",
       "        vertical-align: middle;\n",
       "    }\n",
       "\n",
       "    .dataframe tbody tr th {\n",
       "        vertical-align: top;\n",
       "    }\n",
       "\n",
       "    .dataframe thead th {\n",
       "        text-align: right;\n",
       "    }\n",
       "</style>\n",
       "<table border=\"1\" class=\"dataframe\">\n",
       "  <thead>\n",
       "    <tr style=\"text-align: right;\">\n",
       "      <th></th>\n",
       "      <th>ano-mes</th>\n",
       "      <th>val_geracao</th>\n",
       "      <th>ano</th>\n",
       "      <th>mes</th>\n",
       "    </tr>\n",
       "  </thead>\n",
       "  <tbody>\n",
       "    <tr>\n",
       "      <th>0</th>\n",
       "      <td>2000-01</td>\n",
       "      <td>10719179.70</td>\n",
       "      <td>2000</td>\n",
       "      <td>1</td>\n",
       "    </tr>\n",
       "    <tr>\n",
       "      <th>1</th>\n",
       "      <td>2000-02</td>\n",
       "      <td>10356806.30</td>\n",
       "      <td>2000</td>\n",
       "      <td>2</td>\n",
       "    </tr>\n",
       "    <tr>\n",
       "      <th>2</th>\n",
       "      <td>2000-03</td>\n",
       "      <td>10800055.29</td>\n",
       "      <td>2000</td>\n",
       "      <td>3</td>\n",
       "    </tr>\n",
       "    <tr>\n",
       "      <th>3</th>\n",
       "      <td>2000-04</td>\n",
       "      <td>10688398.50</td>\n",
       "      <td>2000</td>\n",
       "      <td>4</td>\n",
       "    </tr>\n",
       "    <tr>\n",
       "      <th>4</th>\n",
       "      <td>2000-05</td>\n",
       "      <td>11534436.10</td>\n",
       "      <td>2000</td>\n",
       "      <td>5</td>\n",
       "    </tr>\n",
       "  </tbody>\n",
       "</table>\n",
       "</div>"
      ],
      "text/plain": [
       "   ano-mes  val_geracao   ano  mes\n",
       "0  2000-01  10719179.70  2000    1\n",
       "1  2000-02  10356806.30  2000    2\n",
       "2  2000-03  10800055.29  2000    3\n",
       "3  2000-04  10688398.50  2000    4\n",
       "4  2000-05  11534436.10  2000    5"
      ]
     },
     "metadata": {},
     "output_type": "display_data"
    }
   ],
   "source": [
    "temp.head()"
   ]
  },
  {
   "cell_type": "code",
   "execution_count": null,
   "metadata": {},
   "outputs": [],
   "source": [
    "train = temp.iloc[:240]\n",
    "test = temp.iloc[240:]"
   ]
  },
  {
   "cell_type": "code",
   "execution_count": null,
   "metadata": {},
   "outputs": [
    {
     "data": {
      "text/plain": [
       "((240, 4), (12, 4))"
      ]
     },
     "metadata": {},
     "output_type": "display_data"
    }
   ],
   "source": [
    "train.shape, test.shape"
   ]
  },
  {
   "cell_type": "code",
   "execution_count": null,
   "metadata": {},
   "outputs": [],
   "source": [
    "scaler = MinMaxScaler()"
   ]
  },
  {
   "cell_type": "code",
   "execution_count": null,
   "metadata": {},
   "outputs": [
    {
     "data": {
      "text/plain": [
       "(   ano-mes  val_geracao   ano  mes\n",
       " 0  2000-01  10719179.70  2000    1\n",
       " 1  2000-02  10356806.30  2000    2\n",
       " 2  2000-03  10800055.29  2000    3\n",
       " 3  2000-04  10688398.50  2000    4\n",
       " 4  2000-05  11534436.10  2000    5,\n",
       "      ano-mes  val_geracao   ano  mes\n",
       " 247  2020-08  10260306.43  2020    8\n",
       " 248  2020-09  11255679.29  2020    9\n",
       " 249  2020-10  11845207.08  2020   10\n",
       " 250  2020-11  11050187.94  2020   11\n",
       " 251  2020-12  10468392.94  2020   12)"
      ]
     },
     "metadata": {},
     "output_type": "display_data"
    }
   ],
   "source": [
    "temp.head(),temp.tail()"
   ]
  },
  {
   "cell_type": "code",
   "execution_count": null,
   "metadata": {},
   "outputs": [],
   "source": [
    "scaler.fit(train['val_geracao'].values.reshape(-1, 1))\n",
    "scaled_train = scaler.transform(train['val_geracao'].values.reshape(-1, 1))\n",
    "scaled_test = scaler.transform(test['val_geracao'].values.reshape(-1, 1))"
   ]
  },
  {
   "cell_type": "code",
   "execution_count": null,
   "metadata": {},
   "outputs": [
    {
     "data": {
      "text/plain": [
       "((240, 1), (12, 1))"
      ]
     },
     "metadata": {},
     "output_type": "display_data"
    }
   ],
   "source": [
    "scaled_train.shape, scaled_test.shape"
   ]
  },
  {
   "cell_type": "code",
   "execution_count": null,
   "metadata": {},
   "outputs": [],
   "source": [
    "from keras.preprocessing.sequence import TimeseriesGenerator\n",
    "from keras.callbacks import ModelCheckpoint"
   ]
  },
  {
   "cell_type": "code",
   "execution_count": null,
   "metadata": {},
   "outputs": [],
   "source": [
    "n_features = 1\n",
    "n_input = 12\n",
    "generator = TimeseriesGenerator(scaled_train, scaled_train, length=n_input, batch_size=1)"
   ]
  },
  {
   "cell_type": "code",
   "execution_count": null,
   "metadata": {},
   "outputs": [],
   "source": [
    "# define model\n",
    "model = Sequential()\n",
    "model.add(LSTM(100, activation='relu', input_shape=(n_input, n_features)))\n",
    "model.add(Dropout(0.2))\n",
    "model.add(Dense(64, activation='relu'))\n",
    "model.add(Dense(32, activation='relu'))\n",
    "model.add(Dropout(0.2))\n",
    "model.add(Dense(1))\n",
    "\n",
    "cp1 = ModelCheckpoint('model1/', save_best_only=True)\n",
    "model.compile(loss='mse', optimizer=Adam(learning_rate=0.0001), metrics=[RootMeanSquaredError()])\n",
    "# model.compile(loss='mse', optimizer='adam')"
   ]
  },
  {
   "cell_type": "code",
   "execution_count": null,
   "metadata": {},
   "outputs": [
    {
     "name": "stdout",
     "output_type": "stream",
     "text": [
      "Model: \"sequential_15\"\n",
      "_________________________________________________________________\n",
      " Layer (type)                Output Shape              Param #   \n",
      "=================================================================\n",
      " lstm_24 (LSTM)              (None, 100)               40800     \n",
      "                                                                 \n",
      " dropout_23 (Dropout)        (None, 100)               0         \n",
      "                                                                 \n",
      " dense_28 (Dense)            (None, 64)                6464      \n",
      "                                                                 \n",
      " dense_29 (Dense)            (None, 32)                2080      \n",
      "                                                                 \n",
      " dropout_24 (Dropout)        (None, 32)                0         \n",
      "                                                                 \n",
      " dense_30 (Dense)            (None, 1)                 33        \n",
      "                                                                 \n",
      "=================================================================\n",
      "Total params: 49377 (192.88 KB)\n",
      "Trainable params: 49377 (192.88 KB)\n",
      "Non-trainable params: 0 (0.00 Byte)\n",
      "_________________________________________________________________\n"
     ]
    }
   ],
   "source": [
    "model.summary()"
   ]
  },
  {
   "cell_type": "code",
   "execution_count": null,
   "metadata": {},
   "outputs": [
    {
     "name": "stdout",
     "output_type": "stream",
     "text": [
      "Epoch 1/50\n"
     ]
    },
    {
     "name": "stdout",
     "output_type": "stream",
     "text": [
      "228/228 [==============================] - 2s 3ms/step - loss: 0.2342 - root_mean_squared_error: 0.4839\n",
      "Epoch 2/50\n",
      "228/228 [==============================] - 1s 3ms/step - loss: 0.0363 - root_mean_squared_error: 0.1906\n",
      "Epoch 3/50\n",
      "228/228 [==============================] - 1s 3ms/step - loss: 0.0316 - root_mean_squared_error: 0.1777\n",
      "Epoch 4/50\n",
      "228/228 [==============================] - 1s 3ms/step - loss: 0.0287 - root_mean_squared_error: 0.1693\n",
      "Epoch 5/50\n",
      "228/228 [==============================] - 1s 3ms/step - loss: 0.0295 - root_mean_squared_error: 0.1716\n",
      "Epoch 6/50\n",
      "228/228 [==============================] - 1s 3ms/step - loss: 0.0290 - root_mean_squared_error: 0.1703\n",
      "Epoch 7/50\n",
      "228/228 [==============================] - 1s 3ms/step - loss: 0.0265 - root_mean_squared_error: 0.1629\n",
      "Epoch 8/50\n",
      "228/228 [==============================] - 1s 3ms/step - loss: 0.0268 - root_mean_squared_error: 0.1637\n",
      "Epoch 9/50\n",
      "228/228 [==============================] - 1s 3ms/step - loss: 0.0263 - root_mean_squared_error: 0.1623\n",
      "Epoch 10/50\n",
      "228/228 [==============================] - 1s 3ms/step - loss: 0.0265 - root_mean_squared_error: 0.1629\n",
      "Epoch 11/50\n",
      "228/228 [==============================] - 1s 3ms/step - loss: 0.0246 - root_mean_squared_error: 0.1567\n",
      "Epoch 12/50\n",
      "228/228 [==============================] - 1s 3ms/step - loss: 0.0256 - root_mean_squared_error: 0.1601\n",
      "Epoch 13/50\n",
      "228/228 [==============================] - 1s 3ms/step - loss: 0.0229 - root_mean_squared_error: 0.1514\n",
      "Epoch 14/50\n",
      "228/228 [==============================] - 1s 3ms/step - loss: 0.0240 - root_mean_squared_error: 0.1550\n",
      "Epoch 15/50\n",
      "228/228 [==============================] - 1s 3ms/step - loss: 0.0243 - root_mean_squared_error: 0.1558\n",
      "Epoch 16/50\n",
      "228/228 [==============================] - 1s 3ms/step - loss: 0.0213 - root_mean_squared_error: 0.1458\n",
      "Epoch 17/50\n",
      "228/228 [==============================] - 1s 3ms/step - loss: 0.0226 - root_mean_squared_error: 0.1504\n",
      "Epoch 18/50\n",
      "228/228 [==============================] - 1s 3ms/step - loss: 0.0214 - root_mean_squared_error: 0.1462\n",
      "Epoch 19/50\n",
      "228/228 [==============================] - 1s 3ms/step - loss: 0.0229 - root_mean_squared_error: 0.1512\n",
      "Epoch 20/50\n",
      "228/228 [==============================] - 1s 3ms/step - loss: 0.0241 - root_mean_squared_error: 0.1551\n",
      "Epoch 21/50\n",
      "228/228 [==============================] - 1s 3ms/step - loss: 0.0245 - root_mean_squared_error: 0.1564\n",
      "Epoch 22/50\n",
      "228/228 [==============================] - 1s 3ms/step - loss: 0.0205 - root_mean_squared_error: 0.1431\n",
      "Epoch 23/50\n",
      "228/228 [==============================] - 1s 3ms/step - loss: 0.0197 - root_mean_squared_error: 0.1405\n",
      "Epoch 24/50\n",
      "228/228 [==============================] - 1s 3ms/step - loss: 0.0217 - root_mean_squared_error: 0.1474\n",
      "Epoch 25/50\n",
      "228/228 [==============================] - 1s 3ms/step - loss: 0.0217 - root_mean_squared_error: 0.1474\n",
      "Epoch 26/50\n",
      "228/228 [==============================] - 1s 3ms/step - loss: 0.0232 - root_mean_squared_error: 0.1523\n",
      "Epoch 27/50\n",
      "228/228 [==============================] - 1s 3ms/step - loss: 0.0192 - root_mean_squared_error: 0.1385\n",
      "Epoch 28/50\n",
      "228/228 [==============================] - 1s 3ms/step - loss: 0.0193 - root_mean_squared_error: 0.1388\n",
      "Epoch 29/50\n",
      "228/228 [==============================] - 1s 3ms/step - loss: 0.0214 - root_mean_squared_error: 0.1465\n",
      "Epoch 30/50\n",
      "228/228 [==============================] - 1s 3ms/step - loss: 0.0193 - root_mean_squared_error: 0.1390\n",
      "Epoch 31/50\n",
      "228/228 [==============================] - 1s 3ms/step - loss: 0.0204 - root_mean_squared_error: 0.1428\n",
      "Epoch 32/50\n",
      "228/228 [==============================] - 1s 3ms/step - loss: 0.0202 - root_mean_squared_error: 0.1420\n",
      "Epoch 33/50\n",
      "228/228 [==============================] - 1s 3ms/step - loss: 0.0193 - root_mean_squared_error: 0.1391\n",
      "Epoch 34/50\n",
      "228/228 [==============================] - 1s 3ms/step - loss: 0.0191 - root_mean_squared_error: 0.1383\n",
      "Epoch 35/50\n",
      "228/228 [==============================] - 1s 3ms/step - loss: 0.0195 - root_mean_squared_error: 0.1397\n",
      "Epoch 36/50\n",
      "228/228 [==============================] - 1s 3ms/step - loss: 0.0182 - root_mean_squared_error: 0.1350\n",
      "Epoch 37/50\n",
      "228/228 [==============================] - 1s 3ms/step - loss: 0.0181 - root_mean_squared_error: 0.1345\n",
      "Epoch 38/50\n",
      "228/228 [==============================] - 1s 3ms/step - loss: 0.0185 - root_mean_squared_error: 0.1360\n",
      "Epoch 39/50\n",
      "228/228 [==============================] - 1s 3ms/step - loss: 0.0167 - root_mean_squared_error: 0.1290\n",
      "Epoch 40/50\n",
      "228/228 [==============================] - 1s 3ms/step - loss: 0.0190 - root_mean_squared_error: 0.1379\n",
      "Epoch 41/50\n",
      "228/228 [==============================] - 1s 3ms/step - loss: 0.0195 - root_mean_squared_error: 0.1396\n",
      "Epoch 42/50\n",
      "228/228 [==============================] - 1s 3ms/step - loss: 0.0184 - root_mean_squared_error: 0.1356\n",
      "Epoch 43/50\n",
      "228/228 [==============================] - 1s 3ms/step - loss: 0.0182 - root_mean_squared_error: 0.1350\n",
      "Epoch 44/50\n",
      "228/228 [==============================] - 1s 3ms/step - loss: 0.0175 - root_mean_squared_error: 0.1321\n",
      "Epoch 45/50\n",
      "228/228 [==============================] - 1s 3ms/step - loss: 0.0175 - root_mean_squared_error: 0.1321\n",
      "Epoch 46/50\n",
      "228/228 [==============================] - 1s 3ms/step - loss: 0.0151 - root_mean_squared_error: 0.1229\n",
      "Epoch 47/50\n",
      "228/228 [==============================] - 1s 3ms/step - loss: 0.0174 - root_mean_squared_error: 0.1319\n",
      "Epoch 48/50\n",
      "228/228 [==============================] - 1s 3ms/step - loss: 0.0175 - root_mean_squared_error: 0.1322\n",
      "Epoch 49/50\n",
      "228/228 [==============================] - 1s 3ms/step - loss: 0.0179 - root_mean_squared_error: 0.1340\n",
      "Epoch 50/50\n",
      "228/228 [==============================] - 1s 3ms/step - loss: 0.0189 - root_mean_squared_error: 0.1373\n"
     ]
    },
    {
     "data": {
      "text/plain": [
       "<keras.src.callbacks.History at 0x25f2e1b5660>"
      ]
     },
     "metadata": {},
     "output_type": "display_data"
    }
   ],
   "source": [
    "# fit model\n",
    "\n",
    "model.fit(generator,epochs=50)"
   ]
  },
  {
   "cell_type": "code",
   "execution_count": null,
   "metadata": {},
   "outputs": [
    {
     "data": {
      "text/plain": [
       "[<matplotlib.lines.Line2D at 0x25f342fcb20>]"
      ]
     },
     "metadata": {},
     "output_type": "display_data"
    },
    {
     "data": {
      "image/png": "[encoded data removed]",
      "text/plain": [
       "<Figure size 640x480 with 1 Axes>"
      ]
     },
     "metadata": {},
     "output_type": "display_data"
    }
   ],
   "source": [
    "loss_per_epoch = model.history.history['loss']\n",
    "plt.plot(range(len(loss_per_epoch)),loss_per_epoch)"
   ]
  },
  {
   "cell_type": "code",
   "execution_count": null,
   "metadata": {},
   "outputs": [
    {
     "name": "stdout",
     "output_type": "stream",
     "text": [
      "1/1 [==============================] - 0s 102ms/step\n",
      "1/1 [==============================] - 0s 15ms/step\n",
      "1/1 [==============================] - 0s 15ms/step\n",
      "1/1 [==============================] - 0s 14ms/step\n",
      "1/1 [==============================] - 0s 14ms/step\n",
      "1/1 [==============================] - 0s 14ms/step\n",
      "1/1 [==============================] - 0s 15ms/step\n",
      "1/1 [==============================] - 0s 14ms/step\n",
      "1/1 [==============================] - 0s 14ms/step\n",
      "1/1 [==============================] - 0s 14ms/step\n",
      "1/1 [==============================] - 0s 13ms/step\n",
      "1/1 [==============================] - 0s 14ms/step\n"
     ]
    }
   ],
   "source": [
    "test_predictions = []\n",
    "\n",
    "first_eval_batch = scaled_train[-n_input:]\n",
    "current_batch = first_eval_batch.reshape((1, n_input, n_features))\n",
    "\n",
    "for i in range(len(test)):\n",
    "    \n",
    "    # get the prediction value for the first batch\n",
    "    current_pred = model.predict(current_batch)[0]\n",
    "    \n",
    "    # append the prediction into the array\n",
    "    test_predictions.append(current_pred) \n",
    "    \n",
    "    # use the prediction to update the batch and remove the first value\n",
    "    current_batch = np.append(current_batch[:,1:,:],[[current_pred]],axis=1)"
   ]
  },
  {
   "cell_type": "code",
   "execution_count": null,
   "metadata": {},
   "outputs": [
    {
     "data": {
      "text/plain": [
       "[array([0.48147425], dtype=float32),\n",
       " array([0.47630677], dtype=float32),\n",
       " array([0.4733657], dtype=float32),\n",
       " array([0.47079793], dtype=float32),\n",
       " array([0.46862277], dtype=float32),\n",
       " array([0.46700662], dtype=float32),\n",
       " array([0.4654282], dtype=float32),\n",
       " array([0.46391708], dtype=float32),\n",
       " array([0.4621533], dtype=float32),\n",
       " array([0.45959434], dtype=float32),\n",
       " array([0.45708224], dtype=float32),\n",
       " array([0.45515445], dtype=float32)]"
      ]
     },
     "metadata": {},
     "output_type": "display_data"
    }
   ],
   "source": [
    "test_predictions"
   ]
  },
  {
   "cell_type": "code",
   "execution_count": null,
   "metadata": {},
   "outputs": [
    {
     "data": {
      "text/html": [
       "<div>\n",
       "<style scoped>\n",
       "    .dataframe tbody tr th:only-of-type {\n",
       "        vertical-align: middle;\n",
       "    }\n",
       "\n",
       "    .dataframe tbody tr th {\n",
       "        vertical-align: top;\n",
       "    }\n",
       "\n",
       "    .dataframe thead th {\n",
       "        text-align: right;\n",
       "    }\n",
       "</style>\n",
       "<table border=\"1\" class=\"dataframe\">\n",
       "  <thead>\n",
       "    <tr style=\"text-align: right;\">\n",
       "      <th></th>\n",
       "      <th>ano-mes</th>\n",
       "      <th>val_geracao</th>\n",
       "      <th>ano</th>\n",
       "      <th>mes</th>\n",
       "      <th>Predictions</th>\n",
       "    </tr>\n",
       "  </thead>\n",
       "  <tbody>\n",
       "    <tr>\n",
       "      <th>240</th>\n",
       "      <td>2020-01</td>\n",
       "      <td>10485916.57</td>\n",
       "      <td>2020</td>\n",
       "      <td>1</td>\n",
       "      <td>10172876.13</td>\n",
       "    </tr>\n",
       "    <tr>\n",
       "      <th>241</th>\n",
       "      <td>2020-02</td>\n",
       "      <td>10123038.49</td>\n",
       "      <td>2020</td>\n",
       "      <td>2</td>\n",
       "      <td>10136824.64</td>\n",
       "    </tr>\n",
       "    <tr>\n",
       "      <th>242</th>\n",
       "      <td>2020-03</td>\n",
       "      <td>10414208.90</td>\n",
       "      <td>2020</td>\n",
       "      <td>3</td>\n",
       "      <td>10097596.42</td>\n",
       "    </tr>\n",
       "    <tr>\n",
       "      <th>243</th>\n",
       "      <td>2020-04</td>\n",
       "      <td>8216977.27</td>\n",
       "      <td>2020</td>\n",
       "      <td>4</td>\n",
       "      <td>10026011.87</td>\n",
       "    </tr>\n",
       "    <tr>\n",
       "      <th>244</th>\n",
       "      <td>2020-05</td>\n",
       "      <td>8077386.46</td>\n",
       "      <td>2020</td>\n",
       "      <td>5</td>\n",
       "      <td>9804866.41</td>\n",
       "    </tr>\n",
       "    <tr>\n",
       "      <th>245</th>\n",
       "      <td>2020-06</td>\n",
       "      <td>8634235.08</td>\n",
       "      <td>2020</td>\n",
       "      <td>6</td>\n",
       "      <td>9579870.42</td>\n",
       "    </tr>\n",
       "    <tr>\n",
       "      <th>246</th>\n",
       "      <td>2020-07</td>\n",
       "      <td>10154333.57</td>\n",
       "      <td>2020</td>\n",
       "      <td>7</td>\n",
       "      <td>9575929.57</td>\n",
       "    </tr>\n",
       "    <tr>\n",
       "      <th>247</th>\n",
       "      <td>2020-08</td>\n",
       "      <td>10260306.43</td>\n",
       "      <td>2020</td>\n",
       "      <td>8</td>\n",
       "      <td>9748868.13</td>\n",
       "    </tr>\n",
       "    <tr>\n",
       "      <th>248</th>\n",
       "      <td>2020-09</td>\n",
       "      <td>11255679.29</td>\n",
       "      <td>2020</td>\n",
       "      <td>9</td>\n",
       "      <td>10139931.67</td>\n",
       "    </tr>\n",
       "    <tr>\n",
       "      <th>249</th>\n",
       "      <td>2020-10</td>\n",
       "      <td>11845207.08</td>\n",
       "      <td>2020</td>\n",
       "      <td>10</td>\n",
       "      <td>10441711.80</td>\n",
       "    </tr>\n",
       "    <tr>\n",
       "      <th>250</th>\n",
       "      <td>2020-11</td>\n",
       "      <td>11050187.94</td>\n",
       "      <td>2020</td>\n",
       "      <td>11</td>\n",
       "      <td>10368470.92</td>\n",
       "    </tr>\n",
       "    <tr>\n",
       "      <th>251</th>\n",
       "      <td>2020-12</td>\n",
       "      <td>10468392.94</td>\n",
       "      <td>2020</td>\n",
       "      <td>12</td>\n",
       "      <td>10453819.28</td>\n",
       "    </tr>\n",
       "  </tbody>\n",
       "</table>\n",
       "</div>"
      ],
      "text/plain": [
       "     ano-mes  val_geracao   ano  mes  Predictions\n",
       "240  2020-01  10485916.57  2020    1  10172876.13\n",
       "241  2020-02  10123038.49  2020    2  10136824.64\n",
       "242  2020-03  10414208.90  2020    3  10097596.42\n",
       "243  2020-04   8216977.27  2020    4  10026011.87\n",
       "244  2020-05   8077386.46  2020    5   9804866.41\n",
       "245  2020-06   8634235.08  2020    6   9579870.42\n",
       "246  2020-07  10154333.57  2020    7   9575929.57\n",
       "247  2020-08  10260306.43  2020    8   9748868.13\n",
       "248  2020-09  11255679.29  2020    9  10139931.67\n",
       "249  2020-10  11845207.08  2020   10  10441711.80\n",
       "250  2020-11  11050187.94  2020   11  10368470.92\n",
       "251  2020-12  10468392.94  2020   12  10453819.28"
      ]
     },
     "metadata": {},
     "output_type": "display_data"
    }
   ],
   "source": [
    "test.head(12)"
   ]
  },
  {
   "cell_type": "code",
   "execution_count": null,
   "metadata": {},
   "outputs": [],
   "source": [
    "true_predictions = scaler.inverse_transform(test_predictions)"
   ]
  },
  {
   "cell_type": "code",
   "execution_count": null,
   "metadata": {},
   "outputs": [
    {
     "name": "stderr",
     "output_type": "stream",
     "text": [
      "C:\\Users\\gabri\\AppData\\Local\\Temp\\ipykernel_16316\\4269337381.py:1: SettingWithCopyWarning:\n",
      "\n",
      "\n",
      "A value is trying to be set on a copy of a slice from a DataFrame.\n",
      "Try using .loc[row_indexer,col_indexer] = value instead\n",
      "\n",
      "See the caveats in the documentation: https://pandas.pydata.org/pandas-docs/stable/user_guide/indexing.html#returning-a-view-versus-a-copy\n",
      "\n"
     ]
    }
   ],
   "source": [
    "test['Predictions'] = true_predictions"
   ]
  },
  {
   "cell_type": "code",
   "execution_count": null,
   "metadata": {},
   "outputs": [
    {
     "data": {
      "text/html": [
       "<div>\n",
       "<style scoped>\n",
       "    .dataframe tbody tr th:only-of-type {\n",
       "        vertical-align: middle;\n",
       "    }\n",
       "\n",
       "    .dataframe tbody tr th {\n",
       "        vertical-align: top;\n",
       "    }\n",
       "\n",
       "    .dataframe thead th {\n",
       "        text-align: right;\n",
       "    }\n",
       "</style>\n",
       "<table border=\"1\" class=\"dataframe\">\n",
       "  <thead>\n",
       "    <tr style=\"text-align: right;\">\n",
       "      <th></th>\n",
       "      <th>ano-mes</th>\n",
       "      <th>val_geracao</th>\n",
       "      <th>ano</th>\n",
       "      <th>mes</th>\n",
       "      <th>Predictions</th>\n",
       "    </tr>\n",
       "  </thead>\n",
       "  <tbody>\n",
       "    <tr>\n",
       "      <th>240</th>\n",
       "      <td>2020-01</td>\n",
       "      <td>10485916.57</td>\n",
       "      <td>2020</td>\n",
       "      <td>1</td>\n",
       "      <td>10172876.13</td>\n",
       "    </tr>\n",
       "    <tr>\n",
       "      <th>241</th>\n",
       "      <td>2020-02</td>\n",
       "      <td>10123038.49</td>\n",
       "      <td>2020</td>\n",
       "      <td>2</td>\n",
       "      <td>10136824.64</td>\n",
       "    </tr>\n",
       "    <tr>\n",
       "      <th>242</th>\n",
       "      <td>2020-03</td>\n",
       "      <td>10414208.90</td>\n",
       "      <td>2020</td>\n",
       "      <td>3</td>\n",
       "      <td>10097596.42</td>\n",
       "    </tr>\n",
       "    <tr>\n",
       "      <th>243</th>\n",
       "      <td>2020-04</td>\n",
       "      <td>8216977.27</td>\n",
       "      <td>2020</td>\n",
       "      <td>4</td>\n",
       "      <td>10026011.87</td>\n",
       "    </tr>\n",
       "    <tr>\n",
       "      <th>244</th>\n",
       "      <td>2020-05</td>\n",
       "      <td>8077386.46</td>\n",
       "      <td>2020</td>\n",
       "      <td>5</td>\n",
       "      <td>9804866.41</td>\n",
       "    </tr>\n",
       "  </tbody>\n",
       "</table>\n",
       "</div>"
      ],
      "text/plain": [
       "     ano-mes  val_geracao   ano  mes  Predictions\n",
       "240  2020-01  10485916.57  2020    1  10172876.13\n",
       "241  2020-02  10123038.49  2020    2  10136824.64\n",
       "242  2020-03  10414208.90  2020    3  10097596.42\n",
       "243  2020-04   8216977.27  2020    4  10026011.87\n",
       "244  2020-05   8077386.46  2020    5   9804866.41"
      ]
     },
     "metadata": {},
     "output_type": "display_data"
    }
   ],
   "source": [
    "test.head()"
   ]
  },
  {
   "cell_type": "code",
   "execution_count": null,
   "metadata": {},
   "outputs": [
    {
     "data": {
      "text/plain": [
       "<Axes: >"
      ]
     },
     "metadata": {},
     "output_type": "display_data"
    },
    {
     "data": {
      "image/png": "[encoded data removed]",
      "text/plain": [
       "<Figure size 1400x500 with 1 Axes>"
      ]
     },
     "metadata": {},
     "output_type": "display_data"
    }
   ],
   "source": [
    "test.plot(figsize=(14,5))"
   ]
  },
  {
   "cell_type": "code",
   "execution_count": null,
   "metadata": {},
   "outputs": [],
   "source": [
    "def avaliando_modelo(train_y, test_y, train_predict, test_predict):\n",
    "    train_rmse = np.sqrt(keras.losses.mean_squared_error(train_y.flatten(), train_predict.flatten()))\n",
    "    # Convertendo RMSE para termos percentuais\n",
    "    train_rmse_percent = (train_rmse / np.mean(train_y.flatten())) * 100\n",
    "    print('Train Score: %.2f%% RMSE' % train_rmse_percent)\n",
    "\n",
    "    test_rmse = np.sqrt(keras.losses.mean_squared_error(test_y.flatten(), test_predict.flatten()))\n",
    "    # Convertendo RMSE para termos percentuais\n",
    "    test_rmse_percent = (test_rmse / np.mean(test_y.flatten())) * 100\n",
    "    print('Test Score: %.2f%% RMSE\\n' % test_rmse_percent)\n",
    "\n",
    "    trainScore = (keras.losses.mean_absolute_percentage_error(train_y.flatten(), train_predict.flatten()))\n",
    "    print('Train Score: %.2f%% MAPE' % (trainScore))\n",
    "    testScore = (keras.losses.mean_absolute_percentage_error(test_y.flatten() , test_predict.flatten()))\n",
    "    print('Test Score: %.2f%% MAPE' % (testScore))"
   ]
  },
  {
   "cell_type": "code",
   "execution_count": null,
   "metadata": {},
   "outputs": [
    {
     "name": "stdout",
     "output_type": "stream",
     "text": [
      "984259.8656668379\n"
     ]
    }
   ],
   "source": [
    "from sklearn.metrics import mean_squared_error\n",
    "from math import sqrt\n",
    "rmse=sqrt(mean_squared_error(test['val_geracao'],test['Predictions']))\n",
    "print(rmse)"
   ]
  },
  {
   "cell_type": "markdown",
   "metadata": {},
   "source": [
    "### TESTE 5"
   ]
  },
  {
   "cell_type": "markdown",
   "metadata": {},
   "source": [
    "# <font color='red'> 4) Modelo de predição</font>"
   ]
  },
  {
   "cell_type": "code",
   "execution_count": null,
   "metadata": {},
   "outputs": [],
   "source": [
    "import keras\n",
    "import tensorflow as tf\n",
    "\n",
    "from keras.models import Sequential \n",
    "from keras.layers import Dense \n",
    "from keras.layers import LSTM \n",
    "from keras.layers import Dropout \n",
    "from keras.callbacks import ModelCheckpoint\n",
    "from sklearn.preprocessing import MinMaxScaler\n",
    "\n",
    "\n",
    "from keras.preprocessing.sequence import TimeseriesGenerator"
   ]
  },
  {
   "cell_type": "code",
   "execution_count": null,
   "metadata": {},
   "outputs": [],
   "source": [
    "temp = data_cleaned_month['val_geracao'].values "
   ]
  },
  {
   "cell_type": "markdown",
   "metadata": {},
   "source": [
    "### 4.1) Divisão dos dados: os ultimo 24 meses correspondentes aos anos de 2019 e 2020"
   ]
  },
  {
   "cell_type": "code",
   "execution_count": null,
   "metadata": {},
   "outputs": [
    {
     "name": "stdout",
     "output_type": "stream",
     "text": [
      "Train Size : 228 Test Size : 24\n"
     ]
    }
   ],
   "source": [
    "train_size = len(temp) - 24\n",
    "test_size = 24\n",
    "print(\"Train Size :\",train_size,\"Test Size :\",test_size)\n",
    "\n",
    "train_data = temp[:228]\n",
    "test_data = temp[228:]"
   ]
  },
  {
   "cell_type": "markdown",
   "metadata": {},
   "source": [
    "### 4.2) Pré-processamento dos dados: Normalizando dados numa escala entre 0 e 1"
   ]
  },
  {
   "cell_type": "code",
   "execution_count": null,
   "metadata": {},
   "outputs": [],
   "source": [
    "scaler = MinMaxScaler(feature_range = (0,1))\n",
    "train_data_scaled = scaler.fit_transform(train_data.reshape(-1,1))\n",
    "test_data_scaled = scaler.transform(test_data.reshape(-1,1))"
   ]
  },
  {
   "cell_type": "code",
   "execution_count": null,
   "metadata": {},
   "outputs": [
    {
     "data": {
      "text/plain": [
       "(228, 1)"
      ]
     },
     "metadata": {},
     "output_type": "display_data"
    }
   ],
   "source": [
    "train_data_scaled.shape"
   ]
  },
  {
   "cell_type": "code",
   "execution_count": null,
   "metadata": {},
   "outputs": [
    {
     "data": {
      "text/plain": [
       "(24, 1)"
      ]
     },
     "metadata": {},
     "output_type": "display_data"
    }
   ],
   "source": [
    "test_data_scaled.shape"
   ]
  },
  {
   "cell_type": "markdown",
   "metadata": {},
   "source": [
    "### 4.3) Preparando séries temporais"
   ]
  },
  {
   "cell_type": "code",
   "execution_count": null,
   "metadata": {},
   "outputs": [],
   "source": [
    "time_stemp = 12\n",
    "\n",
    "generator = TimeseriesGenerator(train_data_scaled, train_data_scaled, length=time_stemp, batch_size=1)"
   ]
  },
  {
   "cell_type": "code",
   "execution_count": null,
   "metadata": {},
   "outputs": [],
   "source": [
    "def prepare_sequences(data, time_stemp):\n",
    "    data_X, data_y = [], []\n",
    "    for i in range(len(data) - time_stemp):\n",
    "        data_X.append(data[i:(i + time_stemp)])\n",
    "        data_y.append(data[i + time_stemp])\n",
    "    \n",
    "    data_X, data_y = np.array(data_X), np.array(data_y)\n",
    "\n",
    "    data_X = np.reshape(data_X, (data_X.shape[0], data_X.shape[1], 1))\n",
    "    return data_X, data_y"
   ]
  },
  {
   "cell_type": "code",
   "execution_count": null,
   "metadata": {},
   "outputs": [],
   "source": [
    "time_stemp = 12\n",
    "\n",
    "train_X, train_y = prepare_sequences(train_data_scaled, time_stemp)\n",
    "test_X, test_y = prepare_sequences(test_data_scaled, time_stemp)\n",
    "\n",
    "print(train_X.shape)\n",
    "print(train_y.shape)\n",
    "print(test_X.shape)\n",
    "print(test_y.shape)"
   ]
  },
  {
   "cell_type": "markdown",
   "metadata": {},
   "source": [
    "### 4.4) Arquitetando rede neural recorrente (LSTM)"
   ]
  },
  {
   "cell_type": "code",
   "execution_count": null,
   "metadata": {},
   "outputs": [],
   "source": [
    "# print(train_X.shape[1])"
   ]
  },
  {
   "cell_type": "code",
   "execution_count": null,
   "metadata": {},
   "outputs": [],
   "source": [
    "def create_lstm_model(time_stemp: int):\n",
    "    model = Sequential()\n",
    "    model.add(LSTM(units=50, activation=\"relu\", return_sequences=True, input_shape=(time_stemp, 1)))\n",
    "    model.add(Dropout(0.2))\n",
    "    model.add(LSTM(units=50))\n",
    "    model.add(Dense(64, activation='relu'))\n",
    "    model.add(Dense(32, activation='relu'))\n",
    "    model.add(Dropout(0.2))\n",
    "    model.add(Dense(1))\n",
    "\n",
    "    model.compile(loss='mean_squared_error', optimizer=\"adam\" )\n",
    "    return model"
   ]
  },
  {
   "cell_type": "code",
   "execution_count": null,
   "metadata": {},
   "outputs": [
    {
     "name": "stdout",
     "output_type": "stream",
     "text": [
      "Model: \"sequential_35\"\n",
      "_________________________________________________________________\n",
      " Layer (type)                Output Shape              Param #   \n",
      "=================================================================\n",
      " lstm_59 (LSTM)              (None, 12, 50)            10400     \n",
      "                                                                 \n",
      " dropout_63 (Dropout)        (None, 12, 50)            0         \n",
      "                                                                 \n",
      " lstm_60 (LSTM)              (None, 50)                20200     \n",
      "                                                                 \n",
      " dense_88 (Dense)            (None, 64)                3264      \n",
      "                                                                 \n",
      " dense_89 (Dense)            (None, 32)                2080      \n",
      "                                                                 \n",
      " dropout_64 (Dropout)        (None, 32)                0         \n",
      "                                                                 \n",
      " dense_90 (Dense)            (None, 1)                 33        \n",
      "                                                                 \n",
      "=================================================================\n",
      "Total params: 35977 (140.54 KB)\n",
      "Trainable params: 35977 (140.54 KB)\n",
      "Non-trainable params: 0 (0.00 Byte)\n",
      "_________________________________________________________________\n"
     ]
    }
   ],
   "source": [
    "model = create_lstm_model(time_stemp)\n",
    "\n",
    "model.summary()"
   ]
  },
  {
   "cell_type": "code",
   "execution_count": null,
   "metadata": {},
   "outputs": [
    {
     "name": "stdout",
     "output_type": "stream",
     "text": [
      "Epoch 1/100\n"
     ]
    },
    {
     "name": "stdout",
     "output_type": "stream",
     "text": [
      "216/216 [==============================] - 1s 4ms/step - loss: 0.0156\n",
      "Epoch 2/100\n",
      "216/216 [==============================] - 1s 4ms/step - loss: 0.0154\n",
      "Epoch 3/100\n",
      "216/216 [==============================] - 1s 4ms/step - loss: 0.0140\n",
      "Epoch 4/100\n",
      "216/216 [==============================] - 1s 4ms/step - loss: 0.0155\n",
      "Epoch 5/100\n",
      "216/216 [==============================] - 1s 4ms/step - loss: 0.0158\n",
      "Epoch 6/100\n",
      "216/216 [==============================] - 1s 4ms/step - loss: 0.0157\n",
      "Epoch 7/100\n",
      "216/216 [==============================] - 1s 4ms/step - loss: 0.0161\n",
      "Epoch 8/100\n",
      "216/216 [==============================] - 1s 4ms/step - loss: 0.0156\n",
      "Epoch 9/100\n",
      "216/216 [==============================] - 1s 4ms/step - loss: 0.0138\n",
      "Epoch 10/100\n",
      "216/216 [==============================] - 1s 4ms/step - loss: 0.0141\n",
      "Epoch 11/100\n",
      "216/216 [==============================] - 1s 4ms/step - loss: 0.0139\n",
      "Epoch 12/100\n",
      "216/216 [==============================] - 1s 4ms/step - loss: 0.0139\n",
      "Epoch 13/100\n",
      "216/216 [==============================] - 1s 4ms/step - loss: 0.0153\n",
      "Epoch 14/100\n",
      "216/216 [==============================] - 1s 4ms/step - loss: 0.0161\n",
      "Epoch 15/100\n",
      "216/216 [==============================] - 1s 4ms/step - loss: 0.0166\n",
      "Epoch 16/100\n",
      "216/216 [==============================] - 1s 4ms/step - loss: 0.0147\n",
      "Epoch 17/100\n",
      "216/216 [==============================] - 1s 4ms/step - loss: 0.0138\n",
      "Epoch 18/100\n",
      "216/216 [==============================] - 1s 4ms/step - loss: 0.0135\n",
      "Epoch 19/100\n",
      "216/216 [==============================] - 1s 4ms/step - loss: 0.0125\n",
      "Epoch 20/100\n",
      "216/216 [==============================] - 1s 4ms/step - loss: 0.0139\n",
      "Epoch 21/100\n",
      "216/216 [==============================] - 1s 4ms/step - loss: 0.0147\n",
      "Epoch 22/100\n",
      "216/216 [==============================] - 1s 4ms/step - loss: 0.0134\n",
      "Epoch 23/100\n",
      "216/216 [==============================] - 1s 4ms/step - loss: 0.0127\n",
      "Epoch 24/100\n",
      "216/216 [==============================] - 1s 4ms/step - loss: 0.0135\n",
      "Epoch 25/100\n",
      "216/216 [==============================] - 1s 4ms/step - loss: 0.0134\n",
      "Epoch 26/100\n",
      "216/216 [==============================] - 1s 4ms/step - loss: 0.0151\n",
      "Epoch 27/100\n",
      "216/216 [==============================] - 1s 4ms/step - loss: 0.0155\n",
      "Epoch 28/100\n",
      "216/216 [==============================] - 1s 4ms/step - loss: 0.0137\n",
      "Epoch 29/100\n",
      "216/216 [==============================] - 1s 4ms/step - loss: 0.0138\n",
      "Epoch 30/100\n",
      "216/216 [==============================] - 1s 4ms/step - loss: 0.0119\n",
      "Epoch 31/100\n",
      "216/216 [==============================] - 1s 4ms/step - loss: 0.0130\n",
      "Epoch 32/100\n",
      "216/216 [==============================] - 1s 4ms/step - loss: 0.0129\n",
      "Epoch 33/100\n",
      "216/216 [==============================] - 1s 4ms/step - loss: 0.0140\n",
      "Epoch 34/100\n",
      "216/216 [==============================] - 1s 4ms/step - loss: 0.0119\n",
      "Epoch 35/100\n",
      "216/216 [==============================] - 1s 4ms/step - loss: 0.0127\n",
      "Epoch 36/100\n",
      "216/216 [==============================] - 1s 4ms/step - loss: 0.0141\n",
      "Epoch 37/100\n",
      "216/216 [==============================] - 1s 4ms/step - loss: 0.0126\n",
      "Epoch 38/100\n",
      "216/216 [==============================] - 1s 4ms/step - loss: 0.0140\n",
      "Epoch 39/100\n",
      "216/216 [==============================] - 1s 4ms/step - loss: 0.0140\n",
      "Epoch 40/100\n",
      "216/216 [==============================] - 1s 4ms/step - loss: 0.0122\n",
      "Epoch 41/100\n",
      "216/216 [==============================] - 1s 4ms/step - loss: 0.0131\n",
      "Epoch 42/100\n",
      "216/216 [==============================] - 1s 4ms/step - loss: 0.0130\n",
      "Epoch 43/100\n",
      "216/216 [==============================] - 1s 4ms/step - loss: 0.0128\n",
      "Epoch 44/100\n",
      "216/216 [==============================] - 1s 4ms/step - loss: 0.0138\n",
      "Epoch 45/100\n",
      "216/216 [==============================] - 1s 4ms/step - loss: 0.0116\n",
      "Epoch 46/100\n",
      "216/216 [==============================] - 1s 4ms/step - loss: 0.0139\n",
      "Epoch 47/100\n",
      "216/216 [==============================] - 1s 4ms/step - loss: 0.0136\n",
      "Epoch 48/100\n",
      "216/216 [==============================] - 1s 4ms/step - loss: 0.0126\n",
      "Epoch 49/100\n",
      "216/216 [==============================] - 1s 4ms/step - loss: 0.0142\n",
      "Epoch 50/100\n",
      "216/216 [==============================] - 1s 4ms/step - loss: 0.0120\n",
      "Epoch 51/100\n",
      "216/216 [==============================] - 1s 4ms/step - loss: 0.0122\n",
      "Epoch 52/100\n",
      "216/216 [==============================] - 1s 4ms/step - loss: 0.0112\n",
      "Epoch 53/100\n",
      "216/216 [==============================] - 1s 4ms/step - loss: 0.0124\n",
      "Epoch 54/100\n",
      "216/216 [==============================] - 1s 4ms/step - loss: 0.0114\n",
      "Epoch 55/100\n",
      "216/216 [==============================] - 1s 4ms/step - loss: 0.0118\n",
      "Epoch 56/100\n",
      "216/216 [==============================] - 1s 4ms/step - loss: 0.0116\n",
      "Epoch 57/100\n",
      "216/216 [==============================] - 1s 4ms/step - loss: 0.0128\n",
      "Epoch 58/100\n",
      "216/216 [==============================] - 1s 4ms/step - loss: 0.0117\n",
      "Epoch 59/100\n",
      "216/216 [==============================] - 1s 4ms/step - loss: 0.0107\n",
      "Epoch 60/100\n",
      "216/216 [==============================] - 1s 4ms/step - loss: 0.0098\n",
      "Epoch 61/100\n",
      "216/216 [==============================] - 1s 4ms/step - loss: 0.0097\n",
      "Epoch 62/100\n",
      "216/216 [==============================] - 1s 4ms/step - loss: 0.0133\n",
      "Epoch 63/100\n",
      "216/216 [==============================] - 1s 4ms/step - loss: 0.0111\n",
      "Epoch 64/100\n",
      "216/216 [==============================] - 1s 4ms/step - loss: 0.0108\n",
      "Epoch 65/100\n",
      "216/216 [==============================] - 1s 4ms/step - loss: 0.0114\n",
      "Epoch 66/100\n",
      "216/216 [==============================] - 1s 4ms/step - loss: 0.0103\n",
      "Epoch 67/100\n",
      "216/216 [==============================] - 1s 4ms/step - loss: 0.0133\n",
      "Epoch 68/100\n",
      "216/216 [==============================] - 1s 4ms/step - loss: 0.0139\n",
      "Epoch 69/100\n",
      "216/216 [==============================] - 1s 4ms/step - loss: 0.0125\n",
      "Epoch 70/100\n",
      "216/216 [==============================] - 1s 4ms/step - loss: 0.0124\n",
      "Epoch 71/100\n",
      "216/216 [==============================] - 1s 4ms/step - loss: 0.0114\n",
      "Epoch 72/100\n",
      "216/216 [==============================] - 1s 4ms/step - loss: 0.0120\n",
      "Epoch 73/100\n",
      "216/216 [==============================] - 1s 4ms/step - loss: 0.0119\n",
      "Epoch 74/100\n",
      "216/216 [==============================] - 1s 4ms/step - loss: 0.0104\n",
      "Epoch 75/100\n",
      "216/216 [==============================] - 1s 4ms/step - loss: 0.0123\n",
      "Epoch 76/100\n",
      "216/216 [==============================] - 1s 4ms/step - loss: 0.0120\n",
      "Epoch 77/100\n",
      "216/216 [==============================] - 1s 4ms/step - loss: 0.0110\n",
      "Epoch 78/100\n",
      "216/216 [==============================] - 1s 4ms/step - loss: 0.0106\n",
      "Epoch 79/100\n",
      "216/216 [==============================] - 1s 4ms/step - loss: 0.0120\n",
      "Epoch 80/100\n",
      "216/216 [==============================] - 1s 4ms/step - loss: 0.0115\n",
      "Epoch 81/100\n",
      "216/216 [==============================] - 1s 4ms/step - loss: 0.0126\n",
      "Epoch 82/100\n",
      "216/216 [==============================] - 1s 4ms/step - loss: 0.0109\n",
      "Epoch 83/100\n",
      "216/216 [==============================] - 1s 4ms/step - loss: 0.0113\n",
      "Epoch 84/100\n",
      "216/216 [==============================] - 1s 4ms/step - loss: 0.0107\n",
      "Epoch 85/100\n",
      "216/216 [==============================] - 1s 4ms/step - loss: 0.0110\n",
      "Epoch 86/100\n",
      "216/216 [==============================] - 1s 4ms/step - loss: 0.0099\n",
      "Epoch 87/100\n",
      "216/216 [==============================] - 1s 4ms/step - loss: 0.0101\n",
      "Epoch 88/100\n",
      "216/216 [==============================] - 1s 4ms/step - loss: 0.0106\n",
      "Epoch 89/100\n",
      "216/216 [==============================] - 1s 4ms/step - loss: 0.0113\n",
      "Epoch 90/100\n",
      "216/216 [==============================] - 1s 4ms/step - loss: 0.0101\n",
      "Epoch 91/100\n",
      "216/216 [==============================] - 1s 4ms/step - loss: 0.0117\n",
      "Epoch 92/100\n",
      "216/216 [==============================] - 1s 4ms/step - loss: 0.0110\n",
      "Epoch 93/100\n",
      "216/216 [==============================] - 1s 4ms/step - loss: 0.0113\n",
      "Epoch 94/100\n",
      "216/216 [==============================] - 1s 4ms/step - loss: 0.0096\n",
      "Epoch 95/100\n",
      "216/216 [==============================] - 1s 4ms/step - loss: 0.0104\n",
      "Epoch 96/100\n",
      "216/216 [==============================] - 1s 4ms/step - loss: 0.0103\n",
      "Epoch 97/100\n",
      "216/216 [==============================] - 1s 4ms/step - loss: 0.0098\n",
      "Epoch 98/100\n",
      "216/216 [==============================] - 1s 4ms/step - loss: 0.0111\n",
      "Epoch 99/100\n",
      "216/216 [==============================] - 1s 4ms/step - loss: 0.0096\n",
      "Epoch 100/100\n",
      "216/216 [==============================] - 1s 4ms/step - loss: 0.0103\n"
     ]
    }
   ],
   "source": [
    "epochs = 100\n",
    "\n",
    "history = model.fit(generator, epochs = epochs, batch_size = 50, verbose=1)"
   ]
  },
  {
   "cell_type": "code",
   "execution_count": null,
   "metadata": {},
   "outputs": [
    {
     "data": {
      "application/vnd.plotly.v1+json": {
       "config": {
        "plotlyServerURL": "https://plot.ly"
       },
       "data": [
        {
         "hovertemplate": "epoch=%{x}<br>loss=%{y}<extra></extra>",
         "legendgroup": "",
         "line": {
          "color": "#636efa",
          "dash": "solid"
         },
         "marker": {
          "symbol": "circle"
         },
         "mode": "lines",
         "name": "",
         "orientation": "v",
         "showlegend": false,
         "type": "scatter",
         "x": [
          0,
          10,
          20,
          30,
          40,
          50,
          60,
          70,
          80,
          90
         ],
         "xaxis": "x",
         "y": [
          0.28750625252723694,
          0.03423521667718887,
          0.026965467259287834,
          0.027975045144557953,
          0.027111109346151352,
          0.02575710229575634,
          0.024038532748818398,
          0.020988939329981804,
          0.019583480432629585,
          0.021575650200247765
         ],
         "yaxis": "y"
        }
       ],
       "layout": {
        "height": 500,
        "legend": {
         "tracegroupgap": 0
        },
        "margin": {
         "t": 60
        },
        "template": {
         "data": {
          "bar": [
           {
            "error_x": {
             "color": "#2a3f5f"
            },
            "error_y": {
             "color": "#2a3f5f"
            },
            "marker": {
             "line": {
              "color": "#E5ECF6",
              "width": 0.5
             },
             "pattern": {
              "fillmode": "overlay",
              "size": 10,
              "solidity": 0.2
             }
            },
            "type": "bar"
           }
          ],
          "barpolar": [
           {
            "marker": {
             "line": {
              "color": "#E5ECF6",
              "width": 0.5
             },
             "pattern": {
              "fillmode": "overlay",
              "size": 10,
              "solidity": 0.2
             }
            },
            "type": "barpolar"
           }
          ],
          "carpet": [
           {
            "aaxis": {
             "endlinecolor": "#2a3f5f",
             "gridcolor": "white",
             "linecolor": "white",
             "minorgridcolor": "white",
             "startlinecolor": "#2a3f5f"
            },
            "baxis": {
             "endlinecolor": "#2a3f5f",
             "gridcolor": "white",
             "linecolor": "white",
             "minorgridcolor": "white",
             "startlinecolor": "#2a3f5f"
            },
            "type": "carpet"
           }
          ],
          "choropleth": [
           {
            "colorbar": {
             "outlinewidth": 0,
             "ticks": ""
            },
            "type": "choropleth"
           }
          ],
          "contour": [
           {
            "colorbar": {
             "outlinewidth": 0,
             "ticks": ""
            },
            "colorscale": [
             [
              0,
              "#0d0887"
             ],
             [
              0.1111111111111111,
              "#46039f"
             ],
             [
              0.2222222222222222,
              "#7201a8"
             ],
             [
              0.3333333333333333,
              "#9c179e"
             ],
             [
              0.4444444444444444,
              "#bd3786"
             ],
             [
              0.5555555555555556,
              "#d8576b"
             ],
             [
              0.6666666666666666,
              "#ed7953"
             ],
             [
              0.7777777777777778,
              "#fb9f3a"
             ],
             [
              0.8888888888888888,
              "#fdca26"
             ],
             [
              1,
              "#f0f921"
             ]
            ],
            "type": "contour"
           }
          ],
          "contourcarpet": [
           {
            "colorbar": {
             "outlinewidth": 0,
             "ticks": ""
            },
            "type": "contourcarpet"
           }
          ],
          "heatmap": [
           {
            "colorbar": {
             "outlinewidth": 0,
             "ticks": ""
            },
            "colorscale": [
             [
              0,
              "#0d0887"
             ],
             [
              0.1111111111111111,
              "#46039f"
             ],
             [
              0.2222222222222222,
              "#7201a8"
             ],
             [
              0.3333333333333333,
              "#9c179e"
             ],
             [
              0.4444444444444444,
              "#bd3786"
             ],
             [
              0.5555555555555556,
              "#d8576b"
             ],
             [
              0.6666666666666666,
              "#ed7953"
             ],
             [
              0.7777777777777778,
              "#fb9f3a"
             ],
             [
              0.8888888888888888,
              "#fdca26"
             ],
             [
              1,
              "#f0f921"
             ]
            ],
            "type": "heatmap"
           }
          ],
          "heatmapgl": [
           {
            "colorbar": {
             "outlinewidth": 0,
             "ticks": ""
            },
            "colorscale": [
             [
              0,
              "#0d0887"
             ],
             [
              0.1111111111111111,
              "#46039f"
             ],
             [
              0.2222222222222222,
              "#7201a8"
             ],
             [
              0.3333333333333333,
              "#9c179e"
             ],
             [
              0.4444444444444444,
              "#bd3786"
             ],
             [
              0.5555555555555556,
              "#d8576b"
             ],
             [
              0.6666666666666666,
              "#ed7953"
             ],
             [
              0.7777777777777778,
              "#fb9f3a"
             ],
             [
              0.8888888888888888,
              "#fdca26"
             ],
             [
              1,
              "#f0f921"
             ]
            ],
            "type": "heatmapgl"
           }
          ],
          "histogram": [
           {
            "marker": {
             "pattern": {
              "fillmode": "overlay",
              "size": 10,
              "solidity": 0.2
             }
            },
            "type": "histogram"
           }
          ],
          "histogram2d": [
           {
            "colorbar": {
             "outlinewidth": 0,
             "ticks": ""
            },
            "colorscale": [
             [
              0,
              "#0d0887"
             ],
             [
              0.1111111111111111,
              "#46039f"
             ],
             [
              0.2222222222222222,
              "#7201a8"
             ],
             [
              0.3333333333333333,
              "#9c179e"
             ],
             [
              0.4444444444444444,
              "#bd3786"
             ],
             [
              0.5555555555555556,
              "#d8576b"
             ],
             [
              0.6666666666666666,
              "#ed7953"
             ],
             [
              0.7777777777777778,
              "#fb9f3a"
             ],
             [
              0.8888888888888888,
              "#fdca26"
             ],
             [
              1,
              "#f0f921"
             ]
            ],
            "type": "histogram2d"
           }
          ],
          "histogram2dcontour": [
           {
            "colorbar": {
             "outlinewidth": 0,
             "ticks": ""
            },
            "colorscale": [
             [
              0,
              "#0d0887"
             ],
             [
              0.1111111111111111,
              "#46039f"
             ],
             [
              0.2222222222222222,
              "#7201a8"
             ],
             [
              0.3333333333333333,
              "#9c179e"
             ],
             [
              0.4444444444444444,
              "#bd3786"
             ],
             [
              0.5555555555555556,
              "#d8576b"
             ],
             [
              0.6666666666666666,
              "#ed7953"
             ],
             [
              0.7777777777777778,
              "#fb9f3a"
             ],
             [
              0.8888888888888888,
              "#fdca26"
             ],
             [
              1,
              "#f0f921"
             ]
            ],
            "type": "histogram2dcontour"
           }
          ],
          "mesh3d": [
           {
            "colorbar": {
             "outlinewidth": 0,
             "ticks": ""
            },
            "type": "mesh3d"
           }
          ],
          "parcoords": [
           {
            "line": {
             "colorbar": {
              "outlinewidth": 0,
              "ticks": ""
             }
            },
            "type": "parcoords"
           }
          ],
          "pie": [
           {
            "automargin": true,
            "type": "pie"
           }
          ],
          "scatter": [
           {
            "fillpattern": {
             "fillmode": "overlay",
             "size": 10,
             "solidity": 0.2
            },
            "type": "scatter"
           }
          ],
          "scatter3d": [
           {
            "line": {
             "colorbar": {
              "outlinewidth": 0,
              "ticks": ""
             }
            },
            "marker": {
             "colorbar": {
              "outlinewidth": 0,
              "ticks": ""
             }
            },
            "type": "scatter3d"
           }
          ],
          "scattercarpet": [
           {
            "marker": {
             "colorbar": {
              "outlinewidth": 0,
              "ticks": ""
             }
            },
            "type": "scattercarpet"
           }
          ],
          "scattergeo": [
           {
            "marker": {
             "colorbar": {
              "outlinewidth": 0,
              "ticks": ""
             }
            },
            "type": "scattergeo"
           }
          ],
          "scattergl": [
           {
            "marker": {
             "colorbar": {
              "outlinewidth": 0,
              "ticks": ""
             }
            },
            "type": "scattergl"
           }
          ],
          "scattermapbox": [
           {
            "marker": {
             "colorbar": {
              "outlinewidth": 0,
              "ticks": ""
             }
            },
            "type": "scattermapbox"
           }
          ],
          "scatterpolar": [
           {
            "marker": {
             "colorbar": {
              "outlinewidth": 0,
              "ticks": ""
             }
            },
            "type": "scatterpolar"
           }
          ],
          "scatterpolargl": [
           {
            "marker": {
             "colorbar": {
              "outlinewidth": 0,
              "ticks": ""
             }
            },
            "type": "scatterpolargl"
           }
          ],
          "scatterternary": [
           {
            "marker": {
             "colorbar": {
              "outlinewidth": 0,
              "ticks": ""
             }
            },
            "type": "scatterternary"
           }
          ],
          "surface": [
           {
            "colorbar": {
             "outlinewidth": 0,
             "ticks": ""
            },
            "colorscale": [
             [
              0,
              "#0d0887"
             ],
             [
              0.1111111111111111,
              "#46039f"
             ],
             [
              0.2222222222222222,
              "#7201a8"
             ],
             [
              0.3333333333333333,
              "#9c179e"
             ],
             [
              0.4444444444444444,
              "#bd3786"
             ],
             [
              0.5555555555555556,
              "#d8576b"
             ],
             [
              0.6666666666666666,
              "#ed7953"
             ],
             [
              0.7777777777777778,
              "#fb9f3a"
             ],
             [
              0.8888888888888888,
              "#fdca26"
             ],
             [
              1,
              "#f0f921"
             ]
            ],
            "type": "surface"
           }
          ],
          "table": [
           {
            "cells": {
             "fill": {
              "color": "#EBF0F8"
             },
             "line": {
              "color": "white"
             }
            },
            "header": {
             "fill": {
              "color": "#C8D4E3"
             },
             "line": {
              "color": "white"
             }
            },
            "type": "table"
           }
          ]
         },
         "layout": {
          "annotationdefaults": {
           "arrowcolor": "#2a3f5f",
           "arrowhead": 0,
           "arrowwidth": 1
          },
          "autotypenumbers": "strict",
          "coloraxis": {
           "colorbar": {
            "outlinewidth": 0,
            "ticks": ""
           }
          },
          "colorscale": {
           "diverging": [
            [
             0,
             "#8e0152"
            ],
            [
             0.1,
             "#c51b7d"
            ],
            [
             0.2,
             "#de77ae"
            ],
            [
             0.3,
             "#f1b6da"
            ],
            [
             0.4,
             "#fde0ef"
            ],
            [
             0.5,
             "#f7f7f7"
            ],
            [
             0.6,
             "#e6f5d0"
            ],
            [
             0.7,
             "#b8e186"
            ],
            [
             0.8,
             "#7fbc41"
            ],
            [
             0.9,
             "#4d9221"
            ],
            [
             1,
             "#276419"
            ]
           ],
           "sequential": [
            [
             0,
             "#0d0887"
            ],
            [
             0.1111111111111111,
             "#46039f"
            ],
            [
             0.2222222222222222,
             "#7201a8"
            ],
            [
             0.3333333333333333,
             "#9c179e"
            ],
            [
             0.4444444444444444,
             "#bd3786"
            ],
            [
             0.5555555555555556,
             "#d8576b"
            ],
            [
             0.6666666666666666,
             "#ed7953"
            ],
            [
             0.7777777777777778,
             "#fb9f3a"
            ],
            [
             0.8888888888888888,
             "#fdca26"
            ],
            [
             1,
             "#f0f921"
            ]
           ],
           "sequentialminus": [
            [
             0,
             "#0d0887"
            ],
            [
             0.1111111111111111,
             "#46039f"
            ],
            [
             0.2222222222222222,
             "#7201a8"
            ],
            [
             0.3333333333333333,
             "#9c179e"
            ],
            [
             0.4444444444444444,
             "#bd3786"
            ],
            [
             0.5555555555555556,
             "#d8576b"
            ],
            [
             0.6666666666666666,
             "#ed7953"
            ],
            [
             0.7777777777777778,
             "#fb9f3a"
            ],
            [
             0.8888888888888888,
             "#fdca26"
            ],
            [
             1,
             "#f0f921"
            ]
           ]
          },
          "colorway": [
           "#636efa",
           "#EF553B",
           "#00cc96",
           "#ab63fa",
           "#FFA15A",
           "#19d3f3",
           "#FF6692",
           "#B6E880",
           "#FF97FF",
           "#FECB52"
          ],
          "font": {
           "color": "#2a3f5f"
          },
          "geo": {
           "bgcolor": "white",
           "lakecolor": "white",
           "landcolor": "#E5ECF6",
           "showlakes": true,
           "showland": true,
           "subunitcolor": "white"
          },
          "hoverlabel": {
           "align": "left"
          },
          "hovermode": "closest",
          "mapbox": {
           "style": "light"
          },
          "paper_bgcolor": "white",
          "plot_bgcolor": "#E5ECF6",
          "polar": {
           "angularaxis": {
            "gridcolor": "white",
            "linecolor": "white",
            "ticks": ""
           },
           "bgcolor": "#E5ECF6",
           "radialaxis": {
            "gridcolor": "white",
            "linecolor": "white",
            "ticks": ""
           }
          },
          "scene": {
           "xaxis": {
            "backgroundcolor": "#E5ECF6",
            "gridcolor": "white",
            "gridwidth": 2,
            "linecolor": "white",
            "showbackground": true,
            "ticks": "",
            "zerolinecolor": "white"
           },
           "yaxis": {
            "backgroundcolor": "#E5ECF6",
            "gridcolor": "white",
            "gridwidth": 2,
            "linecolor": "white",
            "showbackground": true,
            "ticks": "",
            "zerolinecolor": "white"
           },
           "zaxis": {
            "backgroundcolor": "#E5ECF6",
            "gridcolor": "white",
            "gridwidth": 2,
            "linecolor": "white",
            "showbackground": true,
            "ticks": "",
            "zerolinecolor": "white"
           }
          },
          "shapedefaults": {
           "line": {
            "color": "#2a3f5f"
           }
          },
          "ternary": {
           "aaxis": {
            "gridcolor": "white",
            "linecolor": "white",
            "ticks": ""
           },
           "baxis": {
            "gridcolor": "white",
            "linecolor": "white",
            "ticks": ""
           },
           "bgcolor": "#E5ECF6",
           "caxis": {
            "gridcolor": "white",
            "linecolor": "white",
            "ticks": ""
           }
          },
          "title": {
           "x": 0.05
          },
          "xaxis": {
           "automargin": true,
           "gridcolor": "white",
           "linecolor": "white",
           "ticks": "",
           "title": {
            "standoff": 15
           },
           "zerolinecolor": "white",
           "zerolinewidth": 2
          },
          "yaxis": {
           "automargin": true,
           "gridcolor": "white",
           "linecolor": "white",
           "ticks": "",
           "title": {
            "standoff": 15
           },
           "zerolinecolor": "white",
           "zerolinewidth": 2
          }
         }
        },
        "width": 1200,
        "xaxis": {
         "anchor": "y",
         "domain": [
          0,
          1
         ],
         "title": {
          "text": "epoch"
         }
        },
        "yaxis": {
         "anchor": "x",
         "domain": [
          0,
          1
         ],
         "title": {
          "text": "loss"
         }
        }
       }
      }
     },
     "metadata": {},
     "output_type": "display_data"
    }
   ],
   "source": [
    "epoch = np.arange(0, epochs, 10)\n",
    "losses = []\n",
    "for i in epoch:\n",
    "    if i % 10 == 0:\n",
    "        losses.append(history.history[\"loss\"][i])\n",
    "        \n",
    "data = {\"epoch\":epoch,\"loss\":losses}\n",
    "data = pd.DataFrame(data) \n",
    "\n",
    "fig = px.line(data,x=\"epoch\",y=\"loss\",width = 1200, height = 500)\n",
    "fig.show()"
   ]
  },
  {
   "cell_type": "markdown",
   "metadata": {},
   "source": [
    "# <font color='red'> 5) Avaliação do modelo</font>"
   ]
  },
  {
   "cell_type": "markdown",
   "metadata": {},
   "source": [
    "### 5.1) Predição dos dados de treino e teste"
   ]
  },
  {
   "cell_type": "code",
   "execution_count": null,
   "metadata": {},
   "outputs": [],
   "source": [
    "def data_prediction(model, train_X, test_X, train_y, test_y):\n",
    "    train_predict = model.predict(train_X)\n",
    "    test_predict = model.predict(test_X)\n",
    "\n",
    "    train_predict = scaler.inverse_transform(train_predict)\n",
    "    test_predict = scaler.inverse_transform(test_predict)\n",
    "\n",
    "    train_y = np.reshape(train_y, (-1, 1))\n",
    "    test_y = np.reshape(test_y, (-1, 1))\n",
    "\n",
    "    train_y = scaler.inverse_transform(train_y)\n",
    "    test_y = scaler.inverse_transform(test_y)\n",
    "\n",
    "    return train_predict, test_predict, train_y, test_y"
   ]
  },
  {
   "cell_type": "code",
   "execution_count": null,
   "metadata": {},
   "outputs": [
    {
     "name": "stdout",
     "output_type": "stream",
     "text": [
      "7/7 [==============================] - 0s 2ms/step\n",
      "1/1 [==============================] - 0s 14ms/step\n"
     ]
    }
   ],
   "source": [
    "train_predict, test_predict, train_y, test_y = data_prediction(model, train_X, test_X, train_y, test_y)"
   ]
  },
  {
   "cell_type": "markdown",
   "metadata": {},
   "source": [
    "### 5.2) Erro Percentual Absoluto Médio"
   ]
  },
  {
   "cell_type": "code",
   "execution_count": null,
   "metadata": {},
   "outputs": [],
   "source": [
    "def avaliando_modelo(train_y, test_y, train_predict, test_predict):\n",
    "    train_rmse = np.sqrt(keras.losses.mean_squared_error(train_y.flatten(), train_predict.flatten()))\n",
    "    # Convertendo RMSE para termos percentuais\n",
    "    train_rmse_percent = (train_rmse / np.mean(train_y.flatten())) * 100\n",
    "    print('Train Score: %.2f%% RMSE' % train_rmse_percent)\n",
    "\n",
    "    test_rmse = np.sqrt(keras.losses.mean_squared_error(test_y.flatten(), test_predict.flatten()))\n",
    "    # Convertendo RMSE para termos percentuais\n",
    "    test_rmse_percent = (test_rmse / np.mean(test_y.flatten())) * 100\n",
    "    print('Test Score: %.2f%% RMSE\\n' % test_rmse_percent)\n",
    "\n",
    "    trainScore = (keras.losses.mean_absolute_percentage_error(train_y.flatten(), train_predict.flatten()))\n",
    "    print('Train Score: %.2f%% MAPE' % (trainScore))\n",
    "    testScore = (keras.losses.mean_absolute_percentage_error(test_y.flatten() , test_predict.flatten()))\n",
    "    print('Test Score: %.2f%% MAPE' % (testScore))"
   ]
  },
  {
   "cell_type": "code",
   "execution_count": null,
   "metadata": {},
   "outputs": [
    {
     "name": "stdout",
     "output_type": "stream",
     "text": [
      "Train Score: 10.38% RMSE\n",
      "Test Score: 12.46% RMSE\n",
      "\n",
      "Train Score: 8.90% MAPE\n",
      "Test Score: 10.50% MAPE\n"
     ]
    }
   ],
   "source": [
    "avaliando_modelo(train_y, test_y, train_predict, test_predict)"
   ]
  },
  {
   "cell_type": "markdown",
   "metadata": {},
   "source": [
    "### 5.3) Plotando gráfico de predição "
   ]
  },
  {
   "cell_type": "code",
   "execution_count": null,
   "metadata": {},
   "outputs": [
    {
     "ename": "ValueError",
     "evalue": "x and y must have same first dimension, but have shapes (216,) and (1,)",
     "output_type": "error",
     "traceback": [
      "\u001b[1;31m---------------------------------------------------------------------------\u001b[0m\n",
      "\u001b[1;31mValueError\u001b[0m                                Traceback (most recent call last)\n",
      "Cell \u001b[1;32mIn[480], line 2\u001b[0m\n",
      "\u001b[0;32m      1\u001b[0m plt\u001b[38;5;241m.\u001b[39mfigure(figsize\u001b[38;5;241m=\u001b[39m(\u001b[38;5;241m12\u001b[39m, \u001b[38;5;241m6\u001b[39m))\n",
      "\u001b[1;32m----> 2\u001b[0m \u001b[43mplt\u001b[49m\u001b[38;5;241;43m.\u001b[39;49m\u001b[43mplot\u001b[49m\u001b[43m(\u001b[49m\u001b[43mdata_cleaned_month\u001b[49m\u001b[38;5;241;43m.\u001b[39;49m\u001b[43mindex\u001b[49m\u001b[43m[\u001b[49m\u001b[43m:\u001b[49m\u001b[38;5;28;43mlen\u001b[39;49m\u001b[43m(\u001b[49m\u001b[43mtrain_predict\u001b[49m\u001b[43m)\u001b[49m\u001b[43m]\u001b[49m\u001b[43m,\u001b[49m\u001b[43m \u001b[49m\u001b[43mtrain_y\u001b[49m\u001b[43m[\u001b[49m\u001b[38;5;241;43m0\u001b[39;49m\u001b[43m]\u001b[49m\u001b[43m,\u001b[49m\u001b[43m \u001b[49m\u001b[43mlabel\u001b[49m\u001b[38;5;241;43m=\u001b[39;49m\u001b[38;5;124;43m'\u001b[39;49m\u001b[38;5;124;43mReal (Treinamento)\u001b[39;49m\u001b[38;5;124;43m'\u001b[39;49m\u001b[43m,\u001b[49m\u001b[43m \u001b[49m\u001b[43mcolor\u001b[49m\u001b[38;5;241;43m=\u001b[39;49m\u001b[38;5;124;43m'\u001b[39;49m\u001b[38;5;124;43mblue\u001b[39;49m\u001b[38;5;124;43m'\u001b[39;49m\u001b[43m)\u001b[49m\n",
      "\u001b[0;32m      3\u001b[0m plt\u001b[38;5;241m.\u001b[39mplot(data_cleaned_month\u001b[38;5;241m.\u001b[39mindex[:\u001b[38;5;28mlen\u001b[39m(train_predict)], train_predict[:, \u001b[38;5;241m0\u001b[39m], label\u001b[38;5;241m=\u001b[39m\u001b[38;5;124m'\u001b[39m\u001b[38;5;124mPrevisto (Treinamento)\u001b[39m\u001b[38;5;124m'\u001b[39m, color\u001b[38;5;241m=\u001b[39m\u001b[38;5;124m'\u001b[39m\u001b[38;5;124morange\u001b[39m\u001b[38;5;124m'\u001b[39m, linestyle\u001b[38;5;241m=\u001b[39m\u001b[38;5;124m'\u001b[39m\u001b[38;5;124mdashed\u001b[39m\u001b[38;5;124m'\u001b[39m)\n",
      "\u001b[0;32m      4\u001b[0m \u001b[38;5;66;03m# plt.plot(output_data.index[len(train_predict):len(train_predict) + len(test_predict)], test_y[0], label='Real (Teste)', color='green')\u001b[39;00m\n",
      "\u001b[0;32m      5\u001b[0m \u001b[38;5;66;03m# plt.plot(output_data.index[len(train_predict):len(train_predict) + len(test_predict)], test_predict[:, 0], label='Previsto (Teste)', color='red', linestyle='dashed')\u001b[39;00m\n",
      "\n",
      "File \u001b[1;32m~\\AppData\\Local\\Packages\\PythonSoftwareFoundation.Python.3.10_qbz5n2kfra8p0\\LocalCache\\local-packages\\Python310\\site-packages\\matplotlib\\pyplot.py:2812\u001b[0m, in \u001b[0;36mplot\u001b[1;34m(scalex, scaley, data, *args, **kwargs)\u001b[0m\n",
      "\u001b[0;32m   2810\u001b[0m \u001b[38;5;129m@_copy_docstring_and_deprecators\u001b[39m(Axes\u001b[38;5;241m.\u001b[39mplot)\n",
      "\u001b[0;32m   2811\u001b[0m \u001b[38;5;28;01mdef\u001b[39;00m \u001b[38;5;21mplot\u001b[39m(\u001b[38;5;241m*\u001b[39margs, scalex\u001b[38;5;241m=\u001b[39m\u001b[38;5;28;01mTrue\u001b[39;00m, scaley\u001b[38;5;241m=\u001b[39m\u001b[38;5;28;01mTrue\u001b[39;00m, data\u001b[38;5;241m=\u001b[39m\u001b[38;5;28;01mNone\u001b[39;00m, \u001b[38;5;241m*\u001b[39m\u001b[38;5;241m*\u001b[39mkwargs):\n",
      "\u001b[1;32m-> 2812\u001b[0m     \u001b[38;5;28;01mreturn\u001b[39;00m gca()\u001b[38;5;241m.\u001b[39mplot(\n",
      "\u001b[0;32m   2813\u001b[0m         \u001b[38;5;241m*\u001b[39margs, scalex\u001b[38;5;241m=\u001b[39mscalex, scaley\u001b[38;5;241m=\u001b[39mscaley,\n",
      "\u001b[0;32m   2814\u001b[0m         \u001b[38;5;241m*\u001b[39m\u001b[38;5;241m*\u001b[39m({\u001b[38;5;124m\"\u001b[39m\u001b[38;5;124mdata\u001b[39m\u001b[38;5;124m\"\u001b[39m: data} \u001b[38;5;28;01mif\u001b[39;00m data \u001b[38;5;129;01mis\u001b[39;00m \u001b[38;5;129;01mnot\u001b[39;00m \u001b[38;5;28;01mNone\u001b[39;00m \u001b[38;5;28;01melse\u001b[39;00m {}), \u001b[38;5;241m*\u001b[39m\u001b[38;5;241m*\u001b[39mkwargs)\n",
      "\n",
      "File \u001b[1;32m~\\AppData\\Local\\Packages\\PythonSoftwareFoundation.Python.3.10_qbz5n2kfra8p0\\LocalCache\\local-packages\\Python310\\site-packages\\matplotlib\\axes\\_axes.py:1688\u001b[0m, in \u001b[0;36mAxes.plot\u001b[1;34m(self, scalex, scaley, data, *args, **kwargs)\u001b[0m\n",
      "\u001b[0;32m   1445\u001b[0m \u001b[38;5;250m\u001b[39m\u001b[38;5;124;03m\"\"\"\u001b[39;00m\n",
      "\u001b[0;32m   1446\u001b[0m \u001b[38;5;124;03mPlot y versus x as lines and/or markers.\u001b[39;00m\n",
      "\u001b[0;32m   1447\u001b[0m \n",
      "\u001b[1;32m   (...)\u001b[0m\n",
      "\u001b[0;32m   1685\u001b[0m \u001b[38;5;124;03m(``'green'``) or hex strings (``'#008000'``).\u001b[39;00m\n",
      "\u001b[0;32m   1686\u001b[0m \u001b[38;5;124;03m\"\"\"\u001b[39;00m\n",
      "\u001b[0;32m   1687\u001b[0m kwargs \u001b[38;5;241m=\u001b[39m cbook\u001b[38;5;241m.\u001b[39mnormalize_kwargs(kwargs, mlines\u001b[38;5;241m.\u001b[39mLine2D)\n",
      "\u001b[1;32m-> 1688\u001b[0m lines \u001b[38;5;241m=\u001b[39m [\u001b[38;5;241m*\u001b[39m\u001b[38;5;28mself\u001b[39m\u001b[38;5;241m.\u001b[39m_get_lines(\u001b[38;5;241m*\u001b[39margs, data\u001b[38;5;241m=\u001b[39mdata, \u001b[38;5;241m*\u001b[39m\u001b[38;5;241m*\u001b[39mkwargs)]\n",
      "\u001b[0;32m   1689\u001b[0m \u001b[38;5;28;01mfor\u001b[39;00m line \u001b[38;5;129;01min\u001b[39;00m lines:\n",
      "\u001b[0;32m   1690\u001b[0m     \u001b[38;5;28mself\u001b[39m\u001b[38;5;241m.\u001b[39madd_line(line)\n",
      "\n",
      "File \u001b[1;32m~\\AppData\\Local\\Packages\\PythonSoftwareFoundation.Python.3.10_qbz5n2kfra8p0\\LocalCache\\local-packages\\Python310\\site-packages\\matplotlib\\axes\\_base.py:311\u001b[0m, in \u001b[0;36m_process_plot_var_args.__call__\u001b[1;34m(self, data, *args, **kwargs)\u001b[0m\n",
      "\u001b[0;32m    309\u001b[0m     this \u001b[38;5;241m+\u001b[39m\u001b[38;5;241m=\u001b[39m args[\u001b[38;5;241m0\u001b[39m],\n",
      "\u001b[0;32m    310\u001b[0m     args \u001b[38;5;241m=\u001b[39m args[\u001b[38;5;241m1\u001b[39m:]\n",
      "\u001b[1;32m--> 311\u001b[0m \u001b[38;5;28;01myield from\u001b[39;00m \u001b[38;5;28;43mself\u001b[39;49m\u001b[38;5;241;43m.\u001b[39;49m\u001b[43m_plot_args\u001b[49m\u001b[43m(\u001b[49m\n",
      "\u001b[0;32m    312\u001b[0m \u001b[43m    \u001b[49m\u001b[43mthis\u001b[49m\u001b[43m,\u001b[49m\u001b[43m \u001b[49m\u001b[43mkwargs\u001b[49m\u001b[43m,\u001b[49m\u001b[43m \u001b[49m\u001b[43mambiguous_fmt_datakey\u001b[49m\u001b[38;5;241;43m=\u001b[39;49m\u001b[43mambiguous_fmt_datakey\u001b[49m\u001b[43m)\u001b[49m\n",
      "\n",
      "File \u001b[1;32m~\\AppData\\Local\\Packages\\PythonSoftwareFoundation.Python.3.10_qbz5n2kfra8p0\\LocalCache\\local-packages\\Python310\\site-packages\\matplotlib\\axes\\_base.py:504\u001b[0m, in \u001b[0;36m_process_plot_var_args._plot_args\u001b[1;34m(self, tup, kwargs, return_kwargs, ambiguous_fmt_datakey)\u001b[0m\n",
      "\u001b[0;32m    501\u001b[0m     \u001b[38;5;28mself\u001b[39m\u001b[38;5;241m.\u001b[39maxes\u001b[38;5;241m.\u001b[39myaxis\u001b[38;5;241m.\u001b[39mupdate_units(y)\n",
      "\u001b[0;32m    503\u001b[0m \u001b[38;5;28;01mif\u001b[39;00m x\u001b[38;5;241m.\u001b[39mshape[\u001b[38;5;241m0\u001b[39m] \u001b[38;5;241m!=\u001b[39m y\u001b[38;5;241m.\u001b[39mshape[\u001b[38;5;241m0\u001b[39m]:\n",
      "\u001b[1;32m--> 504\u001b[0m     \u001b[38;5;28;01mraise\u001b[39;00m \u001b[38;5;167;01mValueError\u001b[39;00m(\u001b[38;5;124mf\u001b[39m\u001b[38;5;124m\"\u001b[39m\u001b[38;5;124mx and y must have same first dimension, but \u001b[39m\u001b[38;5;124m\"\u001b[39m\n",
      "\u001b[0;32m    505\u001b[0m                      \u001b[38;5;124mf\u001b[39m\u001b[38;5;124m\"\u001b[39m\u001b[38;5;124mhave shapes \u001b[39m\u001b[38;5;132;01m{\u001b[39;00mx\u001b[38;5;241m.\u001b[39mshape\u001b[38;5;132;01m}\u001b[39;00m\u001b[38;5;124m and \u001b[39m\u001b[38;5;132;01m{\u001b[39;00my\u001b[38;5;241m.\u001b[39mshape\u001b[38;5;132;01m}\u001b[39;00m\u001b[38;5;124m\"\u001b[39m)\n",
      "\u001b[0;32m    506\u001b[0m \u001b[38;5;28;01mif\u001b[39;00m x\u001b[38;5;241m.\u001b[39mndim \u001b[38;5;241m>\u001b[39m \u001b[38;5;241m2\u001b[39m \u001b[38;5;129;01mor\u001b[39;00m y\u001b[38;5;241m.\u001b[39mndim \u001b[38;5;241m>\u001b[39m \u001b[38;5;241m2\u001b[39m:\n",
      "\u001b[0;32m    507\u001b[0m     \u001b[38;5;28;01mraise\u001b[39;00m \u001b[38;5;167;01mValueError\u001b[39;00m(\u001b[38;5;124mf\u001b[39m\u001b[38;5;124m\"\u001b[39m\u001b[38;5;124mx and y can be no greater than 2D, but have \u001b[39m\u001b[38;5;124m\"\u001b[39m\n",
      "\u001b[0;32m    508\u001b[0m                      \u001b[38;5;124mf\u001b[39m\u001b[38;5;124m\"\u001b[39m\u001b[38;5;124mshapes \u001b[39m\u001b[38;5;132;01m{\u001b[39;00mx\u001b[38;5;241m.\u001b[39mshape\u001b[38;5;132;01m}\u001b[39;00m\u001b[38;5;124m and \u001b[39m\u001b[38;5;132;01m{\u001b[39;00my\u001b[38;5;241m.\u001b[39mshape\u001b[38;5;132;01m}\u001b[39;00m\u001b[38;5;124m\"\u001b[39m)\n",
      "\n",
      "\u001b[1;31mValueError\u001b[0m: x and y must have same first dimension, but have shapes (216,) and (1,)"
     ]
    },
    {
     "data": {
      "image/png": "[encoded data removed]",
      "text/plain": [
       "<Figure size 1200x600 with 1 Axes>"
      ]
     },
     "metadata": {},
     "output_type": "display_data"
    }
   ],
   "source": [
    "plt.figure(figsize=(12, 6))\n",
    "plt.plot(data_cleaned_month.index[:len(train_predict)], train_y[0], label='Real (Treinamento)', color='blue')\n",
    "plt.plot(data_cleaned_month.index[:len(train_predict)], train_predict[:, 0], label='Previsto (Treinamento)', color='orange', linestyle='dashed')\n",
    "# plt.plot(output_data.index[len(train_predict):len(train_predict) + len(test_predict)], test_y[0], label='Real (Teste)', color='green')\n",
    "# plt.plot(output_data.index[len(train_predict):len(train_predict) + len(test_predict)], test_predict[:, 0], label='Previsto (Teste)', color='red', linestyle='dashed')\n",
    "plt.xlabel('Data')\n",
    "plt.ylabel('Produção de Energia (original scale)')\n",
    "plt.title('Previsões da Produção de Energia com LSTM')\n",
    "plt.legend()\n",
    "plt.show()"
   ]
  },
  {
   "cell_type": "code",
   "execution_count": null,
   "metadata": {},
   "outputs": [
    {
     "ename": "ValueError",
     "evalue": "x and y must have same first dimension, but have shapes (23,) and (1,)",
     "output_type": "error",
     "traceback": [
      "\u001b[1;31m---------------------------------------------------------------------------\u001b[0m\n",
      "\u001b[1;31mValueError\u001b[0m                                Traceback (most recent call last)\n",
      "Cell \u001b[1;32mIn[383], line 4\u001b[0m\n",
      "\u001b[0;32m      1\u001b[0m plt\u001b[38;5;241m.\u001b[39mfigure(figsize\u001b[38;5;241m=\u001b[39m(\u001b[38;5;241m12\u001b[39m, \u001b[38;5;241m6\u001b[39m))\n",
      "\u001b[0;32m      2\u001b[0m \u001b[38;5;66;03m# plt.plot(output_data.index[:len(train_predict)], train_y[0], label='Real (Treinamento)', color='blue')\u001b[39;00m\n",
      "\u001b[0;32m      3\u001b[0m \u001b[38;5;66;03m# plt.plot(output_data.index[:len(train_predict)], train_predict[:, 0], label='Previsto (Treinamento)', color='orange', linestyle='dashed')\u001b[39;00m\n",
      "\u001b[1;32m----> 4\u001b[0m \u001b[43mplt\u001b[49m\u001b[38;5;241;43m.\u001b[39;49m\u001b[43mplot\u001b[49m\u001b[43m(\u001b[49m\u001b[43mdata_cleaned_month\u001b[49m\u001b[38;5;241;43m.\u001b[39;49m\u001b[43mindex\u001b[49m\u001b[43m[\u001b[49m\u001b[38;5;28;43mlen\u001b[39;49m\u001b[43m(\u001b[49m\u001b[43mtrain_predict\u001b[49m\u001b[43m)\u001b[49m\u001b[43m:\u001b[49m\u001b[38;5;28;43mlen\u001b[39;49m\u001b[43m(\u001b[49m\u001b[43mtrain_predict\u001b[49m\u001b[43m)\u001b[49m\u001b[43m \u001b[49m\u001b[38;5;241;43m+\u001b[39;49m\u001b[43m \u001b[49m\u001b[38;5;28;43mlen\u001b[39;49m\u001b[43m(\u001b[49m\u001b[43mtest_predict\u001b[49m\u001b[43m)\u001b[49m\u001b[43m]\u001b[49m\u001b[43m,\u001b[49m\u001b[43m \u001b[49m\u001b[43mtest_y\u001b[49m\u001b[43m[\u001b[49m\u001b[38;5;241;43m0\u001b[39;49m\u001b[43m]\u001b[49m\u001b[43m,\u001b[49m\u001b[43m \u001b[49m\u001b[43mlabel\u001b[49m\u001b[38;5;241;43m=\u001b[39;49m\u001b[38;5;124;43m'\u001b[39;49m\u001b[38;5;124;43mReal (Teste)\u001b[39;49m\u001b[38;5;124;43m'\u001b[39;49m\u001b[43m,\u001b[49m\u001b[43m \u001b[49m\u001b[43mcolor\u001b[49m\u001b[38;5;241;43m=\u001b[39;49m\u001b[38;5;124;43m'\u001b[39;49m\u001b[38;5;124;43mgreen\u001b[39;49m\u001b[38;5;124;43m'\u001b[39;49m\u001b[43m)\u001b[49m\n",
      "\u001b[0;32m      5\u001b[0m plt\u001b[38;5;241m.\u001b[39mplot(data_cleaned_month\u001b[38;5;241m.\u001b[39mindex[\u001b[38;5;28mlen\u001b[39m(train_predict):\u001b[38;5;28mlen\u001b[39m(train_predict) \u001b[38;5;241m+\u001b[39m \u001b[38;5;28mlen\u001b[39m(test_predict)], test_predict[:, \u001b[38;5;241m0\u001b[39m], label\u001b[38;5;241m=\u001b[39m\u001b[38;5;124m'\u001b[39m\u001b[38;5;124mPrevisto (Teste)\u001b[39m\u001b[38;5;124m'\u001b[39m, color\u001b[38;5;241m=\u001b[39m\u001b[38;5;124m'\u001b[39m\u001b[38;5;124mred\u001b[39m\u001b[38;5;124m'\u001b[39m, linestyle\u001b[38;5;241m=\u001b[39m\u001b[38;5;124m'\u001b[39m\u001b[38;5;124mdashed\u001b[39m\u001b[38;5;124m'\u001b[39m)\n",
      "\u001b[0;32m      6\u001b[0m plt\u001b[38;5;241m.\u001b[39mxlabel(\u001b[38;5;124m'\u001b[39m\u001b[38;5;124mData\u001b[39m\u001b[38;5;124m'\u001b[39m)\n",
      "\n",
      "File \u001b[1;32m~\\AppData\\Local\\Packages\\PythonSoftwareFoundation.Python.3.10_qbz5n2kfra8p0\\LocalCache\\local-packages\\Python310\\site-packages\\matplotlib\\pyplot.py:2812\u001b[0m, in \u001b[0;36mplot\u001b[1;34m(scalex, scaley, data, *args, **kwargs)\u001b[0m\n",
      "\u001b[0;32m   2810\u001b[0m \u001b[38;5;129m@_copy_docstring_and_deprecators\u001b[39m(Axes\u001b[38;5;241m.\u001b[39mplot)\n",
      "\u001b[0;32m   2811\u001b[0m \u001b[38;5;28;01mdef\u001b[39;00m \u001b[38;5;21mplot\u001b[39m(\u001b[38;5;241m*\u001b[39margs, scalex\u001b[38;5;241m=\u001b[39m\u001b[38;5;28;01mTrue\u001b[39;00m, scaley\u001b[38;5;241m=\u001b[39m\u001b[38;5;28;01mTrue\u001b[39;00m, data\u001b[38;5;241m=\u001b[39m\u001b[38;5;28;01mNone\u001b[39;00m, \u001b[38;5;241m*\u001b[39m\u001b[38;5;241m*\u001b[39mkwargs):\n",
      "\u001b[1;32m-> 2812\u001b[0m     \u001b[38;5;28;01mreturn\u001b[39;00m gca()\u001b[38;5;241m.\u001b[39mplot(\n",
      "\u001b[0;32m   2813\u001b[0m         \u001b[38;5;241m*\u001b[39margs, scalex\u001b[38;5;241m=\u001b[39mscalex, scaley\u001b[38;5;241m=\u001b[39mscaley,\n",
      "\u001b[0;32m   2814\u001b[0m         \u001b[38;5;241m*\u001b[39m\u001b[38;5;241m*\u001b[39m({\u001b[38;5;124m\"\u001b[39m\u001b[38;5;124mdata\u001b[39m\u001b[38;5;124m\"\u001b[39m: data} \u001b[38;5;28;01mif\u001b[39;00m data \u001b[38;5;129;01mis\u001b[39;00m \u001b[38;5;129;01mnot\u001b[39;00m \u001b[38;5;28;01mNone\u001b[39;00m \u001b[38;5;28;01melse\u001b[39;00m {}), \u001b[38;5;241m*\u001b[39m\u001b[38;5;241m*\u001b[39mkwargs)\n",
      "\n",
      "File \u001b[1;32m~\\AppData\\Local\\Packages\\PythonSoftwareFoundation.Python.3.10_qbz5n2kfra8p0\\LocalCache\\local-packages\\Python310\\site-packages\\matplotlib\\axes\\_axes.py:1688\u001b[0m, in \u001b[0;36mAxes.plot\u001b[1;34m(self, scalex, scaley, data, *args, **kwargs)\u001b[0m\n",
      "\u001b[0;32m   1445\u001b[0m \u001b[38;5;250m\u001b[39m\u001b[38;5;124;03m\"\"\"\u001b[39;00m\n",
      "\u001b[0;32m   1446\u001b[0m \u001b[38;5;124;03mPlot y versus x as lines and/or markers.\u001b[39;00m\n",
      "\u001b[0;32m   1447\u001b[0m \n",
      "\u001b[1;32m   (...)\u001b[0m\n",
      "\u001b[0;32m   1685\u001b[0m \u001b[38;5;124;03m(``'green'``) or hex strings (``'#008000'``).\u001b[39;00m\n",
      "\u001b[0;32m   1686\u001b[0m \u001b[38;5;124;03m\"\"\"\u001b[39;00m\n",
      "\u001b[0;32m   1687\u001b[0m kwargs \u001b[38;5;241m=\u001b[39m cbook\u001b[38;5;241m.\u001b[39mnormalize_kwargs(kwargs, mlines\u001b[38;5;241m.\u001b[39mLine2D)\n",
      "\u001b[1;32m-> 1688\u001b[0m lines \u001b[38;5;241m=\u001b[39m [\u001b[38;5;241m*\u001b[39m\u001b[38;5;28mself\u001b[39m\u001b[38;5;241m.\u001b[39m_get_lines(\u001b[38;5;241m*\u001b[39margs, data\u001b[38;5;241m=\u001b[39mdata, \u001b[38;5;241m*\u001b[39m\u001b[38;5;241m*\u001b[39mkwargs)]\n",
      "\u001b[0;32m   1689\u001b[0m \u001b[38;5;28;01mfor\u001b[39;00m line \u001b[38;5;129;01min\u001b[39;00m lines:\n",
      "\u001b[0;32m   1690\u001b[0m     \u001b[38;5;28mself\u001b[39m\u001b[38;5;241m.\u001b[39madd_line(line)\n",
      "\n",
      "File \u001b[1;32m~\\AppData\\Local\\Packages\\PythonSoftwareFoundation.Python.3.10_qbz5n2kfra8p0\\LocalCache\\local-packages\\Python310\\site-packages\\matplotlib\\axes\\_base.py:311\u001b[0m, in \u001b[0;36m_process_plot_var_args.__call__\u001b[1;34m(self, data, *args, **kwargs)\u001b[0m\n",
      "\u001b[0;32m    309\u001b[0m     this \u001b[38;5;241m+\u001b[39m\u001b[38;5;241m=\u001b[39m args[\u001b[38;5;241m0\u001b[39m],\n",
      "\u001b[0;32m    310\u001b[0m     args \u001b[38;5;241m=\u001b[39m args[\u001b[38;5;241m1\u001b[39m:]\n",
      "\u001b[1;32m--> 311\u001b[0m \u001b[38;5;28;01myield from\u001b[39;00m \u001b[38;5;28;43mself\u001b[39;49m\u001b[38;5;241;43m.\u001b[39;49m\u001b[43m_plot_args\u001b[49m\u001b[43m(\u001b[49m\n",
      "\u001b[0;32m    312\u001b[0m \u001b[43m    \u001b[49m\u001b[43mthis\u001b[49m\u001b[43m,\u001b[49m\u001b[43m \u001b[49m\u001b[43mkwargs\u001b[49m\u001b[43m,\u001b[49m\u001b[43m \u001b[49m\u001b[43mambiguous_fmt_datakey\u001b[49m\u001b[38;5;241;43m=\u001b[39;49m\u001b[43mambiguous_fmt_datakey\u001b[49m\u001b[43m)\u001b[49m\n",
      "\n",
      "File \u001b[1;32m~\\AppData\\Local\\Packages\\PythonSoftwareFoundation.Python.3.10_qbz5n2kfra8p0\\LocalCache\\local-packages\\Python310\\site-packages\\matplotlib\\axes\\_base.py:504\u001b[0m, in \u001b[0;36m_process_plot_var_args._plot_args\u001b[1;34m(self, tup, kwargs, return_kwargs, ambiguous_fmt_datakey)\u001b[0m\n",
      "\u001b[0;32m    501\u001b[0m     \u001b[38;5;28mself\u001b[39m\u001b[38;5;241m.\u001b[39maxes\u001b[38;5;241m.\u001b[39myaxis\u001b[38;5;241m.\u001b[39mupdate_units(y)\n",
      "\u001b[0;32m    503\u001b[0m \u001b[38;5;28;01mif\u001b[39;00m x\u001b[38;5;241m.\u001b[39mshape[\u001b[38;5;241m0\u001b[39m] \u001b[38;5;241m!=\u001b[39m y\u001b[38;5;241m.\u001b[39mshape[\u001b[38;5;241m0\u001b[39m]:\n",
      "\u001b[1;32m--> 504\u001b[0m     \u001b[38;5;28;01mraise\u001b[39;00m \u001b[38;5;167;01mValueError\u001b[39;00m(\u001b[38;5;124mf\u001b[39m\u001b[38;5;124m\"\u001b[39m\u001b[38;5;124mx and y must have same first dimension, but \u001b[39m\u001b[38;5;124m\"\u001b[39m\n",
      "\u001b[0;32m    505\u001b[0m                      \u001b[38;5;124mf\u001b[39m\u001b[38;5;124m\"\u001b[39m\u001b[38;5;124mhave shapes \u001b[39m\u001b[38;5;132;01m{\u001b[39;00mx\u001b[38;5;241m.\u001b[39mshape\u001b[38;5;132;01m}\u001b[39;00m\u001b[38;5;124m and \u001b[39m\u001b[38;5;132;01m{\u001b[39;00my\u001b[38;5;241m.\u001b[39mshape\u001b[38;5;132;01m}\u001b[39;00m\u001b[38;5;124m\"\u001b[39m)\n",
      "\u001b[0;32m    506\u001b[0m \u001b[38;5;28;01mif\u001b[39;00m x\u001b[38;5;241m.\u001b[39mndim \u001b[38;5;241m>\u001b[39m \u001b[38;5;241m2\u001b[39m \u001b[38;5;129;01mor\u001b[39;00m y\u001b[38;5;241m.\u001b[39mndim \u001b[38;5;241m>\u001b[39m \u001b[38;5;241m2\u001b[39m:\n",
      "\u001b[0;32m    507\u001b[0m     \u001b[38;5;28;01mraise\u001b[39;00m \u001b[38;5;167;01mValueError\u001b[39;00m(\u001b[38;5;124mf\u001b[39m\u001b[38;5;124m\"\u001b[39m\u001b[38;5;124mx and y can be no greater than 2D, but have \u001b[39m\u001b[38;5;124m\"\u001b[39m\n",
      "\u001b[0;32m    508\u001b[0m                      \u001b[38;5;124mf\u001b[39m\u001b[38;5;124m\"\u001b[39m\u001b[38;5;124mshapes \u001b[39m\u001b[38;5;132;01m{\u001b[39;00mx\u001b[38;5;241m.\u001b[39mshape\u001b[38;5;132;01m}\u001b[39;00m\u001b[38;5;124m and \u001b[39m\u001b[38;5;132;01m{\u001b[39;00my\u001b[38;5;241m.\u001b[39mshape\u001b[38;5;132;01m}\u001b[39;00m\u001b[38;5;124m\"\u001b[39m)\n",
      "\n",
      "\u001b[1;31mValueError\u001b[0m: x and y must have same first dimension, but have shapes (23,) and (1,)"
     ]
    },
    {
     "data": {
      "image/png": "[encoded data removed]",
      "text/plain": [
       "<Figure size 1200x600 with 1 Axes>"
      ]
     },
     "metadata": {},
     "output_type": "display_data"
    }
   ],
   "source": [
    "plt.figure(figsize=(12, 6))\n",
    "# plt.plot(output_data.index[:len(train_predict)], train_y[0], label='Real (Treinamento)', color='blue')\n",
    "# plt.plot(output_data.index[:len(train_predict)], train_predict[:, 0], label='Previsto (Treinamento)', color='orange', linestyle='dashed')\n",
    "plt.plot(data_cleaned_month.index[len(train_predict):len(train_predict) + len(test_predict)], test_y[0], label='Real (Teste)', color='green')\n",
    "plt.plot(data_cleaned_month.index[len(train_predict):len(train_predict) + len(test_predict)], test_predict[:, 0], label='Previsto (Teste)', color='red', linestyle='dashed')\n",
    "plt.xlabel('Data')\n",
    "plt.ylabel('Produção de Energia (original scale)')\n",
    "plt.title('Previsões da Produção de Energia com LSTM')\n",
    "plt.legend()\n",
    "plt.show()"
   ]
  },
  {
   "cell_type": "code",
   "execution_count": null,
   "metadata": {},
   "outputs": [
    {
     "ename": "IndexError",
     "evalue": "too many indices for array: array is 1-dimensional, but 2 were indexed",
     "output_type": "error",
     "traceback": [
      "\u001b[1;31m---------------------------------------------------------------------------\u001b[0m\n",
      "\u001b[1;31mIndexError\u001b[0m                                Traceback (most recent call last)\n",
      "Cell \u001b[1;32mIn[384], line 2\u001b[0m\n",
      "\u001b[0;32m      1\u001b[0m train_predict_plot \u001b[38;5;241m=\u001b[39m np\u001b[38;5;241m.\u001b[39mempty_like(temp)\n",
      "\u001b[1;32m----> 2\u001b[0m \u001b[43mtrain_predict_plot\u001b[49m\u001b[43m[\u001b[49m\u001b[43m:\u001b[49m\u001b[43m,\u001b[49m\u001b[43m:\u001b[49m\u001b[43m]\u001b[49m \u001b[38;5;241m=\u001b[39m np\u001b[38;5;241m.\u001b[39mnan\n",
      "\u001b[0;32m      3\u001b[0m train_predict_plot[time_stemp:\u001b[38;5;28mlen\u001b[39m(train_predict) \u001b[38;5;241m+\u001b[39m time_stemp, :] \u001b[38;5;241m=\u001b[39m train_predict\n",
      "\u001b[0;32m      5\u001b[0m test_predict_plot \u001b[38;5;241m=\u001b[39m np\u001b[38;5;241m.\u001b[39mempty_like(temp)\n",
      "\n",
      "\u001b[1;31mIndexError\u001b[0m: too many indices for array: array is 1-dimensional, but 2 were indexed"
     ]
    }
   ],
   "source": [
    "train_predict_plot = np.empty_like(temp)\n",
    "train_predict_plot[:,:] = np.nan\n",
    "train_predict_plot[time_stemp:len(train_predict) + time_stemp, :] = train_predict\n",
    "\n",
    "test_predict_plot = np.empty_like(temp)\n",
    "test_predict_plot[:, :] = np.nan\n",
    "test_predict_plot[len(train_predict) + (time_stemp * 2):len(temp) - 2, :] = test_predict\n",
    "\n",
    "\n",
    "plt.figure(figsize=(20,10))\n",
    "plt.plot(scaler.inverse_transform(temp),color = \"red\",label = \"Real\")\n",
    "plt.plot(train_predict_plot,label = \"Predição treinamento\",color = \"green\", alpha = 0.7)\n",
    "plt.plot(test_predict_plot,label = \"Predição teste\",color = \"blue\", alpha = 0.7)\n",
    "plt.legend()\n",
    "plt.xlabel(\"Tempo (em meses)\")\n",
    "plt.ylabel(\"Valor de Geração (em milhões MWmed)\")\n",
    "plt.show()"
   ]
  },
  {
   "cell_type": "markdown",
   "metadata": {},
   "source": [
    "### 5.4) Comparando os resultados com os reais"
   ]
  },
  {
   "cell_type": "markdown",
   "metadata": {},
   "source": [
    "### 5.4.1) Ano 2019"
   ]
  },
  {
   "cell_type": "code",
   "execution_count": null,
   "metadata": {},
   "outputs": [
    {
     "data": {
      "text/plain": [
       "(12, 1)"
      ]
     },
     "metadata": {},
     "output_type": "display_data"
    }
   ],
   "source": [
    "test_y.shape"
   ]
  },
  {
   "cell_type": "code",
   "execution_count": null,
   "metadata": {},
   "outputs": [
    {
     "data": {
      "text/html": [
       "<div>\n",
       "<style scoped>\n",
       "    .dataframe tbody tr th:only-of-type {\n",
       "        vertical-align: middle;\n",
       "    }\n",
       "\n",
       "    .dataframe tbody tr th {\n",
       "        vertical-align: top;\n",
       "    }\n",
       "\n",
       "    .dataframe thead th {\n",
       "        text-align: right;\n",
       "    }\n",
       "</style>\n",
       "<table border=\"1\" class=\"dataframe\">\n",
       "  <thead>\n",
       "    <tr style=\"text-align: right;\">\n",
       "      <th></th>\n",
       "      <th>Real</th>\n",
       "      <th>Predito</th>\n",
       "      <th>Diferença (%)</th>\n",
       "    </tr>\n",
       "  </thead>\n",
       "  <tbody>\n",
       "    <tr>\n",
       "      <th>0</th>\n",
       "      <td>10485916.57</td>\n",
       "      <td>9692181.00</td>\n",
       "      <td>7.57</td>\n",
       "    </tr>\n",
       "    <tr>\n",
       "      <th>1</th>\n",
       "      <td>10123038.49</td>\n",
       "      <td>9876241.00</td>\n",
       "      <td>2.44</td>\n",
       "    </tr>\n",
       "    <tr>\n",
       "      <th>2</th>\n",
       "      <td>10414208.90</td>\n",
       "      <td>9929211.00</td>\n",
       "      <td>4.66</td>\n",
       "    </tr>\n",
       "    <tr>\n",
       "      <th>3</th>\n",
       "      <td>8216977.27</td>\n",
       "      <td>10023286.00</td>\n",
       "      <td>21.98</td>\n",
       "    </tr>\n",
       "    <tr>\n",
       "      <th>4</th>\n",
       "      <td>8077386.46</td>\n",
       "      <td>9409581.00</td>\n",
       "      <td>16.49</td>\n",
       "    </tr>\n",
       "    <tr>\n",
       "      <th>5</th>\n",
       "      <td>8634235.08</td>\n",
       "      <td>8747205.00</td>\n",
       "      <td>1.31</td>\n",
       "    </tr>\n",
       "    <tr>\n",
       "      <th>6</th>\n",
       "      <td>10154333.57</td>\n",
       "      <td>8482643.00</td>\n",
       "      <td>16.46</td>\n",
       "    </tr>\n",
       "    <tr>\n",
       "      <th>7</th>\n",
       "      <td>10260306.43</td>\n",
       "      <td>8880083.00</td>\n",
       "      <td>13.45</td>\n",
       "    </tr>\n",
       "    <tr>\n",
       "      <th>8</th>\n",
       "      <td>11255679.29</td>\n",
       "      <td>9337870.00</td>\n",
       "      <td>17.04</td>\n",
       "    </tr>\n",
       "    <tr>\n",
       "      <th>9</th>\n",
       "      <td>11845207.08</td>\n",
       "      <td>9839484.00</td>\n",
       "      <td>16.93</td>\n",
       "    </tr>\n",
       "    <tr>\n",
       "      <th>10</th>\n",
       "      <td>11050187.94</td>\n",
       "      <td>10299469.00</td>\n",
       "      <td>6.79</td>\n",
       "    </tr>\n",
       "    <tr>\n",
       "      <th>11</th>\n",
       "      <td>10468392.94</td>\n",
       "      <td>10561834.00</td>\n",
       "      <td>0.89</td>\n",
       "    </tr>\n",
       "    <tr>\n",
       "      <th>12</th>\n",
       "      <td>120985870.03</td>\n",
       "      <td>115079096.00</td>\n",
       "      <td>4.88</td>\n",
       "    </tr>\n",
       "  </tbody>\n",
       "</table>\n",
       "</div>"
      ],
      "text/plain": [
       "           Real      Predito  Diferença (%)\n",
       "0   10485916.57   9692181.00           7.57\n",
       "1   10123038.49   9876241.00           2.44\n",
       "2   10414208.90   9929211.00           4.66\n",
       "3    8216977.27  10023286.00          21.98\n",
       "4    8077386.46   9409581.00          16.49\n",
       "5    8634235.08   8747205.00           1.31\n",
       "6   10154333.57   8482643.00          16.46\n",
       "7   10260306.43   8880083.00          13.45\n",
       "8   11255679.29   9337870.00          17.04\n",
       "9   11845207.08   9839484.00          16.93\n",
       "10  11050187.94  10299469.00           6.79\n",
       "11  10468392.94  10561834.00           0.89\n",
       "12 120985870.03 115079096.00           4.88"
      ]
     },
     "metadata": {},
     "output_type": "display_data"
    }
   ],
   "source": [
    "pd.options.display.float_format = '{:.2f}'.format\n",
    "\n",
    "test_y_flatten = test_y.flatten()[:12]\n",
    "test_predict_flatten = test_predict.flatten()[:12]\n",
    "\n",
    "# Calculating the percentage difference\n",
    "percentage_difference = abs(((test_y_flatten - test_predict_flatten) / test_y_flatten) * 100)\n",
    "\n",
    "# Creating a DataFrame for comparison\n",
    "comparacao_df = pd.DataFrame({'Real': test_y_flatten, 'Predito': test_predict_flatten, 'Diferença (%)': percentage_difference})\n",
    "\n",
    "total_percentage_difference = abs(((test_y_flatten.sum() - test_predict_flatten.sum()) / test_y_flatten.sum()) * 100)\n",
    "\n",
    "# Adding a row for the total\n",
    "total_row = pd.DataFrame({'Real': test_y_flatten.sum(), 'Predito': test_predict_flatten.sum(), 'Diferença (%)': total_percentage_difference}, index=[len(comparacao_df)])\n",
    "comparacao_df = pd.concat([comparacao_df, total_row])\n",
    "\n",
    "display(comparacao_df)"
   ]
  },
  {
   "cell_type": "markdown",
   "metadata": {},
   "source": [
    "### 5.4.2) Ano 2020"
   ]
  },
  {
   "cell_type": "code",
   "execution_count": null,
   "metadata": {},
   "outputs": [
    {
     "data": {
      "text/html": [
       "<div>\n",
       "<style scoped>\n",
       "    .dataframe tbody tr th:only-of-type {\n",
       "        vertical-align: middle;\n",
       "    }\n",
       "\n",
       "    .dataframe tbody tr th {\n",
       "        vertical-align: top;\n",
       "    }\n",
       "\n",
       "    .dataframe thead th {\n",
       "        text-align: right;\n",
       "    }\n",
       "</style>\n",
       "<table border=\"1\" class=\"dataframe\">\n",
       "  <thead>\n",
       "    <tr style=\"text-align: right;\">\n",
       "      <th></th>\n",
       "      <th>Real</th>\n",
       "      <th>Predito</th>\n",
       "      <th>Diferença (%)</th>\n",
       "    </tr>\n",
       "  </thead>\n",
       "  <tbody>\n",
       "    <tr>\n",
       "      <th>0</th>\n",
       "      <td>10485916.57</td>\n",
       "      <td>9692181.00</td>\n",
       "      <td>7.57</td>\n",
       "    </tr>\n",
       "    <tr>\n",
       "      <th>1</th>\n",
       "      <td>10123038.49</td>\n",
       "      <td>9876241.00</td>\n",
       "      <td>2.44</td>\n",
       "    </tr>\n",
       "    <tr>\n",
       "      <th>2</th>\n",
       "      <td>10414208.90</td>\n",
       "      <td>9929211.00</td>\n",
       "      <td>4.66</td>\n",
       "    </tr>\n",
       "    <tr>\n",
       "      <th>3</th>\n",
       "      <td>8216977.27</td>\n",
       "      <td>10023286.00</td>\n",
       "      <td>21.98</td>\n",
       "    </tr>\n",
       "    <tr>\n",
       "      <th>4</th>\n",
       "      <td>8077386.46</td>\n",
       "      <td>9409581.00</td>\n",
       "      <td>16.49</td>\n",
       "    </tr>\n",
       "    <tr>\n",
       "      <th>5</th>\n",
       "      <td>8634235.08</td>\n",
       "      <td>8747205.00</td>\n",
       "      <td>1.31</td>\n",
       "    </tr>\n",
       "    <tr>\n",
       "      <th>6</th>\n",
       "      <td>10154333.57</td>\n",
       "      <td>8482643.00</td>\n",
       "      <td>16.46</td>\n",
       "    </tr>\n",
       "    <tr>\n",
       "      <th>7</th>\n",
       "      <td>10260306.43</td>\n",
       "      <td>8880083.00</td>\n",
       "      <td>13.45</td>\n",
       "    </tr>\n",
       "    <tr>\n",
       "      <th>8</th>\n",
       "      <td>11255679.29</td>\n",
       "      <td>9337870.00</td>\n",
       "      <td>17.04</td>\n",
       "    </tr>\n",
       "    <tr>\n",
       "      <th>9</th>\n",
       "      <td>11845207.08</td>\n",
       "      <td>9839484.00</td>\n",
       "      <td>16.93</td>\n",
       "    </tr>\n",
       "    <tr>\n",
       "      <th>10</th>\n",
       "      <td>11050187.94</td>\n",
       "      <td>10299469.00</td>\n",
       "      <td>6.79</td>\n",
       "    </tr>\n",
       "    <tr>\n",
       "      <th>11</th>\n",
       "      <td>10468392.94</td>\n",
       "      <td>10561834.00</td>\n",
       "      <td>0.89</td>\n",
       "    </tr>\n",
       "    <tr>\n",
       "      <th>12</th>\n",
       "      <td>120985870.03</td>\n",
       "      <td>115079096.00</td>\n",
       "      <td>4.88</td>\n",
       "    </tr>\n",
       "  </tbody>\n",
       "</table>\n",
       "</div>"
      ],
      "text/plain": [
       "           Real      Predito  Diferença (%)\n",
       "0   10485916.57   9692181.00           7.57\n",
       "1   10123038.49   9876241.00           2.44\n",
       "2   10414208.90   9929211.00           4.66\n",
       "3    8216977.27  10023286.00          21.98\n",
       "4    8077386.46   9409581.00          16.49\n",
       "5    8634235.08   8747205.00           1.31\n",
       "6   10154333.57   8482643.00          16.46\n",
       "7   10260306.43   8880083.00          13.45\n",
       "8   11255679.29   9337870.00          17.04\n",
       "9   11845207.08   9839484.00          16.93\n",
       "10  11050187.94  10299469.00           6.79\n",
       "11  10468392.94  10561834.00           0.89\n",
       "12 120985870.03 115079096.00           4.88"
      ]
     },
     "metadata": {},
     "output_type": "display_data"
    }
   ],
   "source": [
    "pd.options.display.float_format = '{:.2f}'.format\n",
    "\n",
    "test_y_flatten = test_y.flatten()[-12:]\n",
    "test_predict_flatten = test_predict.flatten()[-12:]\n",
    "\n",
    "# Calculating the percentage difference\n",
    "percentage_difference = abs(((test_y_flatten - test_predict_flatten) / test_y_flatten) * 100)\n",
    "\n",
    "# Creating a DataFrame for comparison\n",
    "comparacao_df = pd.DataFrame({'Real': test_y_flatten, 'Predito': test_predict_flatten, 'Diferença (%)': percentage_difference})\n",
    "\n",
    "total_percentage_difference = abs(((test_y_flatten.sum() - test_predict_flatten.sum()) / test_y_flatten.sum()) * 100)\n",
    "\n",
    "# Adding a row for the total\n",
    "total_row = pd.DataFrame({'Real': test_y_flatten.sum(), 'Predito': test_predict_flatten.sum(), 'Diferença (%)': total_percentage_difference}, index=[len(comparacao_df)])\n",
    "comparacao_df = pd.concat([comparacao_df, total_row])\n",
    "\n",
    "display(comparacao_df)"
   ]
  },
  {
   "cell_type": "markdown",
   "metadata": {},
   "source": [
    "### TESTE 6"
   ]
  },
  {
   "cell_type": "markdown",
   "metadata": {},
   "source": [
    "# <font color='red'> 4) Modelo de predição</font>"
   ]
  },
  {
   "cell_type": "code",
   "execution_count": null,
   "metadata": {},
   "outputs": [],
   "source": [
    "import keras\n",
    "import tensorflow as tf\n",
    "\n",
    "from keras.models import Sequential \n",
    "from keras.layers import Dense \n",
    "from keras.layers import LSTM \n",
    "from keras.layers import Dropout \n",
    "from keras.callbacks import ModelCheckpoint\n",
    "from sklearn.preprocessing import MinMaxScaler\n",
    "\n",
    "\n",
    "from keras.preprocessing.sequence import TimeseriesGenerator"
   ]
  },
  {
   "cell_type": "code",
   "execution_count": null,
   "metadata": {},
   "outputs": [],
   "source": [
    "temp = data_cleaned_month['val_geracao'].values "
   ]
  },
  {
   "cell_type": "markdown",
   "metadata": {},
   "source": [
    "### 4.1) Divisão dos dados: os ultimo 24 meses correspondentes aos anos de 2019 e 2020"
   ]
  },
  {
   "cell_type": "code",
   "execution_count": null,
   "metadata": {},
   "outputs": [
    {
     "name": "stdout",
     "output_type": "stream",
     "text": [
      "Train Size : 228 Test Size : 24\n"
     ]
    }
   ],
   "source": [
    "train_size = len(temp) - 24\n",
    "test_size = 24\n",
    "print(\"Train Size :\",train_size,\"Test Size :\",test_size)\n",
    "\n",
    "train_data = temp[:228]\n",
    "test_data = temp[228:]"
   ]
  },
  {
   "cell_type": "markdown",
   "metadata": {},
   "source": [
    "### 4.2) Pré-processamento dos dados: Normalizando dados numa escala entre 0 e 1"
   ]
  },
  {
   "cell_type": "code",
   "execution_count": null,
   "metadata": {},
   "outputs": [],
   "source": [
    "scaler = MinMaxScaler(feature_range = (0,1))\n",
    "train_data_scaled = scaler.fit_transform(train_data.reshape(-1,1))\n",
    "test_data_scaled = scaler.transform(test_data.reshape(-1,1))"
   ]
  },
  {
   "cell_type": "code",
   "execution_count": null,
   "metadata": {},
   "outputs": [
    {
     "data": {
      "text/plain": [
       "(228, 1)"
      ]
     },
     "metadata": {},
     "output_type": "display_data"
    }
   ],
   "source": [
    "train_data_scaled.shape"
   ]
  },
  {
   "cell_type": "code",
   "execution_count": null,
   "metadata": {},
   "outputs": [
    {
     "data": {
      "text/plain": [
       "(24, 1)"
      ]
     },
     "metadata": {},
     "output_type": "display_data"
    }
   ],
   "source": [
    "test_data_scaled.shape"
   ]
  },
  {
   "cell_type": "markdown",
   "metadata": {},
   "source": [
    "### 4.3) Preparando séries temporais"
   ]
  },
  {
   "cell_type": "code",
   "execution_count": null,
   "metadata": {},
   "outputs": [],
   "source": [
    "time_stemp = 12\n",
    "n_features = 1\n",
    "\n",
    "generator = TimeseriesGenerator(train_data_scaled, train_data_scaled, length=time_stemp, batch_size=1)"
   ]
  },
  {
   "cell_type": "code",
   "execution_count": null,
   "metadata": {},
   "outputs": [
    {
     "data": {
      "text/plain": [
       "(array([[[0.51678708],\n",
       "         [0.56227069],\n",
       "         [0.55081313],\n",
       "         [0.63762855],\n",
       "         [0.5983908 ],\n",
       "         [0.56606518],\n",
       "         [0.5534384 ],\n",
       "         [0.3947099 ],\n",
       "         [0.50937492],\n",
       "         [0.37576354],\n",
       "         [0.36916227],\n",
       "         [0.42256097]]]),\n",
       " array([[0.3651552]]))"
      ]
     },
     "metadata": {},
     "output_type": "display_data"
    }
   ],
   "source": [
    "generator[1]"
   ]
  },
  {
   "cell_type": "markdown",
   "metadata": {},
   "source": [
    "### 4.4) Arquitetando rede neural recorrente (LSTM)"
   ]
  },
  {
   "cell_type": "code",
   "execution_count": null,
   "metadata": {},
   "outputs": [],
   "source": [
    "# print(train_X.shape[1])"
   ]
  },
  {
   "cell_type": "code",
   "execution_count": null,
   "metadata": {},
   "outputs": [],
   "source": [
    "def create_lstm_model(time_stemp: int, n_features: int):\n",
    "    model = Sequential()\n",
    "    model.add(LSTM(units=50, activation=\"relu\", return_sequences=True, input_shape=(time_stemp, n_features)))\n",
    "    model.add(Dropout(0.2))\n",
    "    model.add(LSTM(units=50))\n",
    "    model.add(Dense(64, activation='relu'))\n",
    "    model.add(Dense(32, activation='relu'))\n",
    "    model.add(Dropout(0.2))\n",
    "    model.add(Dense(1))\n",
    "\n",
    "    model.compile(loss='mean_squared_error', optimizer=\"adam\" )\n",
    "    return model"
   ]
  },
  {
   "cell_type": "code",
   "execution_count": null,
   "metadata": {},
   "outputs": [
    {
     "name": "stdout",
     "output_type": "stream",
     "text": [
      "Model: \"sequential_36\"\n",
      "_________________________________________________________________\n",
      " Layer (type)                Output Shape              Param #   \n",
      "=================================================================\n",
      " lstm_61 (LSTM)              (None, 12, 50)            10400     \n",
      "                                                                 \n",
      " dropout_65 (Dropout)        (None, 12, 50)            0         \n",
      "                                                                 \n",
      " lstm_62 (LSTM)              (None, 50)                20200     \n",
      "                                                                 \n",
      " dense_91 (Dense)            (None, 64)                3264      \n",
      "                                                                 \n",
      " dense_92 (Dense)            (None, 32)                2080      \n",
      "                                                                 \n",
      " dropout_66 (Dropout)        (None, 32)                0         \n",
      "                                                                 \n",
      " dense_93 (Dense)            (None, 1)                 33        \n",
      "                                                                 \n",
      "=================================================================\n",
      "Total params: 35977 (140.54 KB)\n",
      "Trainable params: 35977 (140.54 KB)\n",
      "Non-trainable params: 0 (0.00 Byte)\n",
      "_________________________________________________________________\n"
     ]
    }
   ],
   "source": [
    "model = create_lstm_model(time_stemp, n_features)\n",
    "\n",
    "model.summary()"
   ]
  },
  {
   "cell_type": "code",
   "execution_count": null,
   "metadata": {},
   "outputs": [
    {
     "name": "stdout",
     "output_type": "stream",
     "text": [
      "Epoch 1/100\n"
     ]
    },
    {
     "name": "stdout",
     "output_type": "stream",
     "text": [
      "216/216 [==============================] - 3s 4ms/step - loss: 0.0489\n",
      "Epoch 2/100\n",
      "216/216 [==============================] - 1s 4ms/step - loss: 0.0347\n",
      "Epoch 3/100\n",
      "216/216 [==============================] - 1s 4ms/step - loss: 0.0319\n",
      "Epoch 4/100\n",
      "216/216 [==============================] - 1s 4ms/step - loss: 0.0258\n",
      "Epoch 5/100\n",
      "216/216 [==============================] - 1s 4ms/step - loss: 0.0266\n",
      "Epoch 6/100\n",
      "216/216 [==============================] - 1s 4ms/step - loss: 0.0231\n",
      "Epoch 7/100\n",
      "216/216 [==============================] - 1s 4ms/step - loss: 0.0222\n",
      "Epoch 8/100\n",
      "216/216 [==============================] - 1s 4ms/step - loss: 0.0213\n",
      "Epoch 9/100\n",
      "216/216 [==============================] - 1s 4ms/step - loss: 0.0254\n",
      "Epoch 10/100\n",
      "216/216 [==============================] - 1s 5ms/step - loss: 0.0232\n",
      "Epoch 11/100\n",
      "216/216 [==============================] - 1s 4ms/step - loss: 0.0209\n",
      "Epoch 12/100\n",
      "216/216 [==============================] - 1s 4ms/step - loss: 0.0202\n",
      "Epoch 13/100\n",
      "216/216 [==============================] - 1s 4ms/step - loss: 0.0190\n",
      "Epoch 14/100\n",
      "216/216 [==============================] - 1s 4ms/step - loss: 0.0175\n",
      "Epoch 15/100\n",
      "216/216 [==============================] - 1s 4ms/step - loss: 0.0182\n",
      "Epoch 16/100\n",
      "216/216 [==============================] - 1s 4ms/step - loss: 0.0153\n",
      "Epoch 17/100\n",
      "216/216 [==============================] - 1s 4ms/step - loss: 0.0188\n",
      "Epoch 18/100\n",
      "216/216 [==============================] - 1s 4ms/step - loss: 0.0177\n",
      "Epoch 19/100\n",
      "216/216 [==============================] - 1s 5ms/step - loss: 0.0173\n",
      "Epoch 20/100\n",
      "216/216 [==============================] - 1s 4ms/step - loss: 0.0139\n",
      "Epoch 21/100\n",
      "216/216 [==============================] - 1s 4ms/step - loss: 0.0171\n",
      "Epoch 22/100\n",
      "216/216 [==============================] - 1s 4ms/step - loss: 0.0174\n",
      "Epoch 23/100\n",
      "216/216 [==============================] - 1s 4ms/step - loss: 0.0165\n",
      "Epoch 24/100\n",
      "216/216 [==============================] - 1s 4ms/step - loss: 0.0156\n",
      "Epoch 25/100\n",
      "216/216 [==============================] - 1s 5ms/step - loss: 0.0149\n",
      "Epoch 26/100\n",
      "216/216 [==============================] - 1s 4ms/step - loss: 0.0151\n",
      "Epoch 27/100\n",
      "216/216 [==============================] - 1s 4ms/step - loss: 0.0135\n",
      "Epoch 28/100\n",
      "216/216 [==============================] - 1s 4ms/step - loss: 0.0148\n",
      "Epoch 29/100\n",
      "216/216 [==============================] - 1s 4ms/step - loss: 0.0149\n",
      "Epoch 30/100\n",
      "216/216 [==============================] - 1s 4ms/step - loss: 0.0144\n",
      "Epoch 31/100\n",
      "216/216 [==============================] - 1s 5ms/step - loss: 0.0137\n",
      "Epoch 32/100\n",
      "216/216 [==============================] - 1s 4ms/step - loss: 0.0158\n",
      "Epoch 33/100\n",
      "216/216 [==============================] - 1s 4ms/step - loss: 0.0139\n",
      "Epoch 34/100\n",
      "216/216 [==============================] - 1s 4ms/step - loss: 0.0141\n",
      "Epoch 35/100\n",
      "216/216 [==============================] - 1s 4ms/step - loss: 0.0132\n",
      "Epoch 36/100\n",
      "216/216 [==============================] - 1s 4ms/step - loss: 0.0131\n",
      "Epoch 37/100\n",
      "216/216 [==============================] - 1s 4ms/step - loss: 0.0130\n",
      "Epoch 38/100\n",
      "216/216 [==============================] - 1s 4ms/step - loss: 0.0119\n",
      "Epoch 39/100\n",
      "216/216 [==============================] - 1s 4ms/step - loss: 0.0145\n",
      "Epoch 40/100\n",
      "216/216 [==============================] - 1s 4ms/step - loss: 0.0130\n",
      "Epoch 41/100\n",
      "216/216 [==============================] - 1s 5ms/step - loss: 0.0143\n",
      "Epoch 42/100\n",
      "216/216 [==============================] - 1s 4ms/step - loss: 0.0141\n",
      "Epoch 43/100\n",
      "216/216 [==============================] - 1s 4ms/step - loss: 0.0127\n",
      "Epoch 44/100\n",
      "216/216 [==============================] - 1s 4ms/step - loss: 0.0139\n",
      "Epoch 45/100\n",
      "216/216 [==============================] - 1s 5ms/step - loss: 0.0138\n",
      "Epoch 46/100\n",
      "216/216 [==============================] - 1s 5ms/step - loss: 0.0143\n",
      "Epoch 47/100\n",
      "216/216 [==============================] - 1s 4ms/step - loss: 0.0139\n",
      "Epoch 48/100\n",
      "216/216 [==============================] - 1s 4ms/step - loss: 0.0132\n",
      "Epoch 49/100\n",
      "216/216 [==============================] - 1s 4ms/step - loss: 0.0139\n",
      "Epoch 50/100\n",
      "216/216 [==============================] - 1s 5ms/step - loss: 0.0131\n",
      "Epoch 51/100\n",
      "216/216 [==============================] - 1s 4ms/step - loss: 0.0131\n",
      "Epoch 52/100\n",
      "216/216 [==============================] - 1s 4ms/step - loss: 0.0129\n",
      "Epoch 53/100\n",
      "216/216 [==============================] - 1s 4ms/step - loss: 0.0135\n",
      "Epoch 54/100\n",
      "216/216 [==============================] - 1s 4ms/step - loss: 0.0120\n",
      "Epoch 55/100\n",
      "216/216 [==============================] - 1s 5ms/step - loss: 0.0119\n",
      "Epoch 56/100\n",
      "216/216 [==============================] - 1s 4ms/step - loss: 0.0123\n",
      "Epoch 57/100\n",
      "216/216 [==============================] - 1s 4ms/step - loss: 0.0127\n",
      "Epoch 58/100\n",
      "216/216 [==============================] - 1s 5ms/step - loss: 0.0126\n",
      "Epoch 59/100\n",
      "216/216 [==============================] - 1s 5ms/step - loss: 0.0135\n",
      "Epoch 60/100\n",
      "216/216 [==============================] - 1s 5ms/step - loss: 0.0136\n",
      "Epoch 61/100\n",
      "216/216 [==============================] - 1s 5ms/step - loss: 0.0132\n",
      "Epoch 62/100\n",
      "216/216 [==============================] - 1s 5ms/step - loss: 0.0130\n",
      "Epoch 63/100\n",
      "216/216 [==============================] - 1s 4ms/step - loss: 0.0123\n",
      "Epoch 64/100\n",
      "216/216 [==============================] - 1s 5ms/step - loss: 0.0124\n",
      "Epoch 65/100\n",
      "216/216 [==============================] - 1s 4ms/step - loss: 0.0118\n",
      "Epoch 66/100\n",
      "216/216 [==============================] - 1s 4ms/step - loss: 0.0117\n",
      "Epoch 67/100\n",
      "216/216 [==============================] - 1s 4ms/step - loss: 0.0116\n",
      "Epoch 68/100\n",
      "216/216 [==============================] - 1s 4ms/step - loss: 0.0115\n",
      "Epoch 69/100\n",
      "216/216 [==============================] - 1s 4ms/step - loss: 0.0121\n",
      "Epoch 70/100\n",
      "216/216 [==============================] - 1s 5ms/step - loss: 0.0124\n",
      "Epoch 71/100\n",
      "216/216 [==============================] - 1s 4ms/step - loss: 0.0116\n",
      "Epoch 72/100\n",
      "216/216 [==============================] - 1s 4ms/step - loss: 0.0121\n",
      "Epoch 73/100\n",
      "216/216 [==============================] - 1s 4ms/step - loss: 0.0133\n",
      "Epoch 74/100\n",
      "216/216 [==============================] - 1s 4ms/step - loss: 0.0131\n",
      "Epoch 75/100\n",
      "216/216 [==============================] - 1s 4ms/step - loss: 0.0125\n",
      "Epoch 76/100\n",
      "216/216 [==============================] - 1s 4ms/step - loss: 0.0111\n",
      "Epoch 77/100\n",
      "216/216 [==============================] - 1s 4ms/step - loss: 0.0118\n",
      "Epoch 78/100\n",
      "216/216 [==============================] - 1s 4ms/step - loss: 0.0116\n",
      "Epoch 79/100\n",
      "216/216 [==============================] - 1s 4ms/step - loss: 0.0119\n",
      "Epoch 80/100\n",
      "216/216 [==============================] - 1s 4ms/step - loss: 0.0123\n",
      "Epoch 81/100\n",
      "216/216 [==============================] - 1s 4ms/step - loss: 0.0121\n",
      "Epoch 82/100\n",
      "216/216 [==============================] - 1s 4ms/step - loss: 0.0124\n",
      "Epoch 83/100\n",
      "216/216 [==============================] - 1s 4ms/step - loss: 0.0109\n",
      "Epoch 84/100\n",
      "216/216 [==============================] - 1s 4ms/step - loss: 0.0116\n",
      "Epoch 85/100\n",
      "216/216 [==============================] - 1s 4ms/step - loss: 0.0121\n",
      "Epoch 86/100\n",
      "216/216 [==============================] - 1s 4ms/step - loss: 0.0125\n",
      "Epoch 87/100\n",
      "216/216 [==============================] - 1s 4ms/step - loss: 0.0115\n",
      "Epoch 88/100\n",
      "216/216 [==============================] - 1s 4ms/step - loss: 0.0104\n",
      "Epoch 89/100\n",
      "216/216 [==============================] - 1s 4ms/step - loss: 0.0113\n",
      "Epoch 90/100\n",
      "216/216 [==============================] - 1s 4ms/step - loss: 0.0102\n",
      "Epoch 91/100\n",
      "216/216 [==============================] - 1s 4ms/step - loss: 0.0116\n",
      "Epoch 92/100\n",
      "216/216 [==============================] - 1s 4ms/step - loss: 0.0111\n",
      "Epoch 93/100\n",
      "216/216 [==============================] - 1s 4ms/step - loss: 0.0119\n",
      "Epoch 94/100\n",
      "216/216 [==============================] - 1s 4ms/step - loss: 0.0113\n",
      "Epoch 95/100\n",
      "216/216 [==============================] - 1s 4ms/step - loss: 0.0109\n",
      "Epoch 96/100\n",
      "216/216 [==============================] - 1s 4ms/step - loss: 0.0097\n",
      "Epoch 97/100\n",
      "216/216 [==============================] - 1s 4ms/step - loss: 0.0114\n",
      "Epoch 98/100\n",
      "216/216 [==============================] - 1s 4ms/step - loss: 0.0111\n",
      "Epoch 99/100\n",
      "216/216 [==============================] - 1s 4ms/step - loss: 0.0112\n",
      "Epoch 100/100\n",
      "216/216 [==============================] - 1s 4ms/step - loss: 0.0108\n"
     ]
    }
   ],
   "source": [
    "epochs = 100\n",
    "\n",
    "history = model.fit(generator, epochs = epochs, batch_size = 50, verbose=1)"
   ]
  },
  {
   "cell_type": "code",
   "execution_count": null,
   "metadata": {},
   "outputs": [
    {
     "data": {
      "application/vnd.plotly.v1+json": {
       "config": {
        "plotlyServerURL": "https://plot.ly"
       },
       "data": [
        {
         "hovertemplate": "epoch=%{x}<br>loss=%{y}<extra></extra>",
         "legendgroup": "",
         "line": {
          "color": "#636efa",
          "dash": "solid"
         },
         "marker": {
          "symbol": "circle"
         },
         "mode": "lines",
         "name": "",
         "orientation": "v",
         "showlegend": false,
         "type": "scatter",
         "x": [
          0,
          10,
          20,
          30,
          40,
          50,
          60,
          70,
          80,
          90
         ],
         "xaxis": "x",
         "y": [
          0.048853617161512375,
          0.02091796137392521,
          0.01709025725722313,
          0.013674893416464329,
          0.014306963421404362,
          0.013075768947601318,
          0.013242381624877453,
          0.011593664065003395,
          0.012051325291395187,
          0.011586944572627544
         ],
         "yaxis": "y"
        }
       ],
       "layout": {
        "height": 500,
        "legend": {
         "tracegroupgap": 0
        },
        "margin": {
         "t": 60
        },
        "template": {
         "data": {
          "bar": [
           {
            "error_x": {
             "color": "#2a3f5f"
            },
            "error_y": {
             "color": "#2a3f5f"
            },
            "marker": {
             "line": {
              "color": "#E5ECF6",
              "width": 0.5
             },
             "pattern": {
              "fillmode": "overlay",
              "size": 10,
              "solidity": 0.2
             }
            },
            "type": "bar"
           }
          ],
          "barpolar": [
           {
            "marker": {
             "line": {
              "color": "#E5ECF6",
              "width": 0.5
             },
             "pattern": {
              "fillmode": "overlay",
              "size": 10,
              "solidity": 0.2
             }
            },
            "type": "barpolar"
           }
          ],
          "carpet": [
           {
            "aaxis": {
             "endlinecolor": "#2a3f5f",
             "gridcolor": "white",
             "linecolor": "white",
             "minorgridcolor": "white",
             "startlinecolor": "#2a3f5f"
            },
            "baxis": {
             "endlinecolor": "#2a3f5f",
             "gridcolor": "white",
             "linecolor": "white",
             "minorgridcolor": "white",
             "startlinecolor": "#2a3f5f"
            },
            "type": "carpet"
           }
          ],
          "choropleth": [
           {
            "colorbar": {
             "outlinewidth": 0,
             "ticks": ""
            },
            "type": "choropleth"
           }
          ],
          "contour": [
           {
            "colorbar": {
             "outlinewidth": 0,
             "ticks": ""
            },
            "colorscale": [
             [
              0,
              "#0d0887"
             ],
             [
              0.1111111111111111,
              "#46039f"
             ],
             [
              0.2222222222222222,
              "#7201a8"
             ],
             [
              0.3333333333333333,
              "#9c179e"
             ],
             [
              0.4444444444444444,
              "#bd3786"
             ],
             [
              0.5555555555555556,
              "#d8576b"
             ],
             [
              0.6666666666666666,
              "#ed7953"
             ],
             [
              0.7777777777777778,
              "#fb9f3a"
             ],
             [
              0.8888888888888888,
              "#fdca26"
             ],
             [
              1,
              "#f0f921"
             ]
            ],
            "type": "contour"
           }
          ],
          "contourcarpet": [
           {
            "colorbar": {
             "outlinewidth": 0,
             "ticks": ""
            },
            "type": "contourcarpet"
           }
          ],
          "heatmap": [
           {
            "colorbar": {
             "outlinewidth": 0,
             "ticks": ""
            },
            "colorscale": [
             [
              0,
              "#0d0887"
             ],
             [
              0.1111111111111111,
              "#46039f"
             ],
             [
              0.2222222222222222,
              "#7201a8"
             ],
             [
              0.3333333333333333,
              "#9c179e"
             ],
             [
              0.4444444444444444,
              "#bd3786"
             ],
             [
              0.5555555555555556,
              "#d8576b"
             ],
             [
              0.6666666666666666,
              "#ed7953"
             ],
             [
              0.7777777777777778,
              "#fb9f3a"
             ],
             [
              0.8888888888888888,
              "#fdca26"
             ],
             [
              1,
              "#f0f921"
             ]
            ],
            "type": "heatmap"
           }
          ],
          "heatmapgl": [
           {
            "colorbar": {
             "outlinewidth": 0,
             "ticks": ""
            },
            "colorscale": [
             [
              0,
              "#0d0887"
             ],
             [
              0.1111111111111111,
              "#46039f"
             ],
             [
              0.2222222222222222,
              "#7201a8"
             ],
             [
              0.3333333333333333,
              "#9c179e"
             ],
             [
              0.4444444444444444,
              "#bd3786"
             ],
             [
              0.5555555555555556,
              "#d8576b"
             ],
             [
              0.6666666666666666,
              "#ed7953"
             ],
             [
              0.7777777777777778,
              "#fb9f3a"
             ],
             [
              0.8888888888888888,
              "#fdca26"
             ],
             [
              1,
              "#f0f921"
             ]
            ],
            "type": "heatmapgl"
           }
          ],
          "histogram": [
           {
            "marker": {
             "pattern": {
              "fillmode": "overlay",
              "size": 10,
              "solidity": 0.2
             }
            },
            "type": "histogram"
           }
          ],
          "histogram2d": [
           {
            "colorbar": {
             "outlinewidth": 0,
             "ticks": ""
            },
            "colorscale": [
             [
              0,
              "#0d0887"
             ],
             [
              0.1111111111111111,
              "#46039f"
             ],
             [
              0.2222222222222222,
              "#7201a8"
             ],
             [
              0.3333333333333333,
              "#9c179e"
             ],
             [
              0.4444444444444444,
              "#bd3786"
             ],
             [
              0.5555555555555556,
              "#d8576b"
             ],
             [
              0.6666666666666666,
              "#ed7953"
             ],
             [
              0.7777777777777778,
              "#fb9f3a"
             ],
             [
              0.8888888888888888,
              "#fdca26"
             ],
             [
              1,
              "#f0f921"
             ]
            ],
            "type": "histogram2d"
           }
          ],
          "histogram2dcontour": [
           {
            "colorbar": {
             "outlinewidth": 0,
             "ticks": ""
            },
            "colorscale": [
             [
              0,
              "#0d0887"
             ],
             [
              0.1111111111111111,
              "#46039f"
             ],
             [
              0.2222222222222222,
              "#7201a8"
             ],
             [
              0.3333333333333333,
              "#9c179e"
             ],
             [
              0.4444444444444444,
              "#bd3786"
             ],
             [
              0.5555555555555556,
              "#d8576b"
             ],
             [
              0.6666666666666666,
              "#ed7953"
             ],
             [
              0.7777777777777778,
              "#fb9f3a"
             ],
             [
              0.8888888888888888,
              "#fdca26"
             ],
             [
              1,
              "#f0f921"
             ]
            ],
            "type": "histogram2dcontour"
           }
          ],
          "mesh3d": [
           {
            "colorbar": {
             "outlinewidth": 0,
             "ticks": ""
            },
            "type": "mesh3d"
           }
          ],
          "parcoords": [
           {
            "line": {
             "colorbar": {
              "outlinewidth": 0,
              "ticks": ""
             }
            },
            "type": "parcoords"
           }
          ],
          "pie": [
           {
            "automargin": true,
            "type": "pie"
           }
          ],
          "scatter": [
           {
            "fillpattern": {
             "fillmode": "overlay",
             "size": 10,
             "solidity": 0.2
            },
            "type": "scatter"
           }
          ],
          "scatter3d": [
           {
            "line": {
             "colorbar": {
              "outlinewidth": 0,
              "ticks": ""
             }
            },
            "marker": {
             "colorbar": {
              "outlinewidth": 0,
              "ticks": ""
             }
            },
            "type": "scatter3d"
           }
          ],
          "scattercarpet": [
           {
            "marker": {
             "colorbar": {
              "outlinewidth": 0,
              "ticks": ""
             }
            },
            "type": "scattercarpet"
           }
          ],
          "scattergeo": [
           {
            "marker": {
             "colorbar": {
              "outlinewidth": 0,
              "ticks": ""
             }
            },
            "type": "scattergeo"
           }
          ],
          "scattergl": [
           {
            "marker": {
             "colorbar": {
              "outlinewidth": 0,
              "ticks": ""
             }
            },
            "type": "scattergl"
           }
          ],
          "scattermapbox": [
           {
            "marker": {
             "colorbar": {
              "outlinewidth": 0,
              "ticks": ""
             }
            },
            "type": "scattermapbox"
           }
          ],
          "scatterpolar": [
           {
            "marker": {
             "colorbar": {
              "outlinewidth": 0,
              "ticks": ""
             }
            },
            "type": "scatterpolar"
           }
          ],
          "scatterpolargl": [
           {
            "marker": {
             "colorbar": {
              "outlinewidth": 0,
              "ticks": ""
             }
            },
            "type": "scatterpolargl"
           }
          ],
          "scatterternary": [
           {
            "marker": {
             "colorbar": {
              "outlinewidth": 0,
              "ticks": ""
             }
            },
            "type": "scatterternary"
           }
          ],
          "surface": [
           {
            "colorbar": {
             "outlinewidth": 0,
             "ticks": ""
            },
            "colorscale": [
             [
              0,
              "#0d0887"
             ],
             [
              0.1111111111111111,
              "#46039f"
             ],
             [
              0.2222222222222222,
              "#7201a8"
             ],
             [
              0.3333333333333333,
              "#9c179e"
             ],
             [
              0.4444444444444444,
              "#bd3786"
             ],
             [
              0.5555555555555556,
              "#d8576b"
             ],
             [
              0.6666666666666666,
              "#ed7953"
             ],
             [
              0.7777777777777778,
              "#fb9f3a"
             ],
             [
              0.8888888888888888,
              "#fdca26"
             ],
             [
              1,
              "#f0f921"
             ]
            ],
            "type": "surface"
           }
          ],
          "table": [
           {
            "cells": {
             "fill": {
              "color": "#EBF0F8"
             },
             "line": {
              "color": "white"
             }
            },
            "header": {
             "fill": {
              "color": "#C8D4E3"
             },
             "line": {
              "color": "white"
             }
            },
            "type": "table"
           }
          ]
         },
         "layout": {
          "annotationdefaults": {
           "arrowcolor": "#2a3f5f",
           "arrowhead": 0,
           "arrowwidth": 1
          },
          "autotypenumbers": "strict",
          "coloraxis": {
           "colorbar": {
            "outlinewidth": 0,
            "ticks": ""
           }
          },
          "colorscale": {
           "diverging": [
            [
             0,
             "#8e0152"
            ],
            [
             0.1,
             "#c51b7d"
            ],
            [
             0.2,
             "#de77ae"
            ],
            [
             0.3,
             "#f1b6da"
            ],
            [
             0.4,
             "#fde0ef"
            ],
            [
             0.5,
             "#f7f7f7"
            ],
            [
             0.6,
             "#e6f5d0"
            ],
            [
             0.7,
             "#b8e186"
            ],
            [
             0.8,
             "#7fbc41"
            ],
            [
             0.9,
             "#4d9221"
            ],
            [
             1,
             "#276419"
            ]
           ],
           "sequential": [
            [
             0,
             "#0d0887"
            ],
            [
             0.1111111111111111,
             "#46039f"
            ],
            [
             0.2222222222222222,
             "#7201a8"
            ],
            [
             0.3333333333333333,
             "#9c179e"
            ],
            [
             0.4444444444444444,
             "#bd3786"
            ],
            [
             0.5555555555555556,
             "#d8576b"
            ],
            [
             0.6666666666666666,
             "#ed7953"
            ],
            [
             0.7777777777777778,
             "#fb9f3a"
            ],
            [
             0.8888888888888888,
             "#fdca26"
            ],
            [
             1,
             "#f0f921"
            ]
           ],
           "sequentialminus": [
            [
             0,
             "#0d0887"
            ],
            [
             0.1111111111111111,
             "#46039f"
            ],
            [
             0.2222222222222222,
             "#7201a8"
            ],
            [
             0.3333333333333333,
             "#9c179e"
            ],
            [
             0.4444444444444444,
             "#bd3786"
            ],
            [
             0.5555555555555556,
             "#d8576b"
            ],
            [
             0.6666666666666666,
             "#ed7953"
            ],
            [
             0.7777777777777778,
             "#fb9f3a"
            ],
            [
             0.8888888888888888,
             "#fdca26"
            ],
            [
             1,
             "#f0f921"
            ]
           ]
          },
          "colorway": [
           "#636efa",
           "#EF553B",
           "#00cc96",
           "#ab63fa",
           "#FFA15A",
           "#19d3f3",
           "#FF6692",
           "#B6E880",
           "#FF97FF",
           "#FECB52"
          ],
          "font": {
           "color": "#2a3f5f"
          },
          "geo": {
           "bgcolor": "white",
           "lakecolor": "white",
           "landcolor": "#E5ECF6",
           "showlakes": true,
           "showland": true,
           "subunitcolor": "white"
          },
          "hoverlabel": {
           "align": "left"
          },
          "hovermode": "closest",
          "mapbox": {
           "style": "light"
          },
          "paper_bgcolor": "white",
          "plot_bgcolor": "#E5ECF6",
          "polar": {
           "angularaxis": {
            "gridcolor": "white",
            "linecolor": "white",
            "ticks": ""
           },
           "bgcolor": "#E5ECF6",
           "radialaxis": {
            "gridcolor": "white",
            "linecolor": "white",
            "ticks": ""
           }
          },
          "scene": {
           "xaxis": {
            "backgroundcolor": "#E5ECF6",
            "gridcolor": "white",
            "gridwidth": 2,
            "linecolor": "white",
            "showbackground": true,
            "ticks": "",
            "zerolinecolor": "white"
           },
           "yaxis": {
            "backgroundcolor": "#E5ECF6",
            "gridcolor": "white",
            "gridwidth": 2,
            "linecolor": "white",
            "showbackground": true,
            "ticks": "",
            "zerolinecolor": "white"
           },
           "zaxis": {
            "backgroundcolor": "#E5ECF6",
            "gridcolor": "white",
            "gridwidth": 2,
            "linecolor": "white",
            "showbackground": true,
            "ticks": "",
            "zerolinecolor": "white"
           }
          },
          "shapedefaults": {
           "line": {
            "color": "#2a3f5f"
           }
          },
          "ternary": {
           "aaxis": {
            "gridcolor": "white",
            "linecolor": "white",
            "ticks": ""
           },
           "baxis": {
            "gridcolor": "white",
            "linecolor": "white",
            "ticks": ""
           },
           "bgcolor": "#E5ECF6",
           "caxis": {
            "gridcolor": "white",
            "linecolor": "white",
            "ticks": ""
           }
          },
          "title": {
           "x": 0.05
          },
          "xaxis": {
           "automargin": true,
           "gridcolor": "white",
           "linecolor": "white",
           "ticks": "",
           "title": {
            "standoff": 15
           },
           "zerolinecolor": "white",
           "zerolinewidth": 2
          },
          "yaxis": {
           "automargin": true,
           "gridcolor": "white",
           "linecolor": "white",
           "ticks": "",
           "title": {
            "standoff": 15
           },
           "zerolinecolor": "white",
           "zerolinewidth": 2
          }
         }
        },
        "width": 1200,
        "xaxis": {
         "anchor": "y",
         "domain": [
          0,
          1
         ],
         "title": {
          "text": "epoch"
         }
        },
        "yaxis": {
         "anchor": "x",
         "domain": [
          0,
          1
         ],
         "title": {
          "text": "loss"
         }
        }
       }
      }
     },
     "metadata": {},
     "output_type": "display_data"
    }
   ],
   "source": [
    "epoch = np.arange(0, epochs, 10)\n",
    "losses = []\n",
    "for i in epoch:\n",
    "    if i % 10 == 0:\n",
    "        losses.append(history.history[\"loss\"][i])\n",
    "        \n",
    "data = {\"epoch\":epoch,\"loss\":losses}\n",
    "data = pd.DataFrame(data) \n",
    "\n",
    "fig = px.line(data,x=\"epoch\",y=\"loss\",width = 1200, height = 500)\n",
    "fig.show()"
   ]
  },
  {
   "cell_type": "markdown",
   "metadata": {},
   "source": [
    "# <font color='red'> 5) Avaliação do modelo</font>"
   ]
  },
  {
   "cell_type": "code",
   "execution_count": null,
   "metadata": {},
   "outputs": [
    {
     "name": "stdout",
     "output_type": "stream",
     "text": [
      "1 mês input [[[0.3892355 ]\n",
      "  [0.28845758]\n",
      "  [0.49353152]\n",
      "  [0.26805051]\n",
      "  [0.2154394 ]\n",
      "  [0.21461659]\n",
      "  [0.38546403]\n",
      "  [0.43056318]\n",
      "  [0.30435623]\n",
      "  [0.42914623]\n",
      "  [0.42075116]\n",
      "  [0.41038031]]]\n",
      "1 mês output [0.41526264]\n",
      "\n",
      "2 mês input [[[0.28845758]\n",
      "  [0.49353152]\n",
      "  [0.26805051]\n",
      "  [0.2154394 ]\n",
      "  [0.21461659]\n",
      "  [0.38546403]\n",
      "  [0.43056318]\n",
      "  [0.30435623]\n",
      "  [0.42914623]\n",
      "  [0.42075116]\n",
      "  [0.41038031]\n",
      "  [0.41526264]]]\n",
      "2 mês output [0.41329947]\n",
      "\n",
      "3 mês input [[[0.49353152]\n",
      "  [0.26805051]\n",
      "  [0.2154394 ]\n",
      "  [0.21461659]\n",
      "  [0.38546403]\n",
      "  [0.43056318]\n",
      "  [0.30435623]\n",
      "  [0.42914623]\n",
      "  [0.42075116]\n",
      "  [0.41038031]\n",
      "  [0.41526264]\n",
      "  [0.41329947]]]\n",
      "3 mês output [0.42403838]\n",
      "\n",
      "4 mês input [[[0.26805051]\n",
      "  [0.2154394 ]\n",
      "  [0.21461659]\n",
      "  [0.38546403]\n",
      "  [0.43056318]\n",
      "  [0.30435623]\n",
      "  [0.42914623]\n",
      "  [0.42075116]\n",
      "  [0.41038031]\n",
      "  [0.41526264]\n",
      "  [0.41329947]\n",
      "  [0.42403838]]]\n",
      "4 mês output [0.41094786]\n",
      "\n",
      "5 mês input [[[0.2154394 ]\n",
      "  [0.21461659]\n",
      "  [0.38546403]\n",
      "  [0.43056318]\n",
      "  [0.30435623]\n",
      "  [0.42914623]\n",
      "  [0.42075116]\n",
      "  [0.41038031]\n",
      "  [0.41526264]\n",
      "  [0.41329947]\n",
      "  [0.42403838]\n",
      "  [0.41094786]]]\n",
      "5 mês output [0.413768]\n",
      "\n",
      "6 mês input [[[0.21461659]\n",
      "  [0.38546403]\n",
      "  [0.43056318]\n",
      "  [0.30435623]\n",
      "  [0.42914623]\n",
      "  [0.42075116]\n",
      "  [0.41038031]\n",
      "  [0.41526264]\n",
      "  [0.41329947]\n",
      "  [0.42403838]\n",
      "  [0.41094786]\n",
      "  [0.41376799]]]\n",
      "6 mês output [0.4303104]\n",
      "\n",
      "7 mês input [[[0.38546403]\n",
      "  [0.43056318]\n",
      "  [0.30435623]\n",
      "  [0.42914623]\n",
      "  [0.42075116]\n",
      "  [0.41038031]\n",
      "  [0.41526264]\n",
      "  [0.41329947]\n",
      "  [0.42403838]\n",
      "  [0.41094786]\n",
      "  [0.41376799]\n",
      "  [0.4303104 ]]]\n",
      "7 mês output [0.46890447]\n",
      "\n",
      "8 mês input [[[0.43056318]\n",
      "  [0.30435623]\n",
      "  [0.42914623]\n",
      "  [0.42075116]\n",
      "  [0.41038031]\n",
      "  [0.41526264]\n",
      "  [0.41329947]\n",
      "  [0.42403838]\n",
      "  [0.41094786]\n",
      "  [0.41376799]\n",
      "  [0.4303104 ]\n",
      "  [0.46890447]]]\n",
      "8 mês output [0.4894132]\n",
      "\n",
      "9 mês input [[[0.30435623]\n",
      "  [0.42914623]\n",
      "  [0.42075116]\n",
      "  [0.41038031]\n",
      "  [0.41526264]\n",
      "  [0.41329947]\n",
      "  [0.42403838]\n",
      "  [0.41094786]\n",
      "  [0.41376799]\n",
      "  [0.4303104 ]\n",
      "  [0.46890447]\n",
      "  [0.4894132 ]]]\n",
      "9 mês output [0.4881156]\n",
      "\n",
      "10 mês input [[[0.42914623]\n",
      "  [0.42075116]\n",
      "  [0.41038031]\n",
      "  [0.41526264]\n",
      "  [0.41329947]\n",
      "  [0.42403838]\n",
      "  [0.41094786]\n",
      "  [0.41376799]\n",
      "  [0.4303104 ]\n",
      "  [0.46890447]\n",
      "  [0.4894132 ]\n",
      "  [0.48811561]]]\n",
      "10 mês output [0.49728906]\n",
      "\n",
      "11 mês input [[[0.42075116]\n",
      "  [0.41038031]\n",
      "  [0.41526264]\n",
      "  [0.41329947]\n",
      "  [0.42403838]\n",
      "  [0.41094786]\n",
      "  [0.41376799]\n",
      "  [0.4303104 ]\n",
      "  [0.46890447]\n",
      "  [0.4894132 ]\n",
      "  [0.48811561]\n",
      "  [0.49728906]]]\n",
      "11 mês output [0.49893174]\n",
      "\n",
      "12 mês input [[[0.41038031]\n",
      "  [0.41526264]\n",
      "  [0.41329947]\n",
      "  [0.42403838]\n",
      "  [0.41094786]\n",
      "  [0.41376799]\n",
      "  [0.4303104 ]\n",
      "  [0.46890447]\n",
      "  [0.4894132 ]\n",
      "  [0.48811561]\n",
      "  [0.49728906]\n",
      "  [0.49893174]]]\n",
      "12 mês output [0.5017925]\n",
      "\n",
      "13 mês input [[[0.41526264]\n",
      "  [0.41329947]\n",
      "  [0.42403838]\n",
      "  [0.41094786]\n",
      "  [0.41376799]\n",
      "  [0.4303104 ]\n",
      "  [0.46890447]\n",
      "  [0.4894132 ]\n",
      "  [0.48811561]\n",
      "  [0.49728906]\n",
      "  [0.49893174]\n",
      "  [0.50179249]]]\n",
      "13 mês output [0.5038362]\n",
      "\n",
      "14 mês input [[[0.41329947]\n",
      "  [0.42403838]\n",
      "  [0.41094786]\n",
      "  [0.41376799]\n",
      "  [0.4303104 ]\n",
      "  [0.46890447]\n",
      "  [0.4894132 ]\n",
      "  [0.48811561]\n",
      "  [0.49728906]\n",
      "  [0.49893174]\n",
      "  [0.50179249]\n",
      "  [0.50383621]]]\n",
      "14 mês output [0.5065697]\n",
      "\n",
      "15 mês input [[[0.42403838]\n",
      "  [0.41094786]\n",
      "  [0.41376799]\n",
      "  [0.4303104 ]\n",
      "  [0.46890447]\n",
      "  [0.4894132 ]\n",
      "  [0.48811561]\n",
      "  [0.49728906]\n",
      "  [0.49893174]\n",
      "  [0.50179249]\n",
      "  [0.50383621]\n",
      "  [0.50656968]]]\n",
      "15 mês output [0.51183474]\n",
      "\n",
      "16 mês input [[[0.41094786]\n",
      "  [0.41376799]\n",
      "  [0.4303104 ]\n",
      "  [0.46890447]\n",
      "  [0.4894132 ]\n",
      "  [0.48811561]\n",
      "  [0.49728906]\n",
      "  [0.49893174]\n",
      "  [0.50179249]\n",
      "  [0.50383621]\n",
      "  [0.50656968]\n",
      "  [0.51183474]]]\n",
      "16 mês output [0.5231081]\n",
      "\n",
      "17 mês input [[[0.41376799]\n",
      "  [0.4303104 ]\n",
      "  [0.46890447]\n",
      "  [0.4894132 ]\n",
      "  [0.48811561]\n",
      "  [0.49728906]\n",
      "  [0.49893174]\n",
      "  [0.50179249]\n",
      "  [0.50383621]\n",
      "  [0.50656968]\n",
      "  [0.51183474]\n",
      "  [0.52310812]]]\n",
      "17 mês output [0.53849643]\n",
      "\n",
      "18 mês input [[[0.4303104 ]\n",
      "  [0.46890447]\n",
      "  [0.4894132 ]\n",
      "  [0.48811561]\n",
      "  [0.49728906]\n",
      "  [0.49893174]\n",
      "  [0.50179249]\n",
      "  [0.50383621]\n",
      "  [0.50656968]\n",
      "  [0.51183474]\n",
      "  [0.52310812]\n",
      "  [0.53849643]]]\n",
      "18 mês output [0.553079]\n",
      "\n",
      "19 mês input [[[0.46890447]\n",
      "  [0.4894132 ]\n",
      "  [0.48811561]\n",
      "  [0.49728906]\n",
      "  [0.49893174]\n",
      "  [0.50179249]\n",
      "  [0.50383621]\n",
      "  [0.50656968]\n",
      "  [0.51183474]\n",
      "  [0.52310812]\n",
      "  [0.53849643]\n",
      "  [0.55307901]]]\n",
      "19 mês output [0.5681547]\n",
      "\n",
      "20 mês input [[[0.4894132 ]\n",
      "  [0.48811561]\n",
      "  [0.49728906]\n",
      "  [0.49893174]\n",
      "  [0.50179249]\n",
      "  [0.50383621]\n",
      "  [0.50656968]\n",
      "  [0.51183474]\n",
      "  [0.52310812]\n",
      "  [0.53849643]\n",
      "  [0.55307901]\n",
      "  [0.56815469]]]\n",
      "20 mês output [0.58031005]\n",
      "\n",
      "21 mês input [[[0.48811561]\n",
      "  [0.49728906]\n",
      "  [0.49893174]\n",
      "  [0.50179249]\n",
      "  [0.50383621]\n",
      "  [0.50656968]\n",
      "  [0.51183474]\n",
      "  [0.52310812]\n",
      "  [0.53849643]\n",
      "  [0.55307901]\n",
      "  [0.56815469]\n",
      "  [0.58031005]]]\n",
      "21 mês output [0.5897996]\n",
      "\n",
      "22 mês input [[[0.49728906]\n",
      "  [0.49893174]\n",
      "  [0.50179249]\n",
      "  [0.50383621]\n",
      "  [0.50656968]\n",
      "  [0.51183474]\n",
      "  [0.52310812]\n",
      "  [0.53849643]\n",
      "  [0.55307901]\n",
      "  [0.56815469]\n",
      "  [0.58031005]\n",
      "  [0.58979958]]]\n",
      "22 mês output [0.59805745]\n",
      "\n",
      "23 mês input [[[0.49893174]\n",
      "  [0.50179249]\n",
      "  [0.50383621]\n",
      "  [0.50656968]\n",
      "  [0.51183474]\n",
      "  [0.52310812]\n",
      "  [0.53849643]\n",
      "  [0.55307901]\n",
      "  [0.56815469]\n",
      "  [0.58031005]\n",
      "  [0.58979958]\n",
      "  [0.59805745]]]\n",
      "23 mês output [0.6055824]\n",
      "\n",
      "24 mês input [[[0.50179249]\n",
      "  [0.50383621]\n",
      "  [0.50656968]\n",
      "  [0.51183474]\n",
      "  [0.52310812]\n",
      "  [0.53849643]\n",
      "  [0.55307901]\n",
      "  [0.56815469]\n",
      "  [0.58031005]\n",
      "  [0.58979958]\n",
      "  [0.59805745]\n",
      "  [0.60558242]]]\n",
      "24 mês output [0.6137308]\n",
      "\n"
     ]
    }
   ],
   "source": [
    "test_predictions = []\n",
    "\n",
    "first_eval_batch = train_data_scaled[-time_stemp:]\n",
    "current_batch = first_eval_batch.reshape((1, time_stemp, n_features))\n",
    "\n",
    "for i in range(len(test_data)):\n",
    "    \n",
    "    print(\"{} mês input {}\".format(i + 1, current_batch))\n",
    "    # get the prediction value for the first batch\n",
    "    current_pred = model.predict(current_batch, verbose=0)[0]\n",
    "\n",
    "    print(\"{} mês output {}\\n\".format(i + 1, current_pred))\n",
    "    \n",
    "    # append the prediction into the array\n",
    "    test_predictions.append(current_pred) \n",
    "    \n",
    "    # use the prediction to update the batch and remove the first value\n",
    "    current_batch = np.append(current_batch[:,1:,:],[[current_pred]],axis=1)"
   ]
  },
  {
   "cell_type": "code",
   "execution_count": null,
   "metadata": {},
   "outputs": [
    {
     "data": {
      "text/plain": [
       "[array([0.41526264], dtype=float32),\n",
       " array([0.41329947], dtype=float32),\n",
       " array([0.42403838], dtype=float32),\n",
       " array([0.41094786], dtype=float32),\n",
       " array([0.413768], dtype=float32),\n",
       " array([0.4303104], dtype=float32),\n",
       " array([0.46890447], dtype=float32),\n",
       " array([0.4894132], dtype=float32),\n",
       " array([0.4881156], dtype=float32),\n",
       " array([0.49728906], dtype=float32),\n",
       " array([0.49893174], dtype=float32),\n",
       " array([0.5017925], dtype=float32),\n",
       " array([0.5038362], dtype=float32),\n",
       " array([0.5065697], dtype=float32),\n",
       " array([0.51183474], dtype=float32),\n",
       " array([0.5231081], dtype=float32),\n",
       " array([0.53849643], dtype=float32),\n",
       " array([0.553079], dtype=float32),\n",
       " array([0.5681547], dtype=float32),\n",
       " array([0.58031005], dtype=float32),\n",
       " array([0.5897996], dtype=float32),\n",
       " array([0.59805745], dtype=float32),\n",
       " array([0.6055824], dtype=float32),\n",
       " array([0.6137308], dtype=float32)]"
      ]
     },
     "metadata": {},
     "output_type": "display_data"
    }
   ],
   "source": [
    "test_predictions"
   ]
  },
  {
   "cell_type": "markdown",
   "metadata": {},
   "source": [
    "### 5.1) Predição dos dados de treino e teste"
   ]
  },
  {
   "cell_type": "markdown",
   "metadata": {},
   "source": [
    "### 5.2) Erro Percentual Absoluto Médio"
   ]
  },
  {
   "cell_type": "code",
   "execution_count": null,
   "metadata": {},
   "outputs": [],
   "source": [
    "def avaliando_modelo(train_y, test_y, train_predict, test_predict):\n",
    "    train_rmse = np.sqrt(keras.losses.mean_squared_error(train_y.flatten(), train_predict.flatten()))\n",
    "    # Convertendo RMSE para termos percentuais\n",
    "    train_rmse_percent = (train_rmse / np.mean(train_y.flatten())) * 100\n",
    "    print('Train Score: %.2f%% RMSE' % train_rmse_percent)\n",
    "\n",
    "    test_rmse = np.sqrt(keras.losses.mean_squared_error(test_y.flatten(), test_predict.flatten()))\n",
    "    # Convertendo RMSE para termos percentuais\n",
    "    test_rmse_percent = (test_rmse / np.mean(test_y.flatten())) * 100\n",
    "    print('Test Score: %.2f%% RMSE\\n' % test_rmse_percent)\n",
    "\n",
    "    trainScore = (keras.losses.mean_absolute_percentage_error(train_y.flatten(), train_predict.flatten()))\n",
    "    print('Train Score: %.2f%% MAPE' % (trainScore))\n",
    "    testScore = (keras.losses.mean_absolute_percentage_error(test_y.flatten() , test_predict.flatten()))\n",
    "    print('Test Score: %.2f%% MAPE' % (testScore))"
   ]
  },
  {
   "cell_type": "code",
   "execution_count": null,
   "metadata": {},
   "outputs": [
    {
     "name": "stdout",
     "output_type": "stream",
     "text": [
      "Train Score: 10.38% RMSE\n",
      "Test Score: 12.46% RMSE\n",
      "\n",
      "Train Score: 8.90% MAPE\n",
      "Test Score: 10.50% MAPE\n"
     ]
    }
   ],
   "source": [
    "avaliando_modelo(train_y, test_y, train_predict, test_predict)"
   ]
  },
  {
   "cell_type": "markdown",
   "metadata": {},
   "source": [
    "### 5.3) Plotando gráfico de predição "
   ]
  },
  {
   "cell_type": "code",
   "execution_count": null,
   "metadata": {},
   "outputs": [
    {
     "ename": "ValueError",
     "evalue": "x and y must have same first dimension, but have shapes (216,) and (1,)",
     "output_type": "error",
     "traceback": [
      "\u001b[1;31m---------------------------------------------------------------------------\u001b[0m\n",
      "\u001b[1;31mValueError\u001b[0m                                Traceback (most recent call last)\n",
      "Cell \u001b[1;32mIn[480], line 2\u001b[0m\n",
      "\u001b[0;32m      1\u001b[0m plt\u001b[38;5;241m.\u001b[39mfigure(figsize\u001b[38;5;241m=\u001b[39m(\u001b[38;5;241m12\u001b[39m, \u001b[38;5;241m6\u001b[39m))\n",
      "\u001b[1;32m----> 2\u001b[0m \u001b[43mplt\u001b[49m\u001b[38;5;241;43m.\u001b[39;49m\u001b[43mplot\u001b[49m\u001b[43m(\u001b[49m\u001b[43mdata_cleaned_month\u001b[49m\u001b[38;5;241;43m.\u001b[39;49m\u001b[43mindex\u001b[49m\u001b[43m[\u001b[49m\u001b[43m:\u001b[49m\u001b[38;5;28;43mlen\u001b[39;49m\u001b[43m(\u001b[49m\u001b[43mtrain_predict\u001b[49m\u001b[43m)\u001b[49m\u001b[43m]\u001b[49m\u001b[43m,\u001b[49m\u001b[43m \u001b[49m\u001b[43mtrain_y\u001b[49m\u001b[43m[\u001b[49m\u001b[38;5;241;43m0\u001b[39;49m\u001b[43m]\u001b[49m\u001b[43m,\u001b[49m\u001b[43m \u001b[49m\u001b[43mlabel\u001b[49m\u001b[38;5;241;43m=\u001b[39;49m\u001b[38;5;124;43m'\u001b[39;49m\u001b[38;5;124;43mReal (Treinamento)\u001b[39;49m\u001b[38;5;124;43m'\u001b[39;49m\u001b[43m,\u001b[49m\u001b[43m \u001b[49m\u001b[43mcolor\u001b[49m\u001b[38;5;241;43m=\u001b[39;49m\u001b[38;5;124;43m'\u001b[39;49m\u001b[38;5;124;43mblue\u001b[39;49m\u001b[38;5;124;43m'\u001b[39;49m\u001b[43m)\u001b[49m\n",
      "\u001b[0;32m      3\u001b[0m plt\u001b[38;5;241m.\u001b[39mplot(data_cleaned_month\u001b[38;5;241m.\u001b[39mindex[:\u001b[38;5;28mlen\u001b[39m(train_predict)], train_predict[:, \u001b[38;5;241m0\u001b[39m], label\u001b[38;5;241m=\u001b[39m\u001b[38;5;124m'\u001b[39m\u001b[38;5;124mPrevisto (Treinamento)\u001b[39m\u001b[38;5;124m'\u001b[39m, color\u001b[38;5;241m=\u001b[39m\u001b[38;5;124m'\u001b[39m\u001b[38;5;124morange\u001b[39m\u001b[38;5;124m'\u001b[39m, linestyle\u001b[38;5;241m=\u001b[39m\u001b[38;5;124m'\u001b[39m\u001b[38;5;124mdashed\u001b[39m\u001b[38;5;124m'\u001b[39m)\n",
      "\u001b[0;32m      4\u001b[0m \u001b[38;5;66;03m# plt.plot(output_data.index[len(train_predict):len(train_predict) + len(test_predict)], test_y[0], label='Real (Teste)', color='green')\u001b[39;00m\n",
      "\u001b[0;32m      5\u001b[0m \u001b[38;5;66;03m# plt.plot(output_data.index[len(train_predict):len(train_predict) + len(test_predict)], test_predict[:, 0], label='Previsto (Teste)', color='red', linestyle='dashed')\u001b[39;00m\n",
      "\n",
      "File \u001b[1;32m~\\AppData\\Local\\Packages\\PythonSoftwareFoundation.Python.3.10_qbz5n2kfra8p0\\LocalCache\\local-packages\\Python310\\site-packages\\matplotlib\\pyplot.py:2812\u001b[0m, in \u001b[0;36mplot\u001b[1;34m(scalex, scaley, data, *args, **kwargs)\u001b[0m\n",
      "\u001b[0;32m   2810\u001b[0m \u001b[38;5;129m@_copy_docstring_and_deprecators\u001b[39m(Axes\u001b[38;5;241m.\u001b[39mplot)\n",
      "\u001b[0;32m   2811\u001b[0m \u001b[38;5;28;01mdef\u001b[39;00m \u001b[38;5;21mplot\u001b[39m(\u001b[38;5;241m*\u001b[39margs, scalex\u001b[38;5;241m=\u001b[39m\u001b[38;5;28;01mTrue\u001b[39;00m, scaley\u001b[38;5;241m=\u001b[39m\u001b[38;5;28;01mTrue\u001b[39;00m, data\u001b[38;5;241m=\u001b[39m\u001b[38;5;28;01mNone\u001b[39;00m, \u001b[38;5;241m*\u001b[39m\u001b[38;5;241m*\u001b[39mkwargs):\n",
      "\u001b[1;32m-> 2812\u001b[0m     \u001b[38;5;28;01mreturn\u001b[39;00m gca()\u001b[38;5;241m.\u001b[39mplot(\n",
      "\u001b[0;32m   2813\u001b[0m         \u001b[38;5;241m*\u001b[39margs, scalex\u001b[38;5;241m=\u001b[39mscalex, scaley\u001b[38;5;241m=\u001b[39mscaley,\n",
      "\u001b[0;32m   2814\u001b[0m         \u001b[38;5;241m*\u001b[39m\u001b[38;5;241m*\u001b[39m({\u001b[38;5;124m\"\u001b[39m\u001b[38;5;124mdata\u001b[39m\u001b[38;5;124m\"\u001b[39m: data} \u001b[38;5;28;01mif\u001b[39;00m data \u001b[38;5;129;01mis\u001b[39;00m \u001b[38;5;129;01mnot\u001b[39;00m \u001b[38;5;28;01mNone\u001b[39;00m \u001b[38;5;28;01melse\u001b[39;00m {}), \u001b[38;5;241m*\u001b[39m\u001b[38;5;241m*\u001b[39mkwargs)\n",
      "\n",
      "File \u001b[1;32m~\\AppData\\Local\\Packages\\PythonSoftwareFoundation.Python.3.10_qbz5n2kfra8p0\\LocalCache\\local-packages\\Python310\\site-packages\\matplotlib\\axes\\_axes.py:1688\u001b[0m, in \u001b[0;36mAxes.plot\u001b[1;34m(self, scalex, scaley, data, *args, **kwargs)\u001b[0m\n",
      "\u001b[0;32m   1445\u001b[0m \u001b[38;5;250m\u001b[39m\u001b[38;5;124;03m\"\"\"\u001b[39;00m\n",
      "\u001b[0;32m   1446\u001b[0m \u001b[38;5;124;03mPlot y versus x as lines and/or markers.\u001b[39;00m\n",
      "\u001b[0;32m   1447\u001b[0m \n",
      "\u001b[1;32m   (...)\u001b[0m\n",
      "\u001b[0;32m   1685\u001b[0m \u001b[38;5;124;03m(``'green'``) or hex strings (``'#008000'``).\u001b[39;00m\n",
      "\u001b[0;32m   1686\u001b[0m \u001b[38;5;124;03m\"\"\"\u001b[39;00m\n",
      "\u001b[0;32m   1687\u001b[0m kwargs \u001b[38;5;241m=\u001b[39m cbook\u001b[38;5;241m.\u001b[39mnormalize_kwargs(kwargs, mlines\u001b[38;5;241m.\u001b[39mLine2D)\n",
      "\u001b[1;32m-> 1688\u001b[0m lines \u001b[38;5;241m=\u001b[39m [\u001b[38;5;241m*\u001b[39m\u001b[38;5;28mself\u001b[39m\u001b[38;5;241m.\u001b[39m_get_lines(\u001b[38;5;241m*\u001b[39margs, data\u001b[38;5;241m=\u001b[39mdata, \u001b[38;5;241m*\u001b[39m\u001b[38;5;241m*\u001b[39mkwargs)]\n",
      "\u001b[0;32m   1689\u001b[0m \u001b[38;5;28;01mfor\u001b[39;00m line \u001b[38;5;129;01min\u001b[39;00m lines:\n",
      "\u001b[0;32m   1690\u001b[0m     \u001b[38;5;28mself\u001b[39m\u001b[38;5;241m.\u001b[39madd_line(line)\n",
      "\n",
      "File \u001b[1;32m~\\AppData\\Local\\Packages\\PythonSoftwareFoundation.Python.3.10_qbz5n2kfra8p0\\LocalCache\\local-packages\\Python310\\site-packages\\matplotlib\\axes\\_base.py:311\u001b[0m, in \u001b[0;36m_process_plot_var_args.__call__\u001b[1;34m(self, data, *args, **kwargs)\u001b[0m\n",
      "\u001b[0;32m    309\u001b[0m     this \u001b[38;5;241m+\u001b[39m\u001b[38;5;241m=\u001b[39m args[\u001b[38;5;241m0\u001b[39m],\n",
      "\u001b[0;32m    310\u001b[0m     args \u001b[38;5;241m=\u001b[39m args[\u001b[38;5;241m1\u001b[39m:]\n",
      "\u001b[1;32m--> 311\u001b[0m \u001b[38;5;28;01myield from\u001b[39;00m \u001b[38;5;28;43mself\u001b[39;49m\u001b[38;5;241;43m.\u001b[39;49m\u001b[43m_plot_args\u001b[49m\u001b[43m(\u001b[49m\n",
      "\u001b[0;32m    312\u001b[0m \u001b[43m    \u001b[49m\u001b[43mthis\u001b[49m\u001b[43m,\u001b[49m\u001b[43m \u001b[49m\u001b[43mkwargs\u001b[49m\u001b[43m,\u001b[49m\u001b[43m \u001b[49m\u001b[43mambiguous_fmt_datakey\u001b[49m\u001b[38;5;241;43m=\u001b[39;49m\u001b[43mambiguous_fmt_datakey\u001b[49m\u001b[43m)\u001b[49m\n",
      "\n",
      "File \u001b[1;32m~\\AppData\\Local\\Packages\\PythonSoftwareFoundation.Python.3.10_qbz5n2kfra8p0\\LocalCache\\local-packages\\Python310\\site-packages\\matplotlib\\axes\\_base.py:504\u001b[0m, in \u001b[0;36m_process_plot_var_args._plot_args\u001b[1;34m(self, tup, kwargs, return_kwargs, ambiguous_fmt_datakey)\u001b[0m\n",
      "\u001b[0;32m    501\u001b[0m     \u001b[38;5;28mself\u001b[39m\u001b[38;5;241m.\u001b[39maxes\u001b[38;5;241m.\u001b[39myaxis\u001b[38;5;241m.\u001b[39mupdate_units(y)\n",
      "\u001b[0;32m    503\u001b[0m \u001b[38;5;28;01mif\u001b[39;00m x\u001b[38;5;241m.\u001b[39mshape[\u001b[38;5;241m0\u001b[39m] \u001b[38;5;241m!=\u001b[39m y\u001b[38;5;241m.\u001b[39mshape[\u001b[38;5;241m0\u001b[39m]:\n",
      "\u001b[1;32m--> 504\u001b[0m     \u001b[38;5;28;01mraise\u001b[39;00m \u001b[38;5;167;01mValueError\u001b[39;00m(\u001b[38;5;124mf\u001b[39m\u001b[38;5;124m\"\u001b[39m\u001b[38;5;124mx and y must have same first dimension, but \u001b[39m\u001b[38;5;124m\"\u001b[39m\n",
      "\u001b[0;32m    505\u001b[0m                      \u001b[38;5;124mf\u001b[39m\u001b[38;5;124m\"\u001b[39m\u001b[38;5;124mhave shapes \u001b[39m\u001b[38;5;132;01m{\u001b[39;00mx\u001b[38;5;241m.\u001b[39mshape\u001b[38;5;132;01m}\u001b[39;00m\u001b[38;5;124m and \u001b[39m\u001b[38;5;132;01m{\u001b[39;00my\u001b[38;5;241m.\u001b[39mshape\u001b[38;5;132;01m}\u001b[39;00m\u001b[38;5;124m\"\u001b[39m)\n",
      "\u001b[0;32m    506\u001b[0m \u001b[38;5;28;01mif\u001b[39;00m x\u001b[38;5;241m.\u001b[39mndim \u001b[38;5;241m>\u001b[39m \u001b[38;5;241m2\u001b[39m \u001b[38;5;129;01mor\u001b[39;00m y\u001b[38;5;241m.\u001b[39mndim \u001b[38;5;241m>\u001b[39m \u001b[38;5;241m2\u001b[39m:\n",
      "\u001b[0;32m    507\u001b[0m     \u001b[38;5;28;01mraise\u001b[39;00m \u001b[38;5;167;01mValueError\u001b[39;00m(\u001b[38;5;124mf\u001b[39m\u001b[38;5;124m\"\u001b[39m\u001b[38;5;124mx and y can be no greater than 2D, but have \u001b[39m\u001b[38;5;124m\"\u001b[39m\n",
      "\u001b[0;32m    508\u001b[0m                      \u001b[38;5;124mf\u001b[39m\u001b[38;5;124m\"\u001b[39m\u001b[38;5;124mshapes \u001b[39m\u001b[38;5;132;01m{\u001b[39;00mx\u001b[38;5;241m.\u001b[39mshape\u001b[38;5;132;01m}\u001b[39;00m\u001b[38;5;124m and \u001b[39m\u001b[38;5;132;01m{\u001b[39;00my\u001b[38;5;241m.\u001b[39mshape\u001b[38;5;132;01m}\u001b[39;00m\u001b[38;5;124m\"\u001b[39m)\n",
      "\n",
      "\u001b[1;31mValueError\u001b[0m: x and y must have same first dimension, but have shapes (216,) and (1,)"
     ]
    },
    {
     "data": {
      "image/png": "[encoded data removed]",
      "text/plain": [
       "<Figure size 1200x600 with 1 Axes>"
      ]
     },
     "metadata": {},
     "output_type": "display_data"
    }
   ],
   "source": [
    "plt.figure(figsize=(12, 6))\n",
    "plt.plot(data_cleaned_month.index[:len(train_predict)], train_y[0], label='Real (Treinamento)', color='blue')\n",
    "plt.plot(data_cleaned_month.index[:len(train_predict)], train_predict[:, 0], label='Previsto (Treinamento)', color='orange', linestyle='dashed')\n",
    "# plt.plot(output_data.index[len(train_predict):len(train_predict) + len(test_predict)], test_y[0], label='Real (Teste)', color='green')\n",
    "# plt.plot(output_data.index[len(train_predict):len(train_predict) + len(test_predict)], test_predict[:, 0], label='Previsto (Teste)', color='red', linestyle='dashed')\n",
    "plt.xlabel('Data')\n",
    "plt.ylabel('Produção de Energia (original scale)')\n",
    "plt.title('Previsões da Produção de Energia com LSTM')\n",
    "plt.legend()\n",
    "plt.show()"
   ]
  },
  {
   "cell_type": "code",
   "execution_count": null,
   "metadata": {},
   "outputs": [
    {
     "ename": "ValueError",
     "evalue": "x and y must have same first dimension, but have shapes (23,) and (1,)",
     "output_type": "error",
     "traceback": [
      "\u001b[1;31m---------------------------------------------------------------------------\u001b[0m\n",
      "\u001b[1;31mValueError\u001b[0m                                Traceback (most recent call last)\n",
      "Cell \u001b[1;32mIn[383], line 4\u001b[0m\n",
      "\u001b[0;32m      1\u001b[0m plt\u001b[38;5;241m.\u001b[39mfigure(figsize\u001b[38;5;241m=\u001b[39m(\u001b[38;5;241m12\u001b[39m, \u001b[38;5;241m6\u001b[39m))\n",
      "\u001b[0;32m      2\u001b[0m \u001b[38;5;66;03m# plt.plot(output_data.index[:len(train_predict)], train_y[0], label='Real (Treinamento)', color='blue')\u001b[39;00m\n",
      "\u001b[0;32m      3\u001b[0m \u001b[38;5;66;03m# plt.plot(output_data.index[:len(train_predict)], train_predict[:, 0], label='Previsto (Treinamento)', color='orange', linestyle='dashed')\u001b[39;00m\n",
      "\u001b[1;32m----> 4\u001b[0m \u001b[43mplt\u001b[49m\u001b[38;5;241;43m.\u001b[39;49m\u001b[43mplot\u001b[49m\u001b[43m(\u001b[49m\u001b[43mdata_cleaned_month\u001b[49m\u001b[38;5;241;43m.\u001b[39;49m\u001b[43mindex\u001b[49m\u001b[43m[\u001b[49m\u001b[38;5;28;43mlen\u001b[39;49m\u001b[43m(\u001b[49m\u001b[43mtrain_predict\u001b[49m\u001b[43m)\u001b[49m\u001b[43m:\u001b[49m\u001b[38;5;28;43mlen\u001b[39;49m\u001b[43m(\u001b[49m\u001b[43mtrain_predict\u001b[49m\u001b[43m)\u001b[49m\u001b[43m \u001b[49m\u001b[38;5;241;43m+\u001b[39;49m\u001b[43m \u001b[49m\u001b[38;5;28;43mlen\u001b[39;49m\u001b[43m(\u001b[49m\u001b[43mtest_predict\u001b[49m\u001b[43m)\u001b[49m\u001b[43m]\u001b[49m\u001b[43m,\u001b[49m\u001b[43m \u001b[49m\u001b[43mtest_y\u001b[49m\u001b[43m[\u001b[49m\u001b[38;5;241;43m0\u001b[39;49m\u001b[43m]\u001b[49m\u001b[43m,\u001b[49m\u001b[43m \u001b[49m\u001b[43mlabel\u001b[49m\u001b[38;5;241;43m=\u001b[39;49m\u001b[38;5;124;43m'\u001b[39;49m\u001b[38;5;124;43mReal (Teste)\u001b[39;49m\u001b[38;5;124;43m'\u001b[39;49m\u001b[43m,\u001b[49m\u001b[43m \u001b[49m\u001b[43mcolor\u001b[49m\u001b[38;5;241;43m=\u001b[39;49m\u001b[38;5;124;43m'\u001b[39;49m\u001b[38;5;124;43mgreen\u001b[39;49m\u001b[38;5;124;43m'\u001b[39;49m\u001b[43m)\u001b[49m\n",
      "\u001b[0;32m      5\u001b[0m plt\u001b[38;5;241m.\u001b[39mplot(data_cleaned_month\u001b[38;5;241m.\u001b[39mindex[\u001b[38;5;28mlen\u001b[39m(train_predict):\u001b[38;5;28mlen\u001b[39m(train_predict) \u001b[38;5;241m+\u001b[39m \u001b[38;5;28mlen\u001b[39m(test_predict)], test_predict[:, \u001b[38;5;241m0\u001b[39m], label\u001b[38;5;241m=\u001b[39m\u001b[38;5;124m'\u001b[39m\u001b[38;5;124mPrevisto (Teste)\u001b[39m\u001b[38;5;124m'\u001b[39m, color\u001b[38;5;241m=\u001b[39m\u001b[38;5;124m'\u001b[39m\u001b[38;5;124mred\u001b[39m\u001b[38;5;124m'\u001b[39m, linestyle\u001b[38;5;241m=\u001b[39m\u001b[38;5;124m'\u001b[39m\u001b[38;5;124mdashed\u001b[39m\u001b[38;5;124m'\u001b[39m)\n",
      "\u001b[0;32m      6\u001b[0m plt\u001b[38;5;241m.\u001b[39mxlabel(\u001b[38;5;124m'\u001b[39m\u001b[38;5;124mData\u001b[39m\u001b[38;5;124m'\u001b[39m)\n",
      "\n",
      "File \u001b[1;32m~\\AppData\\Local\\Packages\\PythonSoftwareFoundation.Python.3.10_qbz5n2kfra8p0\\LocalCache\\local-packages\\Python310\\site-packages\\matplotlib\\pyplot.py:2812\u001b[0m, in \u001b[0;36mplot\u001b[1;34m(scalex, scaley, data, *args, **kwargs)\u001b[0m\n",
      "\u001b[0;32m   2810\u001b[0m \u001b[38;5;129m@_copy_docstring_and_deprecators\u001b[39m(Axes\u001b[38;5;241m.\u001b[39mplot)\n",
      "\u001b[0;32m   2811\u001b[0m \u001b[38;5;28;01mdef\u001b[39;00m \u001b[38;5;21mplot\u001b[39m(\u001b[38;5;241m*\u001b[39margs, scalex\u001b[38;5;241m=\u001b[39m\u001b[38;5;28;01mTrue\u001b[39;00m, scaley\u001b[38;5;241m=\u001b[39m\u001b[38;5;28;01mTrue\u001b[39;00m, data\u001b[38;5;241m=\u001b[39m\u001b[38;5;28;01mNone\u001b[39;00m, \u001b[38;5;241m*\u001b[39m\u001b[38;5;241m*\u001b[39mkwargs):\n",
      "\u001b[1;32m-> 2812\u001b[0m     \u001b[38;5;28;01mreturn\u001b[39;00m gca()\u001b[38;5;241m.\u001b[39mplot(\n",
      "\u001b[0;32m   2813\u001b[0m         \u001b[38;5;241m*\u001b[39margs, scalex\u001b[38;5;241m=\u001b[39mscalex, scaley\u001b[38;5;241m=\u001b[39mscaley,\n",
      "\u001b[0;32m   2814\u001b[0m         \u001b[38;5;241m*\u001b[39m\u001b[38;5;241m*\u001b[39m({\u001b[38;5;124m\"\u001b[39m\u001b[38;5;124mdata\u001b[39m\u001b[38;5;124m\"\u001b[39m: data} \u001b[38;5;28;01mif\u001b[39;00m data \u001b[38;5;129;01mis\u001b[39;00m \u001b[38;5;129;01mnot\u001b[39;00m \u001b[38;5;28;01mNone\u001b[39;00m \u001b[38;5;28;01melse\u001b[39;00m {}), \u001b[38;5;241m*\u001b[39m\u001b[38;5;241m*\u001b[39mkwargs)\n",
      "\n",
      "File \u001b[1;32m~\\AppData\\Local\\Packages\\PythonSoftwareFoundation.Python.3.10_qbz5n2kfra8p0\\LocalCache\\local-packages\\Python310\\site-packages\\matplotlib\\axes\\_axes.py:1688\u001b[0m, in \u001b[0;36mAxes.plot\u001b[1;34m(self, scalex, scaley, data, *args, **kwargs)\u001b[0m\n",
      "\u001b[0;32m   1445\u001b[0m \u001b[38;5;250m\u001b[39m\u001b[38;5;124;03m\"\"\"\u001b[39;00m\n",
      "\u001b[0;32m   1446\u001b[0m \u001b[38;5;124;03mPlot y versus x as lines and/or markers.\u001b[39;00m\n",
      "\u001b[0;32m   1447\u001b[0m \n",
      "\u001b[1;32m   (...)\u001b[0m\n",
      "\u001b[0;32m   1685\u001b[0m \u001b[38;5;124;03m(``'green'``) or hex strings (``'#008000'``).\u001b[39;00m\n",
      "\u001b[0;32m   1686\u001b[0m \u001b[38;5;124;03m\"\"\"\u001b[39;00m\n",
      "\u001b[0;32m   1687\u001b[0m kwargs \u001b[38;5;241m=\u001b[39m cbook\u001b[38;5;241m.\u001b[39mnormalize_kwargs(kwargs, mlines\u001b[38;5;241m.\u001b[39mLine2D)\n",
      "\u001b[1;32m-> 1688\u001b[0m lines \u001b[38;5;241m=\u001b[39m [\u001b[38;5;241m*\u001b[39m\u001b[38;5;28mself\u001b[39m\u001b[38;5;241m.\u001b[39m_get_lines(\u001b[38;5;241m*\u001b[39margs, data\u001b[38;5;241m=\u001b[39mdata, \u001b[38;5;241m*\u001b[39m\u001b[38;5;241m*\u001b[39mkwargs)]\n",
      "\u001b[0;32m   1689\u001b[0m \u001b[38;5;28;01mfor\u001b[39;00m line \u001b[38;5;129;01min\u001b[39;00m lines:\n",
      "\u001b[0;32m   1690\u001b[0m     \u001b[38;5;28mself\u001b[39m\u001b[38;5;241m.\u001b[39madd_line(line)\n",
      "\n",
      "File \u001b[1;32m~\\AppData\\Local\\Packages\\PythonSoftwareFoundation.Python.3.10_qbz5n2kfra8p0\\LocalCache\\local-packages\\Python310\\site-packages\\matplotlib\\axes\\_base.py:311\u001b[0m, in \u001b[0;36m_process_plot_var_args.__call__\u001b[1;34m(self, data, *args, **kwargs)\u001b[0m\n",
      "\u001b[0;32m    309\u001b[0m     this \u001b[38;5;241m+\u001b[39m\u001b[38;5;241m=\u001b[39m args[\u001b[38;5;241m0\u001b[39m],\n",
      "\u001b[0;32m    310\u001b[0m     args \u001b[38;5;241m=\u001b[39m args[\u001b[38;5;241m1\u001b[39m:]\n",
      "\u001b[1;32m--> 311\u001b[0m \u001b[38;5;28;01myield from\u001b[39;00m \u001b[38;5;28;43mself\u001b[39;49m\u001b[38;5;241;43m.\u001b[39;49m\u001b[43m_plot_args\u001b[49m\u001b[43m(\u001b[49m\n",
      "\u001b[0;32m    312\u001b[0m \u001b[43m    \u001b[49m\u001b[43mthis\u001b[49m\u001b[43m,\u001b[49m\u001b[43m \u001b[49m\u001b[43mkwargs\u001b[49m\u001b[43m,\u001b[49m\u001b[43m \u001b[49m\u001b[43mambiguous_fmt_datakey\u001b[49m\u001b[38;5;241;43m=\u001b[39;49m\u001b[43mambiguous_fmt_datakey\u001b[49m\u001b[43m)\u001b[49m\n",
      "\n",
      "File \u001b[1;32m~\\AppData\\Local\\Packages\\PythonSoftwareFoundation.Python.3.10_qbz5n2kfra8p0\\LocalCache\\local-packages\\Python310\\site-packages\\matplotlib\\axes\\_base.py:504\u001b[0m, in \u001b[0;36m_process_plot_var_args._plot_args\u001b[1;34m(self, tup, kwargs, return_kwargs, ambiguous_fmt_datakey)\u001b[0m\n",
      "\u001b[0;32m    501\u001b[0m     \u001b[38;5;28mself\u001b[39m\u001b[38;5;241m.\u001b[39maxes\u001b[38;5;241m.\u001b[39myaxis\u001b[38;5;241m.\u001b[39mupdate_units(y)\n",
      "\u001b[0;32m    503\u001b[0m \u001b[38;5;28;01mif\u001b[39;00m x\u001b[38;5;241m.\u001b[39mshape[\u001b[38;5;241m0\u001b[39m] \u001b[38;5;241m!=\u001b[39m y\u001b[38;5;241m.\u001b[39mshape[\u001b[38;5;241m0\u001b[39m]:\n",
      "\u001b[1;32m--> 504\u001b[0m     \u001b[38;5;28;01mraise\u001b[39;00m \u001b[38;5;167;01mValueError\u001b[39;00m(\u001b[38;5;124mf\u001b[39m\u001b[38;5;124m\"\u001b[39m\u001b[38;5;124mx and y must have same first dimension, but \u001b[39m\u001b[38;5;124m\"\u001b[39m\n",
      "\u001b[0;32m    505\u001b[0m                      \u001b[38;5;124mf\u001b[39m\u001b[38;5;124m\"\u001b[39m\u001b[38;5;124mhave shapes \u001b[39m\u001b[38;5;132;01m{\u001b[39;00mx\u001b[38;5;241m.\u001b[39mshape\u001b[38;5;132;01m}\u001b[39;00m\u001b[38;5;124m and \u001b[39m\u001b[38;5;132;01m{\u001b[39;00my\u001b[38;5;241m.\u001b[39mshape\u001b[38;5;132;01m}\u001b[39;00m\u001b[38;5;124m\"\u001b[39m)\n",
      "\u001b[0;32m    506\u001b[0m \u001b[38;5;28;01mif\u001b[39;00m x\u001b[38;5;241m.\u001b[39mndim \u001b[38;5;241m>\u001b[39m \u001b[38;5;241m2\u001b[39m \u001b[38;5;129;01mor\u001b[39;00m y\u001b[38;5;241m.\u001b[39mndim \u001b[38;5;241m>\u001b[39m \u001b[38;5;241m2\u001b[39m:\n",
      "\u001b[0;32m    507\u001b[0m     \u001b[38;5;28;01mraise\u001b[39;00m \u001b[38;5;167;01mValueError\u001b[39;00m(\u001b[38;5;124mf\u001b[39m\u001b[38;5;124m\"\u001b[39m\u001b[38;5;124mx and y can be no greater than 2D, but have \u001b[39m\u001b[38;5;124m\"\u001b[39m\n",
      "\u001b[0;32m    508\u001b[0m                      \u001b[38;5;124mf\u001b[39m\u001b[38;5;124m\"\u001b[39m\u001b[38;5;124mshapes \u001b[39m\u001b[38;5;132;01m{\u001b[39;00mx\u001b[38;5;241m.\u001b[39mshape\u001b[38;5;132;01m}\u001b[39;00m\u001b[38;5;124m and \u001b[39m\u001b[38;5;132;01m{\u001b[39;00my\u001b[38;5;241m.\u001b[39mshape\u001b[38;5;132;01m}\u001b[39;00m\u001b[38;5;124m\"\u001b[39m)\n",
      "\n",
      "\u001b[1;31mValueError\u001b[0m: x and y must have same first dimension, but have shapes (23,) and (1,)"
     ]
    },
    {
     "data": {
      "image/png": "[encoded data removed]",
      "text/plain": [
       "<Figure size 1200x600 with 1 Axes>"
      ]
     },
     "metadata": {},
     "output_type": "display_data"
    }
   ],
   "source": [
    "plt.figure(figsize=(12, 6))\n",
    "# plt.plot(output_data.index[:len(train_predict)], train_y[0], label='Real (Treinamento)', color='blue')\n",
    "# plt.plot(output_data.index[:len(train_predict)], train_predict[:, 0], label='Previsto (Treinamento)', color='orange', linestyle='dashed')\n",
    "plt.plot(data_cleaned_month.index[len(train_predict):len(train_predict) + len(test_predict)], test_y[0], label='Real (Teste)', color='green')\n",
    "plt.plot(data_cleaned_month.index[len(train_predict):len(train_predict) + len(test_predict)], test_predict[:, 0], label='Previsto (Teste)', color='red', linestyle='dashed')\n",
    "plt.xlabel('Data')\n",
    "plt.ylabel('Produção de Energia (original scale)')\n",
    "plt.title('Previsões da Produção de Energia com LSTM')\n",
    "plt.legend()\n",
    "plt.show()"
   ]
  },
  {
   "cell_type": "code",
   "execution_count": null,
   "metadata": {},
   "outputs": [
    {
     "ename": "IndexError",
     "evalue": "too many indices for array: array is 1-dimensional, but 2 were indexed",
     "output_type": "error",
     "traceback": [
      "\u001b[1;31m---------------------------------------------------------------------------\u001b[0m\n",
      "\u001b[1;31mIndexError\u001b[0m                                Traceback (most recent call last)\n",
      "Cell \u001b[1;32mIn[384], line 2\u001b[0m\n",
      "\u001b[0;32m      1\u001b[0m train_predict_plot \u001b[38;5;241m=\u001b[39m np\u001b[38;5;241m.\u001b[39mempty_like(temp)\n",
      "\u001b[1;32m----> 2\u001b[0m \u001b[43mtrain_predict_plot\u001b[49m\u001b[43m[\u001b[49m\u001b[43m:\u001b[49m\u001b[43m,\u001b[49m\u001b[43m:\u001b[49m\u001b[43m]\u001b[49m \u001b[38;5;241m=\u001b[39m np\u001b[38;5;241m.\u001b[39mnan\n",
      "\u001b[0;32m      3\u001b[0m train_predict_plot[time_stemp:\u001b[38;5;28mlen\u001b[39m(train_predict) \u001b[38;5;241m+\u001b[39m time_stemp, :] \u001b[38;5;241m=\u001b[39m train_predict\n",
      "\u001b[0;32m      5\u001b[0m test_predict_plot \u001b[38;5;241m=\u001b[39m np\u001b[38;5;241m.\u001b[39mempty_like(temp)\n",
      "\n",
      "\u001b[1;31mIndexError\u001b[0m: too many indices for array: array is 1-dimensional, but 2 were indexed"
     ]
    }
   ],
   "source": [
    "train_predict_plot = np.empty_like(temp)\n",
    "train_predict_plot[:,:] = np.nan\n",
    "train_predict_plot[time_stemp:len(train_predict) + time_stemp, :] = train_predict\n",
    "\n",
    "test_predict_plot = np.empty_like(temp)\n",
    "test_predict_plot[:, :] = np.nan\n",
    "test_predict_plot[len(train_predict) + (time_stemp * 2):len(temp) - 2, :] = test_predict\n",
    "\n",
    "\n",
    "plt.figure(figsize=(20,10))\n",
    "plt.plot(scaler.inverse_transform(temp),color = \"red\",label = \"Real\")\n",
    "plt.plot(train_predict_plot,label = \"Predição treinamento\",color = \"green\", alpha = 0.7)\n",
    "plt.plot(test_predict_plot,label = \"Predição teste\",color = \"blue\", alpha = 0.7)\n",
    "plt.legend()\n",
    "plt.xlabel(\"Tempo (em meses)\")\n",
    "plt.ylabel(\"Valor de Geração (em milhões MWmed)\")\n",
    "plt.show()"
   ]
  },
  {
   "cell_type": "markdown",
   "metadata": {},
   "source": [
    "### 5.4) Comparando os resultados com os reais"
   ]
  },
  {
   "cell_type": "markdown",
   "metadata": {},
   "source": [
    "### 5.4.1) Ano 2019"
   ]
  },
  {
   "cell_type": "code",
   "execution_count": null,
   "metadata": {},
   "outputs": [
    {
     "data": {
      "text/plain": [
       "(12, 1)"
      ]
     },
     "metadata": {},
     "output_type": "display_data"
    }
   ],
   "source": [
    "test_y.shape"
   ]
  },
  {
   "cell_type": "code",
   "execution_count": null,
   "metadata": {},
   "outputs": [
    {
     "data": {
      "text/html": [
       "<div>\n",
       "<style scoped>\n",
       "    .dataframe tbody tr th:only-of-type {\n",
       "        vertical-align: middle;\n",
       "    }\n",
       "\n",
       "    .dataframe tbody tr th {\n",
       "        vertical-align: top;\n",
       "    }\n",
       "\n",
       "    .dataframe thead th {\n",
       "        text-align: right;\n",
       "    }\n",
       "</style>\n",
       "<table border=\"1\" class=\"dataframe\">\n",
       "  <thead>\n",
       "    <tr style=\"text-align: right;\">\n",
       "      <th></th>\n",
       "      <th>Real</th>\n",
       "      <th>Predito</th>\n",
       "      <th>Diferença (%)</th>\n",
       "    </tr>\n",
       "  </thead>\n",
       "  <tbody>\n",
       "    <tr>\n",
       "      <th>0</th>\n",
       "      <td>10485916.57</td>\n",
       "      <td>9692181.00</td>\n",
       "      <td>7.57</td>\n",
       "    </tr>\n",
       "    <tr>\n",
       "      <th>1</th>\n",
       "      <td>10123038.49</td>\n",
       "      <td>9876241.00</td>\n",
       "      <td>2.44</td>\n",
       "    </tr>\n",
       "    <tr>\n",
       "      <th>2</th>\n",
       "      <td>10414208.90</td>\n",
       "      <td>9929211.00</td>\n",
       "      <td>4.66</td>\n",
       "    </tr>\n",
       "    <tr>\n",
       "      <th>3</th>\n",
       "      <td>8216977.27</td>\n",
       "      <td>10023286.00</td>\n",
       "      <td>21.98</td>\n",
       "    </tr>\n",
       "    <tr>\n",
       "      <th>4</th>\n",
       "      <td>8077386.46</td>\n",
       "      <td>9409581.00</td>\n",
       "      <td>16.49</td>\n",
       "    </tr>\n",
       "    <tr>\n",
       "      <th>5</th>\n",
       "      <td>8634235.08</td>\n",
       "      <td>8747205.00</td>\n",
       "      <td>1.31</td>\n",
       "    </tr>\n",
       "    <tr>\n",
       "      <th>6</th>\n",
       "      <td>10154333.57</td>\n",
       "      <td>8482643.00</td>\n",
       "      <td>16.46</td>\n",
       "    </tr>\n",
       "    <tr>\n",
       "      <th>7</th>\n",
       "      <td>10260306.43</td>\n",
       "      <td>8880083.00</td>\n",
       "      <td>13.45</td>\n",
       "    </tr>\n",
       "    <tr>\n",
       "      <th>8</th>\n",
       "      <td>11255679.29</td>\n",
       "      <td>9337870.00</td>\n",
       "      <td>17.04</td>\n",
       "    </tr>\n",
       "    <tr>\n",
       "      <th>9</th>\n",
       "      <td>11845207.08</td>\n",
       "      <td>9839484.00</td>\n",
       "      <td>16.93</td>\n",
       "    </tr>\n",
       "    <tr>\n",
       "      <th>10</th>\n",
       "      <td>11050187.94</td>\n",
       "      <td>10299469.00</td>\n",
       "      <td>6.79</td>\n",
       "    </tr>\n",
       "    <tr>\n",
       "      <th>11</th>\n",
       "      <td>10468392.94</td>\n",
       "      <td>10561834.00</td>\n",
       "      <td>0.89</td>\n",
       "    </tr>\n",
       "    <tr>\n",
       "      <th>12</th>\n",
       "      <td>120985870.03</td>\n",
       "      <td>115079096.00</td>\n",
       "      <td>4.88</td>\n",
       "    </tr>\n",
       "  </tbody>\n",
       "</table>\n",
       "</div>"
      ],
      "text/plain": [
       "           Real      Predito  Diferença (%)\n",
       "0   10485916.57   9692181.00           7.57\n",
       "1   10123038.49   9876241.00           2.44\n",
       "2   10414208.90   9929211.00           4.66\n",
       "3    8216977.27  10023286.00          21.98\n",
       "4    8077386.46   9409581.00          16.49\n",
       "5    8634235.08   8747205.00           1.31\n",
       "6   10154333.57   8482643.00          16.46\n",
       "7   10260306.43   8880083.00          13.45\n",
       "8   11255679.29   9337870.00          17.04\n",
       "9   11845207.08   9839484.00          16.93\n",
       "10  11050187.94  10299469.00           6.79\n",
       "11  10468392.94  10561834.00           0.89\n",
       "12 120985870.03 115079096.00           4.88"
      ]
     },
     "metadata": {},
     "output_type": "display_data"
    }
   ],
   "source": [
    "pd.options.display.float_format = '{:.2f}'.format\n",
    "\n",
    "test_y_flatten = test_y.flatten()[:12]\n",
    "test_predict_flatten = test_predict.flatten()[:12]\n",
    "\n",
    "# Calculating the percentage difference\n",
    "percentage_difference = abs(((test_y_flatten - test_predict_flatten) / test_y_flatten) * 100)\n",
    "\n",
    "# Creating a DataFrame for comparison\n",
    "comparacao_df = pd.DataFrame({'Real': test_y_flatten, 'Predito': test_predict_flatten, 'Diferença (%)': percentage_difference})\n",
    "\n",
    "total_percentage_difference = abs(((test_y_flatten.sum() - test_predict_flatten.sum()) / test_y_flatten.sum()) * 100)\n",
    "\n",
    "# Adding a row for the total\n",
    "total_row = pd.DataFrame({'Real': test_y_flatten.sum(), 'Predito': test_predict_flatten.sum(), 'Diferença (%)': total_percentage_difference}, index=[len(comparacao_df)])\n",
    "comparacao_df = pd.concat([comparacao_df, total_row])\n",
    "\n",
    "display(comparacao_df)"
   ]
  },
  {
   "cell_type": "markdown",
   "metadata": {},
   "source": [
    "### 5.4.2) Ano 2020"
   ]
  },
  {
   "cell_type": "code",
   "execution_count": null,
   "metadata": {},
   "outputs": [
    {
     "data": {
      "text/html": [
       "<div>\n",
       "<style scoped>\n",
       "    .dataframe tbody tr th:only-of-type {\n",
       "        vertical-align: middle;\n",
       "    }\n",
       "\n",
       "    .dataframe tbody tr th {\n",
       "        vertical-align: top;\n",
       "    }\n",
       "\n",
       "    .dataframe thead th {\n",
       "        text-align: right;\n",
       "    }\n",
       "</style>\n",
       "<table border=\"1\" class=\"dataframe\">\n",
       "  <thead>\n",
       "    <tr style=\"text-align: right;\">\n",
       "      <th></th>\n",
       "      <th>Real</th>\n",
       "      <th>Predito</th>\n",
       "      <th>Diferença (%)</th>\n",
       "    </tr>\n",
       "  </thead>\n",
       "  <tbody>\n",
       "    <tr>\n",
       "      <th>0</th>\n",
       "      <td>10485916.57</td>\n",
       "      <td>9692181.00</td>\n",
       "      <td>7.57</td>\n",
       "    </tr>\n",
       "    <tr>\n",
       "      <th>1</th>\n",
       "      <td>10123038.49</td>\n",
       "      <td>9876241.00</td>\n",
       "      <td>2.44</td>\n",
       "    </tr>\n",
       "    <tr>\n",
       "      <th>2</th>\n",
       "      <td>10414208.90</td>\n",
       "      <td>9929211.00</td>\n",
       "      <td>4.66</td>\n",
       "    </tr>\n",
       "    <tr>\n",
       "      <th>3</th>\n",
       "      <td>8216977.27</td>\n",
       "      <td>10023286.00</td>\n",
       "      <td>21.98</td>\n",
       "    </tr>\n",
       "    <tr>\n",
       "      <th>4</th>\n",
       "      <td>8077386.46</td>\n",
       "      <td>9409581.00</td>\n",
       "      <td>16.49</td>\n",
       "    </tr>\n",
       "    <tr>\n",
       "      <th>5</th>\n",
       "      <td>8634235.08</td>\n",
       "      <td>8747205.00</td>\n",
       "      <td>1.31</td>\n",
       "    </tr>\n",
       "    <tr>\n",
       "      <th>6</th>\n",
       "      <td>10154333.57</td>\n",
       "      <td>8482643.00</td>\n",
       "      <td>16.46</td>\n",
       "    </tr>\n",
       "    <tr>\n",
       "      <th>7</th>\n",
       "      <td>10260306.43</td>\n",
       "      <td>8880083.00</td>\n",
       "      <td>13.45</td>\n",
       "    </tr>\n",
       "    <tr>\n",
       "      <th>8</th>\n",
       "      <td>11255679.29</td>\n",
       "      <td>9337870.00</td>\n",
       "      <td>17.04</td>\n",
       "    </tr>\n",
       "    <tr>\n",
       "      <th>9</th>\n",
       "      <td>11845207.08</td>\n",
       "      <td>9839484.00</td>\n",
       "      <td>16.93</td>\n",
       "    </tr>\n",
       "    <tr>\n",
       "      <th>10</th>\n",
       "      <td>11050187.94</td>\n",
       "      <td>10299469.00</td>\n",
       "      <td>6.79</td>\n",
       "    </tr>\n",
       "    <tr>\n",
       "      <th>11</th>\n",
       "      <td>10468392.94</td>\n",
       "      <td>10561834.00</td>\n",
       "      <td>0.89</td>\n",
       "    </tr>\n",
       "    <tr>\n",
       "      <th>12</th>\n",
       "      <td>120985870.03</td>\n",
       "      <td>115079096.00</td>\n",
       "      <td>4.88</td>\n",
       "    </tr>\n",
       "  </tbody>\n",
       "</table>\n",
       "</div>"
      ],
      "text/plain": [
       "           Real      Predito  Diferença (%)\n",
       "0   10485916.57   9692181.00           7.57\n",
       "1   10123038.49   9876241.00           2.44\n",
       "2   10414208.90   9929211.00           4.66\n",
       "3    8216977.27  10023286.00          21.98\n",
       "4    8077386.46   9409581.00          16.49\n",
       "5    8634235.08   8747205.00           1.31\n",
       "6   10154333.57   8482643.00          16.46\n",
       "7   10260306.43   8880083.00          13.45\n",
       "8   11255679.29   9337870.00          17.04\n",
       "9   11845207.08   9839484.00          16.93\n",
       "10  11050187.94  10299469.00           6.79\n",
       "11  10468392.94  10561834.00           0.89\n",
       "12 120985870.03 115079096.00           4.88"
      ]
     },
     "metadata": {},
     "output_type": "display_data"
    }
   ],
   "source": [
    "pd.options.display.float_format = '{:.2f}'.format\n",
    "\n",
    "test_y_flatten = test_y.flatten()[-12:]\n",
    "test_predict_flatten = test_predict.flatten()[-12:]\n",
    "\n",
    "# Calculating the percentage difference\n",
    "percentage_difference = abs(((test_y_flatten - test_predict_flatten) / test_y_flatten) * 100)\n",
    "\n",
    "# Creating a DataFrame for comparison\n",
    "comparacao_df = pd.DataFrame({'Real': test_y_flatten, 'Predito': test_predict_flatten, 'Diferença (%)': percentage_difference})\n",
    "\n",
    "total_percentage_difference = abs(((test_y_flatten.sum() - test_predict_flatten.sum()) / test_y_flatten.sum()) * 100)\n",
    "\n",
    "# Adding a row for the total\n",
    "total_row = pd.DataFrame({'Real': test_y_flatten.sum(), 'Predito': test_predict_flatten.sum(), 'Diferença (%)': total_percentage_difference}, index=[len(comparacao_df)])\n",
    "comparacao_df = pd.concat([comparacao_df, total_row])\n",
    "\n",
    "display(comparacao_df)"
   ]
  },
  {
   "cell_type": "markdown",
   "metadata": {},
   "source": [
    "### EXTRA - Usando PyCaret "
   ]
  },
  {
   "cell_type": "code",
   "execution_count": null,
   "metadata": {},
   "outputs": [],
   "source": [
    "data = data_cleaned_month\n",
    "\n",
    "data"
   ]
  },
  {
   "cell_type": "code",
   "execution_count": null,
   "metadata": {},
   "outputs": [
    {
     "data": {
      "application/vnd.plotly.v1+json": {
       "config": {
        "plotlyServerURL": "https://plot.ly"
       },
       "data": [
        {
         "hovertemplate": "variable=val_geracao<br>index=%{x}<br>value=%{y}<extra></extra>",
         "legendgroup": "val_geracao",
         "line": {
          "color": "#636efa",
          "dash": "solid"
         },
         "marker": {
          "symbol": "circle"
         },
         "mode": "lines",
         "name": "val_geracao",
         "orientation": "v",
         "showlegend": true,
         "type": "scatter",
         "x": [
          "0",
          "1",
          "2",
          "3",
          "4",
          "5",
          "6",
          "7",
          "8",
          "9",
          "10",
          "11",
          "12",
          "13",
          "14",
          "15",
          "16",
          "17",
          "18",
          "19",
          "20",
          "21",
          "22",
          "23",
          "24",
          "25",
          "26",
          "27",
          "28",
          "29",
          "30",
          "31",
          "32",
          "33",
          "34",
          "35",
          "36",
          "37",
          "38",
          "39",
          "40",
          "41",
          "42",
          "43",
          "44",
          "45",
          "46",
          "47",
          "48",
          "49",
          "50",
          "51",
          "52",
          "53",
          "54",
          "55",
          "56",
          "57",
          "58",
          "59",
          "60",
          "61",
          "62",
          "63",
          "64",
          "65",
          "66",
          "67",
          "68",
          "69",
          "70",
          "71",
          "72",
          "73",
          "74",
          "75",
          "76",
          "77",
          "78",
          "79",
          "80",
          "81",
          "82",
          "83",
          "84",
          "85",
          "86",
          "87",
          "88",
          "89",
          "90",
          "91",
          "92",
          "93",
          "94",
          "95",
          "96",
          "97",
          "98",
          "99",
          "100",
          "101",
          "102",
          "103",
          "104",
          "105",
          "106",
          "107",
          "108",
          "109",
          "110",
          "111",
          "112",
          "113",
          "114",
          "115",
          "116",
          "117",
          "118",
          "119",
          "120",
          "121",
          "122",
          "123",
          "124",
          "125",
          "126",
          "127",
          "128",
          "129",
          "130",
          "131",
          "132",
          "133",
          "134",
          "135",
          "136",
          "137",
          "138",
          "139",
          "140",
          "141",
          "142",
          "143",
          "144",
          "145",
          "146",
          "147",
          "148",
          "149",
          "150",
          "151",
          "152",
          "153",
          "154",
          "155",
          "156",
          "157",
          "158",
          "159",
          "160",
          "161",
          "162",
          "163",
          "164",
          "165",
          "166",
          "167",
          "168",
          "169",
          "170",
          "171",
          "172",
          "173",
          "174",
          "175",
          "176",
          "177",
          "178",
          "179",
          "180",
          "181",
          "182",
          "183",
          "184",
          "185",
          "186",
          "187",
          "188",
          "189",
          "190",
          "191",
          "192",
          "193",
          "194",
          "195",
          "196",
          "197",
          "198",
          "199",
          "200",
          "201",
          "202",
          "203",
          "204",
          "205",
          "206",
          "207",
          "208",
          "209",
          "210",
          "211",
          "212",
          "213",
          "214",
          "215",
          "216",
          "217",
          "218",
          "219",
          "220",
          "221",
          "222",
          "223",
          "224",
          "225",
          "226",
          "227",
          "228",
          "229",
          "230",
          "231",
          "232",
          "233",
          "234",
          "235",
          "236",
          "237",
          "238",
          "239",
          "240",
          "241",
          "242",
          "243",
          "244",
          "245",
          "246",
          "247",
          "248",
          "249",
          "250",
          "251"
         ],
         "xaxis": "x",
         "y": [
          10719179.7,
          10356806.3,
          10800055.29334,
          10688398.5,
          11534436.1,
          11152054.6,
          10837033.5,
          10713982.4,
          9167134.18,
          10284573,
          8982497.3,
          8918166.3,
          9438549.7,
          8879116.4,
          9783115.1,
          9316174.9,
          7942955.6,
          5891017.2,
          5575354.1,
          6162581.36,
          5833597.58,
          6067971.4,
          6459490.9,
          6477703.13,
          8018814.9,
          8383140.94,
          9979197.45,
          9523226.1,
          8898339.56,
          7575577.33,
          8711052.23,
          9497024.17,
          8504249.39,
          9568253.91,
          8634720.41,
          9012316.09,
          8811088.48,
          9910940.32,
          10639741.71,
          10065457.82,
          9795075.13,
          9248005.58,
          10400761.98,
          11341558.66,
          11545557.17,
          11729231.45,
          10626504.45,
          9931505.75,
          9296599.54,
          9313604.329526935,
          11442978.41,
          10864217.68,
          10686485.83,
          10248038.28,
          9881665.02,
          10677522.020526934,
          11143103.800526934,
          10384570.03,
          9984849.692,
          11323813.39,
          12775672.31,
          11490148.63,
          13252679.65,
          12160756.23,
          11359786.21,
          10724273.342161456,
          10460029.53,
          11893702.97,
          10244941.17,
          10843261.441,
          10420709.633,
          11883219.11,
          12562136.37,
          11071701.39,
          13191467.03,
          11900179.86,
          11854660.94,
          12312640.15,
          12707592.59,
          13320660.73,
          11992580.86,
          11963949.03,
          12316859.23,
          12218800.15,
          13380835.08,
          13229424.24,
          13856309.736,
          12258101.81,
          11063914.75,
          10904022.02,
          11545761.26,
          12312302.454,
          12371660.258,
          12599981.1,
          10898470.35,
          12367220.75,
          11820282.24,
          10865647.33,
          13179265.86,
          13179629.96,
          12549620.8,
          12305913.9,
          12336658.45,
          12654693.64,
          12073603.9,
          11944305.59,
          10521953.31,
          10914358.18,
          12541552.69,
          12738602.55,
          14146048.51,
          13328169.93,
          12627719.94,
          12123401.14,
          12502462.68,
          11811851.6,
          12339872.46,
          13025730.8,
          13240876.01,
          14022897.77,
          15065834.98,
          13155468.12,
          14393255.8,
          13245019.79,
          12112408.04,
          11117108.71,
          12300630.79,
          11860914.47,
          11963102.62,
          11892747.85,
          12605109.2,
          12984761.89,
          13475054.72,
          11187272.35,
          13181571.15,
          12676398.81,
          11785296.93,
          12110564.85,
          12098318.12,
          12607368.01,
          11999196.73,
          12149675.1,
          12818178.31,
          14210089.34,
          14586259.05,
          13736133.95,
          15043700.99,
          13214768.24,
          13576315.88,
          12421786.32,
          13003986.88,
          13514278.77,
          12544238.81,
          13171785.4,
          12521635.43,
          12802652.88,
          10847584.57,
          10297842.92,
          10022999.4,
          8941104.03,
          9629876.91,
          9880657.69,
          10773617.39,
          10823674.99,
          10674364.024588117,
          11110146.508886164,
          11608922.396554453,
          12787984.823002638,
          12807051.725836264,
          11407930.380889649,
          10633688.29209961,
          8941637.38209961,
          7413097.805247354,
          6185733.81636628,
          6445565.478836264,
          6846064.197836264,
          7960517.73809961,
          8560105.69568057,
          8016911.387099611,
          8323522.278836264,
          9053399.815349631,
          7263651.776864027,
          7907795.972119265,
          6642267.688340956,
          6573211.414674816,
          5880228.380007886,
          5320589.221674816,
          5801861.706674815,
          7042656.409007886,
          8642269.65698036,
          8020671.546007886,
          8580878.247674815,
          9625820.643254064,
          8962525.583786061,
          10554442.419254065,
          5888302.981914043,
          8748976.712254064,
          8681305.033020062,
          9410945.925254066,
          10131504.363254065,
          9413551.158020062,
          10461573.226869315,
          9824781.820020063,
          11591861.928254064,
          11295884.83453623,
          9539064.002893405,
          10860007.03607246,
          8177517.8117152825,
          7863276.452072458,
          6724760.085715283,
          7890808.822072458,
          9413728.575072458,
          10093490.991715282,
          10262206.382390909,
          8351522.605715282,
          9686007.67507246,
          9113784.860182738,
          8131679.246971505,
          10130175.167182738,
          7932807.293112326,
          7420099.118182737,
          7412080.668112326,
          9077030.942182736,
          9516533.231182737,
          8286615.436112327,
          9502724.721182737,
          9420912.63402606,
          9319846.180182736,
          11060071.091610143,
          9331222.262551095,
          9156961.868610142,
          8726184.24459046,
          7393989.088521573,
          6730046.81429523,
          7741992.287305071,
          9282903.069305072,
          11410340.01529523,
          11874192.84630507,
          9321581.46429523,
          10410742.55230507,
          10485916.569866795,
          10123038.48919797,
          10414208.903866794,
          8216977.273032382,
          8077386.457866794,
          8634235.083032383,
          10154333.570866795,
          10260306.428866794,
          11255679.293032382,
          11845207.079866795,
          11050187.942032382,
          10468392.938866794
         ],
         "yaxis": "y"
        },
        {
         "hovertemplate": "variable=MA12<br>index=%{x}<br>value=%{y}<extra></extra>",
         "legendgroup": "MA12",
         "line": {
          "color": "#EF553B",
          "dash": "solid"
         },
         "marker": {
          "symbol": "circle"
         },
         "mode": "lines",
         "name": "MA12",
         "orientation": "v",
         "showlegend": true,
         "type": "scatter",
         "x": [
          "0",
          "1",
          "2",
          "3",
          "4",
          "5",
          "6",
          "7",
          "8",
          "9",
          "10",
          "11",
          "12",
          "13",
          "14",
          "15",
          "16",
          "17",
          "18",
          "19",
          "20",
          "21",
          "22",
          "23",
          "24",
          "25",
          "26",
          "27",
          "28",
          "29",
          "30",
          "31",
          "32",
          "33",
          "34",
          "35",
          "36",
          "37",
          "38",
          "39",
          "40",
          "41",
          "42",
          "43",
          "44",
          "45",
          "46",
          "47",
          "48",
          "49",
          "50",
          "51",
          "52",
          "53",
          "54",
          "55",
          "56",
          "57",
          "58",
          "59",
          "60",
          "61",
          "62",
          "63",
          "64",
          "65",
          "66",
          "67",
          "68",
          "69",
          "70",
          "71",
          "72",
          "73",
          "74",
          "75",
          "76",
          "77",
          "78",
          "79",
          "80",
          "81",
          "82",
          "83",
          "84",
          "85",
          "86",
          "87",
          "88",
          "89",
          "90",
          "91",
          "92",
          "93",
          "94",
          "95",
          "96",
          "97",
          "98",
          "99",
          "100",
          "101",
          "102",
          "103",
          "104",
          "105",
          "106",
          "107",
          "108",
          "109",
          "110",
          "111",
          "112",
          "113",
          "114",
          "115",
          "116",
          "117",
          "118",
          "119",
          "120",
          "121",
          "122",
          "123",
          "124",
          "125",
          "126",
          "127",
          "128",
          "129",
          "130",
          "131",
          "132",
          "133",
          "134",
          "135",
          "136",
          "137",
          "138",
          "139",
          "140",
          "141",
          "142",
          "143",
          "144",
          "145",
          "146",
          "147",
          "148",
          "149",
          "150",
          "151",
          "152",
          "153",
          "154",
          "155",
          "156",
          "157",
          "158",
          "159",
          "160",
          "161",
          "162",
          "163",
          "164",
          "165",
          "166",
          "167",
          "168",
          "169",
          "170",
          "171",
          "172",
          "173",
          "174",
          "175",
          "176",
          "177",
          "178",
          "179",
          "180",
          "181",
          "182",
          "183",
          "184",
          "185",
          "186",
          "187",
          "188",
          "189",
          "190",
          "191",
          "192",
          "193",
          "194",
          "195",
          "196",
          "197",
          "198",
          "199",
          "200",
          "201",
          "202",
          "203",
          "204",
          "205",
          "206",
          "207",
          "208",
          "209",
          "210",
          "211",
          "212",
          "213",
          "214",
          "215",
          "216",
          "217",
          "218",
          "219",
          "220",
          "221",
          "222",
          "223",
          "224",
          "225",
          "226",
          "227",
          "228",
          "229",
          "230",
          "231",
          "232",
          "233",
          "234",
          "235",
          "236",
          "237",
          "238",
          "239",
          "240",
          "241",
          "242",
          "243",
          "244",
          "245",
          "246",
          "247",
          "248",
          "249",
          "250",
          "251"
         ],
         "xaxis": "x",
         "y": [
          null,
          null,
          null,
          null,
          null,
          null,
          null,
          null,
          null,
          null,
          null,
          10346193.097778333,
          10239473.931111665,
          10116333.106111666,
          10031588.09,
          9917236.123333333,
          9617946.081666665,
          9179526.298333334,
          8741053.014999999,
          8361769.595000002,
          8083974.878333334,
          7732591.411666666,
          7522340.878333334,
          7318968.947500001,
          7200657.714166667,
          7159326.425833333,
          7175666.621666667,
          7192920.888333333,
          7272536.218333334,
          7412916.229166667,
          7674224.406666667,
          7952094.640833334,
          8174648.958333333,
          8466339.1675,
          8647608.293333333,
          8858826.040000001,
          8924848.838333333,
          9052165.453333333,
          9107210.808333334,
          9152396.785,
          9227124.749166667,
          9366493.770000001,
          9507302.915833334,
          9661014.123333333,
          9914456.438333334,
          10094537.9,
          10260519.903333334,
          10337119.041666666,
          10377578.296666667,
          10327800.297460578,
          10394736.689127244,
          10461300.010793911,
          10535584.23579391,
          10618920.294127245,
          10575662.214127244,
          10520325.827504488,
          10486788.046715066,
          10374732.928381734,
          10321261.6985484,
          10437287.335215067,
          10727210.0660484,
          10908588.757754488,
          11059397.194421155,
          11167442.073587822,
          11223550.438587822,
          11263236.693767942,
          11311433.736267945,
          11412782.148724033,
          11337935.262846788,
          11376159.547096789,
          11412481.208846787,
          11459098.352180121,
          11441303.690513454,
          11406433.087180123,
          11401332.035513455,
          11379617.338013455,
          11420856.898846788,
          11553220.799499998,
          11740517.721166665,
          11859430.867833333,
          12005067.508666666,
          12098458.141083332,
          12256470.6075,
          12284435.694166666,
          12352660.586666666,
          12532470.824166665,
          12587874.383,
          12617701.212166667,
          12551805.696333332,
          12434420.852166668,
          12337601.574666666,
          12253571.718333332,
          12285161.668166667,
          12338164.340666667,
          12219965.267333334,
          12232333.650666667,
          12102287.580666667,
          11905306.1715,
          11848885.848499998,
          11925679.861,
          12049488.6985,
          12166313.021833332,
          12232221.121000001,
          12260753.719833335,
          12235915.69,
          12181276.064166667,
          12149899.644166669,
          12028827.763333334,
          12088933.634166667,
          12245013.235833334,
          12325578.456666665,
          12337956.7875,
          12344465.049166666,
          12329255.652500002,
          12343072.671666667,
          12272835.835,
          12295024.881666666,
          12385143.649166666,
          12611720.540833332,
          12870765.506666668,
          13081122.364166664,
          13115861.161666667,
          13136461.769166669,
          13129532.590833334,
          13086589.9325,
          13002732.229999999,
          12985912.905833332,
          12990001.478333332,
          12958603.991666667,
          12864188.745833332,
          12811208.178333335,
          12724696.854999999,
          12592131.833333334,
          12428115.519166669,
          12327141.798333332,
          12279756.716666667,
          12252497.457500001,
          12335285.469166666,
          12318426.08,
          12380630.541666666,
          12383638.384166667,
          12405048.988333335,
          12422804.7475,
          12524915.368333334,
          12617515.729166666,
          12829920.862499999,
          12985098.349166667,
          13029962.468333334,
          13179214.0475,
          13205149.170000002,
          13280621.566666668,
          13356197.463333333,
          13401617.636666665,
          13486793.495,
          13462081.588333333,
          13344795.216666667,
          13033239.01,
          12746714.7575,
          12328322.958333334,
          11972184.274166666,
          11643314.360000001,
          11431553.640833333,
          11245689.516666668,
          11021472.535,
          10865649.636215677,
          10693846.395289524,
          10617786.975835728,
          10616564.637752615,
          10779853.567405637,
          10872360.855813107,
          10923251.596821407,
          10923296.04282971,
          10738564.450766988,
          10430654.127964178,
          10069983.135367202,
          9738515.569353556,
          9512361.71214618,
          9299858.311045714,
          9000524.060257811,
          8628485.514910612,
          8315681.189036726,
          7970324.638701259,
          7743166.945369563,
          7551552.804223008,
          7481562.271675297,
          7456103.485312097,
          7362355.463881976,
          7275338.589618522,
          7198850.145527545,
          7205697.142302528,
          7206010.488878217,
          7227456.819614763,
          7275158.555273466,
          7416731.372516968,
          7637285.243111536,
          7574454.850909293,
          7755768.625707563,
          7989191.680125245,
          8330054.738756849,
          8690858.293471787,
          8888432.855889468,
          9040041.48671355,
          9190384.009547897,
          9441299.316262832,
          9580471.332203014,
          9628516.20046196,
          9653979.918530159,
          9844747.821013594,
          9770939.465998461,
          9607894.053723061,
          9481215.961791262,
          9421401.312776128,
          9478062.965584062,
          9461449.061877528,
          9338677.460685464,
          9179856.272920331,
          8998014.608390873,
          8880732.54539738,
          8819913.222989904,
          8799520.679772992,
          8762589.23528218,
          8819865.950481934,
          8918717.793824458,
          8927284.848500315,
          8776711.885533402,
          8713421.747099387,
          8802537.582791952,
          8772024.124884477,
          8934214.644170092,
          9034176.562135058,
          8953075.453920675,
          9019190.199877186,
          9017014.36407209,
          8960178.209587332,
          8848924.988347527,
          8829455.808191054,
          9089766.189789629,
          9287388.533549825,
          9279110.936072255,
          9370018.967082448,
          9322172.75693717,
          9388157.442491075,
          9492928.028762463,
          9450494.114465958,
          9507443.895244727,
          9666126.250972822,
          9867154.691269632,
          9948604.971233109,
          9935716.577711204,
          9933301.097174682,
          10077351.636986112,
          10082155.835866256
         ],
         "yaxis": "y"
        }
       ],
       "layout": {
        "legend": {
         "title": {
          "text": "variable"
         },
         "tracegroupgap": 0
        },
        "margin": {
         "t": 60
        },
        "template": {
         "data": {
          "bar": [
           {
            "error_x": {
             "color": "#f2f5fa"
            },
            "error_y": {
             "color": "#f2f5fa"
            },
            "marker": {
             "line": {
              "color": "rgb(17,17,17)",
              "width": 0.5
             },
             "pattern": {
              "fillmode": "overlay",
              "size": 10,
              "solidity": 0.2
             }
            },
            "type": "bar"
           }
          ],
          "barpolar": [
           {
            "marker": {
             "line": {
              "color": "rgb(17,17,17)",
              "width": 0.5
             },
             "pattern": {
              "fillmode": "overlay",
              "size": 10,
              "solidity": 0.2
             }
            },
            "type": "barpolar"
           }
          ],
          "carpet": [
           {
            "aaxis": {
             "endlinecolor": "#A2B1C6",
             "gridcolor": "#506784",
             "linecolor": "#506784",
             "minorgridcolor": "#506784",
             "startlinecolor": "#A2B1C6"
            },
            "baxis": {
             "endlinecolor": "#A2B1C6",
             "gridcolor": "#506784",
             "linecolor": "#506784",
             "minorgridcolor": "#506784",
             "startlinecolor": "#A2B1C6"
            },
            "type": "carpet"
           }
          ],
          "choropleth": [
           {
            "colorbar": {
             "outlinewidth": 0,
             "ticks": ""
            },
            "type": "choropleth"
           }
          ],
          "contour": [
           {
            "colorbar": {
             "outlinewidth": 0,
             "ticks": ""
            },
            "colorscale": [
             [
              0,
              "#0d0887"
             ],
             [
              0.1111111111111111,
              "#46039f"
             ],
             [
              0.2222222222222222,
              "#7201a8"
             ],
             [
              0.3333333333333333,
              "#9c179e"
             ],
             [
              0.4444444444444444,
              "#bd3786"
             ],
             [
              0.5555555555555556,
              "#d8576b"
             ],
             [
              0.6666666666666666,
              "#ed7953"
             ],
             [
              0.7777777777777778,
              "#fb9f3a"
             ],
             [
              0.8888888888888888,
              "#fdca26"
             ],
             [
              1,
              "#f0f921"
             ]
            ],
            "type": "contour"
           }
          ],
          "contourcarpet": [
           {
            "colorbar": {
             "outlinewidth": 0,
             "ticks": ""
            },
            "type": "contourcarpet"
           }
          ],
          "heatmap": [
           {
            "colorbar": {
             "outlinewidth": 0,
             "ticks": ""
            },
            "colorscale": [
             [
              0,
              "#0d0887"
             ],
             [
              0.1111111111111111,
              "#46039f"
             ],
             [
              0.2222222222222222,
              "#7201a8"
             ],
             [
              0.3333333333333333,
              "#9c179e"
             ],
             [
              0.4444444444444444,
              "#bd3786"
             ],
             [
              0.5555555555555556,
              "#d8576b"
             ],
             [
              0.6666666666666666,
              "#ed7953"
             ],
             [
              0.7777777777777778,
              "#fb9f3a"
             ],
             [
              0.8888888888888888,
              "#fdca26"
             ],
             [
              1,
              "#f0f921"
             ]
            ],
            "type": "heatmap"
           }
          ],
          "heatmapgl": [
           {
            "colorbar": {
             "outlinewidth": 0,
             "ticks": ""
            },
            "colorscale": [
             [
              0,
              "#0d0887"
             ],
             [
              0.1111111111111111,
              "#46039f"
             ],
             [
              0.2222222222222222,
              "#7201a8"
             ],
             [
              0.3333333333333333,
              "#9c179e"
             ],
             [
              0.4444444444444444,
              "#bd3786"
             ],
             [
              0.5555555555555556,
              "#d8576b"
             ],
             [
              0.6666666666666666,
              "#ed7953"
             ],
             [
              0.7777777777777778,
              "#fb9f3a"
             ],
             [
              0.8888888888888888,
              "#fdca26"
             ],
             [
              1,
              "#f0f921"
             ]
            ],
            "type": "heatmapgl"
           }
          ],
          "histogram": [
           {
            "marker": {
             "pattern": {
              "fillmode": "overlay",
              "size": 10,
              "solidity": 0.2
             }
            },
            "type": "histogram"
           }
          ],
          "histogram2d": [
           {
            "colorbar": {
             "outlinewidth": 0,
             "ticks": ""
            },
            "colorscale": [
             [
              0,
              "#0d0887"
             ],
             [
              0.1111111111111111,
              "#46039f"
             ],
             [
              0.2222222222222222,
              "#7201a8"
             ],
             [
              0.3333333333333333,
              "#9c179e"
             ],
             [
              0.4444444444444444,
              "#bd3786"
             ],
             [
              0.5555555555555556,
              "#d8576b"
             ],
             [
              0.6666666666666666,
              "#ed7953"
             ],
             [
              0.7777777777777778,
              "#fb9f3a"
             ],
             [
              0.8888888888888888,
              "#fdca26"
             ],
             [
              1,
              "#f0f921"
             ]
            ],
            "type": "histogram2d"
           }
          ],
          "histogram2dcontour": [
           {
            "colorbar": {
             "outlinewidth": 0,
             "ticks": ""
            },
            "colorscale": [
             [
              0,
              "#0d0887"
             ],
             [
              0.1111111111111111,
              "#46039f"
             ],
             [
              0.2222222222222222,
              "#7201a8"
             ],
             [
              0.3333333333333333,
              "#9c179e"
             ],
             [
              0.4444444444444444,
              "#bd3786"
             ],
             [
              0.5555555555555556,
              "#d8576b"
             ],
             [
              0.6666666666666666,
              "#ed7953"
             ],
             [
              0.7777777777777778,
              "#fb9f3a"
             ],
             [
              0.8888888888888888,
              "#fdca26"
             ],
             [
              1,
              "#f0f921"
             ]
            ],
            "type": "histogram2dcontour"
           }
          ],
          "mesh3d": [
           {
            "colorbar": {
             "outlinewidth": 0,
             "ticks": ""
            },
            "type": "mesh3d"
           }
          ],
          "parcoords": [
           {
            "line": {
             "colorbar": {
              "outlinewidth": 0,
              "ticks": ""
             }
            },
            "type": "parcoords"
           }
          ],
          "pie": [
           {
            "automargin": true,
            "type": "pie"
           }
          ],
          "scatter": [
           {
            "marker": {
             "line": {
              "color": "#283442"
             }
            },
            "type": "scatter"
           }
          ],
          "scatter3d": [
           {
            "line": {
             "colorbar": {
              "outlinewidth": 0,
              "ticks": ""
             }
            },
            "marker": {
             "colorbar": {
              "outlinewidth": 0,
              "ticks": ""
             }
            },
            "type": "scatter3d"
           }
          ],
          "scattercarpet": [
           {
            "marker": {
             "colorbar": {
              "outlinewidth": 0,
              "ticks": ""
             }
            },
            "type": "scattercarpet"
           }
          ],
          "scattergeo": [
           {
            "marker": {
             "colorbar": {
              "outlinewidth": 0,
              "ticks": ""
             }
            },
            "type": "scattergeo"
           }
          ],
          "scattergl": [
           {
            "marker": {
             "line": {
              "color": "#283442"
             }
            },
            "type": "scattergl"
           }
          ],
          "scattermapbox": [
           {
            "marker": {
             "colorbar": {
              "outlinewidth": 0,
              "ticks": ""
             }
            },
            "type": "scattermapbox"
           }
          ],
          "scatterpolar": [
           {
            "marker": {
             "colorbar": {
              "outlinewidth": 0,
              "ticks": ""
             }
            },
            "type": "scatterpolar"
           }
          ],
          "scatterpolargl": [
           {
            "marker": {
             "colorbar": {
              "outlinewidth": 0,
              "ticks": ""
             }
            },
            "type": "scatterpolargl"
           }
          ],
          "scatterternary": [
           {
            "marker": {
             "colorbar": {
              "outlinewidth": 0,
              "ticks": ""
             }
            },
            "type": "scatterternary"
           }
          ],
          "surface": [
           {
            "colorbar": {
             "outlinewidth": 0,
             "ticks": ""
            },
            "colorscale": [
             [
              0,
              "#0d0887"
             ],
             [
              0.1111111111111111,
              "#46039f"
             ],
             [
              0.2222222222222222,
              "#7201a8"
             ],
             [
              0.3333333333333333,
              "#9c179e"
             ],
             [
              0.4444444444444444,
              "#bd3786"
             ],
             [
              0.5555555555555556,
              "#d8576b"
             ],
             [
              0.6666666666666666,
              "#ed7953"
             ],
             [
              0.7777777777777778,
              "#fb9f3a"
             ],
             [
              0.8888888888888888,
              "#fdca26"
             ],
             [
              1,
              "#f0f921"
             ]
            ],
            "type": "surface"
           }
          ],
          "table": [
           {
            "cells": {
             "fill": {
              "color": "#506784"
             },
             "line": {
              "color": "rgb(17,17,17)"
             }
            },
            "header": {
             "fill": {
              "color": "#2a3f5f"
             },
             "line": {
              "color": "rgb(17,17,17)"
             }
            },
            "type": "table"
           }
          ]
         },
         "layout": {
          "annotationdefaults": {
           "arrowcolor": "#f2f5fa",
           "arrowhead": 0,
           "arrowwidth": 1
          },
          "autotypenumbers": "strict",
          "coloraxis": {
           "colorbar": {
            "outlinewidth": 0,
            "ticks": ""
           }
          },
          "colorscale": {
           "diverging": [
            [
             0,
             "#8e0152"
            ],
            [
             0.1,
             "#c51b7d"
            ],
            [
             0.2,
             "#de77ae"
            ],
            [
             0.3,
             "#f1b6da"
            ],
            [
             0.4,
             "#fde0ef"
            ],
            [
             0.5,
             "#f7f7f7"
            ],
            [
             0.6,
             "#e6f5d0"
            ],
            [
             0.7,
             "#b8e186"
            ],
            [
             0.8,
             "#7fbc41"
            ],
            [
             0.9,
             "#4d9221"
            ],
            [
             1,
             "#276419"
            ]
           ],
           "sequential": [
            [
             0,
             "#0d0887"
            ],
            [
             0.1111111111111111,
             "#46039f"
            ],
            [
             0.2222222222222222,
             "#7201a8"
            ],
            [
             0.3333333333333333,
             "#9c179e"
            ],
            [
             0.4444444444444444,
             "#bd3786"
            ],
            [
             0.5555555555555556,
             "#d8576b"
            ],
            [
             0.6666666666666666,
             "#ed7953"
            ],
            [
             0.7777777777777778,
             "#fb9f3a"
            ],
            [
             0.8888888888888888,
             "#fdca26"
            ],
            [
             1,
             "#f0f921"
            ]
           ],
           "sequentialminus": [
            [
             0,
             "#0d0887"
            ],
            [
             0.1111111111111111,
             "#46039f"
            ],
            [
             0.2222222222222222,
             "#7201a8"
            ],
            [
             0.3333333333333333,
             "#9c179e"
            ],
            [
             0.4444444444444444,
             "#bd3786"
            ],
            [
             0.5555555555555556,
             "#d8576b"
            ],
            [
             0.6666666666666666,
             "#ed7953"
            ],
            [
             0.7777777777777778,
             "#fb9f3a"
            ],
            [
             0.8888888888888888,
             "#fdca26"
            ],
            [
             1,
             "#f0f921"
            ]
           ]
          },
          "colorway": [
           "#636efa",
           "#EF553B",
           "#00cc96",
           "#ab63fa",
           "#FFA15A",
           "#19d3f3",
           "#FF6692",
           "#B6E880",
           "#FF97FF",
           "#FECB52"
          ],
          "font": {
           "color": "#f2f5fa"
          },
          "geo": {
           "bgcolor": "rgb(17,17,17)",
           "lakecolor": "rgb(17,17,17)",
           "landcolor": "rgb(17,17,17)",
           "showlakes": true,
           "showland": true,
           "subunitcolor": "#506784"
          },
          "hoverlabel": {
           "align": "left"
          },
          "hovermode": "closest",
          "mapbox": {
           "style": "dark"
          },
          "paper_bgcolor": "rgb(17,17,17)",
          "plot_bgcolor": "rgb(17,17,17)",
          "polar": {
           "angularaxis": {
            "gridcolor": "#506784",
            "linecolor": "#506784",
            "ticks": ""
           },
           "bgcolor": "rgb(17,17,17)",
           "radialaxis": {
            "gridcolor": "#506784",
            "linecolor": "#506784",
            "ticks": ""
           }
          },
          "scene": {
           "xaxis": {
            "backgroundcolor": "rgb(17,17,17)",
            "gridcolor": "#506784",
            "gridwidth": 2,
            "linecolor": "#506784",
            "showbackground": true,
            "ticks": "",
            "zerolinecolor": "#C8D4E3"
           },
           "yaxis": {
            "backgroundcolor": "rgb(17,17,17)",
            "gridcolor": "#506784",
            "gridwidth": 2,
            "linecolor": "#506784",
            "showbackground": true,
            "ticks": "",
            "zerolinecolor": "#C8D4E3"
           },
           "zaxis": {
            "backgroundcolor": "rgb(17,17,17)",
            "gridcolor": "#506784",
            "gridwidth": 2,
            "linecolor": "#506784",
            "showbackground": true,
            "ticks": "",
            "zerolinecolor": "#C8D4E3"
           }
          },
          "shapedefaults": {
           "line": {
            "color": "#f2f5fa"
           }
          },
          "sliderdefaults": {
           "bgcolor": "#C8D4E3",
           "bordercolor": "rgb(17,17,17)",
           "borderwidth": 1,
           "tickwidth": 0
          },
          "ternary": {
           "aaxis": {
            "gridcolor": "#506784",
            "linecolor": "#506784",
            "ticks": ""
           },
           "baxis": {
            "gridcolor": "#506784",
            "linecolor": "#506784",
            "ticks": ""
           },
           "bgcolor": "rgb(17,17,17)",
           "caxis": {
            "gridcolor": "#506784",
            "linecolor": "#506784",
            "ticks": ""
           }
          },
          "title": {
           "x": 0.05
          },
          "updatemenudefaults": {
           "bgcolor": "#506784",
           "borderwidth": 0
          },
          "xaxis": {
           "automargin": true,
           "gridcolor": "#283442",
           "linecolor": "#506784",
           "ticks": "",
           "title": {
            "standoff": 15
           },
           "zerolinecolor": "#283442",
           "zerolinewidth": 2
          },
          "yaxis": {
           "automargin": true,
           "gridcolor": "#283442",
           "linecolor": "#506784",
           "ticks": "",
           "title": {
            "standoff": 15
           },
           "zerolinecolor": "#283442",
           "zerolinewidth": 2
          }
         }
        },
        "xaxis": {
         "anchor": "y",
         "domain": [
          0,
          1
         ],
         "title": {
          "text": "index"
         }
        },
        "yaxis": {
         "anchor": "x",
         "domain": [
          0,
          1
         ],
         "title": {
          "text": "value"
         }
        }
       }
      }
     },
     "metadata": {},
     "output_type": "display_data"
    }
   ],
   "source": [
    "# Convertendo o índice de data para string\n",
    "data.index = data.index.astype(str)\n",
    "\n",
    "# Calcular a média móvel de 12 meses\n",
    "data['MA12'] = data['val_geracao'].rolling(12).mean()\n",
    "\n",
    "# Plotar o gráfico\n",
    "fig = px.line(data, x=data.index, y=[\"val_geracao\", \"MA12\"], template='plotly_dark')\n",
    "fig.show()"
   ]
  },
  {
   "cell_type": "code",
   "execution_count": null,
   "metadata": {},
   "outputs": [
    {
     "data": {
      "text/html": [
       "<div>\n",
       "<style scoped>\n",
       "    .dataframe tbody tr th:only-of-type {\n",
       "        vertical-align: middle;\n",
       "    }\n",
       "\n",
       "    .dataframe tbody tr th {\n",
       "        vertical-align: top;\n",
       "    }\n",
       "\n",
       "    .dataframe thead th {\n",
       "        text-align: right;\n",
       "    }\n",
       "</style>\n",
       "<table border=\"1\" class=\"dataframe\">\n",
       "  <thead>\n",
       "    <tr style=\"text-align: right;\">\n",
       "      <th></th>\n",
       "      <th>Series</th>\n",
       "      <th>ano</th>\n",
       "      <th>mes</th>\n",
       "      <th>val_geracao</th>\n",
       "    </tr>\n",
       "  </thead>\n",
       "  <tbody>\n",
       "    <tr>\n",
       "      <th>0</th>\n",
       "      <td>1</td>\n",
       "      <td>2000</td>\n",
       "      <td>1</td>\n",
       "      <td>10719179.70</td>\n",
       "    </tr>\n",
       "    <tr>\n",
       "      <th>1</th>\n",
       "      <td>2</td>\n",
       "      <td>2000</td>\n",
       "      <td>2</td>\n",
       "      <td>10356806.30</td>\n",
       "    </tr>\n",
       "    <tr>\n",
       "      <th>2</th>\n",
       "      <td>3</td>\n",
       "      <td>2000</td>\n",
       "      <td>3</td>\n",
       "      <td>10800055.29</td>\n",
       "    </tr>\n",
       "    <tr>\n",
       "      <th>3</th>\n",
       "      <td>4</td>\n",
       "      <td>2000</td>\n",
       "      <td>4</td>\n",
       "      <td>10688398.50</td>\n",
       "    </tr>\n",
       "    <tr>\n",
       "      <th>4</th>\n",
       "      <td>5</td>\n",
       "      <td>2000</td>\n",
       "      <td>5</td>\n",
       "      <td>11534436.10</td>\n",
       "    </tr>\n",
       "  </tbody>\n",
       "</table>\n",
       "</div>"
      ],
      "text/plain": [
       "   Series   ano  mes  val_geracao\n",
       "0       1  2000    1  10719179.70\n",
       "1       2  2000    2  10356806.30\n",
       "2       3  2000    3  10800055.29\n",
       "3       4  2000    4  10688398.50\n",
       "4       5  2000    5  11534436.10"
      ]
     },
     "metadata": {},
     "output_type": "display_data"
    }
   ],
   "source": [
    "data['Series'] = np.arange(1,len(data)+1)\n",
    "\n",
    "data.drop(['ano-mes', 'MA12'], axis=1, inplace=True)\n",
    "\n",
    "data = data[['Series', 'ano', 'mes', 'val_geracao']] \n",
    "\n",
    "data.head()"
   ]
  },
  {
   "cell_type": "code",
   "execution_count": null,
   "metadata": {},
   "outputs": [],
   "source": [
    "train = data[data['ano'] < 2019]\n",
    "test = data[data['ano'] >= 2019]"
   ]
  },
  {
   "cell_type": "code",
   "execution_count": null,
   "metadata": {},
   "outputs": [
    {
     "data": {
      "text/plain": [
       "((228, 4), (24, 4))"
      ]
     },
     "metadata": {},
     "output_type": "display_data"
    }
   ],
   "source": [
    "train.shape, test.shape"
   ]
  },
  {
   "cell_type": "code",
   "execution_count": null,
   "metadata": {},
   "outputs": [
    {
     "name": "stdout",
     "output_type": "stream",
     "text": [
      "Collecting git+https://github.com/pycaret/pycaret.git@master\n",
      "  Cloning https://github.com/pycaret/pycaret.git (to revision master) to c:\\users\\gabri\\appdata\\local\\temp\\pip-req-build-l5mxlbl_\n",
      "  Resolved https://github.com/pycaret/pycaret.git to commit cd617bd21411237f42ca5226f81b045848c767b4\n",
      "  Preparing metadata (setup.py): started\n",
      "  Preparing metadata (setup.py): finished with status 'done'\n",
      "Requirement already satisfied: ipython>=5.5.0 in c:\\users\\gabri\\appdata\\local\\packages\\pythonsoftwarefoundation.python.3.10_qbz5n2kfra8p0\\localcache\\local-packages\\python310\\site-packages (from pycaret==3.3.0) (8.13.2)\n",
      "Requirement already satisfied: ipywidgets>=7.6.5 in c:\\users\\gabri\\appdata\\local\\packages\\pythonsoftwarefoundation.python.3.10_qbz5n2kfra8p0\\localcache\\local-packages\\python310\\site-packages (from pycaret==3.3.0) (8.1.2)\n",
      "Requirement already satisfied: tqdm>=4.62.0 in c:\\users\\gabri\\appdata\\local\\packages\\pythonsoftwarefoundation.python.3.10_qbz5n2kfra8p0\\localcache\\local-packages\\python310\\site-packages (from pycaret==3.3.0) (4.66.1)\n",
      "Requirement already satisfied: numpy<1.27,>=1.21 in c:\\users\\gabri\\appdata\\local\\packages\\pythonsoftwarefoundation.python.3.10_qbz5n2kfra8p0\\localcache\\local-packages\\python310\\site-packages (from pycaret==3.3.0) (1.24.3)\n",
      "Requirement already satisfied: pandas<2.2.0 in c:\\users\\gabri\\appdata\\local\\packages\\pythonsoftwarefoundation.python.3.10_qbz5n2kfra8p0\\localcache\\local-packages\\python310\\site-packages (from pycaret==3.3.0) (2.0.3)\n",
      "Requirement already satisfied: jinja2>=3 in c:\\users\\gabri\\appdata\\local\\packages\\pythonsoftwarefoundation.python.3.10_qbz5n2kfra8p0\\localcache\\local-packages\\python310\\site-packages (from pycaret==3.3.0) (3.1.2)\n",
      "Requirement already satisfied: scipy<=1.11.4,>=1.6.1 in c:\\users\\gabri\\appdata\\local\\packages\\pythonsoftwarefoundation.python.3.10_qbz5n2kfra8p0\\localcache\\local-packages\\python310\\site-packages (from pycaret==3.3.0) (1.11.1)\n",
      "Requirement already satisfied: joblib>=1.2.0 in c:\\users\\gabri\\appdata\\local\\packages\\pythonsoftwarefoundation.python.3.10_qbz5n2kfra8p0\\localcache\\local-packages\\python310\\site-packages (from pycaret==3.3.0) (1.3.2)\n",
      "Requirement already satisfied: scikit-learn>1.4.0 in c:\\users\\gabri\\appdata\\local\\packages\\pythonsoftwarefoundation.python.3.10_qbz5n2kfra8p0\\localcache\\local-packages\\python310\\site-packages (from pycaret==3.3.0) (1.4.1.post1)\n",
      "Requirement already satisfied: pyod>=1.1.3 in c:\\users\\gabri\\appdata\\local\\packages\\pythonsoftwarefoundation.python.3.10_qbz5n2kfra8p0\\localcache\\local-packages\\python310\\site-packages (from pycaret==3.3.0) (1.1.3)\n",
      "Requirement already satisfied: imbalanced-learn>=0.12.0 in c:\\users\\gabri\\appdata\\local\\packages\\pythonsoftwarefoundation.python.3.10_qbz5n2kfra8p0\\localcache\\local-packages\\python310\\site-packages (from pycaret==3.3.0) (0.12.0)\n",
      "Requirement already satisfied: category-encoders>=2.4.0 in c:\\users\\gabri\\appdata\\local\\packages\\pythonsoftwarefoundation.python.3.10_qbz5n2kfra8p0\\localcache\\local-packages\\python310\\site-packages (from pycaret==3.3.0) (2.6.3)\n",
      "Requirement already satisfied: lightgbm>=3.0.0 in c:\\users\\gabri\\appdata\\local\\packages\\pythonsoftwarefoundation.python.3.10_qbz5n2kfra8p0\\localcache\\local-packages\\python310\\site-packages (from pycaret==3.3.0) (4.3.0)\n",
      "Requirement already satisfied: numba>=0.55.0 in c:\\users\\gabri\\appdata\\local\\packages\\pythonsoftwarefoundation.python.3.10_qbz5n2kfra8p0\\localcache\\local-packages\\python310\\site-packages (from pycaret==3.3.0) (0.59.0)\n",
      "Requirement already satisfied: requests>=2.27.1 in c:\\users\\gabri\\appdata\\local\\packages\\pythonsoftwarefoundation.python.3.10_qbz5n2kfra8p0\\localcache\\local-packages\\python310\\site-packages (from pycaret==3.3.0) (2.31.0)\n",
      "Requirement already satisfied: psutil>=5.9.0 in c:\\users\\gabri\\appdata\\local\\packages\\pythonsoftwarefoundation.python.3.10_qbz5n2kfra8p0\\localcache\\local-packages\\python310\\site-packages (from pycaret==3.3.0) (5.9.5)\n",
      "Requirement already satisfied: markupsafe>=2.0.1 in c:\\users\\gabri\\appdata\\local\\packages\\pythonsoftwarefoundation.python.3.10_qbz5n2kfra8p0\\localcache\\local-packages\\python310\\site-packages (from pycaret==3.3.0) (2.1.3)\n",
      "Requirement already satisfied: importlib_metadata>=4.12.0 in c:\\users\\gabri\\appdata\\local\\packages\\pythonsoftwarefoundation.python.3.10_qbz5n2kfra8p0\\localcache\\local-packages\\python310\\site-packages (from pycaret==3.3.0) (7.0.2)\n",
      "Requirement already satisfied: nbformat>=4.2.0 in c:\\users\\gabri\\appdata\\local\\packages\\pythonsoftwarefoundation.python.3.10_qbz5n2kfra8p0\\localcache\\local-packages\\python310\\site-packages (from pycaret==3.3.0) (5.9.2)\n",
      "Requirement already satisfied: cloudpickle in c:\\users\\gabri\\appdata\\local\\packages\\pythonsoftwarefoundation.python.3.10_qbz5n2kfra8p0\\localcache\\local-packages\\python310\\site-packages (from pycaret==3.3.0) (3.0.0)\n",
      "Requirement already satisfied: deprecation>=2.1.0 in c:\\users\\gabri\\appdata\\local\\packages\\pythonsoftwarefoundation.python.3.10_qbz5n2kfra8p0\\localcache\\local-packages\\python310\\site-packages (from pycaret==3.3.0) (2.1.0)\n",
      "Requirement already satisfied: xxhash in c:\\users\\gabri\\appdata\\local\\packages\\pythonsoftwarefoundation.python.3.10_qbz5n2kfra8p0\\localcache\\local-packages\\python310\\site-packages (from pycaret==3.3.0) (3.4.1)\n",
      "Requirement already satisfied: matplotlib<3.8.0 in c:\\users\\gabri\\appdata\\local\\packages\\pythonsoftwarefoundation.python.3.10_qbz5n2kfra8p0\\localcache\\local-packages\\python310\\site-packages (from pycaret==3.3.0) (3.7.2)\n",
      "Requirement already satisfied: scikit-plot>=0.3.7 in c:\\users\\gabri\\appdata\\local\\packages\\pythonsoftwarefoundation.python.3.10_qbz5n2kfra8p0\\localcache\\local-packages\\python310\\site-packages (from pycaret==3.3.0) (0.3.7)\n",
      "Requirement already satisfied: yellowbrick>=1.4 in c:\\users\\gabri\\appdata\\local\\packages\\pythonsoftwarefoundation.python.3.10_qbz5n2kfra8p0\\localcache\\local-packages\\python310\\site-packages (from pycaret==3.3.0) (1.5)\n",
      "Requirement already satisfied: plotly>=5.14.0 in c:\\users\\gabri\\appdata\\local\\packages\\pythonsoftwarefoundation.python.3.10_qbz5n2kfra8p0\\localcache\\local-packages\\python310\\site-packages (from pycaret==3.3.0) (5.19.0)\n",
      "Requirement already satisfied: kaleido>=0.2.1 in c:\\users\\gabri\\appdata\\local\\packages\\pythonsoftwarefoundation.python.3.10_qbz5n2kfra8p0\\localcache\\local-packages\\python310\\site-packages (from pycaret==3.3.0) (0.2.1)\n",
      "Requirement already satisfied: schemdraw==0.15 in c:\\users\\gabri\\appdata\\local\\packages\\pythonsoftwarefoundation.python.3.10_qbz5n2kfra8p0\\localcache\\local-packages\\python310\\site-packages (from pycaret==3.3.0) (0.15)\n",
      "Requirement already satisfied: plotly-resampler>=0.8.3.1 in c:\\users\\gabri\\appdata\\local\\packages\\pythonsoftwarefoundation.python.3.10_qbz5n2kfra8p0\\localcache\\local-packages\\python310\\site-packages (from pycaret==3.3.0) (0.9.2)\n",
      "Requirement already satisfied: statsmodels>=0.12.1 in c:\\users\\gabri\\appdata\\local\\packages\\pythonsoftwarefoundation.python.3.10_qbz5n2kfra8p0\\localcache\\local-packages\\python310\\site-packages (from pycaret==3.3.0) (0.14.0)\n",
      "Collecting sktime==0.26.0 (from pycaret==3.3.0)\n",
      "  Downloading sktime-0.26.0-py3-none-any.whl.metadata (29 kB)\n",
      "Requirement already satisfied: tbats>=1.1.3 in c:\\users\\gabri\\appdata\\local\\packages\\pythonsoftwarefoundation.python.3.10_qbz5n2kfra8p0\\localcache\\local-packages\\python310\\site-packages (from pycaret==3.3.0) (1.1.3)\n",
      "Requirement already satisfied: pmdarima>=2.0.4 in c:\\users\\gabri\\appdata\\local\\packages\\pythonsoftwarefoundation.python.3.10_qbz5n2kfra8p0\\localcache\\local-packages\\python310\\site-packages (from pycaret==3.3.0) (2.0.4)\n",
      "Requirement already satisfied: packaging in c:\\users\\gabri\\appdata\\local\\packages\\pythonsoftwarefoundation.python.3.10_qbz5n2kfra8p0\\localcache\\local-packages\\python310\\site-packages (from sktime==0.26.0->pycaret==3.3.0) (23.1)\n",
      "Requirement already satisfied: scikit-base<0.8.0 in c:\\users\\gabri\\appdata\\local\\packages\\pythonsoftwarefoundation.python.3.10_qbz5n2kfra8p0\\localcache\\local-packages\\python310\\site-packages (from sktime==0.26.0->pycaret==3.3.0) (0.7.5)\n",
      "Requirement already satisfied: patsy>=0.5.1 in c:\\users\\gabri\\appdata\\local\\packages\\pythonsoftwarefoundation.python.3.10_qbz5n2kfra8p0\\localcache\\local-packages\\python310\\site-packages (from category-encoders>=2.4.0->pycaret==3.3.0) (0.5.3)\n",
      "Requirement already satisfied: threadpoolctl>=2.0.0 in c:\\users\\gabri\\appdata\\local\\packages\\pythonsoftwarefoundation.python.3.10_qbz5n2kfra8p0\\localcache\\local-packages\\python310\\site-packages (from imbalanced-learn>=0.12.0->pycaret==3.3.0) (3.2.0)\n",
      "Requirement already satisfied: zipp>=0.5 in c:\\users\\gabri\\appdata\\local\\packages\\pythonsoftwarefoundation.python.3.10_qbz5n2kfra8p0\\localcache\\local-packages\\python310\\site-packages (from importlib_metadata>=4.12.0->pycaret==3.3.0) (3.18.0)\n",
      "Requirement already satisfied: backcall in c:\\users\\gabri\\appdata\\local\\packages\\pythonsoftwarefoundation.python.3.10_qbz5n2kfra8p0\\localcache\\local-packages\\python310\\site-packages (from ipython>=5.5.0->pycaret==3.3.0) (0.2.0)\n",
      "Requirement already satisfied: decorator in c:\\users\\gabri\\appdata\\local\\packages\\pythonsoftwarefoundation.python.3.10_qbz5n2kfra8p0\\localcache\\local-packages\\python310\\site-packages (from ipython>=5.5.0->pycaret==3.3.0) (5.1.1)\n",
      "Requirement already satisfied: jedi>=0.16 in c:\\users\\gabri\\appdata\\local\\packages\\pythonsoftwarefoundation.python.3.10_qbz5n2kfra8p0\\localcache\\local-packages\\python310\\site-packages (from ipython>=5.5.0->pycaret==3.3.0) (0.18.2)\n",
      "Requirement already satisfied: matplotlib-inline in c:\\users\\gabri\\appdata\\local\\packages\\pythonsoftwarefoundation.python.3.10_qbz5n2kfra8p0\\localcache\\local-packages\\python310\\site-packages (from ipython>=5.5.0->pycaret==3.3.0) (0.1.6)\n",
      "Requirement already satisfied: pickleshare in c:\\users\\gabri\\appdata\\local\\packages\\pythonsoftwarefoundation.python.3.10_qbz5n2kfra8p0\\localcache\\local-packages\\python310\\site-packages (from ipython>=5.5.0->pycaret==3.3.0) (0.7.5)\n",
      "Requirement already satisfied: prompt-toolkit!=3.0.37,<3.1.0,>=3.0.30 in c:\\users\\gabri\\appdata\\local\\packages\\pythonsoftwarefoundation.python.3.10_qbz5n2kfra8p0\\localcache\\local-packages\\python310\\site-packages (from ipython>=5.5.0->pycaret==3.3.0) (3.0.38)\n",
      "Requirement already satisfied: pygments>=2.4.0 in c:\\users\\gabri\\appdata\\local\\packages\\pythonsoftwarefoundation.python.3.10_qbz5n2kfra8p0\\localcache\\local-packages\\python310\\site-packages (from ipython>=5.5.0->pycaret==3.3.0) (2.15.1)\n",
      "Requirement already satisfied: stack-data in c:\\users\\gabri\\appdata\\local\\packages\\pythonsoftwarefoundation.python.3.10_qbz5n2kfra8p0\\localcache\\local-packages\\python310\\site-packages (from ipython>=5.5.0->pycaret==3.3.0) (0.6.2)\n",
      "Requirement already satisfied: traitlets>=5 in c:\\users\\gabri\\appdata\\local\\packages\\pythonsoftwarefoundation.python.3.10_qbz5n2kfra8p0\\localcache\\local-packages\\python310\\site-packages (from ipython>=5.5.0->pycaret==3.3.0) (5.9.0)\n",
      "Requirement already satisfied: colorama in c:\\users\\gabri\\appdata\\local\\packages\\pythonsoftwarefoundation.python.3.10_qbz5n2kfra8p0\\localcache\\local-packages\\python310\\site-packages (from ipython>=5.5.0->pycaret==3.3.0) (0.4.6)\n",
      "Requirement already satisfied: comm>=0.1.3 in c:\\users\\gabri\\appdata\\local\\packages\\pythonsoftwarefoundation.python.3.10_qbz5n2kfra8p0\\localcache\\local-packages\\python310\\site-packages (from ipywidgets>=7.6.5->pycaret==3.3.0) (0.1.3)\n",
      "Requirement already satisfied: widgetsnbextension~=4.0.10 in c:\\users\\gabri\\appdata\\local\\packages\\pythonsoftwarefoundation.python.3.10_qbz5n2kfra8p0\\localcache\\local-packages\\python310\\site-packages (from ipywidgets>=7.6.5->pycaret==3.3.0) (4.0.10)\n",
      "Requirement already satisfied: jupyterlab-widgets~=3.0.10 in c:\\users\\gabri\\appdata\\local\\packages\\pythonsoftwarefoundation.python.3.10_qbz5n2kfra8p0\\localcache\\local-packages\\python310\\site-packages (from ipywidgets>=7.6.5->pycaret==3.3.0) (3.0.10)\n",
      "Requirement already satisfied: contourpy>=1.0.1 in c:\\users\\gabri\\appdata\\local\\packages\\pythonsoftwarefoundation.python.3.10_qbz5n2kfra8p0\\localcache\\local-packages\\python310\\site-packages (from matplotlib<3.8.0->pycaret==3.3.0) (1.1.0)\n",
      "Requirement already satisfied: cycler>=0.10 in c:\\users\\gabri\\appdata\\local\\packages\\pythonsoftwarefoundation.python.3.10_qbz5n2kfra8p0\\localcache\\local-packages\\python310\\site-packages (from matplotlib<3.8.0->pycaret==3.3.0) (0.11.0)\n",
      "Requirement already satisfied: fonttools>=4.22.0 in c:\\users\\gabri\\appdata\\local\\packages\\pythonsoftwarefoundation.python.3.10_qbz5n2kfra8p0\\localcache\\local-packages\\python310\\site-packages (from matplotlib<3.8.0->pycaret==3.3.0) (4.41.0)\n",
      "Requirement already satisfied: kiwisolver>=1.0.1 in c:\\users\\gabri\\appdata\\local\\packages\\pythonsoftwarefoundation.python.3.10_qbz5n2kfra8p0\\localcache\\local-packages\\python310\\site-packages (from matplotlib<3.8.0->pycaret==3.3.0) (1.4.4)\n",
      "Requirement already satisfied: pillow>=6.2.0 in c:\\users\\gabri\\appdata\\local\\packages\\pythonsoftwarefoundation.python.3.10_qbz5n2kfra8p0\\localcache\\local-packages\\python310\\site-packages (from matplotlib<3.8.0->pycaret==3.3.0) (10.0.0)\n",
      "Requirement already satisfied: pyparsing<3.1,>=2.3.1 in c:\\users\\gabri\\appdata\\local\\packages\\pythonsoftwarefoundation.python.3.10_qbz5n2kfra8p0\\localcache\\local-packages\\python310\\site-packages (from matplotlib<3.8.0->pycaret==3.3.0) (3.0.9)\n",
      "Requirement already satisfied: python-dateutil>=2.7 in c:\\users\\gabri\\appdata\\local\\packages\\pythonsoftwarefoundation.python.3.10_qbz5n2kfra8p0\\localcache\\local-packages\\python310\\site-packages (from matplotlib<3.8.0->pycaret==3.3.0) (2.8.2)\n",
      "Requirement already satisfied: fastjsonschema in c:\\users\\gabri\\appdata\\local\\packages\\pythonsoftwarefoundation.python.3.10_qbz5n2kfra8p0\\localcache\\local-packages\\python310\\site-packages (from nbformat>=4.2.0->pycaret==3.3.0) (2.19.0)\n",
      "Requirement already satisfied: jsonschema>=2.6 in c:\\users\\gabri\\appdata\\local\\packages\\pythonsoftwarefoundation.python.3.10_qbz5n2kfra8p0\\localcache\\local-packages\\python310\\site-packages (from nbformat>=4.2.0->pycaret==3.3.0) (4.20.0)\n",
      "Requirement already satisfied: jupyter-core in c:\\users\\gabri\\appdata\\local\\packages\\pythonsoftwarefoundation.python.3.10_qbz5n2kfra8p0\\localcache\\local-packages\\python310\\site-packages (from nbformat>=4.2.0->pycaret==3.3.0) (5.3.0)\n",
      "Requirement already satisfied: llvmlite<0.43,>=0.42.0dev0 in c:\\users\\gabri\\appdata\\local\\packages\\pythonsoftwarefoundation.python.3.10_qbz5n2kfra8p0\\localcache\\local-packages\\python310\\site-packages (from numba>=0.55.0->pycaret==3.3.0) (0.42.0)\n",
      "Requirement already satisfied: pytz>=2020.1 in c:\\users\\gabri\\appdata\\local\\packages\\pythonsoftwarefoundation.python.3.10_qbz5n2kfra8p0\\localcache\\local-packages\\python310\\site-packages (from pandas<2.2.0->pycaret==3.3.0) (2023.3)\n",
      "Requirement already satisfied: tzdata>=2022.1 in c:\\users\\gabri\\appdata\\local\\packages\\pythonsoftwarefoundation.python.3.10_qbz5n2kfra8p0\\localcache\\local-packages\\python310\\site-packages (from pandas<2.2.0->pycaret==3.3.0) (2023.3)\n",
      "Requirement already satisfied: tenacity>=6.2.0 in c:\\users\\gabri\\appdata\\local\\packages\\pythonsoftwarefoundation.python.3.10_qbz5n2kfra8p0\\localcache\\local-packages\\python310\\site-packages (from plotly>=5.14.0->pycaret==3.3.0) (8.2.3)\n",
      "Requirement already satisfied: dash>=2.9.0 in c:\\users\\gabri\\appdata\\local\\packages\\pythonsoftwarefoundation.python.3.10_qbz5n2kfra8p0\\localcache\\local-packages\\python310\\site-packages (from plotly-resampler>=0.8.3.1->pycaret==3.3.0) (2.16.1)\n",
      "Requirement already satisfied: orjson<4.0.0,>=3.8.0 in c:\\users\\gabri\\appdata\\local\\packages\\pythonsoftwarefoundation.python.3.10_qbz5n2kfra8p0\\localcache\\local-packages\\python310\\site-packages (from plotly-resampler>=0.8.3.1->pycaret==3.3.0) (3.9.15)\n",
      "Requirement already satisfied: tsdownsample==0.1.2 in c:\\users\\gabri\\appdata\\local\\packages\\pythonsoftwarefoundation.python.3.10_qbz5n2kfra8p0\\localcache\\local-packages\\python310\\site-packages (from plotly-resampler>=0.8.3.1->pycaret==3.3.0) (0.1.2)\n",
      "Requirement already satisfied: Cython!=0.29.18,!=0.29.31,>=0.29 in c:\\users\\gabri\\appdata\\local\\packages\\pythonsoftwarefoundation.python.3.10_qbz5n2kfra8p0\\localcache\\local-packages\\python310\\site-packages (from pmdarima>=2.0.4->pycaret==3.3.0) (3.0.9)\n",
      "Requirement already satisfied: urllib3 in c:\\users\\gabri\\appdata\\local\\packages\\pythonsoftwarefoundation.python.3.10_qbz5n2kfra8p0\\localcache\\local-packages\\python310\\site-packages (from pmdarima>=2.0.4->pycaret==3.3.0) (2.0.6)\n",
      "Requirement already satisfied: setuptools!=50.0.0,>=38.6.0 in c:\\program files\\windowsapps\\pythonsoftwarefoundation.python.3.10_3.10.3056.0_x64__qbz5n2kfra8p0\\lib\\site-packages (from pmdarima>=2.0.4->pycaret==3.3.0) (65.5.0)\n",
      "Requirement already satisfied: six in c:\\users\\gabri\\appdata\\local\\packages\\pythonsoftwarefoundation.python.3.10_qbz5n2kfra8p0\\localcache\\local-packages\\python310\\site-packages (from pyod>=1.1.3->pycaret==3.3.0) (1.16.0)\n",
      "Requirement already satisfied: charset-normalizer<4,>=2 in c:\\users\\gabri\\appdata\\local\\packages\\pythonsoftwarefoundation.python.3.10_qbz5n2kfra8p0\\localcache\\local-packages\\python310\\site-packages (from requests>=2.27.1->pycaret==3.3.0) (3.3.0)\n",
      "Requirement already satisfied: idna<4,>=2.5 in c:\\users\\gabri\\appdata\\local\\packages\\pythonsoftwarefoundation.python.3.10_qbz5n2kfra8p0\\localcache\\local-packages\\python310\\site-packages (from requests>=2.27.1->pycaret==3.3.0) (3.4)\n",
      "Requirement already satisfied: certifi>=2017.4.17 in c:\\users\\gabri\\appdata\\local\\packages\\pythonsoftwarefoundation.python.3.10_qbz5n2kfra8p0\\localcache\\local-packages\\python310\\site-packages (from requests>=2.27.1->pycaret==3.3.0) (2023.7.22)\n",
      "Requirement already satisfied: Flask<3.1,>=1.0.4 in c:\\users\\gabri\\appdata\\local\\packages\\pythonsoftwarefoundation.python.3.10_qbz5n2kfra8p0\\localcache\\local-packages\\python310\\site-packages (from dash>=2.9.0->plotly-resampler>=0.8.3.1->pycaret==3.3.0) (3.0.2)\n",
      "Requirement already satisfied: Werkzeug<3.1 in c:\\users\\gabri\\appdata\\local\\packages\\pythonsoftwarefoundation.python.3.10_qbz5n2kfra8p0\\localcache\\local-packages\\python310\\site-packages (from dash>=2.9.0->plotly-resampler>=0.8.3.1->pycaret==3.3.0) (3.0.0)\n",
      "Requirement already satisfied: dash-html-components==2.0.0 in c:\\users\\gabri\\appdata\\local\\packages\\pythonsoftwarefoundation.python.3.10_qbz5n2kfra8p0\\localcache\\local-packages\\python310\\site-packages (from dash>=2.9.0->plotly-resampler>=0.8.3.1->pycaret==3.3.0) (2.0.0)\n",
      "Requirement already satisfied: dash-core-components==2.0.0 in c:\\users\\gabri\\appdata\\local\\packages\\pythonsoftwarefoundation.python.3.10_qbz5n2kfra8p0\\localcache\\local-packages\\python310\\site-packages (from dash>=2.9.0->plotly-resampler>=0.8.3.1->pycaret==3.3.0) (2.0.0)\n",
      "Requirement already satisfied: dash-table==5.0.0 in c:\\users\\gabri\\appdata\\local\\packages\\pythonsoftwarefoundation.python.3.10_qbz5n2kfra8p0\\localcache\\local-packages\\python310\\site-packages (from dash>=2.9.0->plotly-resampler>=0.8.3.1->pycaret==3.3.0) (5.0.0)\n",
      "Requirement already satisfied: typing-extensions>=4.1.1 in c:\\users\\gabri\\appdata\\local\\packages\\pythonsoftwarefoundation.python.3.10_qbz5n2kfra8p0\\localcache\\local-packages\\python310\\site-packages (from dash>=2.9.0->plotly-resampler>=0.8.3.1->pycaret==3.3.0) (4.5.0)\n",
      "Requirement already satisfied: retrying in c:\\users\\gabri\\appdata\\local\\packages\\pythonsoftwarefoundation.python.3.10_qbz5n2kfra8p0\\localcache\\local-packages\\python310\\site-packages (from dash>=2.9.0->plotly-resampler>=0.8.3.1->pycaret==3.3.0) (1.3.4)\n",
      "Requirement already satisfied: nest-asyncio in c:\\users\\gabri\\appdata\\local\\packages\\pythonsoftwarefoundation.python.3.10_qbz5n2kfra8p0\\localcache\\local-packages\\python310\\site-packages (from dash>=2.9.0->plotly-resampler>=0.8.3.1->pycaret==3.3.0) (1.5.6)\n",
      "Requirement already satisfied: parso<0.9.0,>=0.8.0 in c:\\users\\gabri\\appdata\\local\\packages\\pythonsoftwarefoundation.python.3.10_qbz5n2kfra8p0\\localcache\\local-packages\\python310\\site-packages (from jedi>=0.16->ipython>=5.5.0->pycaret==3.3.0) (0.8.3)\n",
      "Requirement already satisfied: attrs>=22.2.0 in c:\\users\\gabri\\appdata\\local\\packages\\pythonsoftwarefoundation.python.3.10_qbz5n2kfra8p0\\localcache\\local-packages\\python310\\site-packages (from jsonschema>=2.6->nbformat>=4.2.0->pycaret==3.3.0) (23.1.0)\n",
      "Requirement already satisfied: jsonschema-specifications>=2023.03.6 in c:\\users\\gabri\\appdata\\local\\packages\\pythonsoftwarefoundation.python.3.10_qbz5n2kfra8p0\\localcache\\local-packages\\python310\\site-packages (from jsonschema>=2.6->nbformat>=4.2.0->pycaret==3.3.0) (2023.11.1)\n",
      "Requirement already satisfied: referencing>=0.28.4 in c:\\users\\gabri\\appdata\\local\\packages\\pythonsoftwarefoundation.python.3.10_qbz5n2kfra8p0\\localcache\\local-packages\\python310\\site-packages (from jsonschema>=2.6->nbformat>=4.2.0->pycaret==3.3.0) (0.31.0)\n",
      "Requirement already satisfied: rpds-py>=0.7.1 in c:\\users\\gabri\\appdata\\local\\packages\\pythonsoftwarefoundation.python.3.10_qbz5n2kfra8p0\\localcache\\local-packages\\python310\\site-packages (from jsonschema>=2.6->nbformat>=4.2.0->pycaret==3.3.0) (0.13.0)\n",
      "Requirement already satisfied: wcwidth in c:\\users\\gabri\\appdata\\local\\packages\\pythonsoftwarefoundation.python.3.10_qbz5n2kfra8p0\\localcache\\local-packages\\python310\\site-packages (from prompt-toolkit!=3.0.37,<3.1.0,>=3.0.30->ipython>=5.5.0->pycaret==3.3.0) (0.2.6)\n",
      "Requirement already satisfied: platformdirs>=2.5 in c:\\users\\gabri\\appdata\\local\\packages\\pythonsoftwarefoundation.python.3.10_qbz5n2kfra8p0\\localcache\\local-packages\\python310\\site-packages (from jupyter-core->nbformat>=4.2.0->pycaret==3.3.0) (3.5.1)\n",
      "Requirement already satisfied: pywin32>=300 in c:\\users\\gabri\\appdata\\local\\packages\\pythonsoftwarefoundation.python.3.10_qbz5n2kfra8p0\\localcache\\local-packages\\python310\\site-packages (from jupyter-core->nbformat>=4.2.0->pycaret==3.3.0) (306)\n",
      "Requirement already satisfied: executing>=1.2.0 in c:\\users\\gabri\\appdata\\local\\packages\\pythonsoftwarefoundation.python.3.10_qbz5n2kfra8p0\\localcache\\local-packages\\python310\\site-packages (from stack-data->ipython>=5.5.0->pycaret==3.3.0) (1.2.0)\n",
      "Requirement already satisfied: asttokens>=2.1.0 in c:\\users\\gabri\\appdata\\local\\packages\\pythonsoftwarefoundation.python.3.10_qbz5n2kfra8p0\\localcache\\local-packages\\python310\\site-packages (from stack-data->ipython>=5.5.0->pycaret==3.3.0) (2.2.1)\n",
      "Requirement already satisfied: pure-eval in c:\\users\\gabri\\appdata\\local\\packages\\pythonsoftwarefoundation.python.3.10_qbz5n2kfra8p0\\localcache\\local-packages\\python310\\site-packages (from stack-data->ipython>=5.5.0->pycaret==3.3.0) (0.2.2)\n",
      "Requirement already satisfied: itsdangerous>=2.1.2 in c:\\users\\gabri\\appdata\\local\\packages\\pythonsoftwarefoundation.python.3.10_qbz5n2kfra8p0\\localcache\\local-packages\\python310\\site-packages (from Flask<3.1,>=1.0.4->dash>=2.9.0->plotly-resampler>=0.8.3.1->pycaret==3.3.0) (2.1.2)\n",
      "Requirement already satisfied: click>=8.1.3 in c:\\users\\gabri\\appdata\\local\\packages\\pythonsoftwarefoundation.python.3.10_qbz5n2kfra8p0\\localcache\\local-packages\\python310\\site-packages (from Flask<3.1,>=1.0.4->dash>=2.9.0->plotly-resampler>=0.8.3.1->pycaret==3.3.0) (8.1.7)\n",
      "Requirement already satisfied: blinker>=1.6.2 in c:\\users\\gabri\\appdata\\local\\packages\\pythonsoftwarefoundation.python.3.10_qbz5n2kfra8p0\\localcache\\local-packages\\python310\\site-packages (from Flask<3.1,>=1.0.4->dash>=2.9.0->plotly-resampler>=0.8.3.1->pycaret==3.3.0) (1.7.0)\n",
      "Downloading sktime-0.26.0-py3-none-any.whl (21.8 MB)\n",
      "   ---------------------------------------- 0.0/21.8 MB ? eta -:--:--\n",
      "   ---------------------------------------- 0.2/21.8 MB 6.3 MB/s eta 0:00:04\n",
      "    --------------------------------------- 0.5/21.8 MB 6.7 MB/s eta 0:00:04\n",
      "   - -------------------------------------- 0.7/21.8 MB 6.9 MB/s eta 0:00:04\n",
      "   - -------------------------------------- 1.0/21.8 MB 6.0 MB/s eta 0:00:04\n",
      "   - -------------------------------------- 1.0/21.8 MB 6.0 MB/s eta 0:00:04\n",
      "   - -------------------------------------- 1.0/21.8 MB 6.0 MB/s eta 0:00:04\n",
      "   - -------------------------------------- 1.0/21.8 MB 6.0 MB/s eta 0:00:04\n",
      "   -- ------------------------------------- 1.3/21.8 MB 3.6 MB/s eta 0:00:06\n",
      "   -- ------------------------------------- 1.5/21.8 MB 3.9 MB/s eta 0:00:06\n",
      "   --- ------------------------------------ 2.0/21.8 MB 4.2 MB/s eta 0:00:05\n",
      "   --- ------------------------------------ 2.1/21.8 MB 4.4 MB/s eta 0:00:05\n",
      "   --- ------------------------------------ 2.1/21.8 MB 4.4 MB/s eta 0:00:05\n",
      "   --- ------------------------------------ 2.1/21.8 MB 4.4 MB/s eta 0:00:05\n",
      "   --- ------------------------------------ 2.1/21.8 MB 4.4 MB/s eta 0:00:05\n",
      "   --- ------------------------------------ 2.1/21.8 MB 4.4 MB/s eta 0:00:05\n",
      "   --- ------------------------------------ 2.1/21.8 MB 4.4 MB/s eta 0:00:05\n",
      "   --- ------------------------------------ 2.1/21.8 MB 4.4 MB/s eta 0:00:05\n",
      "   ---- ----------------------------------- 2.3/21.8 MB 2.7 MB/s eta 0:00:08\n",
      "   ---- ----------------------------------- 2.7/21.8 MB 3.0 MB/s eta 0:00:07\n",
      "   ----- ---------------------------------- 3.1/21.8 MB 3.3 MB/s eta 0:00:06\n",
      "   ----- ---------------------------------- 3.1/21.8 MB 3.3 MB/s eta 0:00:06\n",
      "   ----- ---------------------------------- 3.1/21.8 MB 3.3 MB/s eta 0:00:06\n",
      "   ----- ---------------------------------- 3.1/21.8 MB 3.3 MB/s eta 0:00:06\n",
      "   ----- ---------------------------------- 3.1/21.8 MB 3.3 MB/s eta 0:00:06\n",
      "   ----- ---------------------------------- 3.1/21.8 MB 3.3 MB/s eta 0:00:06\n",
      "   ------ --------------------------------- 3.4/21.8 MB 2.8 MB/s eta 0:00:07\n",
      "   ------ --------------------------------- 3.7/21.8 MB 3.0 MB/s eta 0:00:07\n",
      "   ------- -------------------------------- 4.1/21.8 MB 3.2 MB/s eta 0:00:06\n",
      "   -------- ------------------------------- 4.4/21.8 MB 3.3 MB/s eta 0:00:06\n",
      "   -------- ------------------------------- 4.8/21.8 MB 3.4 MB/s eta 0:00:05\n",
      "   --------- ------------------------------ 5.2/21.8 MB 3.6 MB/s eta 0:00:05\n",
      "   --------- ------------------------------ 5.2/21.8 MB 3.6 MB/s eta 0:00:05\n",
      "   --------- ------------------------------ 5.2/21.8 MB 3.6 MB/s eta 0:00:05\n",
      "   --------- ------------------------------ 5.2/21.8 MB 3.6 MB/s eta 0:00:05\n",
      "   --------- ------------------------------ 5.2/21.8 MB 3.6 MB/s eta 0:00:05\n",
      "   --------- ------------------------------ 5.2/21.8 MB 3.6 MB/s eta 0:00:05\n",
      "   --------- ------------------------------ 5.2/21.8 MB 3.6 MB/s eta 0:00:05\n",
      "   --------- ------------------------------ 5.2/21.8 MB 3.6 MB/s eta 0:00:05\n",
      "   --------- ------------------------------ 5.2/21.8 MB 3.6 MB/s eta 0:00:05\n",
      "   --------- ------------------------------ 5.2/21.8 MB 3.6 MB/s eta 0:00:05\n",
      "   ---------- ----------------------------- 5.6/21.8 MB 2.9 MB/s eta 0:00:06\n",
      "   ---------- ----------------------------- 6.0/21.8 MB 3.0 MB/s eta 0:00:06\n",
      "   ----------- ---------------------------- 6.3/21.8 MB 3.1 MB/s eta 0:00:05\n",
      "   ----------- ---------------------------- 6.3/21.8 MB 3.1 MB/s eta 0:00:05\n",
      "   ----------- ---------------------------- 6.3/21.8 MB 3.1 MB/s eta 0:00:05\n",
      "   ----------- ---------------------------- 6.3/21.8 MB 3.1 MB/s eta 0:00:05\n",
      "   ----------- ---------------------------- 6.3/21.8 MB 3.1 MB/s eta 0:00:05\n",
      "   ----------- ---------------------------- 6.3/21.8 MB 3.1 MB/s eta 0:00:05\n",
      "   ----------- ---------------------------- 6.3/21.8 MB 3.1 MB/s eta 0:00:05\n",
      "   ----------- ---------------------------- 6.3/21.8 MB 3.1 MB/s eta 0:00:05\n",
      "   ----------- ---------------------------- 6.3/21.8 MB 3.1 MB/s eta 0:00:05\n",
      "   ----------- ---------------------------- 6.5/21.8 MB 2.7 MB/s eta 0:00:06\n",
      "   ------------ --------------------------- 6.9/21.8 MB 2.8 MB/s eta 0:00:06\n",
      "   ------------- -------------------------- 7.3/21.8 MB 2.9 MB/s eta 0:00:06\n",
      "   ------------- -------------------------- 7.4/21.8 MB 2.9 MB/s eta 0:00:06\n",
      "   -------------- ------------------------- 7.7/21.8 MB 3.0 MB/s eta 0:00:05\n",
      "   -------------- ------------------------- 8.1/21.8 MB 3.0 MB/s eta 0:00:05\n",
      "   --------------- ------------------------ 8.4/21.8 MB 3.1 MB/s eta 0:00:05\n",
      "   --------------- ------------------------ 8.4/21.8 MB 3.1 MB/s eta 0:00:05\n",
      "   --------------- ------------------------ 8.4/21.8 MB 3.1 MB/s eta 0:00:05\n",
      "   --------------- ------------------------ 8.4/21.8 MB 3.1 MB/s eta 0:00:05\n",
      "   --------------- ------------------------ 8.7/21.8 MB 3.0 MB/s eta 0:00:05\n",
      "   ---------------- ----------------------- 9.1/21.8 MB 3.1 MB/s eta 0:00:05\n",
      "   ----------------- ---------------------- 9.4/21.8 MB 3.2 MB/s eta 0:00:04\n",
      "   ----------------- ---------------------- 9.8/21.8 MB 3.2 MB/s eta 0:00:04\n",
      "   ------------------ --------------------- 10.2/21.8 MB 3.3 MB/s eta 0:00:04\n",
      "   ------------------- -------------------- 10.5/21.8 MB 3.3 MB/s eta 0:00:04\n",
      "   ------------------- -------------------- 10.5/21.8 MB 3.3 MB/s eta 0:00:04\n",
      "   ------------------- -------------------- 10.5/21.8 MB 3.3 MB/s eta 0:00:04\n",
      "   ------------------- -------------------- 10.5/21.8 MB 3.3 MB/s eta 0:00:04\n",
      "   ------------------- -------------------- 10.5/21.8 MB 3.3 MB/s eta 0:00:04\n",
      "   ------------------- -------------------- 10.5/21.8 MB 3.3 MB/s eta 0:00:04\n",
      "   ------------------- -------------------- 10.5/21.8 MB 3.3 MB/s eta 0:00:04\n",
      "   ------------------- -------------------- 10.5/21.8 MB 3.3 MB/s eta 0:00:04\n",
      "   ------------------- -------------------- 10.5/21.8 MB 3.3 MB/s eta 0:00:04\n",
      "   ------------------- -------------------- 10.7/21.8 MB 2.9 MB/s eta 0:00:04\n",
      "   -------------------- ------------------- 11.1/21.8 MB 3.0 MB/s eta 0:00:04\n",
      "   --------------------- ------------------ 11.5/21.8 MB 3.1 MB/s eta 0:00:04\n",
      "   --------------------- ------------------ 11.7/21.8 MB 3.1 MB/s eta 0:00:04\n",
      "   ---------------------- ----------------- 12.1/21.8 MB 3.1 MB/s eta 0:00:04\n",
      "   ---------------------- ----------------- 12.5/21.8 MB 3.5 MB/s eta 0:00:03\n",
      "   ----------------------- ---------------- 12.9/21.8 MB 3.5 MB/s eta 0:00:03\n",
      "   ------------------------ --------------- 13.3/21.8 MB 3.5 MB/s eta 0:00:03\n",
      "   ------------------------- -------------- 13.6/21.8 MB 3.8 MB/s eta 0:00:03\n",
      "   ------------------------- -------------- 13.6/21.8 MB 3.8 MB/s eta 0:00:03\n",
      "   ------------------------- -------------- 13.6/21.8 MB 3.8 MB/s eta 0:00:03\n",
      "   ------------------------- -------------- 13.6/21.8 MB 3.8 MB/s eta 0:00:03\n",
      "   ------------------------- -------------- 13.8/21.8 MB 3.6 MB/s eta 0:00:03\n",
      "   ------------------------- -------------- 14.1/21.8 MB 3.6 MB/s eta 0:00:03\n",
      "   -------------------------- ------------- 14.4/21.8 MB 3.5 MB/s eta 0:00:03\n",
      "   -------------------------- ------------- 14.5/21.8 MB 3.5 MB/s eta 0:00:03\n",
      "   -------------------------- ------------- 14.7/21.8 MB 3.5 MB/s eta 0:00:03\n",
      "   -------------------------- ------------- 14.7/21.8 MB 3.5 MB/s eta 0:00:03\n",
      "   -------------------------- ------------- 14.7/21.8 MB 3.5 MB/s eta 0:00:03\n",
      "   -------------------------- ------------- 14.7/21.8 MB 3.5 MB/s eta 0:00:03\n",
      "   -------------------------- ------------- 14.7/21.8 MB 3.5 MB/s eta 0:00:03\n",
      "   -------------------------- ------------- 14.7/21.8 MB 3.5 MB/s eta 0:00:03\n",
      "   -------------------------- ------------- 14.7/21.8 MB 3.5 MB/s eta 0:00:03\n",
      "   -------------------------- ------------- 14.7/21.8 MB 3.5 MB/s eta 0:00:03\n",
      "   --------------------------- ------------ 14.9/21.8 MB 3.1 MB/s eta 0:00:03\n",
      "   ---------------------------- ----------- 15.3/21.8 MB 3.1 MB/s eta 0:00:03\n",
      "   ---------------------------- ----------- 15.7/21.8 MB 3.6 MB/s eta 0:00:02\n",
      "   ----------------------------- ---------- 15.8/21.8 MB 3.5 MB/s eta 0:00:02\n",
      "   ----------------------------- ---------- 16.2/21.8 MB 3.5 MB/s eta 0:00:02\n",
      "   ------------------------------ --------- 16.6/21.8 MB 4.1 MB/s eta 0:00:02\n",
      "   ------------------------------ --------- 16.8/21.8 MB 4.1 MB/s eta 0:00:02\n",
      "   ------------------------------ --------- 16.8/21.8 MB 4.1 MB/s eta 0:00:02\n",
      "   ------------------------------ --------- 16.8/21.8 MB 4.1 MB/s eta 0:00:02\n",
      "   ------------------------------ --------- 16.8/21.8 MB 4.1 MB/s eta 0:00:02\n",
      "   ------------------------------ --------- 16.8/21.8 MB 4.1 MB/s eta 0:00:02\n",
      "   ------------------------------ --------- 16.8/21.8 MB 4.1 MB/s eta 0:00:02\n",
      "   ------------------------------- -------- 17.1/21.8 MB 3.7 MB/s eta 0:00:02\n",
      "   ------------------------------- -------- 17.4/21.8 MB 3.7 MB/s eta 0:00:02\n",
      "   -------------------------------- ------- 17.8/21.8 MB 3.7 MB/s eta 0:00:02\n",
      "   -------------------------------- ------- 17.8/21.8 MB 3.7 MB/s eta 0:00:02\n",
      "   -------------------------------- ------- 17.8/21.8 MB 3.7 MB/s eta 0:00:02\n",
      "   -------------------------------- ------- 17.8/21.8 MB 3.7 MB/s eta 0:00:02\n",
      "   -------------------------------- ------- 17.8/21.8 MB 3.7 MB/s eta 0:00:02\n",
      "   -------------------------------- ------- 17.8/21.8 MB 3.7 MB/s eta 0:00:02\n",
      "   -------------------------------- ------- 17.8/21.8 MB 3.7 MB/s eta 0:00:02\n",
      "   -------------------------------- ------- 17.8/21.8 MB 3.7 MB/s eta 0:00:02\n",
      "   -------------------------------- ------- 17.8/21.8 MB 3.7 MB/s eta 0:00:02\n",
      "   -------------------------------- ------- 17.8/21.8 MB 3.7 MB/s eta 0:00:02\n",
      "   --------------------------------- ------ 18.1/21.8 MB 3.2 MB/s eta 0:00:02\n",
      "   --------------------------------- ------ 18.5/21.8 MB 3.2 MB/s eta 0:00:02\n",
      "   ---------------------------------- ----- 18.9/21.8 MB 3.4 MB/s eta 0:00:01\n",
      "   ---------------------------------- ----- 18.9/21.8 MB 3.4 MB/s eta 0:00:01\n",
      "   ---------------------------------- ----- 18.9/21.8 MB 3.4 MB/s eta 0:00:01\n",
      "   ---------------------------------- ----- 18.9/21.8 MB 3.4 MB/s eta 0:00:01\n",
      "   ----------------------------------- ---- 19.2/21.8 MB 3.2 MB/s eta 0:00:01\n",
      "   ----------------------------------- ---- 19.6/21.8 MB 3.3 MB/s eta 0:00:01\n",
      "   ------------------------------------ --- 19.9/21.8 MB 3.3 MB/s eta 0:00:01\n",
      "   ------------------------------------ --- 19.9/21.8 MB 3.3 MB/s eta 0:00:01\n",
      "   ------------------------------------ --- 19.9/21.8 MB 3.3 MB/s eta 0:00:01\n",
      "   ------------------------------------ --- 19.9/21.8 MB 3.3 MB/s eta 0:00:01\n",
      "   ------------------------------------ --- 19.9/21.8 MB 3.3 MB/s eta 0:00:01\n",
      "   ------------------------------------ --- 19.9/21.8 MB 3.3 MB/s eta 0:00:01\n",
      "   ------------------------------------ --- 20.1/21.8 MB 3.0 MB/s eta 0:00:01\n",
      "   ------------------------------------- -- 20.5/21.8 MB 3.0 MB/s eta 0:00:01\n",
      "   -------------------------------------- - 20.9/21.8 MB 3.4 MB/s eta 0:00:01\n",
      "   ---------------------------------------  21.3/21.8 MB 3.4 MB/s eta 0:00:01\n",
      "   ---------------------------------------  21.6/21.8 MB 3.4 MB/s eta 0:00:01\n",
      "   ---------------------------------------- 21.8/21.8 MB 3.4 MB/s eta 0:00:00\n",
      "Installing collected packages: sktime\n",
      "  Attempting uninstall: sktime\n",
      "    Found existing installation: sktime 0.27.0\n",
      "    Uninstalling sktime-0.27.0:\n",
      "      Successfully uninstalled sktime-0.27.0\n",
      "Successfully installed sktime-0.26.0\n"
     ]
    },
    {
     "name": "stderr",
     "output_type": "stream",
     "text": [
      "  Running command git clone --filter=blob:none --quiet https://github.com/pycaret/pycaret.git 'C:\\Users\\gabri\\AppData\\Local\\Temp\\pip-req-build-l5mxlbl_'\n",
      "WARNING: There was an error checking the latest version of pip.\n"
     ]
    }
   ],
   "source": [
    "!pip install git+https://github.com/pycaret/pycaret.git@master --upgrade"
   ]
  },
  {
   "cell_type": "code",
   "execution_count": null,
   "metadata": {},
   "outputs": [
    {
     "name": "stdout",
     "output_type": "stream",
     "text": [
      "Collecting scikit-learn==1.2.2\n",
      "  Using cached scikit_learn-1.2.2-cp310-cp310-win_amd64.whl.metadata (11 kB)\n",
      "Requirement already satisfied: numpy>=1.17.3 in c:\\users\\gabri\\appdata\\local\\packages\\pythonsoftwarefoundation.python.3.10_qbz5n2kfra8p0\\localcache\\local-packages\\python310\\site-packages (from scikit-learn==1.2.2) (1.24.3)\n",
      "Requirement already satisfied: scipy>=1.3.2 in c:\\users\\gabri\\appdata\\local\\packages\\pythonsoftwarefoundation.python.3.10_qbz5n2kfra8p0\\localcache\\local-packages\\python310\\site-packages (from scikit-learn==1.2.2) (1.11.1)\n",
      "Requirement already satisfied: joblib>=1.1.1 in c:\\users\\gabri\\appdata\\local\\packages\\pythonsoftwarefoundation.python.3.10_qbz5n2kfra8p0\\localcache\\local-packages\\python310\\site-packages (from scikit-learn==1.2.2) (1.3.2)\n",
      "Requirement already satisfied: threadpoolctl>=2.0.0 in c:\\users\\gabri\\appdata\\local\\packages\\pythonsoftwarefoundation.python.3.10_qbz5n2kfra8p0\\localcache\\local-packages\\python310\\site-packages (from scikit-learn==1.2.2) (3.2.0)\n",
      "Using cached scikit_learn-1.2.2-cp310-cp310-win_amd64.whl (8.3 MB)\n",
      "Installing collected packages: scikit-learn\n",
      "  Attempting uninstall: scikit-learn\n",
      "    Found existing installation: scikit-learn 1.4.1.post1\n",
      "    Uninstalling scikit-learn-1.4.1.post1:\n",
      "      Successfully uninstalled scikit-learn-1.4.1.post1\n",
      "Successfully installed scikit-learn-1.2.2\n"
     ]
    },
    {
     "name": "stderr",
     "output_type": "stream",
     "text": [
      "  WARNING: Failed to remove contents in a temporary directory 'C:\\Users\\gabri\\AppData\\Local\\Packages\\PythonSoftwareFoundation.Python.3.10_qbz5n2kfra8p0\\LocalCache\\local-packages\\Python310\\site-packages\\~-learn'.\n",
      "  You can safely remove it manually.\n",
      "ERROR: pip's dependency resolver does not currently take into account all the packages that are installed. This behaviour is the source of the following dependency conflicts.\n",
      "pycaret 3.3.0 requires scikit-learn>1.4.0, but you have scikit-learn 1.2.2 which is incompatible.\n",
      "WARNING: There was an error checking the latest version of pip.\n"
     ]
    }
   ],
   "source": [
    "!pip install scikit-learn==1.2.2"
   ]
  },
  {
   "cell_type": "code",
   "execution_count": null,
   "metadata": {},
   "outputs": [
    {
     "ename": "ImportError",
     "evalue": "cannot import name '_union1d' from 'sklearn.utils._array_api' (C:\\Users\\gabri\\AppData\\Local\\Packages\\PythonSoftwareFoundation.Python.3.10_qbz5n2kfra8p0\\LocalCache\\local-packages\\Python310\\site-packages\\sklearn\\utils\\_array_api.py)",
     "output_type": "error",
     "traceback": [
      "\u001b[1;31m---------------------------------------------------------------------------\u001b[0m\n",
      "\u001b[1;31mImportError\u001b[0m                               Traceback (most recent call last)\n",
      "Cell \u001b[1;32mIn[353], line 1\u001b[0m\n",
      "\u001b[1;32m----> 1\u001b[0m \u001b[38;5;28;01mfrom\u001b[39;00m \u001b[38;5;21;01mpycaret\u001b[39;00m\u001b[38;5;21;01m.\u001b[39;00m\u001b[38;5;21;01mregression\u001b[39;00m \u001b[38;5;28;01mimport\u001b[39;00m \u001b[38;5;241m*\u001b[39m\n",
      "\n",
      "File \u001b[1;32m~\\AppData\\Local\\Packages\\PythonSoftwareFoundation.Python.3.10_qbz5n2kfra8p0\\LocalCache\\local-packages\\Python310\\site-packages\\pycaret\\regression\\__init__.py:1\u001b[0m\n",
      "\u001b[1;32m----> 1\u001b[0m \u001b[38;5;28;01mfrom\u001b[39;00m \u001b[38;5;21;01mpycaret\u001b[39;00m\u001b[38;5;21;01m.\u001b[39;00m\u001b[38;5;21;01mregression\u001b[39;00m\u001b[38;5;21;01m.\u001b[39;00m\u001b[38;5;21;01mfunctional\u001b[39;00m \u001b[38;5;28;01mimport\u001b[39;00m (\n",
      "\u001b[0;32m      2\u001b[0m     add_metric,\n",
      "\u001b[0;32m      3\u001b[0m     automl,\n",
      "\u001b[0;32m      4\u001b[0m     blend_models,\n",
      "\u001b[0;32m      5\u001b[0m     check_drift,\n",
      "\u001b[0;32m      6\u001b[0m     check_fairness,\n",
      "\u001b[0;32m      7\u001b[0m     compare_models,\n",
      "\u001b[0;32m      8\u001b[0m     convert_model,\n",
      "\u001b[0;32m      9\u001b[0m     create_api,\n",
      "\u001b[0;32m     10\u001b[0m     create_app,\n",
      "\u001b[0;32m     11\u001b[0m     create_docker,\n",
      "\u001b[0;32m     12\u001b[0m     create_model,\n",
      "\u001b[0;32m     13\u001b[0m     dashboard,\n",
      "\u001b[0;32m     14\u001b[0m     deploy_model,\n",
      "\u001b[0;32m     15\u001b[0m     ensemble_model,\n",
      "\u001b[0;32m     16\u001b[0m     evaluate_model,\n",
      "\u001b[0;32m     17\u001b[0m     finalize_model,\n",
      "\u001b[0;32m     18\u001b[0m     get_allowed_engines,\n",
      "\u001b[0;32m     19\u001b[0m     get_config,\n",
      "\u001b[0;32m     20\u001b[0m     get_current_experiment,\n",
      "\u001b[0;32m     21\u001b[0m     get_engine,\n",
      "\u001b[0;32m     22\u001b[0m     get_leaderboard,\n",
      "\u001b[0;32m     23\u001b[0m     get_logs,\n",
      "\u001b[0;32m     24\u001b[0m     get_metrics,\n",
      "\u001b[0;32m     25\u001b[0m     interpret_model,\n",
      "\u001b[0;32m     26\u001b[0m     load_experiment,\n",
      "\u001b[0;32m     27\u001b[0m     load_model,\n",
      "\u001b[0;32m     28\u001b[0m     models,\n",
      "\u001b[0;32m     29\u001b[0m     plot_model,\n",
      "\u001b[0;32m     30\u001b[0m     predict_model,\n",
      "\u001b[0;32m     31\u001b[0m     pull,\n",
      "\u001b[0;32m     32\u001b[0m     remove_metric,\n",
      "\u001b[0;32m     33\u001b[0m     save_experiment,\n",
      "\u001b[0;32m     34\u001b[0m     save_model,\n",
      "\u001b[0;32m     35\u001b[0m     set_config,\n",
      "\u001b[0;32m     36\u001b[0m     set_current_experiment,\n",
      "\u001b[0;32m     37\u001b[0m     setup,\n",
      "\u001b[0;32m     38\u001b[0m     stack_models,\n",
      "\u001b[0;32m     39\u001b[0m     tune_model,\n",
      "\u001b[0;32m     40\u001b[0m )\n",
      "\u001b[0;32m     41\u001b[0m \u001b[38;5;28;01mfrom\u001b[39;00m \u001b[38;5;21;01mpycaret\u001b[39;00m\u001b[38;5;21;01m.\u001b[39;00m\u001b[38;5;21;01mregression\u001b[39;00m\u001b[38;5;21;01m.\u001b[39;00m\u001b[38;5;21;01moop\u001b[39;00m \u001b[38;5;28;01mimport\u001b[39;00m RegressionExperiment\n",
      "\u001b[0;32m     43\u001b[0m __all__ \u001b[38;5;241m=\u001b[39m [\n",
      "\u001b[0;32m     44\u001b[0m     \u001b[38;5;124m\"\u001b[39m\u001b[38;5;124mRegressionExperiment\u001b[39m\u001b[38;5;124m\"\u001b[39m,\n",
      "\u001b[0;32m     45\u001b[0m     \u001b[38;5;124m\"\u001b[39m\u001b[38;5;124msetup\u001b[39m\u001b[38;5;124m\"\u001b[39m,\n",
      "\u001b[1;32m   (...)\u001b[0m\n",
      "\u001b[0;32m     82\u001b[0m     \u001b[38;5;124m\"\u001b[39m\u001b[38;5;124mcheck_drift\u001b[39m\u001b[38;5;124m\"\u001b[39m,\n",
      "\u001b[0;32m     83\u001b[0m ]\n",
      "\n",
      "File \u001b[1;32m~\\AppData\\Local\\Packages\\PythonSoftwareFoundation.Python.3.10_qbz5n2kfra8p0\\LocalCache\\local-packages\\Python310\\site-packages\\pycaret\\regression\\functional.py:10\u001b[0m\n",
      "\u001b[0;32m      8\u001b[0m \u001b[38;5;28;01mfrom\u001b[39;00m \u001b[38;5;21;01mpycaret\u001b[39;00m\u001b[38;5;21;01m.\u001b[39;00m\u001b[38;5;21;01minternal\u001b[39;00m\u001b[38;5;21;01m.\u001b[39;00m\u001b[38;5;21;01mparallel\u001b[39;00m\u001b[38;5;21;01m.\u001b[39;00m\u001b[38;5;21;01mparallel_backend\u001b[39;00m \u001b[38;5;28;01mimport\u001b[39;00m ParallelBackend\n",
      "\u001b[0;32m      9\u001b[0m \u001b[38;5;28;01mfrom\u001b[39;00m \u001b[38;5;21;01mpycaret\u001b[39;00m\u001b[38;5;21;01m.\u001b[39;00m\u001b[38;5;21;01mloggers\u001b[39;00m\u001b[38;5;21;01m.\u001b[39;00m\u001b[38;5;21;01mbase_logger\u001b[39;00m \u001b[38;5;28;01mimport\u001b[39;00m BaseLogger\n",
      "\u001b[1;32m---> 10\u001b[0m \u001b[38;5;28;01mfrom\u001b[39;00m \u001b[38;5;21;01mpycaret\u001b[39;00m\u001b[38;5;21;01m.\u001b[39;00m\u001b[38;5;21;01mregression\u001b[39;00m\u001b[38;5;21;01m.\u001b[39;00m\u001b[38;5;21;01moop\u001b[39;00m \u001b[38;5;28;01mimport\u001b[39;00m RegressionExperiment\n",
      "\u001b[0;32m     11\u001b[0m \u001b[38;5;28;01mfrom\u001b[39;00m \u001b[38;5;21;01mpycaret\u001b[39;00m\u001b[38;5;21;01m.\u001b[39;00m\u001b[38;5;21;01mutils\u001b[39;00m\u001b[38;5;21;01m.\u001b[39;00m\u001b[38;5;21;01mconstants\u001b[39;00m \u001b[38;5;28;01mimport\u001b[39;00m DATAFRAME_LIKE, SEQUENCE_LIKE, TARGET_LIKE\n",
      "\u001b[0;32m     12\u001b[0m \u001b[38;5;28;01mfrom\u001b[39;00m \u001b[38;5;21;01mpycaret\u001b[39;00m\u001b[38;5;21;01m.\u001b[39;00m\u001b[38;5;21;01mutils\u001b[39;00m\u001b[38;5;21;01m.\u001b[39;00m\u001b[38;5;21;01mgeneric\u001b[39;00m \u001b[38;5;28;01mimport\u001b[39;00m check_if_global_is_not_none\n",
      "\n",
      "File \u001b[1;32m~\\AppData\\Local\\Packages\\PythonSoftwareFoundation.Python.3.10_qbz5n2kfra8p0\\LocalCache\\local-packages\\Python310\\site-packages\\pycaret\\regression\\oop.py:10\u001b[0m\n",
      "\u001b[0;32m      7\u001b[0m \u001b[38;5;28;01mimport\u001b[39;00m \u001b[38;5;21;01mpandas\u001b[39;00m \u001b[38;5;28;01mas\u001b[39;00m \u001b[38;5;21;01mpd\u001b[39;00m\n",
      "\u001b[0;32m      8\u001b[0m \u001b[38;5;28;01mfrom\u001b[39;00m \u001b[38;5;21;01mjoblib\u001b[39;00m\u001b[38;5;21;01m.\u001b[39;00m\u001b[38;5;21;01mmemory\u001b[39;00m \u001b[38;5;28;01mimport\u001b[39;00m Memory\n",
      "\u001b[1;32m---> 10\u001b[0m \u001b[38;5;28;01mfrom\u001b[39;00m \u001b[38;5;21;01mpycaret\u001b[39;00m\u001b[38;5;21;01m.\u001b[39;00m\u001b[38;5;21;01mcontainers\u001b[39;00m\u001b[38;5;21;01m.\u001b[39;00m\u001b[38;5;21;01mmetrics\u001b[39;00m\u001b[38;5;21;01m.\u001b[39;00m\u001b[38;5;21;01mregression\u001b[39;00m \u001b[38;5;28;01mimport\u001b[39;00m get_all_metric_containers\n",
      "\u001b[0;32m     11\u001b[0m \u001b[38;5;28;01mfrom\u001b[39;00m \u001b[38;5;21;01mpycaret\u001b[39;00m\u001b[38;5;21;01m.\u001b[39;00m\u001b[38;5;21;01mcontainers\u001b[39;00m\u001b[38;5;21;01m.\u001b[39;00m\u001b[38;5;21;01mmodels\u001b[39;00m\u001b[38;5;21;01m.\u001b[39;00m\u001b[38;5;21;01mregression\u001b[39;00m \u001b[38;5;28;01mimport\u001b[39;00m (\n",
      "\u001b[0;32m     12\u001b[0m     ALL_ALLOWED_ENGINES,\n",
      "\u001b[0;32m     13\u001b[0m     get_all_model_containers,\n",
      "\u001b[0;32m     14\u001b[0m     get_container_default_engines,\n",
      "\u001b[0;32m     15\u001b[0m )\n",
      "\u001b[0;32m     16\u001b[0m \u001b[38;5;28;01mfrom\u001b[39;00m \u001b[38;5;21;01mpycaret\u001b[39;00m\u001b[38;5;21;01m.\u001b[39;00m\u001b[38;5;21;01minternal\u001b[39;00m\u001b[38;5;21;01m.\u001b[39;00m\u001b[38;5;21;01mdisplay\u001b[39;00m \u001b[38;5;28;01mimport\u001b[39;00m CommonDisplay\n",
      "\n",
      "File \u001b[1;32m~\\AppData\\Local\\Packages\\PythonSoftwareFoundation.Python.3.10_qbz5n2kfra8p0\\LocalCache\\local-packages\\Python310\\site-packages\\pycaret\\containers\\metrics\\regression.py:14\u001b[0m\n",
      "\u001b[0;32m     11\u001b[0m \u001b[38;5;28;01mfrom\u001b[39;00m \u001b[38;5;21;01mtyping\u001b[39;00m \u001b[38;5;28;01mimport\u001b[39;00m Any, Dict, Optional, Union\n",
      "\u001b[0;32m     13\u001b[0m \u001b[38;5;28;01mimport\u001b[39;00m \u001b[38;5;21;01mnumpy\u001b[39;00m \u001b[38;5;28;01mas\u001b[39;00m \u001b[38;5;21;01mnp\u001b[39;00m\n",
      "\u001b[1;32m---> 14\u001b[0m \u001b[38;5;28;01mfrom\u001b[39;00m \u001b[38;5;21;01msklearn\u001b[39;00m \u001b[38;5;28;01mimport\u001b[39;00m metrics\n",
      "\u001b[0;32m     15\u001b[0m \u001b[38;5;28;01mfrom\u001b[39;00m \u001b[38;5;21;01msklearn\u001b[39;00m\u001b[38;5;21;01m.\u001b[39;00m\u001b[38;5;21;01mmetrics\u001b[39;00m\u001b[38;5;21;01m.\u001b[39;00m\u001b[38;5;21;01m_regression\u001b[39;00m \u001b[38;5;28;01mimport\u001b[39;00m _check_reg_targets\n",
      "\u001b[0;32m     16\u001b[0m \u001b[38;5;28;01mfrom\u001b[39;00m \u001b[38;5;21;01msklearn\u001b[39;00m\u001b[38;5;21;01m.\u001b[39;00m\u001b[38;5;21;01mmetrics\u001b[39;00m\u001b[38;5;21;01m.\u001b[39;00m\u001b[38;5;21;01m_scorer\u001b[39;00m \u001b[38;5;28;01mimport\u001b[39;00m _BaseScorer\n",
      "\n",
      "File \u001b[1;32m~\\AppData\\Local\\Packages\\PythonSoftwareFoundation.Python.3.10_qbz5n2kfra8p0\\LocalCache\\local-packages\\Python310\\site-packages\\sklearn\\metrics\\__init__.py:8\u001b[0m\n",
      "\u001b[0;32m      1\u001b[0m \u001b[38;5;124;03m\"\"\"\u001b[39;00m\n",
      "\u001b[0;32m      2\u001b[0m \u001b[38;5;124;03mThe :mod:`sklearn.metrics` module includes score functions, performance metrics\u001b[39;00m\n",
      "\u001b[0;32m      3\u001b[0m \u001b[38;5;124;03mand pairwise metrics and distance computations.\u001b[39;00m\n",
      "\u001b[0;32m      4\u001b[0m \u001b[38;5;124;03m\"\"\"\u001b[39;00m\n",
      "\u001b[0;32m      7\u001b[0m \u001b[38;5;28;01mfrom\u001b[39;00m \u001b[38;5;21;01m.\u001b[39;00m \u001b[38;5;28;01mimport\u001b[39;00m cluster\n",
      "\u001b[1;32m----> 8\u001b[0m \u001b[38;5;28;01mfrom\u001b[39;00m \u001b[38;5;21;01m.\u001b[39;00m\u001b[38;5;21;01m_classification\u001b[39;00m \u001b[38;5;28;01mimport\u001b[39;00m (\n",
      "\u001b[0;32m      9\u001b[0m     accuracy_score,\n",
      "\u001b[0;32m     10\u001b[0m     balanced_accuracy_score,\n",
      "\u001b[0;32m     11\u001b[0m     brier_score_loss,\n",
      "\u001b[0;32m     12\u001b[0m     class_likelihood_ratios,\n",
      "\u001b[0;32m     13\u001b[0m     classification_report,\n",
      "\u001b[0;32m     14\u001b[0m     cohen_kappa_score,\n",
      "\u001b[0;32m     15\u001b[0m     confusion_matrix,\n",
      "\u001b[0;32m     16\u001b[0m     f1_score,\n",
      "\u001b[0;32m     17\u001b[0m     fbeta_score,\n",
      "\u001b[0;32m     18\u001b[0m     hamming_loss,\n",
      "\u001b[0;32m     19\u001b[0m     hinge_loss,\n",
      "\u001b[0;32m     20\u001b[0m     jaccard_score,\n",
      "\u001b[0;32m     21\u001b[0m     log_loss,\n",
      "\u001b[0;32m     22\u001b[0m     matthews_corrcoef,\n",
      "\u001b[0;32m     23\u001b[0m     multilabel_confusion_matrix,\n",
      "\u001b[0;32m     24\u001b[0m     precision_recall_fscore_support,\n",
      "\u001b[0;32m     25\u001b[0m     precision_score,\n",
      "\u001b[0;32m     26\u001b[0m     recall_score,\n",
      "\u001b[0;32m     27\u001b[0m     zero_one_loss,\n",
      "\u001b[0;32m     28\u001b[0m )\n",
      "\u001b[0;32m     29\u001b[0m \u001b[38;5;28;01mfrom\u001b[39;00m \u001b[38;5;21;01m.\u001b[39;00m\u001b[38;5;21;01m_dist_metrics\u001b[39;00m \u001b[38;5;28;01mimport\u001b[39;00m DistanceMetric\n",
      "\u001b[0;32m     30\u001b[0m \u001b[38;5;28;01mfrom\u001b[39;00m \u001b[38;5;21;01m.\u001b[39;00m\u001b[38;5;21;01m_plot\u001b[39;00m\u001b[38;5;21;01m.\u001b[39;00m\u001b[38;5;21;01mconfusion_matrix\u001b[39;00m \u001b[38;5;28;01mimport\u001b[39;00m ConfusionMatrixDisplay\n",
      "\n",
      "File \u001b[1;32m~\\AppData\\Local\\Packages\\PythonSoftwareFoundation.Python.3.10_qbz5n2kfra8p0\\LocalCache\\local-packages\\Python310\\site-packages\\sklearn\\metrics\\_classification.py:41\u001b[0m\n",
      "\u001b[0;32m     34\u001b[0m \u001b[38;5;28;01mfrom\u001b[39;00m \u001b[38;5;21;01m.\u001b[39;00m\u001b[38;5;21;01m.\u001b[39;00m\u001b[38;5;21;01mpreprocessing\u001b[39;00m \u001b[38;5;28;01mimport\u001b[39;00m LabelBinarizer, LabelEncoder\n",
      "\u001b[0;32m     35\u001b[0m \u001b[38;5;28;01mfrom\u001b[39;00m \u001b[38;5;21;01m.\u001b[39;00m\u001b[38;5;21;01m.\u001b[39;00m\u001b[38;5;21;01mutils\u001b[39;00m \u001b[38;5;28;01mimport\u001b[39;00m (\n",
      "\u001b[0;32m     36\u001b[0m     assert_all_finite,\n",
      "\u001b[0;32m     37\u001b[0m     check_array,\n",
      "\u001b[0;32m     38\u001b[0m     check_consistent_length,\n",
      "\u001b[0;32m     39\u001b[0m     column_or_1d,\n",
      "\u001b[0;32m     40\u001b[0m )\n",
      "\u001b[1;32m---> 41\u001b[0m \u001b[38;5;28;01mfrom\u001b[39;00m \u001b[38;5;21;01m.\u001b[39;00m\u001b[38;5;21;01m.\u001b[39;00m\u001b[38;5;21;01mutils\u001b[39;00m\u001b[38;5;21;01m.\u001b[39;00m\u001b[38;5;21;01m_array_api\u001b[39;00m \u001b[38;5;28;01mimport\u001b[39;00m _union1d, _weighted_sum, get_namespace\n",
      "\u001b[0;32m     42\u001b[0m \u001b[38;5;28;01mfrom\u001b[39;00m \u001b[38;5;21;01m.\u001b[39;00m\u001b[38;5;21;01m.\u001b[39;00m\u001b[38;5;21;01mutils\u001b[39;00m\u001b[38;5;21;01m.\u001b[39;00m\u001b[38;5;21;01m_param_validation\u001b[39;00m \u001b[38;5;28;01mimport\u001b[39;00m Interval, Options, StrOptions, validate_params\n",
      "\u001b[0;32m     43\u001b[0m \u001b[38;5;28;01mfrom\u001b[39;00m \u001b[38;5;21;01m.\u001b[39;00m\u001b[38;5;21;01m.\u001b[39;00m\u001b[38;5;21;01mutils\u001b[39;00m\u001b[38;5;21;01m.\u001b[39;00m\u001b[38;5;21;01mextmath\u001b[39;00m \u001b[38;5;28;01mimport\u001b[39;00m _nanaverage\n",
      "\n",
      "\u001b[1;31mImportError\u001b[0m: cannot import name '_union1d' from 'sklearn.utils._array_api' (C:\\Users\\gabri\\AppData\\Local\\Packages\\PythonSoftwareFoundation.Python.3.10_qbz5n2kfra8p0\\LocalCache\\local-packages\\Python310\\site-packages\\sklearn\\utils\\_array_api.py)"
     ]
    }
   ],
   "source": [
    "from pycaret.regression import *"
   ]
  },
  {
   "cell_type": "code",
   "execution_count": null,
   "metadata": {},
   "outputs": [
    {
     "ename": "NameError",
     "evalue": "name 'setup' is not defined",
     "output_type": "error",
     "traceback": [
      "\u001b[1;31m---------------------------------------------------------------------------\u001b[0m\n",
      "\u001b[1;31mNameError\u001b[0m                                 Traceback (most recent call last)\n",
      "Cell \u001b[1;32mIn[350], line 1\u001b[0m\n",
      "\u001b[1;32m----> 1\u001b[0m s \u001b[38;5;241m=\u001b[39m \u001b[43msetup\u001b[49m(data \u001b[38;5;241m=\u001b[39m train, test_data \u001b[38;5;241m=\u001b[39m test, target \u001b[38;5;241m=\u001b[39m \u001b[38;5;124m'\u001b[39m\u001b[38;5;124mval_geracao\u001b[39m\u001b[38;5;124m'\u001b[39m, fold_strategy \u001b[38;5;241m=\u001b[39m \u001b[38;5;124m'\u001b[39m\u001b[38;5;124mtimeseries\u001b[39m\u001b[38;5;124m'\u001b[39m, numeric_features \u001b[38;5;241m=\u001b[39m [\u001b[38;5;124m'\u001b[39m\u001b[38;5;124mSeries\u001b[39m\u001b[38;5;124m'\u001b[39m], fold \u001b[38;5;241m=\u001b[39m \u001b[38;5;241m3\u001b[39m, transform_target \u001b[38;5;241m=\u001b[39m \u001b[38;5;28;01mTrue\u001b[39;00m, session_id \u001b[38;5;241m=\u001b[39m \u001b[38;5;241m123\u001b[39m)\n",
      "\n",
      "\u001b[1;31mNameError\u001b[0m: name 'setup' is not defined"
     ]
    }
   ],
   "source": [
    "s = setup(data = train, test_data = test, target = 'val_geracao', fold_strategy = 'timeseries', numeric_features = ['Series'], fold = 3, transform_target = True, session_id = 123)"
   ]
  },
  {
   "cell_type": "code",
   "execution_count": null,
   "metadata": {},
   "outputs": [],
   "source": [
    "best = compare_models(sort = 'MAPE')"
   ]
  },
  {
   "cell_type": "code",
   "execution_count": null,
   "metadata": {},
   "outputs": [],
   "source": [
    "final_best = finalize_model(best)"
   ]
  },
  {
   "cell_type": "markdown",
   "metadata": {},
   "source": [
    "### teste estacionadirade"
   ]
  },
  {
   "cell_type": "code",
   "execution_count": null,
   "metadata": {},
   "outputs": [],
   "source": [
    "# DF Test using statsmodels adfuller\n",
    "from statsmodels.tsa.stattools import adfuller\n",
    "\n",
    "def df_test(time_series):\n",
    "    \n",
    "    print('Results of Dickey-Fuller Test:')\n",
    "    dftest = adfuller(time_series, autolag = 'AIC')\n",
    "    dfoutput = pd.Series(dftest[0:4], index=['Test Statistic', 'p-value', '#Lags Used', 'Number of Observations Used'])\n",
    "    \n",
    "    for key, value in dftest[4].items():\n",
    "        dfoutput['Critical Value (%s)' %key] = value\n",
    "    \n",
    "    print (dfoutput)"
   ]
  },
  {
   "cell_type": "code",
   "execution_count": null,
   "metadata": {},
   "outputs": [
    {
     "name": "stdout",
     "output_type": "stream",
     "text": [
      "Results of Dickey-Fuller Test:\n",
      "Test Statistic                  -1.965718\n",
      "p-value                          0.301804\n",
      "#Lags Used                      12.000000\n",
      "Number of Observations Used    239.000000\n",
      "Critical Value (1%)             -3.458011\n",
      "Critical Value (5%)             -2.873710\n",
      "Critical Value (10%)            -2.573256\n",
      "dtype: float64\n"
     ]
    }
   ],
   "source": [
    "df_test(data_cleaned_month['val_geracao'])"
   ]
  }
 ],
 "metadata": {
  "language_info": {
   "name": "python"
  }
 },
 "nbformat": 4,
 "nbformat_minor": 2
}
