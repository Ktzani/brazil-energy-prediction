{
 "cells": [
  {
   "cell_type": "markdown",
   "metadata": {},
   "source": [
    "# Pacotes"
   ]
  },
  {
   "cell_type": "code",
   "execution_count": 241,
   "metadata": {},
   "outputs": [],
   "source": [
    "import pandas as pd\n",
    "import glob\n",
    "import os"
   ]
  },
  {
   "cell_type": "markdown",
   "metadata": {},
   "source": [
    "# <font color='red'> 1)  Coleta dos dados</font>"
   ]
  },
  {
   "cell_type": "markdown",
   "metadata": {},
   "source": [
    "### 1.1) Leitura dos arquivos"
   ]
  },
  {
   "cell_type": "markdown",
   "metadata": {},
   "source": [
    "#### OBS: Escolhi utilizar os arquivos csv pela facilidade de leitura e poder utilizar chunks de dados"
   ]
  },
  {
   "cell_type": "code",
   "execution_count": 242,
   "metadata": {},
   "outputs": [],
   "source": [
    "def get_csv_files(years: range = range(2000, 2021), directory: str = \"../data\") -> list: \n",
    "    dataframes_list = []\n",
    "\n",
    "    for year in years:\n",
    "        file_name = f\"GERACAO_USINA_{year}.csv\"\n",
    "        file_path = os.path.join(directory, file_name)\n",
    "\n",
    "        print(f\"\\nLendo o arquivo {file_name}...\")\n",
    "\n",
    "        if glob.glob(file_path):\n",
    "            df = pd.read_csv(file_path, delimiter=\";\", encoding=\"utf-8\", low_memory=False)\n",
    "\n",
    "            df['din_instante'] = pd.to_datetime(df['din_instante'])\n",
    "\n",
    "            dataframes_list.append(df)\n",
    "        else:\n",
    "            raise Exception(f\"O arquivo {file_name} não foi encontrado.\")\n",
    "            \n",
    "\n",
    "    return dataframes_list"
   ]
  },
  {
   "cell_type": "code",
   "execution_count": 243,
   "metadata": {},
   "outputs": [
    {
     "name": "stdout",
     "output_type": "stream",
     "text": [
      "\n",
      "Lendo o arquivo GERACAO_USINA_2000.csv...\n"
     ]
    }
   ],
   "source": [
    "try: \n",
    "    dataframes = get_csv_files(range(2000, 2001), \"../data\")\n",
    "except Exception as e:\n",
    "    print(f\"Erro: {e}\")"
   ]
  },
  {
   "cell_type": "markdown",
   "metadata": {},
   "source": [
    "### 1.2) Observando dados crus"
   ]
  },
  {
   "cell_type": "code",
   "execution_count": 244,
   "metadata": {},
   "outputs": [
    {
     "data": {
      "text/html": [
       "<div>\n",
       "<style scoped>\n",
       "    .dataframe tbody tr th:only-of-type {\n",
       "        vertical-align: middle;\n",
       "    }\n",
       "\n",
       "    .dataframe tbody tr th {\n",
       "        vertical-align: top;\n",
       "    }\n",
       "\n",
       "    .dataframe thead th {\n",
       "        text-align: right;\n",
       "    }\n",
       "</style>\n",
       "<table border=\"1\" class=\"dataframe\">\n",
       "  <thead>\n",
       "    <tr style=\"text-align: right;\">\n",
       "      <th></th>\n",
       "      <th>din_instante</th>\n",
       "      <th>id_subsistema</th>\n",
       "      <th>nom_subsistema</th>\n",
       "      <th>id_estado</th>\n",
       "      <th>nom_estado</th>\n",
       "      <th>cod_modalidadeoperacao</th>\n",
       "      <th>nom_tipousina</th>\n",
       "      <th>nom_tipocombustivel</th>\n",
       "      <th>nom_usina</th>\n",
       "      <th>ceg</th>\n",
       "      <th>val_geracao</th>\n",
       "    </tr>\n",
       "  </thead>\n",
       "  <tbody>\n",
       "    <tr>\n",
       "      <th>0</th>\n",
       "      <td>2000-01-01</td>\n",
       "      <td>N</td>\n",
       "      <td>NORTE</td>\n",
       "      <td>PA</td>\n",
       "      <td>PARA</td>\n",
       "      <td>TIPO I</td>\n",
       "      <td>HIDROELÉTRICA</td>\n",
       "      <td>Hidráulica</td>\n",
       "      <td>Tucuruí</td>\n",
       "      <td>UHE.PH.PA.002889-4.01</td>\n",
       "      <td>2422.5</td>\n",
       "    </tr>\n",
       "    <tr>\n",
       "      <th>1</th>\n",
       "      <td>2000-01-01</td>\n",
       "      <td>NE</td>\n",
       "      <td>NORDESTE</td>\n",
       "      <td>AL</td>\n",
       "      <td>ALAGOAS</td>\n",
       "      <td>TIPO I</td>\n",
       "      <td>HIDROELÉTRICA</td>\n",
       "      <td>Hidráulica</td>\n",
       "      <td>Xingó</td>\n",
       "      <td>UHE.PH.SE.027053-9.01</td>\n",
       "      <td>1995.6</td>\n",
       "    </tr>\n",
       "    <tr>\n",
       "      <th>2</th>\n",
       "      <td>2000-01-01</td>\n",
       "      <td>NE</td>\n",
       "      <td>NORDESTE</td>\n",
       "      <td>BA</td>\n",
       "      <td>BAHIA</td>\n",
       "      <td>Pequenas Usinas (Tipo III)</td>\n",
       "      <td>HIDROELÉTRICA</td>\n",
       "      <td>Hidráulica</td>\n",
       "      <td>Pequenas Centrais Hidroelétricas da Chesf</td>\n",
       "      <td>-</td>\n",
       "      <td>13.0</td>\n",
       "    </tr>\n",
       "    <tr>\n",
       "      <th>3</th>\n",
       "      <td>2000-01-01</td>\n",
       "      <td>NE</td>\n",
       "      <td>NORDESTE</td>\n",
       "      <td>BA</td>\n",
       "      <td>BAHIA</td>\n",
       "      <td>TIPO I</td>\n",
       "      <td>HIDROELÉTRICA</td>\n",
       "      <td>Hidráulica</td>\n",
       "      <td>Apolônio Sales</td>\n",
       "      <td>UHE.PH.AL.001510-5.01</td>\n",
       "      <td>202.5</td>\n",
       "    </tr>\n",
       "    <tr>\n",
       "      <th>4</th>\n",
       "      <td>2000-01-01</td>\n",
       "      <td>NE</td>\n",
       "      <td>NORDESTE</td>\n",
       "      <td>BA</td>\n",
       "      <td>BAHIA</td>\n",
       "      <td>TIPO I</td>\n",
       "      <td>HIDROELÉTRICA</td>\n",
       "      <td>Hidráulica</td>\n",
       "      <td>Paulo Afonso II</td>\n",
       "      <td>UHE.PH.BA.027048-2.01</td>\n",
       "      <td>269.8</td>\n",
       "    </tr>\n",
       "    <tr>\n",
       "      <th>5</th>\n",
       "      <td>2000-01-01</td>\n",
       "      <td>NE</td>\n",
       "      <td>NORDESTE</td>\n",
       "      <td>BA</td>\n",
       "      <td>BAHIA</td>\n",
       "      <td>TIPO I</td>\n",
       "      <td>HIDROELÉTRICA</td>\n",
       "      <td>Hidráulica</td>\n",
       "      <td>Sobradinho</td>\n",
       "      <td>UHE.PH.BA.002755-3.01</td>\n",
       "      <td>322.8</td>\n",
       "    </tr>\n",
       "    <tr>\n",
       "      <th>6</th>\n",
       "      <td>2000-01-01</td>\n",
       "      <td>NE</td>\n",
       "      <td>NORDESTE</td>\n",
       "      <td>BA</td>\n",
       "      <td>BAHIA</td>\n",
       "      <td>TIPO I</td>\n",
       "      <td>HIDROELÉTRICA</td>\n",
       "      <td>Hidráulica</td>\n",
       "      <td>Paulo Afonso IV</td>\n",
       "      <td>UHE.PH.BA.027050-4.01</td>\n",
       "      <td>779.4</td>\n",
       "    </tr>\n",
       "    <tr>\n",
       "      <th>7</th>\n",
       "      <td>2000-01-01</td>\n",
       "      <td>NE</td>\n",
       "      <td>NORDESTE</td>\n",
       "      <td>BA</td>\n",
       "      <td>BAHIA</td>\n",
       "      <td>TIPO I</td>\n",
       "      <td>HIDROELÉTRICA</td>\n",
       "      <td>Hidráulica</td>\n",
       "      <td>Paulo Afonso I</td>\n",
       "      <td>UHE.PH.BA.002012-5.01</td>\n",
       "      <td>119.4</td>\n",
       "    </tr>\n",
       "    <tr>\n",
       "      <th>8</th>\n",
       "      <td>2000-01-01</td>\n",
       "      <td>NE</td>\n",
       "      <td>NORDESTE</td>\n",
       "      <td>BA</td>\n",
       "      <td>BAHIA</td>\n",
       "      <td>TIPO I</td>\n",
       "      <td>HIDROELÉTRICA</td>\n",
       "      <td>Hidráulica</td>\n",
       "      <td>Paulo Afonso III</td>\n",
       "      <td>UHE.PH.BA.027049-0.01</td>\n",
       "      <td>480.4</td>\n",
       "    </tr>\n",
       "    <tr>\n",
       "      <th>9</th>\n",
       "      <td>2000-01-01</td>\n",
       "      <td>NE</td>\n",
       "      <td>NORDESTE</td>\n",
       "      <td>BA</td>\n",
       "      <td>BAHIA</td>\n",
       "      <td>TIPO I</td>\n",
       "      <td>TÉRMICA</td>\n",
       "      <td>Gás</td>\n",
       "      <td>Camaçari</td>\n",
       "      <td>UTE.GN.BA.000602-5.01</td>\n",
       "      <td>0.0</td>\n",
       "    </tr>\n",
       "  </tbody>\n",
       "</table>\n",
       "</div>"
      ],
      "text/plain": [
       "  din_instante id_subsistema nom_subsistema id_estado nom_estado  \\\n",
       "0   2000-01-01             N          NORTE        PA       PARA   \n",
       "1   2000-01-01            NE       NORDESTE        AL    ALAGOAS   \n",
       "2   2000-01-01            NE       NORDESTE        BA      BAHIA   \n",
       "3   2000-01-01            NE       NORDESTE        BA      BAHIA   \n",
       "4   2000-01-01            NE       NORDESTE        BA      BAHIA   \n",
       "5   2000-01-01            NE       NORDESTE        BA      BAHIA   \n",
       "6   2000-01-01            NE       NORDESTE        BA      BAHIA   \n",
       "7   2000-01-01            NE       NORDESTE        BA      BAHIA   \n",
       "8   2000-01-01            NE       NORDESTE        BA      BAHIA   \n",
       "9   2000-01-01            NE       NORDESTE        BA      BAHIA   \n",
       "\n",
       "       cod_modalidadeoperacao  nom_tipousina nom_tipocombustivel  \\\n",
       "0                      TIPO I  HIDROELÉTRICA          Hidráulica   \n",
       "1                      TIPO I  HIDROELÉTRICA          Hidráulica   \n",
       "2  Pequenas Usinas (Tipo III)  HIDROELÉTRICA          Hidráulica   \n",
       "3                      TIPO I  HIDROELÉTRICA          Hidráulica   \n",
       "4                      TIPO I  HIDROELÉTRICA          Hidráulica   \n",
       "5                      TIPO I  HIDROELÉTRICA          Hidráulica   \n",
       "6                      TIPO I  HIDROELÉTRICA          Hidráulica   \n",
       "7                      TIPO I  HIDROELÉTRICA          Hidráulica   \n",
       "8                      TIPO I  HIDROELÉTRICA          Hidráulica   \n",
       "9                      TIPO I        TÉRMICA                 Gás   \n",
       "\n",
       "                                   nom_usina                    ceg  \\\n",
       "0                                    Tucuruí  UHE.PH.PA.002889-4.01   \n",
       "1                                      Xingó  UHE.PH.SE.027053-9.01   \n",
       "2  Pequenas Centrais Hidroelétricas da Chesf                      -   \n",
       "3                             Apolônio Sales  UHE.PH.AL.001510-5.01   \n",
       "4                            Paulo Afonso II  UHE.PH.BA.027048-2.01   \n",
       "5                                 Sobradinho  UHE.PH.BA.002755-3.01   \n",
       "6                            Paulo Afonso IV  UHE.PH.BA.027050-4.01   \n",
       "7                             Paulo Afonso I  UHE.PH.BA.002012-5.01   \n",
       "8                           Paulo Afonso III  UHE.PH.BA.027049-0.01   \n",
       "9                                   Camaçari  UTE.GN.BA.000602-5.01   \n",
       "\n",
       "   val_geracao  \n",
       "0       2422.5  \n",
       "1       1995.6  \n",
       "2         13.0  \n",
       "3        202.5  \n",
       "4        269.8  \n",
       "5        322.8  \n",
       "6        779.4  \n",
       "7        119.4  \n",
       "8        480.4  \n",
       "9          0.0  "
      ]
     },
     "metadata": {},
     "output_type": "display_data"
    }
   ],
   "source": [
    "display(dataframes[0].head(10))"
   ]
  },
  {
   "cell_type": "code",
   "execution_count": 245,
   "metadata": {},
   "outputs": [
    {
     "name": "stdout",
     "output_type": "stream",
     "text": [
      "<class 'pandas.core.frame.DataFrame'>\n",
      "RangeIndex: 993556 entries, 0 to 993555\n",
      "Data columns (total 11 columns):\n",
      " #   Column                  Non-Null Count   Dtype         \n",
      "---  ------                  --------------   -----         \n",
      " 0   din_instante            993556 non-null  datetime64[ns]\n",
      " 1   id_subsistema           993556 non-null  object        \n",
      " 2   nom_subsistema          993556 non-null  object        \n",
      " 3   id_estado               993556 non-null  object        \n",
      " 4   nom_estado              993556 non-null  object        \n",
      " 5   cod_modalidadeoperacao  993556 non-null  object        \n",
      " 6   nom_tipousina           993556 non-null  object        \n",
      " 7   nom_tipocombustivel     993556 non-null  object        \n",
      " 8   nom_usina               993556 non-null  object        \n",
      " 9   ceg                     993556 non-null  object        \n",
      " 10  val_geracao             993556 non-null  float64       \n",
      "dtypes: datetime64[ns](1), float64(1), object(9)\n",
      "memory usage: 83.4+ MB\n"
     ]
    }
   ],
   "source": [
    "dataframes[0].info()"
   ]
  },
  {
   "cell_type": "code",
   "execution_count": 246,
   "metadata": {},
   "outputs": [
    {
     "data": {
      "text/plain": [
       "(993556, 11)"
      ]
     },
     "execution_count": 246,
     "metadata": {},
     "output_type": "execute_result"
    }
   ],
   "source": [
    "dataframes[0].shape"
   ]
  },
  {
   "cell_type": "markdown",
   "metadata": {},
   "source": [
    "# <font color='red'> 2) Preparação inicial dos dados</font>"
   ]
  },
  {
   "cell_type": "markdown",
   "metadata": {},
   "source": [
    "### 2.1) Seleção dos dados"
   ]
  },
  {
   "cell_type": "markdown",
   "metadata": {},
   "source": [
    "#### 2.1.1) Selecionando apenas alguns atributos "
   ]
  },
  {
   "cell_type": "markdown",
   "metadata": {},
   "source": [
    "#### OBS: Agrupei os dados para a região sudeste e com foco na produção de energia por meio de hidrelétricas"
   ]
  },
  {
   "cell_type": "code",
   "execution_count": 247,
   "metadata": {},
   "outputs": [],
   "source": [
    "def select_data(dataframes: list[pd.DataFrame], cols: list) -> list[pd.DataFrame]:\n",
    "    output = []\n",
    "    for df in dataframes: \n",
    "        df['din_instante'] = pd.to_datetime(df['din_instante'])\n",
    "\n",
    "        # Agrupa os dados para o sudeste e hidroelétricas\n",
    "        subset = df[(df['id_subsistema'] == 'SE') & (df['nom_tipousina'] == 'HIDROELÉTRICA')]\n",
    "\n",
    "        # Deixa apenas as colunas desejadas\n",
    "        subset = subset[cols]\n",
    "\n",
    "        output.append(subset)\n",
    "\n",
    "    return output"
   ]
  },
  {
   "cell_type": "markdown",
   "metadata": {},
   "source": [
    "#### 2.1.2) Removendo estados que estão como sudeste (Mas não fazem parte do sudeste)"
   ]
  },
  {
   "cell_type": "code",
   "execution_count": 248,
   "metadata": {},
   "outputs": [],
   "source": [
    "def remove_states_from_sudeste(dataframes: list[pd.DataFrame]) -> list[pd.DataFrame]:\n",
    "    output = []\n",
    "    states = ['ES', 'MG', 'RJ', 'SP']\n",
    "    for df in dataframes:\n",
    "        # Filtra os dados para o sudeste e hidroelétricas\n",
    "        subset = df[df['id_estado'].isin(states)]\n",
    "\n",
    "        output.append(subset)\n",
    "\n",
    "    return output"
   ]
  },
  {
   "cell_type": "code",
   "execution_count": 249,
   "metadata": {},
   "outputs": [],
   "source": [
    "def groupby_date(dataframes: list[pd.DataFrame]) -> list[pd.DataFrame]:\n",
    "    output = []\n",
    "    for df in dataframes:\n",
    "        df_agrupado = df.groupby('din_instante')['val_geracao'].sum().reset_index()\n",
    "        output.append(df_agrupado)\n",
    "\n",
    "    return output"
   ]
  },
  {
   "cell_type": "code",
   "execution_count": 256,
   "metadata": {},
   "outputs": [
    {
     "data": {
      "text/html": [
       "<div>\n",
       "<style scoped>\n",
       "    .dataframe tbody tr th:only-of-type {\n",
       "        vertical-align: middle;\n",
       "    }\n",
       "\n",
       "    .dataframe tbody tr th {\n",
       "        vertical-align: top;\n",
       "    }\n",
       "\n",
       "    .dataframe thead th {\n",
       "        text-align: right;\n",
       "    }\n",
       "</style>\n",
       "<table border=\"1\" class=\"dataframe\">\n",
       "  <thead>\n",
       "    <tr style=\"text-align: right;\">\n",
       "      <th></th>\n",
       "      <th>din_instante</th>\n",
       "      <th>id_estado</th>\n",
       "      <th>nom_tipousina</th>\n",
       "      <th>val_geracao</th>\n",
       "    </tr>\n",
       "  </thead>\n",
       "  <tbody>\n",
       "    <tr>\n",
       "      <th>36</th>\n",
       "      <td>2000-01-01</td>\n",
       "      <td>ES</td>\n",
       "      <td>HIDROELÉTRICA</td>\n",
       "      <td>125.0</td>\n",
       "    </tr>\n",
       "    <tr>\n",
       "      <th>37</th>\n",
       "      <td>2000-01-01</td>\n",
       "      <td>ES</td>\n",
       "      <td>HIDROELÉTRICA</td>\n",
       "      <td>13.0</td>\n",
       "    </tr>\n",
       "    <tr>\n",
       "      <th>43</th>\n",
       "      <td>2000-01-01</td>\n",
       "      <td>MG</td>\n",
       "      <td>HIDROELÉTRICA</td>\n",
       "      <td>924.3</td>\n",
       "    </tr>\n",
       "    <tr>\n",
       "      <th>44</th>\n",
       "      <td>2000-01-01</td>\n",
       "      <td>MG</td>\n",
       "      <td>HIDROELÉTRICA</td>\n",
       "      <td>97.2</td>\n",
       "    </tr>\n",
       "    <tr>\n",
       "      <th>45</th>\n",
       "      <td>2000-01-01</td>\n",
       "      <td>MG</td>\n",
       "      <td>HIDROELÉTRICA</td>\n",
       "      <td>23.4</td>\n",
       "    </tr>\n",
       "    <tr>\n",
       "      <th>46</th>\n",
       "      <td>2000-01-01</td>\n",
       "      <td>MG</td>\n",
       "      <td>HIDROELÉTRICA</td>\n",
       "      <td>29.3</td>\n",
       "    </tr>\n",
       "    <tr>\n",
       "      <th>47</th>\n",
       "      <td>2000-01-01</td>\n",
       "      <td>MG</td>\n",
       "      <td>HIDROELÉTRICA</td>\n",
       "      <td>244.5</td>\n",
       "    </tr>\n",
       "    <tr>\n",
       "      <th>48</th>\n",
       "      <td>2000-01-01</td>\n",
       "      <td>MG</td>\n",
       "      <td>HIDROELÉTRICA</td>\n",
       "      <td>120.0</td>\n",
       "    </tr>\n",
       "    <tr>\n",
       "      <th>49</th>\n",
       "      <td>2000-01-01</td>\n",
       "      <td>MG</td>\n",
       "      <td>HIDROELÉTRICA</td>\n",
       "      <td>75.0</td>\n",
       "    </tr>\n",
       "    <tr>\n",
       "      <th>50</th>\n",
       "      <td>2000-01-01</td>\n",
       "      <td>MG</td>\n",
       "      <td>HIDROELÉTRICA</td>\n",
       "      <td>139.6</td>\n",
       "    </tr>\n",
       "  </tbody>\n",
       "</table>\n",
       "</div>"
      ],
      "text/plain": [
       "   din_instante id_estado  nom_tipousina  val_geracao\n",
       "36   2000-01-01        ES  HIDROELÉTRICA        125.0\n",
       "37   2000-01-01        ES  HIDROELÉTRICA         13.0\n",
       "43   2000-01-01        MG  HIDROELÉTRICA        924.3\n",
       "44   2000-01-01        MG  HIDROELÉTRICA         97.2\n",
       "45   2000-01-01        MG  HIDROELÉTRICA         23.4\n",
       "46   2000-01-01        MG  HIDROELÉTRICA         29.3\n",
       "47   2000-01-01        MG  HIDROELÉTRICA        244.5\n",
       "48   2000-01-01        MG  HIDROELÉTRICA        120.0\n",
       "49   2000-01-01        MG  HIDROELÉTRICA         75.0\n",
       "50   2000-01-01        MG  HIDROELÉTRICA        139.6"
      ]
     },
     "execution_count": 256,
     "metadata": {},
     "output_type": "execute_result"
    }
   ],
   "source": [
    "cols = [\"din_instante\", \"id_estado\", \"nom_tipousina\", \"val_geracao\"]\n",
    "\n",
    "output_data = select_data(dataframes, cols)\n",
    "\n",
    "output_data = remove_states_from_sudeste(output_data)\n",
    "\n",
    "output_data[0].head(10)"
   ]
  },
  {
   "cell_type": "code",
   "execution_count": 251,
   "metadata": {},
   "outputs": [
    {
     "name": "stdout",
     "output_type": "stream",
     "text": [
      "<class 'pandas.core.frame.DataFrame'>\n",
      "Index: 500631 entries, 36 to 993553\n",
      "Data columns (total 4 columns):\n",
      " #   Column         Non-Null Count   Dtype         \n",
      "---  ------         --------------   -----         \n",
      " 0   din_instante   500631 non-null  datetime64[ns]\n",
      " 1   id_estado      500631 non-null  object        \n",
      " 2   nom_tipousina  500631 non-null  object        \n",
      " 3   val_geracao    500631 non-null  float64       \n",
      "dtypes: datetime64[ns](1), float64(1), object(2)\n",
      "memory usage: 19.1+ MB\n"
     ]
    }
   ],
   "source": [
    "output_data[0].info()"
   ]
  },
  {
   "cell_type": "markdown",
   "metadata": {},
   "source": [
    "### 2.2) Limpeza dos dados "
   ]
  },
  {
   "cell_type": "code",
   "execution_count": 258,
   "metadata": {},
   "outputs": [
    {
     "data": {
      "text/html": [
       "<div>\n",
       "<style scoped>\n",
       "    .dataframe tbody tr th:only-of-type {\n",
       "        vertical-align: middle;\n",
       "    }\n",
       "\n",
       "    .dataframe tbody tr th {\n",
       "        vertical-align: top;\n",
       "    }\n",
       "\n",
       "    .dataframe thead th {\n",
       "        text-align: right;\n",
       "    }\n",
       "</style>\n",
       "<table border=\"1\" class=\"dataframe\">\n",
       "  <thead>\n",
       "    <tr style=\"text-align: right;\">\n",
       "      <th></th>\n",
       "      <th>din_instante</th>\n",
       "      <th>val_geracao</th>\n",
       "    </tr>\n",
       "  </thead>\n",
       "  <tbody>\n",
       "    <tr>\n",
       "      <th>0</th>\n",
       "      <td>2000-01-01 00:00:00</td>\n",
       "      <td>14006.2</td>\n",
       "    </tr>\n",
       "    <tr>\n",
       "      <th>1</th>\n",
       "      <td>2000-01-01 01:00:00</td>\n",
       "      <td>12636.0</td>\n",
       "    </tr>\n",
       "    <tr>\n",
       "      <th>2</th>\n",
       "      <td>2000-01-01 02:00:00</td>\n",
       "      <td>11174.9</td>\n",
       "    </tr>\n",
       "    <tr>\n",
       "      <th>3</th>\n",
       "      <td>2000-01-01 03:00:00</td>\n",
       "      <td>9969.9</td>\n",
       "    </tr>\n",
       "    <tr>\n",
       "      <th>4</th>\n",
       "      <td>2000-01-01 04:00:00</td>\n",
       "      <td>9213.1</td>\n",
       "    </tr>\n",
       "    <tr>\n",
       "      <th>5</th>\n",
       "      <td>2000-01-01 05:00:00</td>\n",
       "      <td>8882.9</td>\n",
       "    </tr>\n",
       "    <tr>\n",
       "      <th>6</th>\n",
       "      <td>2000-01-01 06:00:00</td>\n",
       "      <td>8467.8</td>\n",
       "    </tr>\n",
       "    <tr>\n",
       "      <th>7</th>\n",
       "      <td>2000-01-01 07:00:00</td>\n",
       "      <td>8126.3</td>\n",
       "    </tr>\n",
       "    <tr>\n",
       "      <th>8</th>\n",
       "      <td>2000-01-01 08:00:00</td>\n",
       "      <td>8121.5</td>\n",
       "    </tr>\n",
       "    <tr>\n",
       "      <th>9</th>\n",
       "      <td>2000-01-01 09:00:00</td>\n",
       "      <td>8336.5</td>\n",
       "    </tr>\n",
       "  </tbody>\n",
       "</table>\n",
       "</div>"
      ],
      "text/plain": [
       "         din_instante  val_geracao\n",
       "0 2000-01-01 00:00:00      14006.2\n",
       "1 2000-01-01 01:00:00      12636.0\n",
       "2 2000-01-01 02:00:00      11174.9\n",
       "3 2000-01-01 03:00:00       9969.9\n",
       "4 2000-01-01 04:00:00       9213.1\n",
       "5 2000-01-01 05:00:00       8882.9\n",
       "6 2000-01-01 06:00:00       8467.8\n",
       "7 2000-01-01 07:00:00       8126.3\n",
       "8 2000-01-01 08:00:00       8121.5\n",
       "9 2000-01-01 09:00:00       8336.5"
      ]
     },
     "execution_count": 258,
     "metadata": {},
     "output_type": "execute_result"
    }
   ],
   "source": [
    "output_data_only_data = groupby_date(output_data)\n",
    "\n",
    "output_data_only_data[0].head(10)"
   ]
  },
  {
   "cell_type": "code",
   "execution_count": 253,
   "metadata": {},
   "outputs": [
    {
     "name": "stdout",
     "output_type": "stream",
     "text": [
      "<class 'pandas.core.frame.DataFrame'>\n",
      "RangeIndex: 8783 entries, 0 to 8782\n",
      "Data columns (total 2 columns):\n",
      " #   Column        Non-Null Count  Dtype         \n",
      "---  ------        --------------  -----         \n",
      " 0   din_instante  8783 non-null   datetime64[ns]\n",
      " 1   val_geracao   8783 non-null   float64       \n",
      "dtypes: datetime64[ns](1), float64(1)\n",
      "memory usage: 137.4 KB\n"
     ]
    }
   ],
   "source": [
    "output_data_only_data[0].info()"
   ]
  },
  {
   "cell_type": "markdown",
   "metadata": {},
   "source": [
    "# <font color='red'> 3) Analise estatística</font>"
   ]
  },
  {
   "cell_type": "code",
   "execution_count": null,
   "metadata": {},
   "outputs": [],
   "source": []
  },
  {
   "cell_type": "markdown",
   "metadata": {},
   "source": [
    "# <font color='red'> 4) Pré-processamento dos dados</font>"
   ]
  },
  {
   "cell_type": "code",
   "execution_count": null,
   "metadata": {},
   "outputs": [],
   "source": []
  },
  {
   "cell_type": "markdown",
   "metadata": {},
   "source": [
    "# <font color='red'> 5) Modelo de predição</font>"
   ]
  },
  {
   "cell_type": "markdown",
   "metadata": {},
   "source": [
    "### 5.1) Divisão dos dados"
   ]
  },
  {
   "cell_type": "code",
   "execution_count": null,
   "metadata": {},
   "outputs": [],
   "source": []
  },
  {
   "cell_type": "markdown",
   "metadata": {},
   "source": [
    "### 5.2) Arquitetando rede LTMS"
   ]
  },
  {
   "cell_type": "code",
   "execution_count": null,
   "metadata": {},
   "outputs": [],
   "source": []
  },
  {
   "cell_type": "markdown",
   "metadata": {},
   "source": [
    "# <font color='red'> 6) Avaliação do modelo</font>"
   ]
  }
 ],
 "metadata": {
  "kernelspec": {
   "display_name": "Python 3",
   "language": "python",
   "name": "python3"
  },
  "language_info": {
   "codemirror_mode": {
    "name": "ipython",
    "version": 3
   },
   "file_extension": ".py",
   "mimetype": "text/x-python",
   "name": "python",
   "nbconvert_exporter": "python",
   "pygments_lexer": "ipython3",
   "version": "3.10.11"
  }
 },
 "nbformat": 4,
 "nbformat_minor": 2
}
