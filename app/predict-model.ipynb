{
 "cells": [
  {
   "cell_type": "markdown",
   "metadata": {},
   "source": [
    "# Pacotes"
   ]
  },
  {
   "cell_type": "code",
   "execution_count": 1,
   "metadata": {},
   "outputs": [
    {
     "name": "stdout",
     "output_type": "stream",
     "text": [
      "Collecting openpyxl\n",
      "  Downloading openpyxl-3.1.2-py2.py3-none-any.whl.metadata (2.5 kB)\n",
      "Collecting et-xmlfile (from openpyxl)\n",
      "  Downloading et_xmlfile-1.1.0-py3-none-any.whl.metadata (1.8 kB)\n",
      "Downloading openpyxl-3.1.2-py2.py3-none-any.whl (249 kB)\n",
      "   ---------------------------------------- 0.0/250.0 kB ? eta -:--:--\n",
      "   ---------------------------------------- 250.0/250.0 kB 5.1 MB/s eta 0:00:00\n",
      "Downloading et_xmlfile-1.1.0-py3-none-any.whl (4.7 kB)\n",
      "Installing collected packages: et-xmlfile, openpyxl\n",
      "Successfully installed et-xmlfile-1.1.0 openpyxl-3.1.2\n",
      "Note: you may need to restart the kernel to use updated packages.\n"
     ]
    },
    {
     "name": "stderr",
     "output_type": "stream",
     "text": [
      "WARNING: Ignoring invalid distribution - (c:\\python310\\lib\\site-packages)\n",
      "WARNING: Ignoring invalid distribution -ip (c:\\python310\\lib\\site-packages)\n",
      "WARNING: Ignoring invalid distribution -p (c:\\python310\\lib\\site-packages)\n",
      "WARNING: Ignoring invalid distribution - (c:\\python310\\lib\\site-packages)\n",
      "WARNING: Ignoring invalid distribution -ip (c:\\python310\\lib\\site-packages)\n",
      "WARNING: Ignoring invalid distribution -p (c:\\python310\\lib\\site-packages)\n",
      "\n",
      "[notice] A new release of pip is available: 23.3.1 -> 24.0\n",
      "[notice] To update, run: python.exe -m pip install --upgrade pip\n"
     ]
    }
   ],
   "source": [
    "%pip install openpyxl"
   ]
  },
  {
   "cell_type": "code",
   "execution_count": 2,
   "metadata": {},
   "outputs": [],
   "source": [
    "import pandas as pd\n",
    "import glob\n",
    "import os\n",
    " \n",
    "import openpyxl"
   ]
  },
  {
   "cell_type": "markdown",
   "metadata": {},
   "source": [
    "# 1) Coleta dos dados"
   ]
  },
  {
   "cell_type": "markdown",
   "metadata": {},
   "source": [
    "### 1.1) Leitura dos arquivos"
   ]
  },
  {
   "cell_type": "markdown",
   "metadata": {},
   "source": [
    "#### OBS: Escolhi utilizar os arquivos csv pela facilidade de leitura e poder utilizar chunks de dados"
   ]
  },
  {
   "cell_type": "code",
   "execution_count": 4,
   "metadata": {},
   "outputs": [],
   "source": [
    "def get_csv_files(years: range = range(2000, 2021), directory: str = \"../data\", chunksize: int = 10000) -> list: \n",
    "    dataframes_list = []\n",
    "\n",
    "    for year in years:\n",
    "        file_name = f\"GERACAO_USINA_{year}.csv\"\n",
    "        file_path = os.path.join(directory, file_name)\n",
    "\n",
    "        print(f\"\\nLendo o arquivo {file_name}...\")\n",
    "\n",
    "        if glob.glob(file_path):\n",
    "            # Leia o arquivo XLSX\n",
    "            df = pd.read_csv(file_path, chunksize=chunksize, delimiter=\";\", encoding=\"utf-8\", low_memory=False)\n",
    "\n",
    "            # Adicione o DataFrame à lista\n",
    "            dataframes_list.append(df)\n",
    "        else:\n",
    "            raise Exception(f\"O arquivo {file_name} não foi encontrado.\")\n",
    "            \n",
    "\n",
    "    return dataframes_list"
   ]
  },
  {
   "cell_type": "code",
   "execution_count": 56,
   "metadata": {},
   "outputs": [
    {
     "name": "stdout",
     "output_type": "stream",
     "text": [
      "\n",
      "Lendo o arquivo GERACAO_USINA_2000.csv...\n"
     ]
    }
   ],
   "source": [
    "try: \n",
    "    dataframes = get_csv_files(range(2000, 2001), \"../data\", 10000)\n",
    "except Exception as e:\n",
    "    print(f\"Erro: {e}\")"
   ]
  },
  {
   "cell_type": "markdown",
   "metadata": {},
   "source": [
    "### 1.2) Lendo Dataframes por chunk"
   ]
  },
  {
   "cell_type": "code",
   "execution_count": 61,
   "metadata": {},
   "outputs": [],
   "source": [
    "def reading_chunks(df, cols: list = [\"din_instante\", \"id_subsistema\", \"val_geracao\", \"nom_tipousina\"]):\n",
    "    for chunk in df:\n",
    "        print(chunk.shape)\n",
    "        print(chunk.info())\n",
    "        display(chunk.head(5))\n",
    "        "
   ]
  },
  {
   "cell_type": "code",
   "execution_count": 62,
   "metadata": {},
   "outputs": [
    {
     "name": "stdout",
     "output_type": "stream",
     "text": [
      "(10000, 11)\n",
      "<class 'pandas.core.frame.DataFrame'>\n",
      "RangeIndex: 10000 entries, 30000 to 39999\n",
      "Data columns (total 11 columns):\n",
      " #   Column                  Non-Null Count  Dtype  \n",
      "---  ------                  --------------  -----  \n",
      " 0   din_instante            10000 non-null  object \n",
      " 1   id_subsistema           10000 non-null  object \n",
      " 2   nom_subsistema          10000 non-null  object \n",
      " 3   id_estado               10000 non-null  object \n",
      " 4   nom_estado              10000 non-null  object \n",
      " 5   cod_modalidadeoperacao  10000 non-null  object \n",
      " 6   nom_tipousina           10000 non-null  object \n",
      " 7   nom_tipocombustivel     10000 non-null  object \n",
      " 8   nom_usina               10000 non-null  object \n",
      " 9   ceg                     10000 non-null  object \n",
      " 10  val_geracao             10000 non-null  float64\n",
      "dtypes: float64(1), object(10)\n",
      "memory usage: 859.5+ KB\n",
      "None\n"
     ]
    },
    {
     "data": {
      "text/html": [
       "<div>\n",
       "<style scoped>\n",
       "    .dataframe tbody tr th:only-of-type {\n",
       "        vertical-align: middle;\n",
       "    }\n",
       "\n",
       "    .dataframe tbody tr th {\n",
       "        vertical-align: top;\n",
       "    }\n",
       "\n",
       "    .dataframe thead th {\n",
       "        text-align: right;\n",
       "    }\n",
       "</style>\n",
       "<table border=\"1\" class=\"dataframe\">\n",
       "  <thead>\n",
       "    <tr style=\"text-align: right;\">\n",
       "      <th></th>\n",
       "      <th>din_instante</th>\n",
       "      <th>id_subsistema</th>\n",
       "      <th>nom_subsistema</th>\n",
       "      <th>id_estado</th>\n",
       "      <th>nom_estado</th>\n",
       "      <th>cod_modalidadeoperacao</th>\n",
       "      <th>nom_tipousina</th>\n",
       "      <th>nom_tipocombustivel</th>\n",
       "      <th>nom_usina</th>\n",
       "      <th>ceg</th>\n",
       "      <th>val_geracao</th>\n",
       "    </tr>\n",
       "  </thead>\n",
       "  <tbody>\n",
       "    <tr>\n",
       "      <th>30000</th>\n",
       "      <td>2000-01-12 06:00:00</td>\n",
       "      <td>S</td>\n",
       "      <td>SUL</td>\n",
       "      <td>RS</td>\n",
       "      <td>RIO GRANDE DO SUL</td>\n",
       "      <td>TIPO I</td>\n",
       "      <td>TÉRMICA</td>\n",
       "      <td>Carvão</td>\n",
       "      <td>Charqueadas</td>\n",
       "      <td>UTE.CM.RS.000760-9.01</td>\n",
       "      <td>20.8</td>\n",
       "    </tr>\n",
       "    <tr>\n",
       "      <th>30001</th>\n",
       "      <td>2000-01-12 06:00:00</td>\n",
       "      <td>S</td>\n",
       "      <td>SUL</td>\n",
       "      <td>SC</td>\n",
       "      <td>SANTA CATARINA</td>\n",
       "      <td>Pequenas Usinas (Tipo III)</td>\n",
       "      <td>HIDROELÉTRICA</td>\n",
       "      <td>Hidráulica</td>\n",
       "      <td>Pequenas Centrais Hidroelétricas da Celesc</td>\n",
       "      <td>-</td>\n",
       "      <td>50.0</td>\n",
       "    </tr>\n",
       "    <tr>\n",
       "      <th>30002</th>\n",
       "      <td>2000-01-12 06:00:00</td>\n",
       "      <td>S</td>\n",
       "      <td>SUL</td>\n",
       "      <td>SC</td>\n",
       "      <td>SANTA CATARINA</td>\n",
       "      <td>TIPO I</td>\n",
       "      <td>TÉRMICA</td>\n",
       "      <td>Carvão</td>\n",
       "      <td>J. Lacerda C</td>\n",
       "      <td>UTE.CM.SC.027094-6.01</td>\n",
       "      <td>353.4</td>\n",
       "    </tr>\n",
       "    <tr>\n",
       "      <th>30003</th>\n",
       "      <td>2000-01-12 06:00:00</td>\n",
       "      <td>S</td>\n",
       "      <td>SUL</td>\n",
       "      <td>SC</td>\n",
       "      <td>SANTA CATARINA</td>\n",
       "      <td>TIPO I</td>\n",
       "      <td>TÉRMICA</td>\n",
       "      <td>Carvão</td>\n",
       "      <td>J. Lacerda A</td>\n",
       "      <td>UTE.CM.SC.001260-2.01</td>\n",
       "      <td>109.2</td>\n",
       "    </tr>\n",
       "    <tr>\n",
       "      <th>30004</th>\n",
       "      <td>2000-01-12 06:00:00</td>\n",
       "      <td>S</td>\n",
       "      <td>SUL</td>\n",
       "      <td>SC</td>\n",
       "      <td>SANTA CATARINA</td>\n",
       "      <td>TIPO I</td>\n",
       "      <td>TÉRMICA</td>\n",
       "      <td>Carvão</td>\n",
       "      <td>J. Lacerda B</td>\n",
       "      <td>UTE.CM.SC.027093-8.01</td>\n",
       "      <td>252.0</td>\n",
       "    </tr>\n",
       "  </tbody>\n",
       "</table>\n",
       "</div>"
      ],
      "text/plain": [
       "              din_instante id_subsistema nom_subsistema id_estado  \\\n",
       "30000  2000-01-12 06:00:00             S            SUL        RS   \n",
       "30001  2000-01-12 06:00:00             S            SUL        SC   \n",
       "30002  2000-01-12 06:00:00             S            SUL        SC   \n",
       "30003  2000-01-12 06:00:00             S            SUL        SC   \n",
       "30004  2000-01-12 06:00:00             S            SUL        SC   \n",
       "\n",
       "              nom_estado      cod_modalidadeoperacao  nom_tipousina  \\\n",
       "30000  RIO GRANDE DO SUL                      TIPO I        TÉRMICA   \n",
       "30001     SANTA CATARINA  Pequenas Usinas (Tipo III)  HIDROELÉTRICA   \n",
       "30002     SANTA CATARINA                      TIPO I        TÉRMICA   \n",
       "30003     SANTA CATARINA                      TIPO I        TÉRMICA   \n",
       "30004     SANTA CATARINA                      TIPO I        TÉRMICA   \n",
       "\n",
       "      nom_tipocombustivel                                   nom_usina  \\\n",
       "30000              Carvão                                 Charqueadas   \n",
       "30001          Hidráulica  Pequenas Centrais Hidroelétricas da Celesc   \n",
       "30002              Carvão                                J. Lacerda C   \n",
       "30003              Carvão                                J. Lacerda A   \n",
       "30004              Carvão                                J. Lacerda B   \n",
       "\n",
       "                         ceg  val_geracao  \n",
       "30000  UTE.CM.RS.000760-9.01         20.8  \n",
       "30001                      -         50.0  \n",
       "30002  UTE.CM.SC.027094-6.01        353.4  \n",
       "30003  UTE.CM.SC.001260-2.01        109.2  \n",
       "30004  UTE.CM.SC.027093-8.01        252.0  "
      ]
     },
     "metadata": {},
     "output_type": "display_data"
    }
   ],
   "source": [
    "cols = [\"din_instante\", \"id_subsistema\", \"val_geracao\", \"nom_tipousina\"]\n",
    "\n",
    "reading_chunks(dataframes[0], cols)"
   ]
  },
  {
   "cell_type": "markdown",
   "metadata": {},
   "source": [
    "# 2) Preparação inicial dos dados"
   ]
  },
  {
   "cell_type": "markdown",
   "metadata": {},
   "source": [
    "### 2.1) Seleção dos dados"
   ]
  },
  {
   "cell_type": "markdown",
   "metadata": {},
   "source": [
    "#### OBS: Agrupei os dados para a região sudeste e com foco na produção de energia por meio de hidrelétricas"
   ]
  },
  {
   "cell_type": "markdown",
   "metadata": {},
   "source": [
    "# 3) Analise estatística"
   ]
  },
  {
   "cell_type": "markdown",
   "metadata": {},
   "source": [
    "# 4) Pré-processamento dos dados"
   ]
  },
  {
   "cell_type": "markdown",
   "metadata": {},
   "source": [
    "# 5) Modelo de predição"
   ]
  },
  {
   "cell_type": "markdown",
   "metadata": {},
   "source": [
    "### 5.1) Divisão dos dados"
   ]
  },
  {
   "cell_type": "markdown",
   "metadata": {},
   "source": [
    "### 5.2) Arquitetando rede LTMS"
   ]
  },
  {
   "cell_type": "markdown",
   "metadata": {},
   "source": [
    "# 6) Avaliação do modelo"
   ]
  }
 ],
 "metadata": {
  "kernelspec": {
   "display_name": "Python 3",
   "language": "python",
   "name": "python3"
  },
  "language_info": {
   "codemirror_mode": {
    "name": "ipython",
    "version": 3
   },
   "file_extension": ".py",
   "mimetype": "text/x-python",
   "name": "python",
   "nbconvert_exporter": "python",
   "pygments_lexer": "ipython3",
   "version": "3.10.1"
  }
 },
 "nbformat": 4,
 "nbformat_minor": 2
}
