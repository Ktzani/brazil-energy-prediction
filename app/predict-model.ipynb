{
 "cells": [
  {
   "cell_type": "markdown",
   "metadata": {},
   "source": [
    "# Pacotes"
   ]
  },
  {
   "cell_type": "code",
   "execution_count": 215,
   "metadata": {},
   "outputs": [
    {
     "name": "stdout",
     "output_type": "stream",
     "text": [
      "Requirement already satisfied: openpyxl in c:\\users\\gabri\\appdata\\local\\packages\\pythonsoftwarefoundation.python.3.10_qbz5n2kfra8p0\\localcache\\local-packages\\python310\\site-packages (3.1.2)\n",
      "Requirement already satisfied: et-xmlfile in c:\\users\\gabri\\appdata\\local\\packages\\pythonsoftwarefoundation.python.3.10_qbz5n2kfra8p0\\localcache\\local-packages\\python310\\site-packages (from openpyxl) (1.1.0)\n",
      "Note: you may need to restart the kernel to use updated packages.\n"
     ]
    },
    {
     "name": "stderr",
     "output_type": "stream",
     "text": [
      "WARNING: There was an error checking the latest version of pip.\n"
     ]
    }
   ],
   "source": [
    "%pip install openpyxl"
   ]
  },
  {
   "cell_type": "code",
   "execution_count": 216,
   "metadata": {},
   "outputs": [],
   "source": [
    "import pandas as pd\n",
    "import glob\n",
    "import os\n",
    " \n",
    "import openpyxl"
   ]
  },
  {
   "cell_type": "markdown",
   "metadata": {},
   "source": [
    "# 1) Coleta dos dados"
   ]
  },
  {
   "cell_type": "markdown",
   "metadata": {},
   "source": [
    "### 1.1) Leitura dos arquivos"
   ]
  },
  {
   "cell_type": "markdown",
   "metadata": {},
   "source": [
    "#### OBS: Escolhi utilizar os arquivos csv pela facilidade de leitura e poder utilizar chunks de dados"
   ]
  },
  {
   "cell_type": "code",
   "execution_count": 217,
   "metadata": {},
   "outputs": [],
   "source": [
    "def get_csv_files(years: range = range(2000, 2001), directory: str = \"../data\", chunksize: int = 10000) -> list: \n",
    "    dataframes_list = []\n",
    "\n",
    "    for year in years:\n",
    "        file_name = f\"GERACAO_USINA_{year}.csv\"\n",
    "        file_path = os.path.join(directory, file_name)\n",
    "\n",
    "        print(f\"\\nLendo o arquivo {file_name}...\")\n",
    "\n",
    "        if glob.glob(file_path):\n",
    "            # Leia o arquivo XLSX\n",
    "            df = pd.read_csv(file_path, chunksize=chunksize, delimiter=\";\", encoding=\"utf-8\", low_memory=False)\n",
    "\n",
    "            # Adicione o DataFrame à lista\n",
    "            dataframes_list.append(df)\n",
    "        else:\n",
    "            raise Exception(f\"O arquivo {file_name} não foi encontrado.\")\n",
    "            \n",
    "\n",
    "    return dataframes_list"
   ]
  },
  {
   "cell_type": "code",
   "execution_count": 218,
   "metadata": {},
   "outputs": [
    {
     "name": "stdout",
     "output_type": "stream",
     "text": [
      "\n",
      "Lendo o arquivo GERACAO_USINA_2000.csv...\n",
      "\n",
      "Lendo o arquivo GERACAO_USINA_2001.csv...\n",
      "\n",
      "Lendo o arquivo GERACAO_USINA_2002.csv...\n",
      "\n",
      "Lendo o arquivo GERACAO_USINA_2003.csv...\n",
      "\n",
      "Lendo o arquivo GERACAO_USINA_2004.csv...\n",
      "\n",
      "Lendo o arquivo GERACAO_USINA_2005.csv...\n",
      "\n",
      "Lendo o arquivo GERACAO_USINA_2006.csv...\n",
      "\n",
      "Lendo o arquivo GERACAO_USINA_2007.csv...\n",
      "\n",
      "Lendo o arquivo GERACAO_USINA_2008.csv...\n",
      "\n",
      "Lendo o arquivo GERACAO_USINA_2009.csv...\n",
      "\n",
      "Lendo o arquivo GERACAO_USINA_2010.csv...\n",
      "\n",
      "Lendo o arquivo GERACAO_USINA_2011.csv...\n",
      "\n",
      "Lendo o arquivo GERACAO_USINA_2012.csv...\n",
      "\n",
      "Lendo o arquivo GERACAO_USINA_2013.csv...\n",
      "\n",
      "Lendo o arquivo GERACAO_USINA_2014.csv...\n",
      "\n",
      "Lendo o arquivo GERACAO_USINA_2015.csv...\n",
      "\n",
      "Lendo o arquivo GERACAO_USINA_2016.csv...\n",
      "\n",
      "Lendo o arquivo GERACAO_USINA_2017.csv...\n",
      "\n",
      "Lendo o arquivo GERACAO_USINA_2018.csv...\n",
      "\n",
      "Lendo o arquivo GERACAO_USINA_2019.csv...\n",
      "\n",
      "Lendo o arquivo GERACAO_USINA_2020.csv...\n"
     ]
    }
   ],
   "source": [
    "try: \n",
    "    dataframes = get_csv_files(range(2000, 2021), \"../data\", 10000)\n",
    "except Exception as e:\n",
    "    print(f\"Erro: {e}\")"
   ]
  },
  {
   "cell_type": "markdown",
   "metadata": {},
   "source": [
    "### 1.2) Lendo Dataframes por chunks"
   ]
  },
  {
   "cell_type": "code",
   "execution_count": 219,
   "metadata": {},
   "outputs": [],
   "source": [
    "def reading_chunks(df, cols: list = [\"din_instante\", \"id_subsistema\", \"val_geracao\", \"nom_tipousina\"]):\n",
    "    output = pd.DataFrame()\n",
    "\n",
    "    for chunk in df:\n",
    "        details = chunk[cols]\n",
    "    \n",
    "        display(details.head())\n",
    "\n",
    "        # output = output.append(details, igore_index=True)\n"
   ]
  },
  {
   "cell_type": "code",
   "execution_count": null,
   "metadata": {},
   "outputs": [],
   "source": [
    "cols = [\"din_instante\", \"id_subsistema\", \"val_geracao\", \"nom_tipousina\"]\n",
    "\n",
    "reading_chunks(dataframes[0], cols)"
   ]
  },
  {
   "cell_type": "markdown",
   "metadata": {},
   "source": [
    "# 2) Preparação inicial dos dados"
   ]
  },
  {
   "cell_type": "markdown",
   "metadata": {},
   "source": [
    "### 2.1) Seleção dos dados"
   ]
  },
  {
   "cell_type": "markdown",
   "metadata": {},
   "source": [
    "# 3) Analise estatística"
   ]
  },
  {
   "cell_type": "markdown",
   "metadata": {},
   "source": [
    "# 4) Pré-processamento dos dados"
   ]
  },
  {
   "cell_type": "markdown",
   "metadata": {},
   "source": [
    "# 5) Modelo de predição"
   ]
  },
  {
   "cell_type": "markdown",
   "metadata": {},
   "source": [
    "### 5.1) Divisão dos dados"
   ]
  },
  {
   "cell_type": "markdown",
   "metadata": {},
   "source": [
    "### 5.2) Arquitetando rede LTMS"
   ]
  }
 ],
 "metadata": {
  "kernelspec": {
   "display_name": "Python 3",
   "language": "python",
   "name": "python3"
  },
  "language_info": {
   "codemirror_mode": {
    "name": "ipython",
    "version": 3
   },
   "file_extension": ".py",
   "mimetype": "text/x-python",
   "name": "python",
   "nbconvert_exporter": "python",
   "pygments_lexer": "ipython3",
   "version": "3.10.11"
  }
 },
 "nbformat": 4,
 "nbformat_minor": 2
}
